{
 "cells": [
  {
   "cell_type": "markdown",
   "metadata": {
    "id": "qMsuJA7FKbEs"
   },
   "source": [
    "<img src=\"./img/Dolan.png\" width=\"180px\" align=\"right\">\n",
    "\n",
    "# **Lesson 1: Preliminaries**\n",
    "_Concepts you should know before your first program_\n",
    "\n",
    "# **第一课：序言**\n",
    "_首次上课前你应该了解的概念_"
   ]
  },
  {
   "cell_type": "markdown",
   "metadata": {
    "id": "8X1LhvmNKbEt",
    "jp-MarkdownHeadingCollapsed": true,
    "tags": []
   },
   "source": [
    "## **Learning Objectives**\n",
    "\n",
    "### Theory / Be able to explain ...\n",
    "- Basic computer architecture as needed to write efficient Python code\n",
    "- How computer and human languages are alike and how they are different\n",
    "- How syntax, vocabulary, and idiomatic structure define language\n",
    "- General programming terms like source code, interpreter, compiler, object code, etc.\n",
    "- The different types of errors that require debugging\n",
    "\n",
    "### Skills / Know how to  ...\n",
    "- Run Python statements in Jupyter Notebooks\n",
    "- Interpret common types of errors\n",
    "--- "
   ]
  },
  {
   "cell_type": "markdown",
   "metadata": {},
   "source": [
    "## **学习目标**\n",
    "\n",
    "### 理论/能够解释…\n",
    "- 编写高效Python代码所需的基本计算机架构 \n",
    "- 计算机语言与人类语言的异同\n",
    "- 语法、词汇和惯用结构如何定义语言\n",
    "- 源代码、解释器、编译器、目标代码等一般编程术语 \n",
    "- 需要调试的不同类型的错误\n",
    "\n",
    "### 技能/了解怎样做…\n",
    "- 在Jupyter Notebooks中运行Python语句\n",
    "- 解释常见错误类型\n",
    "--- "
   ]
  },
  {
   "cell_type": "markdown",
   "metadata": {},
   "source": [
    "## **The Art of Programming**\n",
    "> \"The programmer, like the poet, works only slightly removed from pure thought-stuff. He builds his castles in the air, from air, creating by exertion of the imagination.\" -- Fred Brooks, _The Mythical Man Month_\n",
    "\n",
    "While many people think of computer programming as a technical skill practiced by math nerds and engineering geeks, it is actually one of the most creative of all practical arts. It is sort of like science fiction. Think of a world in which all the rules are editable, where we can change the laws of physics if we want to and then see how the universe plays out. The only limitations are on what we can imagine and how well you can craft the laws to match what we see in our heads. That's computer programming! Programmers turn \"thought-stuff\" into working code that can be run by anybody with a computer. What could possibly be more creative?"
   ]
  },
  {
   "cell_type": "markdown",
   "metadata": {},
   "source": [
    "## **编程艺术**\n",
    "> “和诗人一样，程序员工作只是稍稍脱离了纯粹思想。他在空中建造城堡，通过发挥想象力进行创造。”- 弗雷德·布鲁克斯，_人月神话_\n",
    "\n",
    "虽然很多人认为计算机编程是数学书呆子和工程怪才的技术技能，但它实际上是所有实用艺术中最具创造性的艺术之一。它有点像科学行动。想想看，在这个世界里，所有的规则都是可编辑的，我们可以随心所欲地改变物理定律，然后看看宇宙是如何运转的。唯一的限制在于我们能想象出什么，以及你能在多大程度上使物理定律与我们脑海中的想象相匹配。这就是计算机编程！\n",
    "程序员将“思想”转化为任何人都可以用电脑运行的工作代码。还有什么比这更有创造力的呢？"
   ]
  },
  {
   "cell_type": "markdown",
   "metadata": {},
   "source": [
    "## **What's a computer? Why do we care?**\n",
    "\n",
    "Interestingly, the word \"computer\" has been around for hundreds of years. In the 18th and 19th centuries, a computer was a person, usually a woman, who was really good at math and computation. If you've seen the movie \"Hidden Figures\" then you saw what it was like to be a human computer in the 20th century."
   ]
  },
  {
   "cell_type": "markdown",
   "metadata": {},
   "source": [
    "## **电脑是什么？我们为什么关心电脑问题?**\n",
    "有趣的是，“计算机 ”一词已有数百年的历史。在18和19世纪，计算机是指精通数学和计算的人，通常是女性。如果你看过电影《隐藏人物》（Hidden Figures），你就会知道 20 世纪的人类计算机是什么样的。"
   ]
  },
  {
   "cell_type": "markdown",
   "metadata": {},
   "source": [
    "Nowadays when we talk about computers we usually mean something like this (from the _Python for Everybody_ book cited in the syllabus):"
   ]
  },
  {
   "cell_type": "markdown",
   "metadata": {},
   "source": [
    "如今，当我们谈到计算机，通常是指这样的内容（摘自Py4E一书）：\n",
    "![ComputerHardware](./img/L1_1_ComputerHardware.png)"
   ]
  },
  {
   "cell_type": "markdown",
   "metadata": {},
   "source": [
    "If we think of the computer like a student working on a group homework assignment (i.e., a program), then ...\n",
    "\n",
    "- The **CPU** is the student's brain. It thinks through and completes the assigned tasks one by one until the assignment is done. \n",
    "- The **main memory** (RAM) is scrap paper or an app used by the CPU to keep track of the current task. It knows nothing of the past or the future, just the things necessary to complete the current task. \n",
    "- The **secondary memory** (disk storage) is a book, filing cabinet, or database used to recall facts left over from previous tasks. It knows nothing about what the computer is doing. It just stores and recalls data as requested. Because there may be a lot of things to sift through to find what you are looking for, it is a lot slower to use than the main memory.   \n",
    "- The **input and output** devices (built-in keyboard, monitor, mouse, etc.) are how the student communicates with other students in the workgroup. The communication is _almost_ immediate but it does take time to listen and respond.  \n",
    "- The **network** (bluetooth, wifi, internet, etc.) is how the student communicates with others outside the group. Communication over the network is much, much slower than within the group. It's also not as reliable, with plenty of miscommunication and misunderstanding making some messages almost impossible to send and receive. "
   ]
  },
  {
   "cell_type": "markdown",
   "metadata": {},
   "source": [
    "如果我们把计算机想象成正在完成小组家庭作业（即程序）的学生，那么...\n",
    "\n",
    "- **CPU**就是学生的大脑。它思考并逐一完成分配的任务，直至作业完成。 \n",
    "- **主存储器**（RAM）是废纸，或者是CPU用来跟踪当前任务的应用程序。它对过去和未来一无所知，只知道完成当前任务所需的东西东西。\n",
    "- **二级存储器**（磁盘存储器）是一本书、文件柜或数据库，用于调用以前任务中遗留下来的事实。它对计算机正在做的事情一无所知。它只是根据要求存储和调用数据。由于可能有很多东西需要筛选才能找到，因此它的使用速度要比主存储器慢得多。   \n",
    "- **输入和输出**设备（内置键盘、显示器、鼠标等）是学生与工作组中其他学生交流的方式。交流几乎是即时的，但聆听和回应需要时间。  \n",
    "- **网络**（蓝牙、无线、互联网等）是学生与小组外其他学生交流的方式。网络通信要比小组内的通信慢得多。它也不那么可靠，经常出现沟通不畅和误解，导致一些信息几乎无法发送和接收。 \n"
   ]
  },
  {
   "cell_type": "markdown",
   "metadata": {},
   "source": [
    "**Why do we care?** Because just as a student does not want to put in all-nighters when they could be hanging with their roommates, we want our programs to run as efficiently as we can manage. The word \"manage\" here is intentional. Just as some people are able to manage their time much better than others, some computer programmers manage to write good code without having to work so hard at it. While some of that is talent, most of it is practice and the discipline to get better over time. As any sports coach will tell you, practice alone does not win games. _Good_ practice, with your mind and body fully engaged, is what wins games."
   ]
  },
  {
   "cell_type": "markdown",
   "metadata": {},
   "source": [
    "我们为什么关心电脑问题**因为就像学生不愿意在可以和室友一起玩的时候通宵熬夜一样，我们也希望我们的程序能在我们力所能及的范围内高效运行。这里的“管理”一词是有意为之。就像有些人能够比其他人更好地管理自己的时间一样，有些计算机程序员也能不费吹灰之力就写出优秀代码代码。"
   ]
  },
  {
   "cell_type": "markdown",
   "metadata": {},
   "source": [
    "### **Pulse check ...**\n",
    "Use a [Markdown](https://www.markdownguide.org/cheat-sheet/) **bullet list** to rewrite the above analogy using just human physiology. If we were to replace a human computer with a digital computer what would be the body part/function that corresponds to each computer term in **bold** above? \n",
    "\n",
    "- CPU\n",
    "- RAM\n",
    "- storage\n",
    "- I/O\n",
    "- Network"
   ]
  },
  {
   "cell_type": "markdown",
   "metadata": {},
   "source": [
    "### **脉冲检查 ...**\n",
    "使用 Markdown (https://www.markdownguide.org/cheat-sheet/) **子弹列表**，仅使用人体生理学重写上述类比。如果我们用数字计算机代替人类计算机，那么上面粗体字中的每个计算机术语对应的**身体部位/功能**是什么？\n",
    "- CPU\n",
    "- RAM 内存\n",
    "- storage 存储\n",
    "- I/O 输入/输出\n",
    "- Network 网络"
   ]
  },
  {
   "cell_type": "markdown",
   "metadata": {
    "id": "6fgYAm6emoHy"
   },
   "source": [
    "YOUR ANSWER GOES HERE; DOUBLE-CLICK TO EDIT\n",
    "请在此输入答案；双击编辑修改"
   ]
  },
  {
   "cell_type": "markdown",
   "metadata": {
    "id": "sUkca38bKbEv"
   },
   "source": [
    "_Before going on make sure you got the Markdown syntax right. The bullet points should look exactly like the ones above._\n",
    "\n",
    "_继续之前，请确保你的Markdown句法正确无误。要点应该和上面的一模一样。_\n",
    "\n",
    "----"
   ]
  },
  {
   "cell_type": "markdown",
   "metadata": {
    "tags": []
   },
   "source": [
    "#### Click the elipsis (three dots ...) below to check your work\n",
    "#### 点击下方省略号（三个点...）检查你的答案"
   ]
  },
  {
   "cell_type": "markdown",
   "metadata": {
    "tags": []
   },
   "source": [
    "\n",
    "- **CPU** = Brain\n",
    "- **CPU** = 大脑\n",
    "- **RAM** = Short term memory\n",
    "- **内存** = 短期记忆\n",
    "- **Storage** = Long term memory\n",
    "- **存储** = 长期记忆\n",
    "- **I/O** = Senses / Behaviors\n",
    "- **输入/输出** = 感觉/行为\n",
    "- **Network** = Muscles and bones used to interact with the world\n",
    "- **网络** = 与世界互动的肌肉和骨骼\n"
   ]
  },
  {
   "cell_type": "markdown",
   "metadata": {},
   "source": [
    "## Programming Languages and Environments\n",
    "When we talk about a programming technology like Python, we are actually talking about two very different things:\n",
    "- The programming language used by us humans to get our thoughts into a digital form (code) that the computer can understand\n",
    "- The programming environment made up of other people's code, packaged in a way that we can use to create and run our own programs\n",
    "  \n",
    "## 编程语言和环境  \n",
    "当我们讨论Python这样的编程技术时，我们实际上在谈论两种截然不同的东西：\n",
    "- 人类使用的编程语言，将我们的思想转化为计算机能够理解的数字形式（代码）。\n",
    "- 由他人代码组成的编程环境，我们可以用它来创建和运行自己的程序"
   ]
  },
  {
   "cell_type": "markdown",
   "metadata": {},
   "source": [
    "Programming languages share a lot of features with human languages. Every language, human or computer, has\n",
    "- **syntax** (grammar rules) that dictate what constitutes valid phrases and sentences\n",
    "- **vocabulary** with parts of speech (nouns, verbs, conjunctives, etc.), key words with universally accepted meanings (I, you, am,  have, ...), and contextual words with definitions that may vary according to how they are used\n",
    "- idiomatic **structure** that dictates the \"usual\" way of expressive ourselves using the syntax and vocabulary\n",
    "\n",
    "编程语言与人类语言有许多共同之处。每种语言，无论是人类语言还是计算机语言，都有\n",
    "- **句法**（语法规则），规定什么是有效的短语和句子\n",
    "- **词汇** 包含语篇（名词、动词、连词等）的词汇，具有普遍接受的含义的关键词汇（我、你、我、是、有......），以及根据使用方式而定义不同的上下文词汇 \n",
    "- 符合语言习惯的**结构**决定了我们使用句法和词汇的“通常/一般”表达方式"
   ]
  },
  {
   "cell_type": "markdown",
   "metadata": {},
   "source": [
    "> Much of the theory of computer science can be credited to [Alan Turing](https://en.wikipedia.org/wiki/Alan_Turing), whose work in the 1930s focused on the *logic* of computation. Most signifcantly, he was able to prove (not just demonstrate) that all computational logic could be reduced to a few logical operations. Any device that could carry out these operations in a specified order was called a Turing Machine. Further, if any Turing Machine could carry out an algorithm, then so could any other. This was, of course, the first working definition for what we mean by a \"general purpose\" computer. If it can be used to implement a Turing Machine, then it counts as a computer.\n",
    "\n",
    "\n",
    "> 计算机科学的大部分理论都要归功于艾伦·图灵(https://en.wikipedia.org/wiki/Alan_Turing)，他在 20 世纪 30 年代的工作重点是计算逻辑。最重要的是，他能够证明（而非演示）所有计算逻辑都可以简化为几个逻辑运算。任何能够按照指定顺序执行这些操作的设备都被称为图灵机。此外，如果任何图灵机都能执行算法，那么任何其他图灵机也都能执行算法。当然，这就是我们所说的“通用”计算机的第一个可行定义。如果它可以用来实现图灵机，那么它就是一台计算机。"
   ]
  },
  {
   "cell_type": "markdown",
   "metadata": {},
   "source": [
    "Programming environments are generally composed of ...\n",
    "- **tools** (editors, compilers, etc.) needed to write code and get it into a runnable state\n",
    "- **libraries** of prewritten code that we can borrow from to write our own code\n",
    "- **runtimes** that allow us to execute the code\n",
    "\n",
    "编程环境一般由...\n",
    "- **工具**编写代码并使其进入可运行状态所需的工具（编辑器、编译器等 ）\n",
    "- **代码库**我们可以借用预先编写好的代码库来编写自己的代码\n",
    "- **运行时**允许我们执行代码的运行时"
   ]
  },
  {
   "cell_type": "markdown",
   "metadata": {},
   "source": [
    "> The development of the first general purpose digital computers in the 1940 was led by [John von Neumann](https://en.wikipedia.org/wiki/John_von_Neumann), a brilliant scientist and mathematician who immigrated to the US just before World War II. His so-called [Von Neuman Machines](https://en.wikipedia.org/wiki/Von_Neumann_architecture) were the first to implement Turing's vision wth actual hardware and software. It is literally the original source for terms like CPU, memory, and input/output. Though von Neumann did not include networking in his model, he did explore the implications of networked systems and so-called automata that evolve somewhat organically over time.\n",
    "\n",
    "\n",
    "> 约翰·冯·诺依曼 [John von Neumann](https://en.wikipedia.org/wiki/John_von_Neumann)是1940年第一台通用数字计算机的开发者，他是一位杰出的科学家和数学家，在第二次世界大战前夕移民到美国。他的所谓冯·诺依曼机器 [Von Neuman Machines](https://en.wikipedia.org/wiki/Von_Neumann_architecture) 是第一个用实际硬件和软件实现图灵愿景的人。它是 CPU、内存和输入/输出等术语的原始来源。虽然冯-诺依曼没有将网络纳入他的模型中，但他确实探索了网络系统和所谓自动机的含义，这些自动机随着时间的推移会有机地发展。"
   ]
  },
  {
   "cell_type": "markdown",
   "metadata": {},
   "source": [
    "Programming languages and environments are bundled together like products, with _versions_ that are _released_ over time. With each version, some changes can break \"compatibility\" with previous versions. We see this in human language as well. Have you ever tried reading Chaucer's _Canterbury Tales_ (from the 14th century) or the even more challenging _Beowulf_ (from the 6th century)? For that matter, have you read the _Declaration of Independence_ on the original broadsheet manuscript? It's almost like a different language. The same thing is true for computer programs. If you were to compare the BASIC programs we wrote in the 1970s to Visual Basic for Application code in MS Office, you would swear that they were totally unrelated. Such is progress. Sometimes we have to let go of old things to make room for new things.\n",
    "\n",
    "编程语言和环境就像产品一样捆绑在一起，随着时间的推移不断推出版本。每个版本都会有一些变化，这些变化可能会破坏与以前版本的“兼容性”。我们在人类语言中也能看到这种情况。你试过阅读乔叟的《坎特伯雷故事集》（14世纪）或更具挑战性的《贝奥武夫》（6世纪）吗？那么，你读过《独立宣言》的原版手稿吗？这几乎是一种不同的语言。计算机程序也是如此。如果将我们在20世纪70年代编写的BASIC程序与MS Oﬃce中的Visual Basic for Application代码进行比较，你会发誓它们完全没有关联。这就是进步。有时，我们不得不放弃旧事物，为新事物腾出空间。"
   ]
  },
  {
   "cell_type": "markdown",
   "metadata": {
    "id": "82dGL-8gKbEw",
    "tags": []
   },
   "source": [
    "### **Pulse Check ...**\n",
    "### **脉冲检查...**\n",
    "Make a numbered list (in Markdown) of all the computer languages you can think of. Use **bold text** for the names of any you might expect to use in your analytics courses.   \n",
    "\n",
    "将你能想到的所有计算机语言编成一个编号列表（用 Markdown格式）。用**粗体字标**出你在分析课程中可能会用到的名称。"
   ]
  },
  {
   "cell_type": "markdown",
   "metadata": {
    "id": "HEGmmms4KbEw"
   },
   "source": [
    "ENTER YOUR ANSWER HERE  \n",
    "在此输入答案\n"
   ]
  },
  {
   "cell_type": "markdown",
   "metadata": {
    "tags": []
   },
   "source": [
    "#### Click the three dots ... below to see Dr. Huntley's answer. (Note: there are no wrong answers to this question.)\n",
    "#### 点击三个点...下方查看Huntley博士的答案。（注意：对于这个问题来说没有错误答案）"
   ]
  },
  {
   "cell_type": "markdown",
   "metadata": {
    "cellView": "form",
    "id": "llhCyvnaaxJk",
    "tags": []
   },
   "source": [
    "\n",
    "_`highlighted`_ = learned on the job or engineering school \n",
    "_`高亮`_ = 在工作中或学校学到的\n",
    "**bold** = will likely see in MSBA classes\n",
    "**粗体** = 可能会在 MSBA 课程中看到\n",
    "\n",
    "# Pre 1960 \n",
    "# 1960之前\n",
    "1. Machine Language 机器语言\n",
    "2. _`Assembly Language`_ / Speed Code _`汇编语言`_ /速度代码\n",
    "4. _`FORTRAN`_ _`公式翻译程式语言`_\n",
    "5. _`LISP`_\n",
    "6. COBOL\n",
    "\n",
    "# 1960s\n",
    "6. _`BASIC`_\n",
    "7. APL\n",
    "8. _`RPG`_\n",
    "9. Forth\n",
    "10. Logo\n",
    "\n",
    "# 1970s\n",
    "11. _`Pascal`_\n",
    "12. _`C`_\n",
    "13. _`Prolog`_\n",
    "14. **_`SQL`_**\n",
    "15. _`Scheme`_\n",
    "16. _`Modula-II`_\n",
    "17. **SAS**\n",
    "18. _`Bourne Shell / sh`_\n",
    "19. MATLAB\n",
    "20. _`AWK`_\n",
    "\n",
    "# 1980s\n",
    "21. Ada\n",
    "22. SmallTalk\n",
    "23. Postscript\n",
    "24. Objective C\n",
    "25. _`C++`_\n",
    "26. Perl\n",
    "27. **Mathematica**\n",
    "28. **_`Bash`_**\n",
    "29. **_`Python`_**\n",
    "30. _`Tcl / Tk`_\n",
    "31. Eiffel\n",
    "\n",
    "# 1990s\n",
    "32. _AMPL_\n",
    "33. _`Visual Basic`_\n",
    "34. Cold Fusion ML\n",
    "35. _`PHP`_\n",
    "36. _`HTML`_\n",
    "37. _`CSS`_\n",
    "38. _`Java`_\n",
    "39. _`Javascript`_\n",
    "40. Ruby\n",
    "41. **R**\n",
    "\n",
    "# 2000s\n",
    "42. C# (.Net)\n",
    "43. _`Scratch`_\n",
    "44. Scala\n",
    "45. Go\n",
    "46. **_`Markdown`_**\n",
    "\n",
    "# 2010s and beyond\n",
    "# 2010年及以后\n",
    "47. Rust\n",
    "48. Julia\n",
    "49. Dart\n",
    "50. Swift\n"
   ]
  },
  {
   "cell_type": "markdown",
   "metadata": {},
   "source": [
    "---\n",
    "## **Python as a Language**\n",
    "## **Python 作为一种语言**\n",
    "Python is designed to be a very compact language, with minimal syntax and vocabulary. The idea is that it should fit into your head without having to learn hundreds of words and grammar rules. In fact, Python has a base vocabulary of just 35 **keywords**. All Python code is written with these words plus _whatever words we make up_ on our own. \n",
    "\n",
    "Python被设计为一种非常紧凑的语言，语法和词汇量都非常少。我们的想法是，无需学习成百上千的单词和语法规则，就能让它融入你的大脑。事实上，Python的基本词汇只有35个**关键字**。所有Python代码都是用这些单词加上我们自己创造的单词编写而成的。\n",
    "\n",
    "While small, with just a few types of statements, Python's syntax it is flexible enough that a surprising variety of regular English sentences work can be made to work, though perhaps with slightly altered phrasing and punctuation. Can you tell what this program does?\n",
    "\n",
    "Python虽然很小，只有几种语句类型，但它的语法却足够灵活，出乎意料地可以使用各种常规英语句子，尽管措辞和标点符号可能会略有不同。你能说出这个程序是做什么的吗？\n",
    "\n",
    "\n",
    "```python\n",
    "the_fridge = [\"bud\", \"bud\", \"stella\", \"miller\",\"homebrew\"]\n",
    "\n",
    "for beer in the_fridge:\n",
    "    empty_bottle = drink(beer)\n",
    "    burp()\n",
    "    dispose(empty_bottle)\n",
    "    print(beer)\n",
    "    print(\"And another one gone, and another one gone, another one bites the dust.\")\n",
    "\n",
    "```"
   ]
  },
  {
   "cell_type": "markdown",
   "metadata": {},
   "source": [
    "While you might not be completely sure, you can probably guess that it is rummaging through a virtual refrigerator looking for beers to drink. Notice how many actual English words were used. There are just 3, shown in green or blue: `for`, `in`, and `print`.  The syntax is also pretty sparse: an equal sign, some commas, a few brackets and parentheses, a colon, and **white space**. Yes, in Python the line endings and indentation matters. We'll come back to that shortly. \n",
    "\n",
    "虽然可能无法完全肯定，但你大概可以猜到它正在虚拟冰箱里翻找啤酒喝。请注意其中使用了多少实际的英语单词。只有3个，用绿色或蓝色表示：for, in和print。语法也非常简单：一个等号、几个逗号、几个括号和圆括号、一个冒号和**空格**。是的，在Python中，行尾和缩进很重要。我们很快会再讨论这个问题题。 \n"
   ]
  },
  {
   "cell_type": "markdown",
   "metadata": {
    "id": "N3gIQ4MeKbEx",
    "tags": []
   },
   "source": [
    "\n",
    "### **Pulse Chec**k ...\n",
    "### **脉冲检查 ...*? "
   ]
  },
  {
   "cell_type": "markdown",
   "metadata": {},
   "source": [
    "Run the slightly modified version of the beer code below. Now try adding one more beer to the fridge in the first line and then rerun the cell. Did it do anything you didn't expect?\n",
    "\n",
    "运行下面稍作修改的啤酒代码。现在试着在第一行向冰箱中再添加一瓶啤酒，然后重新运行该单元格。它有没有做任何你意想不到的事情？"
   ]
  },
  {
   "cell_type": "code",
   "execution_count": null,
   "metadata": {
    "id": "W87vviXSKbEy"
   },
   "outputs": [],
   "source": [
    "# please add a beer to the fridge\n",
    "the_fridge = [\"bud\", \"bud\", \"stella\", \"miller\", \"homebrew\"]\n",
    "\n",
    "for beer in the_fridge:\n",
    "    print ('drinking a bottle of ' + beer + ' ... burp!')\n",
    "    empty_bottle = \"empty bottle of \" + beer\n",
    "    print('disposed of 1 '+ empty_bottle)\n",
    "    print(\"And another one gone, and another one gone, another one bites the dust.\\n\\n\")"
   ]
  },
  {
   "cell_type": "markdown",
   "metadata": {
    "tags": []
   },
   "source": [
    "#### Click the ... below to see a solution.\n",
    "#### 点击...查看下方答案."
   ]
  },
  {
   "cell_type": "code",
   "execution_count": null,
   "metadata": {
    "cellView": "form",
    "id": "Q7vkN4FtbVCX",
    "tags": []
   },
   "outputs": [],
   "source": [
    "\n",
    "the_fridge = [\"bud\", \"bud\", \"stella\", \"miller\", \"homebrew\",\"road2ruin\"]\n",
    "\n",
    "for beer in the_fridge:\n",
    "    print ('drinking a bottle of ' + beer + ' ... burp!')\n",
    "    empty_bottle = \"empty bottle of \" + beer\n",
    "    print('disposed of 1 '+ empty_bottle)\n",
    "    print(\"And another one gone, and another one gone, another one bites the dust.\\n\\n\")\n"
   ]
  },
  {
   "cell_type": "markdown",
   "metadata": {},
   "source": [
    "---\n",
    "##  **Python as an Environment**\n",
    "##  **Python作为一种环境**\n",
    "### **Tools**\n",
    "### **工具**"
   ]
  },
  {
   "cell_type": "markdown",
   "metadata": {},
   "source": [
    "At a fundamental level the only tools a programmer really needs are an **editor** and a **compiler**.  \n",
    "从根本上说，程序员真正需要的工具只有**编辑器**和**编译器**。\n"
   ]
  },
  {
   "cell_type": "markdown",
   "metadata": {},
   "source": [
    "**Programming editors are not like word processors**, though it might be hard for most people to spot the differences. To start, a programming editor is a plain text editor, without any styling beyond perhaps some syntax highlighting to identify keywords and syntax. In that respect it is more like SMS texting than editing documents. **All that matters is the text.** Editors also support plugins that make certain repetitive tasks easier. For example, an editor might have a \"previewer\" to show what a web page looks like while editing its HTML, CSS, or Javascript code. Other common language-specific plugins include syntax highlighting (for Python vs Java), autocompletion (for function calls, etc.), code \"pretty printing\" that cleans up whitespace so that code is easier to read, docstring templates to simplify documentation writing, even converting tabs to spaces, etc.    \n",
    "\n",
    "**编程编辑器与文字处理器不同**，尽管大多数人可能很难发现其中的区别。首先，编程编辑器是一个纯文本编辑器，除了一些语法高亮来识别关键字和语法外，没有任何其他样式。在这方面，它更像短信而不是编辑文档。**重要的是文本**。编辑器还支持插件，使某些重复性工作变得更容易。例如，编辑器可能有一个“预览器”，可以在编辑HTML、CSS或Javascript 代码时显示网页的外观。其他常见的语言特定插件包括语法高亮（针对 Python 和 Java）、自动完成（针对函数调用等）、代码“漂亮打印”（清除空白以便代码更易读）、文档字符串模板（简化文档编写）、甚至将制表符转换为空格等。\n"
   ]
  },
  {
   "cell_type": "markdown",
   "metadata": {},
   "source": [
    "**Compilers, on the other hand, are about zeros and ones.** Computers don't actually speak Python. Instead, each computer speaks its own machine language, where everything is encoded in binary (zeros and ones). We call the text (Python) that the humans write the __source code__. The compiler then converts source code into **object (machine) code.** There are two fundamentally different ways to do that. An **optimizing compiler** reads all of the source code and then tries to generate the most efficient (time and/or space) object code possible. This is how an operating system like iOS, where every millisecond and megabyte matters, is written and compiled. A **line interpreter**, on the other hand, compiles code one line at a time, in the order it is written, so that it can be run as soon as possible. It's sort of like closed captioning for your TV. It is always trying to keep up with the code in real time but often makes mistakes that make the program run slower overall.   \n",
    "\n",
    "**另一方面，编译器是关于0和1的**。计算机实际上不会说Python语言。\n",
    "相反，每台计算机都会说自己的机器语言，其中所有内容都以二进制（0 和 1）编码。我们将人类编写的文本 (Python) 称_为源代_ 码。然后，编译器将源代码转换为目标（机器）代码。有两种根本不同的方法。优化编译器会读取所有源代码，然后尽可能生成最节省（时间和/或空间）的目标代码。这就是像iOS这样的操作系统的编写和编译方式，在这种系统中，每毫秒和每兆字节都很重要。而行解释器则是按照编写的顺序，一行一行地编译代码，以便尽快运行。这有点像电视的闭路字幕。它总是试图实时跟上代码，但经常会犯错，导致程序整体运行速度变慢。\n"
   ]
  },
  {
   "cell_type": "markdown",
   "metadata": {},
   "source": [
    "In this class, **our main power tool is the Jupyter Notebook**, which provides both the editor and the compiler needed to write and run code. Each cell is like a mini program. We can enter code and run it one cell at a time. The cells can even communicate in a fashion, with work from one cell used by another. The result is a blend of the performance of an optimizing compiler and the flexibility of a line interpreter. It's easy to see why so many data scientists are adopting notebook technology for their everyday programming needs."
   ]
  },
  {
   "cell_type": "markdown",
   "metadata": {},
   "source": [
    "在这门课上，我们的主要工具是 Jupyter Notebook，它提供了编写和运行代码所需的编辑器和编译器。每个单元格就像一个迷你程序。我们可以一个单元一个单元地输入和运行代码。这些单元甚至可以进行通信，一个单元的工作可以被另一个单元使用。这样，优化编译器的性能和行解释器的灵活性就融合在一起了。这就不难理解，为什么这么多数据科学家都在采用笔记本技术来满足他们的日常编程需求。 "
   ]
  },
  {
   "cell_type": "markdown",
   "metadata": {},
   "source": [
    "### **Libraries**\n",
    "### **库**"
   ]
  },
  {
   "cell_type": "markdown",
   "metadata": {},
   "source": [
    "In the bad old days we had to program just about _everything_ from scratch. Need a window? ... write these 200 lines of code. Want to turn a pixel red? ... write this obscure looking 10 lines of code. It was both very repetitive and error prone. The problem was that the technology had not evolved enough to have a lot of **reusable components** (what we call modules in Python) that [automate the boring stuff](https://www.udemy.com/course/automate/) for us. **Libraries are how we do that today.** If you need something that Python doesn't do for you automatically, chances are that somebody has released a library with reusable modules, where most things can be done in a line or two of code that just works.\n",
    "\n",
    "\n",
    "过去的情况很糟糕，我们几乎什么都要从头开始编程。需要一个窗口？......写下这 200 行代码。想把一个像素变红？ ... 写这 10 行看起来晦涩难懂的代码。这既重复又容易出错。问题是，当时的技术还没有发展到拥有大量可重复使用的组件（我们在Python中称之为模块）来为我们自动完成无聊的工作 [automate the boring stuff](https://www.udemy.com/course/automate/)。如今，库就是我们实现这一目标的方式。如果你需要一些 Python无法自动完成的东西，很有可能已经有人发布了一个包含可重用模块的库，在这个库中，大多数事情都可以用一两行代码完成，而且还能正常工作.    \n"
   ]
  },
  {
   "cell_type": "markdown",
   "metadata": {},
   "source": [
    "### **Runtime Environments (\"Runtimes\")**\n",
    "## **运行时环境（“运行时”)**"
   ]
  },
  {
   "cell_type": "markdown",
   "metadata": {},
   "source": [
    "In order for everything to work reliably, we need a place to run our programs that knows about our libraries and tools. At the heart of Jupyter is IPython, which compiles the Python code behind the scenes, links in any required libraries, and handles basic I/O with the computer's operating system.\n",
    "\n",
    "为了让一切都能可靠地运行，我们需要一个能运行程序的地方，它能了解我们的库和工具。IPython是Jupyter的核心，它可以在幕后编译Python代码，链接任何所需的库，并处理与计算机操作系统的基本I/O."
   ]
  },
  {
   "cell_type": "markdown",
   "metadata": {},
   "source": [
    "The alternatives to Jupyter are things like the _Python Interpreter_ (runs in a terminal window), workspaces in integrated development environments like _PyCharm_, or even Unix scripts running in the cloud. Come to think of it, this notebook is running in a Colab runtime environment inside of a virtual machine running in the cloud. Confused yet? Fortunately those details are hidden from view. Just know that a Jupyter Notebook is a web app that lets you write and run code in Python, R, Julia, HTML, and even SQL without installing any special software.  \n",
    "\n",
    "Jupyter的替代品包括Python解释器（在终端窗口中运行）、集成开发环境（如PyCharm）中的工作区，甚至是在云中运行的Unix脚本。仔细想想，这本笔记本就是在云端虚拟机中的Colab运行环境中运行的。还不明白吗？幸运的是，这些细节都被隐藏起来了。你只需知道，Jupyter Notebook是一款网络应用程序，可以让你在不安装任何特殊软件的情况下用Python、R、Julia、HTML 甚至 SQL编写和运行代码.   "
   ]
  },
  {
   "cell_type": "markdown",
   "metadata": {},
   "source": [
    "### **Versions**\n",
    "### **版本**"
   ]
  },
  {
   "cell_type": "markdown",
   "metadata": {},
   "source": [
    "Python code comes in several different flavors:\n",
    "- Python 1 (first released in 1993) was the first complete version for the public\n",
    "- Python 2 (first released in 2000) added advanced data types and core object-orientation (‘everything is an object’)\n",
    "- Python 3 (first released in 2008) broke backwards compatibility to streamline and unify language syntax and libraries\n",
    "\n",
    "Python代码有几种不同的版本：\n",
    "- Python 1（1993年首次发布）是第一个面向公众的完整版本\n",
    "- Python 2（2000年首次发布）增加了高级数据类型和核心面向对象（“万物皆对象”）\n",
    "- Python 3（2008年首次发布）打破了向后兼容性，精简并统一了语言语法和库"
   ]
  },
  {
   "cell_type": "markdown",
   "metadata": {
    "id": "ZGac_g11KbE2",
    "tags": []
   },
   "source": [
    "You won't find Python 1 code anywhere but in a museum today, but there is still plenty of Python 2 code lingering in science labs and hobby projects. We will be using Python 3 in this class. If you run across older versions in your wanderings, you will find that most things in version 3 are similar to version 2. However, we can't mix the two in the same source code.e."
   ]
  },
  {
   "cell_type": "markdown",
   "metadata": {},
   "source": [
    "如今，除了在博物馆里，你不会在任何地方找到Python 1 代码，但在科学实验室和业余爱好项目中仍有大量的 Python 2代码。我们将在本课中使用Python 3。如果你在漫游中遇到旧版本，你会发现版本3中的大部分内容都与版本2相似。但是，我们不能在同一源代码中混合使用这两个版本."
   ]
  },
  {
   "cell_type": "markdown",
   "metadata": {
    "id": "aI3isG4zKbE2"
   },
   "source": [
    "### **Pulse Check ...**\n",
    "### **脉冲检查 ...**\n",
    "Now for a more advanced question. Explain what the code below is telling us about `the_fridge` and `IPython`. What do you think the stuff in `<brackets>` means? It's okay if you don't know yet. We'll get there in the next lesson. \n",
    "\n",
    "现在是一个进阶问题。请解释下面的代码告诉了我们关于 the_fridge和IPython的什么信息。你认为 `<brackets>`\n",
    " 中的内容是什么意思？如果你还不知道，没关系，我们将在下一课讨论这个问题。\n"
   ]
  },
  {
   "cell_type": "code",
   "execution_count": null,
   "metadata": {
    "id": "iDVrFOFYKbE3",
    "outputId": "eda1f010-896a-49d2-ccca-750383096eee"
   },
   "outputs": [],
   "source": [
    "the_fridge = [\"bud\", \"bud\", \"stella\", \"miller\", \"homebrew\"]\n",
    "print(the_fridge)\n",
    "print(type(the_fridge))\n",
    "\n",
    "import IPython\n",
    "print(IPython)"
   ]
  },
  {
   "cell_type": "markdown",
   "metadata": {
    "id": "iQQmZREAKbE6"
   },
   "source": [
    "REPLACE THIS TEXT WITH YOUR ANSWER. \n",
    "请用你的答案替换这段文字。"
   ]
  },
  {
   "cell_type": "markdown",
   "metadata": {
    "tags": []
   },
   "source": [
    "#### Click ... below to check your work.\n",
    "#### 点击下方检查你的答案."
   ]
  },
  {
   "cell_type": "markdown",
   "metadata": {
    "tags": []
   },
   "source": [
    "\n",
    "> - `the_fridge` is a list _object_, which acts as a container for a sequence of items. More specifically, we say that `list` is a `class` of software objects that can contain series of items.\n",
    "> - Similarly, `IPython` is a `module` object.\n",
    "> - Python uses `<` and `>` (like `<class-name ... >`) when asked to describe (print) an object.  \n",
    "\n",
    "  \n",
    "> - the_fridge是一个列表对象，它是一系列项目的容器。更具体地说，我们可以说列表是一类可以包含一系列项目的软件对象。\n",
    "> - 同样，IPython也是一个模块对象。\n",
    "> - 当要求描述（输出）一个对象时，Python 使用 < 和 > (如 <class-name ... > ).\n"
   ]
  },
  {
   "cell_type": "markdown",
   "metadata": {
    "id": "WD6DHp8RKbE7",
    "tags": []
   },
   "source": [
    "---\n",
    "## **Error Types, Error Messages, and Debugging**\n",
    "## **错误类型、错误信息和调试**"
   ]
  },
  {
   "cell_type": "markdown",
   "metadata": {},
   "source": [
    "As you write more code, you will find that you make lots of mistakes. Sometimes they aren't even mistakes per se ... more like misunderstandings. You might ask for something but the computer replies \"No, we can't do that at the moment but maybe later.\" You eventually get used to this, especially when you get a message back that you can use to get it right later on. Let's repeat that, this time with more emphasis: **Errors are not all the same. Most errors are actually good things! Embrace them! It's how we learn.**  \n",
    "\n",
    "编写的代码越多，你会发现自己犯了很多错误。有时，这些错误本身并不是错误......更像是误解。你可能会提出一些要求，但计算机会回答“不，我们现在不能这样做，也许以后可以”。你最终会习惯这种情况，尤其是当你收到一条信息，可以用来在以后纠正错误的时候。让我们再重复一遍，这次要更加强调：**错误并不都是一样的。大多数错误其实都是好事！接受错误！这是我们的学习方式.**"
   ]
  },
  {
   "cell_type": "markdown",
   "metadata": {},
   "source": [
    "The learning / debugging process generally looks like this:\n",
    "\n",
    "1. Edit some code.\n",
    "2. Run it.\n",
    "3. Test to see that it works (under all conceivable situations). If not, identify the mistake. \n",
    "4. Go back to step 1."
   ]
  },
  {
   "cell_type": "markdown",
   "metadata": {},
   "source": [
    "学习/调试过程一般是这样的\n",
    "\n",
    "1. 编辑一些代码.\n",
    "2. 运行它.\n",
    "3. 测试是否能正常运行（在所有可能的情况下）。如果不能，找出错误所在.\n",
    "4. 回到步骤 1."
   ]
  },
  {
   "cell_type": "markdown",
   "metadata": {},
   "source": [
    "**Notice how the process never ends?** That's how it really is. It may [take decades before a bug hits us in the face](https://en.wikipedia.org/wiki/Year_2038_problem). The trick is the testing we do in step 3. That's how we detect and fix bugs before they become harmful. \n",
    "\n",
    "**注意到这一过程从未结束吗？** 这就是真实情况。我们可能[要花上几十年的时间才会发现一个 bug](https://en.wikipedia.org/wiki/Year_2038_problem)。诀窍在于我们在第 3 步进行的测试。\n",
    "这就是在错误产生危害之前发现并解决它们的方法。\n"
   ]
  },
  {
   "cell_type": "markdown",
   "metadata": {},
   "source": [
    "So what are the kinds of things to look for? There are four fundamental types of programming bugs:\n",
    "- **Syntax errors** are caught by the compiler before trying to run the code. As the name implies, these are mistakes like typos or bad grammar that make the compiler say \"I don't understand what you are asking me to do.\"\n",
    "    - Fix: Read the error message, which will show you where the error occurred in the code. There may also be a little bit of diagnostic information about why it's not legal Python syntax.  \n",
    "- **Logic errors** are where the code tries to do the impossible, perhaps because things are done out of order.\n",
    "    - Fix: Walk through your code, line by time, perhaps with the help of a debugging tool. At each step confirm that your assumptions are being met. If you don't have a debugger handy then you will find yourself relying on `print` statements to let Python tell you about things in process. \n",
    "- **Semantic errors** occur when your code runs fine but doesn't actually do what you think it does. \n",
    "    - Fix: This is a special kind of logic error, one where the mistake might not be obvious and you won't get an error message. Since you are the source of the bad logic, the computer has no way to tell that it is faulty, leaving you on your own to identify and locate the bug.\n",
    "- **Runtime errors** (not in the textbook) are discovered when the program crashes, often because something you need isn't available at the time you need it. \n",
    "    - Fix: Read the error message, which explains what caused the runtime to crash. Often you'll find that some assumption you've made about a resource being available or code being executed in advance of yours is faulty. In some cases, you may have code that runs for days just fine before suddenly it crashes. You may need to resort to reading system logs to see what was happening at the time of the crash.  \n",
    "\n",
    "那么，需要查找哪些问题呢？编程错误有四种基本类型： \n",
    "- **语法错误**会在尝试运行代码之前被编译器捕获。顾名思义，这些错误包括错别字或语法错误，它们会让编译器说 “我不明白你要我做什么.”\n",
    "    - 改进方法：阅读错误信息，它会显示代码中出现错误的位置。可能还会有一些诊断信息，说明为什么不是符合标准的Python语法.\n",
    "- **逻辑错误**是指代码试图完成不可能完成的任务，这可能是因为代码的运行顺序被打乱了.\n",
    "    - 改进方法：借助调试工具，逐行查看代码。每一步都要确认你的假设是否得到满足。如果你手边没有调试器，那么你就会依赖print语句来让Python告诉你正在处理的事情\n",
    "- 当你的代码运行正常，但实际上并没有像你想象的那样运行时，就会出现语义错误. \n",
    "    - 改进方法：这是一种特殊的逻辑错误，错误可能并不明显，你也不会收到错误信息。由于你是错误逻辑的源头，电脑无法判断它是否有问题，只能靠你自己去识别和定位错误.\n",
    "- **运行时错误**（不在教科书中）是在程序崩溃时发现的，通常是因为你需要的东西在你需要时候没有了. \n",
    "    - 改进方法：阅读错误信息，其中说明了导致运行时崩溃的原因。通常情况下，你会发现关于资源可用或代码先于你执行的某些假设是错误的。在某些情况下，你的代码可能运行了好几天才突然崩溃。你可能需要通过阅读系统日志来了解崩溃时的情况。"
   ]
  },
  {
   "cell_type": "markdown",
   "metadata": {},
   "source": [
    "These errors are listed in order of difficulty. Syntax errors happen all the time. Let Python tell you how to fix them when it can. Logic errors are similarly benign as long as you can figure out what steps are being done out of order. Semantic and runtime errors are where you might want to get some help. Programmers tend to form a tight community where everybody loves a good debugging war story.  \n",
    "\n",
    "这些错误按难易程度排列。语法错误经常发生。让Python告诉你如何解决它们。逻辑错误也是类似的良性错误，只要你能找出哪些步骤是不按顺序进行的。语义和运行时错误是你可能需要寻求帮助的地方.  \n"
   ]
  },
  {
   "cell_type": "markdown",
   "metadata": {},
   "source": [
    "### **Still here? One last Pulse Check ...**\n",
    "### **我们接着最后一次脉冲检查..**"
   ]
  },
  {
   "cell_type": "markdown",
   "metadata": {},
   "source": [
    "For each of the cells below explain the error. "
   ]
  },
  {
   "cell_type": "markdown",
   "metadata": {},
   "source": [
    "请解释以下每个单元格的错误."
   ]
  },
  {
   "cell_type": "code",
   "execution_count": 1,
   "metadata": {
    "id": "ar6VkNtXKbE8",
    "outputId": "0f4c0700-20a3-4ed0-c4ec-cbae43d27874"
   },
   "outputs": [
    {
     "ename": "SyntaxError",
     "evalue": "Missing parentheses in call to 'print'. Did you mean print(...)? (2250835777.py, line 2)",
     "output_type": "error",
     "traceback": [
      "\u001b[0;36m  Cell \u001b[0;32mIn[1], line 2\u001b[0;36m\u001b[0m\n\u001b[0;31m    print 'I love Python'\u001b[0m\n\u001b[0m    ^\u001b[0m\n\u001b[0;31mSyntaxError\u001b[0m\u001b[0;31m:\u001b[0m Missing parentheses in call to 'print'. Did you mean print(...)?\n"
     ]
    }
   ],
   "source": [
    "# Bug #1\n",
    "print 'I love Python'"
   ]
  },
  {
   "cell_type": "markdown",
   "metadata": {
    "id": "ZmpRFdT5KbE-"
   },
   "source": [
    "REPLACE THIS TEXT WITH YOUR ANSWER FOR BUG #1.  \n",
    "请将此文本替换为你对错误1的回答."
   ]
  },
  {
   "cell_type": "markdown",
   "metadata": {
    "tags": []
   },
   "source": [
    "#### Check your work below\n",
    "#### 请在下方检查你的答案"
   ]
  },
  {
   "cell_type": "markdown",
   "metadata": {
    "tags": []
   },
   "source": [
    "> **Syntax Error.** We need the parentheses around the text. In Python 2, print was a statement, not a function.\n",
    "> 语法错误.我们需要在文本前后加上括号。在Python2中，print是一条语句，而不是一个函数."
   ]
  },
  {
   "cell_type": "code",
   "execution_count": 3,
   "metadata": {
    "id": "uQ-SOLoOKbE_",
    "outputId": "60d98854-0184-4552-f456-3c30567d3ed2"
   },
   "outputs": [
    {
     "ename": "IndentationError",
     "evalue": "unexpected indent (693813173.py, line 3)",
     "output_type": "error",
     "traceback": [
      "\u001b[0;36m  Cell \u001b[0;32mIn[3], line 3\u001b[0;36m\u001b[0m\n\u001b[0;31m    print(x)\u001b[0m\n\u001b[0m    ^\u001b[0m\n\u001b[0;31mIndentationError\u001b[0m\u001b[0;31m:\u001b[0m unexpected indent\n"
     ]
    }
   ],
   "source": [
    "# Bug #2\n",
    "x = \"I love Python\"\n",
    "    print(x)"
   ]
  },
  {
   "cell_type": "markdown",
   "metadata": {
    "id": "_cJDvo1yKbFC"
   },
   "source": [
    "REPLACE THIS TEXT WITH YOUR ANSWER FOR BUG #2.\n",
    "请将此文本替换为你对错误2的回答."
   ]
  },
  {
   "cell_type": "markdown",
   "metadata": {
    "tags": []
   },
   "source": [
    "#### Check your work below\n",
    "#### 请在下方检查你的答案"
   ]
  },
  {
   "cell_type": "markdown",
   "metadata": {
    "tags": []
   },
   "source": [
    "> **Syntax Error.** In Python the indentation matters. It is how Python recognizes that the code is to be executed as a block.\n",
    "> 语法错误。在Python中，缩进很重要。它是Python识别代码应作为一个块执行的方式."
   ]
  },
  {
   "cell_type": "code",
   "execution_count": null,
   "metadata": {
    "id": "Ahq4cICzKbFC",
    "outputId": "73858462-44b7-49d3-d97e-fd20929622da"
   },
   "outputs": [
    {
     "ename": "IndexError",
     "evalue": "string index out of range",
     "output_type": "error",
     "traceback": [
      "\u001b[0;31m---------------------------------------------------------------------------\u001b[0m",
      "\u001b[0;31mIndexError\u001b[0m                                Traceback (most recent call last)",
      "\u001b[0;32m<ipython-input-7-6ce58de79b6a>\u001b[0m in \u001b[0;36m<module>\u001b[0;34m\u001b[0m\n\u001b[1;32m      1\u001b[0m \u001b[0;31m# bug #3\u001b[0m\u001b[0;34m\u001b[0m\u001b[0;34m\u001b[0m\u001b[0;34m\u001b[0m\u001b[0m\n\u001b[1;32m      2\u001b[0m \u001b[0mx\u001b[0m \u001b[0;34m=\u001b[0m \u001b[0;34m\"I love Python\"\u001b[0m\u001b[0;34m\u001b[0m\u001b[0;34m\u001b[0m\u001b[0m\n\u001b[0;32m----> 3\u001b[0;31m \u001b[0mprint\u001b[0m\u001b[0;34m(\u001b[0m\u001b[0mx\u001b[0m\u001b[0;34m[\u001b[0m\u001b[0;36m20\u001b[0m\u001b[0;34m]\u001b[0m\u001b[0;34m)\u001b[0m\u001b[0;34m\u001b[0m\u001b[0;34m\u001b[0m\u001b[0m\n\u001b[0m",
      "\u001b[0;31mIndexError\u001b[0m: string index out of range"
     ]
    }
   ],
   "source": [
    "# Bug #3\n",
    "x = \"I love Python\"\n",
    "print(x[20])"
   ]
  },
  {
   "cell_type": "markdown",
   "metadata": {
    "id": "y1rrMX7iKbFF"
   },
   "source": [
    "REPLACE THIS TEXT WITH YOUR ANSWER FOR BUG #3.  \n",
    "请将此文本替换为你对错误3的回答."
   ]
  },
  {
   "cell_type": "markdown",
   "metadata": {
    "tags": []
   },
   "source": [
    "#### Check your work below\n",
    "#### 请在下方检查你的答案"
   ]
  },
  {
   "cell_type": "markdown",
   "metadata": {
    "tags": []
   },
   "source": [
    "> **Logic Error.** The brackets are used to indicate position within the string. There is no 20-th position in a string of 13 characters.\n",
    "> 逻辑错误。括号用于表示字符串中的位置。在13个字符的字符串中没有第20个位置."
   ]
  },
  {
   "cell_type": "code",
   "execution_count": null,
   "metadata": {
    "id": "7CFvIkOIKbFF",
    "outputId": "0a0c7ee3-b096-4358-bafc-e65e0c4579c9"
   },
   "outputs": [
    {
     "name": "stdout",
     "output_type": "stream",
     "text": [
      "I hate Python\n",
      "I love Python\n"
     ]
    }
   ],
   "source": [
    "# Bug #4\n",
    "x = \"I love Python\"\n",
    "if x:\n",
    "    print(\"I hate Python\")\n",
    "print(x)"
   ]
  },
  {
   "cell_type": "markdown",
   "metadata": {
    "id": "vjj6yWW6KbFI"
   },
   "source": [
    "REPLACE THIS TEXT WITH YOUR ANSWER FOR BUG #4.\n",
    "请将此文本替换为你对错误4的回答."
   ]
  },
  {
   "cell_type": "markdown",
   "metadata": {
    "tags": []
   },
   "source": [
    "#### Check your work below\n",
    "#### 请在下方检查你的答案"
   ]
  },
  {
   "cell_type": "markdown",
   "metadata": {
    "tags": []
   },
   "source": [
    "> **Not an error but could be a Semantic Bug.** The if statement executes for any nonempty string, even if the string says something false.\n",
    "> 不是错误，但可能是语义漏洞。if语句对任何非空字符串都会执行，即使字符串的内容是假的.\n"
   ]
  },
  {
   "cell_type": "markdown",
   "metadata": {
    "id": "A30i6UTNil_0"
   },
   "source": [
    "---\n",
    "## **Before you go ... Save your notebook to be sure it is up to date.**\n",
    "## **最后...请保存你的笔记本，确保已是最新.**"
   ]
  },
  {
   "cell_type": "markdown",
   "metadata": {
    "id": "lTGQsdvOPrIE"
   },
   "source": [
    "---\n",
    "> ## Every Tee Has a Story\n",
    "> ABOUT EVERY HOLIDAY EVER    \n",
    "> Whenever I visited with family or friends for dinner in the 1990s and 2000s I was always asked to inspect their computer equipment and try to troubleshoot whatever problems they were having with MS Windows. This is the nature of families and friends, I suppose, because this went on for many years. I would be invited to dinner and then came the questions about how to fix this or that in Windows. The funny thing was that I have never been much of a Windows user. For many years I was a pretty enthusiastic full-time Linux user, using it as my regular, everyday desktop operating system. After that I switched to MacOS pretty much exclusively. The only time I ever saw Windows was in a computer lab or ... when I had dinner with family or friends. A few years ago I finally replaced my mother's ancient Windows desktop with an unbreakable Chromebook laptop but she still asks me to \"fix it\" for her every time I see her for the holidays.     ¯\\\\_(ツ)_/¯\n",
    " \n",
    ">每个Tee都有一个故事\n",
    "关于每一个节日\n",
    "20 世纪 90 年代和 21世纪初，每当我去亲朋好友家吃晚饭时，他们总会要求我检查他们的电脑设备，并尝试排除他们在使用 MS Windows 时遇到的任何问题。我想这就是家人和朋友的天性吧，因为这种情况持续了很多年。我会被邀请去吃晚饭，然后就会被问到如何在 Windows中解决这个或那个问题。有趣的是，我从来都不是Windows的用户。多年来，我一直热衷于使用Linux，并将其作为日常桌面操作系统。之后，我几乎只使用MacOS。我唯一一次见到Windows是在计算机实验室，或者......与家人或朋友共进晚餐时。几年前，我终于用一台牢不可破的Chromebook笔记本电脑取代了母亲那台古老的 Windows台式机，但每次过节时，她还是会让我帮她“升级”一下。¯\\(Ψ)/¯\n",
    "\n",
    "\n",
    "![L1 Tee Front](./Photos/L01_TeeFront.jpeg)\n",
    "\n",
    "\n",
    "## Copyright &copy; 2020 Christopher Huntley. All rights reserved. "
   ]
  },
  {
   "cell_type": "code",
   "execution_count": null,
   "metadata": {},
   "outputs": [],
   "source": []
  }
 ],
 "metadata": {
  "colab": {
   "collapsed_sections": [],
   "name": "L01_Preliminaries.ipynb",
   "provenance": []
  },
  "kernelspec": {
   "display_name": "Python 3 (ipykernel)",
   "language": "python",
   "name": "python3"
  },
  "language_info": {
   "codemirror_mode": {
    "name": "ipython",
    "version": 3
   },
   "file_extension": ".py",
   "mimetype": "text/x-python",
   "name": "python",
   "nbconvert_exporter": "python",
   "pygments_lexer": "ipython3",
   "version": "3.8.15"
  }
 },
 "nbformat": 4,
 "nbformat_minor": 4
}
