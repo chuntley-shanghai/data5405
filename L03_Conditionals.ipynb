{
 "cells": [
  {
   "cell_type": "markdown",
   "metadata": {
    "id": "0gWwZEgtPoi9"
   },
   "source": [
    "<img src=\"./img/Dolan.png\" width=\"180px\" align=\"right\">\n",
    "\n",
    "# **Lesson 3: Conditional Execution**\n",
    "_The many forms of \"it depends\"_\n",
    "# **第三课：条件执行**\n",
    "_执行条件的多种语句_"
   ]
  },
  {
   "cell_type": "markdown",
   "metadata": {},
   "source": [
    "## **Learning Objectives**\n",
    "\n",
    "## Theory / Be able to explain ...\n",
    "- The four elements of programming logic that underlie every computer language\n",
    "- How boolean expressions work in various ways\n",
    "- The various forms of `if`  statements \n",
    "- Defensive programming to head off crashes and other bugs \n",
    "\n",
    "## Skills / Know how to  ...\n",
    "- Determine whether an expression is True or False \n",
    "- Use `and`, `or`, and `not` to build complex boolean expressions\n",
    "- Use `if` statements to implement conditional code\n",
    "- Use guards and exception handling to bulletproof code\n"
   ]
  },
  {
   "cell_type": "markdown",
   "metadata": {
    "id": "NGO2G6q3Poi-"
   },
   "source": [
    "## **学习目标**\n",
    "\n",
    "## 能够解释以下理论 ...\n",
    "- 用于搭建所有编程语言基础的4种基本编程逻辑元素\n",
    "- 布尔表达式的运行原理\n",
    "- `if` 语句的多种形式\n",
    "- 防止程序崩溃或其他错误的防御性编程\n",
    "\n",
    "## 掌握以下技能  ...\n",
    "- 判断表达式是“真”还是“假”\n",
    "- 使用 `and` 、`or` 和 `not` 构建复杂的布尔表达式\n",
    "- 编写`if` 条件句\n",
    "- 利用守卫进程和异常处理增强代码稳健性\n",
    "\n",
    "---"
   ]
  },
  {
   "cell_type": "markdown",
   "metadata": {},
   "source": [
    "## **Structured Programming**\n",
    "## **结构化编程**"
   ]
  },
  {
   "cell_type": "markdown",
   "metadata": {},
   "source": [
    "> “Simplicity is a great virtue but it requires hard work to achieve it and education to appreciate it. And to make matters worse: complexity sells better.” -- Edsger Dijkstra\n",
    "\n",
    "Back in the computer science dinosaur times when everybody wore white coats there were lesser dinosaurs and then there were giants that made the earth shake as they went about their daily business. Computer scientists like Alan Turing, John von Neumann, Grace Hopper, Doug Englebart, Alan Kay, Donald Knuth, Leonard Kleinrock, Seymour Cray, and CJ Date were often thinking decades ahead of anybody else. Consider, for example, the _Mother of All Demos_ (read about on [Wikipedia](https://en.wikipedia.org/wiki/The_Mother_of_All_Demos), watch on [Youtube](https://www.youtube.com/watch?v=JQ8ZiT1sn88)), in which Doug Englebart demonstrated a graphical user interface (with windows, a mouse, and hyperlinks), video conferencing over what would later be called the Internet, Google Doc-style collaborative word processing, and Git-like revision control _**in 1968**_. They may been dinosaurs but they certainly weren't dumb."
   ]
  },
  {
   "cell_type": "markdown",
   "metadata": {},
   "source": [
    "> “简洁是种美德。但我们需要努力才能实现、需要教育才懂欣赏。但不幸的是：复杂的往往更好卖。”——艾兹格·迪科斯彻\n",
    "\n",
    "在计算机科学的开荒时代，人人都身穿白大褂埋头研究。计算机的土壤渐渐不再贫瘠，多位巨擘举手投足间使世界为之震颤。像艾伦·图灵、约翰·冯·诺伊曼、格蕾丝·赫柏、道格拉斯·恩格尔巴特、艾伦·凯、唐纳德·克努斯、伦纳德·克莱因罗克、西摩·克雷、克里斯托佛·达特等计算机科学家的想法领先于时代几十年。比如1968年，在恩格尔巴特的“所有演示之母”中（维基百科：http://zh.wikipedia.org/wiki/所有演示之母，演示视频片段见油管：https://www.youtube.com/watch?v=JQ8ZiT1sn88），他演示了由几个窗口、一个鼠标、几个超链接组成的图像用户交互界面，用其实现视频会议（也就是后来的互联网交流）、谷歌文档式的文档协作、以及类似GitHub的版本控制。现在看来可能像是开荒，但这类演示绝非朽木粪土。"
   ]
  },
  {
   "cell_type": "markdown",
   "metadata": {},
   "source": [
    "About the same time as Englebart's earthquake of a demo, Edsger Dijkstra developed (and proved!) the theory of Structured Programming that underlies **every** general purpose programming language, then and now. Structured programming is about programming logic, of which there are 4 fundamental elements:\n",
    "- **blocks** of statements to be executed one after another\n",
    "- **conditionals** that select one block of statements over others (based on selection criteria)\n",
    "- **loops** that repeat a block of statements some number of times (subject to stopping criterion)\n",
    "- **subroutines** that allow us to parameterize (template) and reuse (call) logical blocks whenever we need it"
   ]
  },
  {
   "cell_type": "markdown",
   "metadata": {
    "id": "DIEWv-YzPoi_",
    "jp-MarkdownHeadingCollapsed": true
   },
   "source": [
    "与恩格尔巴特的开天辟地的演示比肩的，还有艾兹格·迪科斯彻开发并证明的结构化编程理论。这是如今所有通用编程语言的基础。结构化编程关乎编程逻辑，有4个基本元素：\n",
    "\n",
    "- 按顺序注意执行的代码块\n",
    "- 基于筛选标准、使程序运行一个代码块而非其他的条件语句\n",
    "- 重复执行一个代码块、直至满足停止条件的循环语句\n",
    "- 需要时允许我们参数化（模板化）、再次使用（调用）代码块的子程序"
   ]
  },
  {
   "cell_type": "markdown",
   "metadata": {},
   "source": [
    "We introduced the concept of blocks in Lesson 2. In this lesson we will cover conditionals before moving on to functions (subroutines) in Lesson 4 and iteration (loops) in Lesson 5. \n",
    "\n",
    "我们在上节课种提到了代码块的概念。本节将介绍条件语句，之后的第4、5课将分别介绍函数（子程序）和迭代（循环语句)."
   ]
  },
  {
   "cell_type": "markdown",
   "metadata": {},
   "source": [
    "---\n",
    "## **About Blocks ... again**\n",
    "## **再次介绍代码块**"
   ]
  },
  {
   "cell_type": "markdown",
   "metadata": {},
   "source": [
    "Blocks are fundamental to programming logic. A block is a sequence of statements to be executed one after another. In Python that means **every statement in a block is always at the same level of indentation**. If we can't take a ruler to the left side of the screen and see each statement lining up with the ruler edge then the statements are not a block."
   ]
  },
  {
   "cell_type": "markdown",
   "metadata": {},
   "source": [
    "代码块是编程逻辑的基础。一个代码块是一系列要依次执行的语句。这在Python中意味着，代码块中的每个语句都应该有相同的缩进级别。如果我们不能从左到右严格对齐每个语句的开头位置，那么这些语句就无法组成一个代码块."
   ]
  },
  {
   "cell_type": "code",
   "execution_count": null,
   "metadata": {},
   "outputs": [],
   "source": [
    "# this is a block 这是一个代码块\n",
    "x=3\n",
    "y=4\n",
    "x=5"
   ]
  },
  {
   "cell_type": "code",
   "execution_count": null,
   "metadata": {},
   "outputs": [],
   "source": [
    "# however this is not a block and will trigger an error 非代码块，报错\n",
    "x=3\n",
    "    y=4\n",
    "x=5"
   ]
  },
  {
   "cell_type": "markdown",
   "metadata": {},
   "source": [
    "You may be asking yourself why Python cares about indentation here. We'll come to that in a minute.  \n",
    "你可能会疑惑，为什么Python这么看重缩进。我们马上就会讲到这个."
   ]
  },
  {
   "cell_type": "markdown",
   "metadata": {},
   "source": [
    "We can nest block inside of blocks provided that Python can tell why we need to do so. For example ...   \n",
    "我们可以在代码块中嵌入代码块，让Python告诉我们为什么需要缩进。例如："
   ]
  },
  {
   "cell_type": "code",
   "execution_count": null,
   "metadata": {},
   "outputs": [],
   "source": [
    "# this code shows _two_ blocks: 这段代码有两个代码块\n",
    "#   - the statements on the first two lines 前两行的语句是一个代码块\n",
    "#   - the print() call is a block nested inside the if statement print()是嵌在 if 语句里的代码块\n",
    "# We can tell they are different blocks because of the indentation 我们可以根据缩进判断，前两行和 print()属于两个代码块\n",
    "x=1\n",
    "if x==2:\n",
    "    print(\"X is 2\")"
   ]
  },
  {
   "cell_type": "markdown",
   "metadata": {},
   "source": [
    "This leaves us with an answer for why Python cares about indentation. Each time the indentation level changes is the start of a new block. Further, since Python needs to know _why_ we need a new block in order to execute it properly, it throws an error whenever the indentation does not make sense.  \n",
    "\n",
    "这个例子解答了为什么Python在意缩进。缩进级别的改变标志着新代码块的开始。Python需要先知道我们为什么在这个位置需要新代码块，才能正确执行，所以缩进不合理的时候会报错。"
   ]
  },
  {
   "cell_type": "markdown",
   "metadata": {
    "id": "OGOYLdioPojA"
   },
   "source": [
    "----\n",
    "## **Boolean Expressions**\n",
    "## **布尔表达式**\n",
    "Conditional execution allows a block of code to run only when **given conditions** are true. We'll start with that last part, determining what is true or false.  \n",
    "\n",
    "A **boolean expression** always evaluates to either `True` or `False`. The values `True` and `False` comprise their own special data type called `bool`: \n",
    "\n",
    "条件执行规定一段代码块仅在给定条件为“真”时运行。我们先从什么是“真”、什么是“假”开始讲。\n",
    "布尔表达式的结果只有“真”（True）或“假”（False）。真值和假值组成的特殊逻辑数据类型称作“布尔”（bool）："
   ]
  },
  {
   "cell_type": "code",
   "execution_count": null,
   "metadata": {
    "colab": {
     "base_uri": "https://localhost:8080/"
    },
    "executionInfo": {
     "elapsed": 132,
     "status": "ok",
     "timestamp": 1626218876027,
     "user": {
      "displayName": "Christopher Huntley",
      "photoUrl": "",
      "userId": "11069151036176747256"
     },
     "user_tz": 240
    },
    "id": "id8SsN-IPojA",
    "outputId": "355bfa86-2d4d-4c75-8371-9b4d31b6db76"
   },
   "outputs": [
    {
     "data": {
      "text/plain": [
       "bool"
      ]
     },
     "execution_count": 4,
     "metadata": {
      "tags": []
     },
     "output_type": "execute_result"
    }
   ],
   "source": [
    "type(True) # 输入：判断 True 的数据类型"
   ]
  },
  {
   "cell_type": "markdown",
   "metadata": {
    "id": "V1Hg-dXoPojF"
   },
   "source": [
    "Notice that there are no quotes used. They are not string literals (\"True\" and \"False\") or numbers (1 and 0). They are just `True` and `False`.  \n",
    "注意，上图代码中没有用引号，因为真值和假值不是字符串（带引号的 ”True” 和 ”False” 是字符串）或数值（1 或 0）。我们这里讲的就是 True 和 False。\n",
    "\n",
    "\n",
    "\n",
    "Boolean expressions commonly come about through comparisons:  \n",
    "布尔表达式通常通过比较产生："
   ]
  },
  {
   "cell_type": "code",
   "execution_count": null,
   "metadata": {
    "colab": {
     "base_uri": "https://localhost:8080/"
    },
    "executionInfo": {
     "elapsed": 122,
     "status": "ok",
     "timestamp": 1626218878607,
     "user": {
      "displayName": "Christopher Huntley",
      "photoUrl": "",
      "userId": "11069151036176747256"
     },
     "user_tz": 240
    },
    "id": "tzh4Ik--PojF",
    "outputId": "980f1907-f34c-4ea9-a86a-e2103447c3b5"
   },
   "outputs": [
    {
     "data": {
      "text/plain": [
       "True"
      ]
     },
     "execution_count": 5,
     "metadata": {
      "tags": []
     },
     "output_type": "execute_result"
    }
   ],
   "source": [
    "2 > 1 # 输入：2 > 1"
   ]
  },
  {
   "cell_type": "code",
   "execution_count": null,
   "metadata": {
    "colab": {
     "base_uri": "https://localhost:8080/"
    },
    "executionInfo": {
     "elapsed": 114,
     "status": "ok",
     "timestamp": 1626218879617,
     "user": {
      "displayName": "Christopher Huntley",
      "photoUrl": "",
      "userId": "11069151036176747256"
     },
     "user_tz": 240
    },
    "id": "Fo0xQ_caPojI",
    "outputId": "c45d1858-ceef-49cf-c096-9895a09feb8c"
   },
   "outputs": [
    {
     "data": {
      "text/plain": [
       "False"
      ]
     },
     "execution_count": 6,
     "metadata": {
      "tags": []
     },
     "output_type": "execute_result"
    }
   ],
   "source": [
    "2 < 1"
   ]
  },
  {
   "cell_type": "code",
   "execution_count": null,
   "metadata": {
    "colab": {
     "base_uri": "https://localhost:8080/"
    },
    "executionInfo": {
     "elapsed": 111,
     "status": "ok",
     "timestamp": 1626218880704,
     "user": {
      "displayName": "Christopher Huntley",
      "photoUrl": "",
      "userId": "11069151036176747256"
     },
     "user_tz": 240
    },
    "id": "IDdFOKqkPojL",
    "outputId": "fde659d0-ecb6-4011-bd67-b6fb5e96f5e0"
   },
   "outputs": [
    {
     "data": {
      "text/plain": [
       "bool"
      ]
     },
     "execution_count": 7,
     "metadata": {
      "tags": []
     },
     "output_type": "execute_result"
    }
   ],
   "source": [
    "type(2>1)"
   ]
  },
  {
   "cell_type": "markdown",
   "metadata": {
    "id": "ob_MfCk2PojN"
   },
   "source": [
    "Python provides a full suite of **comparison operators**:  \n",
    "Python有一套完整的比较运算符："
   ]
  },
  {
   "cell_type": "code",
   "execution_count": null,
   "metadata": {
    "colab": {
     "base_uri": "https://localhost:8080/"
    },
    "executionInfo": {
     "elapsed": 106,
     "status": "ok",
     "timestamp": 1626218882878,
     "user": {
      "displayName": "Christopher Huntley",
      "photoUrl": "",
      "userId": "11069151036176747256"
     },
     "user_tz": 240
    },
    "id": "FmEKWi3bPojO",
    "outputId": "aebebfd2-422e-46f5-8376-8163e8899ec8"
   },
   "outputs": [
    {
     "name": "stdout",
     "output_type": "stream",
     "text": [
      "Is 1 equal to 2?\t\t\t False\n",
      "Is 1 not equal to 2?\t\t\t True\n",
      "Is 1 greater than  2?\t\t\t False\n",
      "Is 1 less than 2?\t\t\t True\n",
      "Is 1 greater than or equal to 2?\t False\n",
      "Is 1 less than or equal to 2?\t\t True\n",
      "Is 1 identical to 2?\t\t\t False\n",
      "Is 1 not identical to 2?\t\t True\n"
     ]
    }
   ],
   "source": [
    "print(\"Is 1 equal to 2?\\t\\t\\t\", 1 == 2) # == 等号\n",
    "print(\"Is 1 not equal to 2?\\t\\t\\t\",1 != 2) # != 不等号\n",
    "print(\"Is 1 greater than  2?\\t\\t\\t\",1 > 2) # > 大于号\n",
    "print(\"Is 1 less than 2?\\t\\t\\t\",1 < 2) # < 小于号\n",
    "print(\"Is 1 greater than or equal to 2?\\t\",1 >= 2) # >= 大于等于\n",
    "print(\"Is 1 less than or equal to 2?\\t\\t\",1 <= 2) # <= 小于等于\n",
    "print(\"Is 1 identical to 2?\\t\\t\\t\",1 is 2) # is 是\n",
    "print(\"Is 1 not identical to 2?\\t\\t\",1 is not 2) # is not 不是"
   ]
  },
  {
   "cell_type": "markdown",
   "metadata": {
    "id": "JW7l7lOyPojQ"
   },
   "source": [
    "It's a common newbie mistake to confuse `==` (on the first line) with `=`. The expression `1 == 2` tests equivalence of `1` and `2`, while the statement `1 = 2` tries (and fails) to make `1` equal `2`.   \n",
    "新手常犯的错误是将 == 与 = 混淆。1 == 2 检验的是数值 1 与 2  大小是否相等，而 1 = 2 是尝试把 2 赋值给 1 ，而且这个尝试会失败."
   ]
  },
  {
   "cell_type": "code",
   "execution_count": null,
   "metadata": {
    "colab": {
     "base_uri": "https://localhost:8080/",
     "height": 129
    },
    "executionInfo": {
     "elapsed": 108,
     "status": "error",
     "timestamp": 1626218885210,
     "user": {
      "displayName": "Christopher Huntley",
      "photoUrl": "",
      "userId": "11069151036176747256"
     },
     "user_tz": 240
    },
    "id": "P6diFswFPojR",
    "outputId": "7c1ad16e-5603-4ff9-bc02-139a1ec2b660"
   },
   "outputs": [
    {
     "ename": "SyntaxError",
     "evalue": "ignored",
     "output_type": "error",
     "traceback": [
      "\u001b[0;36m  File \u001b[0;32m\"<ipython-input-9-c0ab9e3898ea>\"\u001b[0;36m, line \u001b[0;32m1\u001b[0m\n\u001b[0;31m    1 = 2\u001b[0m\n\u001b[0m         ^\u001b[0m\n\u001b[0;31mSyntaxError\u001b[0m\u001b[0;31m:\u001b[0m can't assign to literal\n"
     ]
    }
   ],
   "source": [
    "1 = 2"
   ]
  },
  {
   "cell_type": "markdown",
   "metadata": {
    "id": "14GRG9hlPojU"
   },
   "source": [
    "The next few operators are pretty much what you'd expect until we get to `is` and `is not`. The `is` operator is asking if the entity on the left is exactly the **same entity** as the one on the right. For numbers and strings this is the same as `==`. For lists, dictionaries, and a few other data types we'll learn about later in this course, this won't _always_ be true. (Side note: you may be wondering about the `\\t` codes mixed in with the print statements. Those are tab characters. We'll come back to them again in Lesson 6.)  \n",
    "\n",
    "大多数比较运算符都是大家熟悉的，除了 is 和 is not 。 is 是判断运算符的左边和右边是否完全相同。如果是数值或字符串，is 和 == 的功能相同。对于列表、字典，以及其他之后会学到的数据类型，is 和 == 并不一定完全相同。（另外：你可能会好奇前面图中打印语句里的 \\t 是什么。那是制表符，我们会在第6课中详细介绍。）\n",
    "\n",
    "**Comparisons are not the only kind of boolean expression,** of course. Just about any expression can evaluate to `True` or `False`. We can test that out using the `bool` conversion function.   \n",
    "当然，布尔表达式也不是只能做比较。几乎任何表达式都可以求值为 True 或 False。我们可以使用  bool 转换函数来测试。\n",
    "\n",
    "**In practice only [a few specific things](https://docs.python.org/3.3/library/stdtypes.html?highlight=frozenset#truth-value-testing) evaluate to `False`:**  \n",
    "实操中，只有少数几类值被视为 False （参见上文链接）：\n"
   ]
  },
  {
   "cell_type": "code",
   "execution_count": null,
   "metadata": {
    "colab": {
     "base_uri": "https://localhost:8080/"
    },
    "executionInfo": {
     "elapsed": 98,
     "status": "ok",
     "timestamp": 1626218887880,
     "user": {
      "displayName": "Christopher Huntley",
      "photoUrl": "",
      "userId": "11069151036176747256"
     },
     "user_tz": 240
    },
    "id": "tC03CEb5PojU",
    "outputId": "b4ef49c0-996a-402f-f1f8-204ee40ae82b"
   },
   "outputs": [
    {
     "data": {
      "text/plain": [
       "False"
      ]
     },
     "execution_count": 10,
     "metadata": {
      "tags": []
     },
     "output_type": "execute_result"
    }
   ],
   "source": [
    "bool(False) # duh 不用解释了吧"
   ]
  },
  {
   "cell_type": "code",
   "execution_count": null,
   "metadata": {
    "colab": {
     "base_uri": "https://localhost:8080/"
    },
    "executionInfo": {
     "elapsed": 102,
     "status": "ok",
     "timestamp": 1626218890662,
     "user": {
      "displayName": "Christopher Huntley",
      "photoUrl": "",
      "userId": "11069151036176747256"
     },
     "user_tz": 240
    },
    "id": "2IDcsOmTPojX",
    "outputId": "8e0839f3-914d-4390-db8f-5dad4a9aca69"
   },
   "outputs": [
    {
     "data": {
      "text/plain": [
       "False"
      ]
     },
     "execution_count": 11,
     "metadata": {
      "tags": []
     },
     "output_type": "execute_result"
    }
   ],
   "source": [
    "bool(None) # None or nothing 括号内输入 None 或 Nothing，表示“无”"
   ]
  },
  {
   "cell_type": "code",
   "execution_count": null,
   "metadata": {
    "colab": {
     "base_uri": "https://localhost:8080/"
    },
    "executionInfo": {
     "elapsed": 148,
     "status": "ok",
     "timestamp": 1626218891842,
     "user": {
      "displayName": "Christopher Huntley",
      "photoUrl": "",
      "userId": "11069151036176747256"
     },
     "user_tz": 240
    },
    "id": "vZ8i0jwVPojZ",
    "outputId": "53be748b-ec17-4689-99c7-3f4feca3cc61"
   },
   "outputs": [
    {
     "data": {
      "text/plain": [
       "False"
      ]
     },
     "execution_count": 12,
     "metadata": {
      "tags": []
     },
     "output_type": "execute_result"
    }
   ],
   "source": [
    "bool(0) # the number 0 or 0.0 or equivalent 数字 0、0.0，或 0.000..."
   ]
  },
  {
   "cell_type": "code",
   "execution_count": null,
   "metadata": {
    "colab": {
     "base_uri": "https://localhost:8080/"
    },
    "executionInfo": {
     "elapsed": 95,
     "status": "ok",
     "timestamp": 1626218893625,
     "user": {
      "displayName": "Christopher Huntley",
      "photoUrl": "",
      "userId": "11069151036176747256"
     },
     "user_tz": 240
    },
    "id": "PBkRrsdLPoje",
    "outputId": "278ff96f-371b-4e02-e15e-792bbfb666ba"
   },
   "outputs": [
    {
     "data": {
      "text/plain": [
       "False"
      ]
     },
     "execution_count": 13,
     "metadata": {
      "tags": []
     },
     "output_type": "execute_result"
    }
   ],
   "source": [
    "bool([]) # empty lists, dictionaries, or tuples 空列表、空字典或空元组"
   ]
  },
  {
   "cell_type": "code",
   "execution_count": null,
   "metadata": {
    "colab": {
     "base_uri": "https://localhost:8080/"
    },
    "executionInfo": {
     "elapsed": 126,
     "status": "ok",
     "timestamp": 1626218895022,
     "user": {
      "displayName": "Christopher Huntley",
      "photoUrl": "",
      "userId": "11069151036176747256"
     },
     "user_tz": 240
    },
    "id": "8WFxZlLyPojg",
    "outputId": "a418ce45-43a4-4260-c1d6-f9d6e992372a"
   },
   "outputs": [
    {
     "data": {
      "text/plain": [
       "False"
      ]
     },
     "execution_count": 14,
     "metadata": {
      "tags": []
     },
     "output_type": "execute_result"
    }
   ],
   "source": [
    "bool(\"\") # empty strings like \"\" and '' and '''''' 空字符串 "
   ]
  },
  {
   "cell_type": "markdown",
   "metadata": {
    "id": "lqYxU8r_Poji"
   },
   "source": [
    "**Anything else evaluates to `True`:**\n",
    "**其余结果均为 True：**"
   ]
  },
  {
   "cell_type": "code",
   "execution_count": null,
   "metadata": {
    "colab": {
     "base_uri": "https://localhost:8080/"
    },
    "executionInfo": {
     "elapsed": 108,
     "status": "ok",
     "timestamp": 1626218897695,
     "user": {
      "displayName": "Christopher Huntley",
      "photoUrl": "",
      "userId": "11069151036176747256"
     },
     "user_tz": 240
    },
    "id": "ou7emXufPojj",
    "outputId": "8360ed38-0059-4b8e-cef6-e50093393efe"
   },
   "outputs": [
    {
     "data": {
      "text/plain": [
       "True"
      ]
     },
     "execution_count": 15,
     "metadata": {
      "tags": []
     },
     "output_type": "execute_result"
    }
   ],
   "source": [
    "bool(10) # any number that isn't 0 任意不等于 0 的数字"
   ]
  },
  {
   "cell_type": "code",
   "execution_count": null,
   "metadata": {
    "colab": {
     "base_uri": "https://localhost:8080/"
    },
    "executionInfo": {
     "elapsed": 109,
     "status": "ok",
     "timestamp": 1626218898456,
     "user": {
      "displayName": "Christopher Huntley",
      "photoUrl": "",
      "userId": "11069151036176747256"
     },
     "user_tz": 240
    },
    "id": "eHy9H4pgPojl",
    "outputId": "bdcc8254-56f7-41db-dc01-8806d3a1eb61"
   },
   "outputs": [
    {
     "data": {
      "text/plain": [
       "True"
      ]
     },
     "execution_count": 16,
     "metadata": {
      "tags": []
     },
     "output_type": "execute_result"
    }
   ],
   "source": [
    "bool([\"a\",\"b\",\"c\"]) # a non-empty list, dictionary, or tuple 非空列表/字典/元组"
   ]
  },
  {
   "cell_type": "code",
   "execution_count": null,
   "metadata": {
    "colab": {
     "base_uri": "https://localhost:8080/"
    },
    "executionInfo": {
     "elapsed": 102,
     "status": "ok",
     "timestamp": 1626218899241,
     "user": {
      "displayName": "Christopher Huntley",
      "photoUrl": "",
      "userId": "11069151036176747256"
     },
     "user_tz": 240
    },
    "id": "txJiWOymPojo",
    "outputId": "56f625dd-7cc2-4c3a-94e4-f8924bae4033"
   },
   "outputs": [
    {
     "data": {
      "text/plain": [
       "True"
      ]
     },
     "execution_count": 17,
     "metadata": {
      "tags": []
     },
     "output_type": "execute_result"
    }
   ],
   "source": [
    "bool(\"False\") # a non-empty string 非空字符串"
   ]
  },
  {
   "cell_type": "markdown",
   "metadata": {
    "id": "BjAQb1FnPojq"
   },
   "source": [
    "#### **Boolean Assignment**\n",
    "#### **将布尔值赋给变量**\n",
    "Since `True` and `False` are just values, we can use them in assignment statements like any other expression:  \n",
    "True 和 False 只是值而已，我们可以像其他表达式一样，在赋值语句中使用它们."
   ]
  },
  {
   "cell_type": "code",
   "execution_count": null,
   "metadata": {
    "colab": {
     "base_uri": "https://localhost:8080/"
    },
    "executionInfo": {
     "elapsed": 151,
     "status": "ok",
     "timestamp": 1626218901637,
     "user": {
      "displayName": "Christopher Huntley",
      "photoUrl": "",
      "userId": "11069151036176747256"
     },
     "user_tz": 240
    },
    "id": "jPAAaifDPojr",
    "outputId": "35672357-76ff-45dd-c8c1-f54013b8a38c"
   },
   "outputs": [
    {
     "name": "stdout",
     "output_type": "stream",
     "text": [
      "True\n",
      "False\n"
     ]
    }
   ],
   "source": [
    "x = (3 < 5)\n",
    "print(x)\n",
    "\n",
    "x = (3 < 1)\n",
    "print(x)"
   ]
  },
  {
   "cell_type": "markdown",
   "metadata": {
    "id": "S5upLVosPojt"
   },
   "source": [
    "### **Logical Operators: Conjunction, Disjunction, and Negation**\n",
    "### **逻辑运算符：与、或、非**\n",
    "There are three logical operators: conjunction (`and`), disjunction (`or`), and negation (`not`). We use them to build more complex boolean expressions from simpler ones.  \n",
    "逻辑运算符有三个：与（and）、或（or），以及非（not）。我们可以用它们构建更复杂的布尔表达式。"
   ]
  },
  {
   "cell_type": "code",
   "execution_count": null,
   "metadata": {
    "colab": {
     "base_uri": "https://localhost:8080/"
    },
    "executionInfo": {
     "elapsed": 127,
     "status": "ok",
     "timestamp": 1626218905358,
     "user": {
      "displayName": "Christopher Huntley",
      "photoUrl": "",
      "userId": "11069151036176747256"
     },
     "user_tz": 240
    },
    "id": "XJTrWwZWPoju",
    "outputId": "25626053-a91e-427c-a1a4-030265b88112"
   },
   "outputs": [
    {
     "data": {
      "text/plain": [
       "True"
      ]
     },
     "execution_count": 19,
     "metadata": {
      "tags": []
     },
     "output_type": "execute_result"
    }
   ],
   "source": [
    "True or False # “真”或“假”，结果为“真”（一项为“真”即为“真”）"
   ]
  },
  {
   "cell_type": "code",
   "execution_count": null,
   "metadata": {
    "colab": {
     "base_uri": "https://localhost:8080/"
    },
    "executionInfo": {
     "elapsed": 125,
     "status": "ok",
     "timestamp": 1626218906400,
     "user": {
      "displayName": "Christopher Huntley",
      "photoUrl": "",
      "userId": "11069151036176747256"
     },
     "user_tz": 240
    },
    "id": "7VHsBi38Pojx",
    "outputId": "e6e074c4-b8ed-4b63-9279-3e7de8d8ac38"
   },
   "outputs": [
    {
     "data": {
      "text/plain": [
       "False"
      ]
     },
     "execution_count": 20,
     "metadata": {
      "tags": []
     },
     "output_type": "execute_result"
    }
   ],
   "source": [
    "True and False # “真”与“假”，结果为“假”（同时为“真”才为“真”）"
   ]
  },
  {
   "cell_type": "code",
   "execution_count": null,
   "metadata": {
    "colab": {
     "base_uri": "https://localhost:8080/"
    },
    "executionInfo": {
     "elapsed": 100,
     "status": "ok",
     "timestamp": 1626218907215,
     "user": {
      "displayName": "Christopher Huntley",
      "photoUrl": "",
      "userId": "11069151036176747256"
     },
     "user_tz": 240
    },
    "id": "S06jyECBPojz",
    "outputId": "3bba2a4a-6ebf-4753-86bf-dfe076a9ae48"
   },
   "outputs": [
    {
     "data": {
      "text/plain": [
       "False"
      ]
     },
     "execution_count": 21,
     "metadata": {
      "tags": []
     },
     "output_type": "execute_result"
    }
   ],
   "source": [
    "not True # 非“真”，结果为“假”"
   ]
  },
  {
   "cell_type": "markdown",
   "metadata": {
    "id": "dOS1hLbRPoj1"
   },
   "source": [
    "We can visualize the possibilities with a _truth table_ like the one below, that evaluates boolean expressions involving variables `x` and `y`. The first row of the table shows the values of the expressions `(x and y)`, `(x or y)` and `not x` when `x == True` and `y == True`. The second row show the values when `x == True` and `y == False`. The third and fourth rows handle the other possibilities.  \n",
    "\n",
    "我们可以用以下的真值表直观地列出设计变量 x 和 y 之间所有逻辑运算的布尔值。除去表头后的第一行是 x == True 和 y == True 时表达式(x and y)、(x or y) 和 not x 的布尔值；第二行为 x == True 和 y == False 时的布尔值；第三行和第四行列出了其余两种情况。\n",
    "\n",
    "\n",
    "| x     | y     | (x and y) | (x or y) | not x | \n",
    "| :----:|:-----:|:-------:| :----: | :---: |\n",
    "| True  | True  | True    | True   | False |\n",
    "| True  | False | False   | True   | False |\n",
    "| False | True  | False   | True   | True  |\n",
    "| False | False | False   | False  | True  |\n",
    "\n",
    "Truth tables allow us to look up the values of the expressions for whatever `x` and `y` we like. For example ..\n",
    "不论 x 和 y 被赋予什么值，我们都可以根据真值表判断布尔值。例如：. "
   ]
  },
  {
   "cell_type": "code",
   "execution_count": null,
   "metadata": {
    "colab": {
     "base_uri": "https://localhost:8080/"
    },
    "executionInfo": {
     "elapsed": 129,
     "status": "ok",
     "timestamp": 1626219299274,
     "user": {
      "displayName": "Christopher Huntley",
      "photoUrl": "",
      "userId": "11069151036176747256"
     },
     "user_tz": 240
    },
    "id": "IlcXHAqBNJiV",
    "outputId": "f01897e7-8018-442e-b3b5-342407f2fca1"
   },
   "outputs": [
    {
     "name": "stdout",
     "output_type": "stream",
     "text": [
      "(x and y) is  False\n",
      "(x or y) is True\n",
      "(not x) is  False\n"
     ]
    }
   ],
   "source": [
    "x = True\n",
    "y = False\n",
    "\n",
    "print(\"(x and y) is \", x and y)\n",
    "print(\"(x or y) is\", x or y)\n",
    "print(\"(not x) is \", not x)"
   ]
  },
  {
   "cell_type": "markdown",
   "metadata": {
    "id": "76fADN1uNE9-"
   },
   "source": [
    "which is just as the truth table predicted we'd get.  \n",
    "代码的结果与真值表一致。\n",
    "\n",
    "We can, of course, combine the `and`, `or`, and `not` operators to represent more complex logic. Here are some more possibilities:  \n",
    "当然，我们可以符合 and、or 和 not 三个运算符来表达更复杂的逻辑关系。以下例子供参考：\n",
    "\n",
    "| x     | y     |  (not x and y) | (not x and not y) | (not x or y) |  (not x or not y) | not (not x or not y)|\n",
    "|:-----:|:-----:| :---------:  | :------------:  | :-------:  |  :-----------:  | :-----------------: |\n",
    "| True  | True  |  False       |  False          | True       |  False          | True                |\n",
    "| True  | False |  False       |  False          | False      |  True           | False               |\n",
    "| False | True  |  True        |  False          | True       |  True           | False               |\n",
    "| False | False |  False       |  True           | False      |  True           | False               |\n",
    "\n",
    "**Heads Up:** Please study these truth tables carefully before moving on. Make 100% sure you know why each expression above is true or false.   \n",
    "\n",
    "**注意**：在继续学习之前一定要仔细研习真值表，确保完全能够判断任何一条运算式是 True 还是 False。\n",
    "\n",
    "> **A Curious Aside** 补充知识  \n",
    ">Some of you may have noticed that **(x and y)** from the first table is always equal to **not (not x or not y)** in the second table. It turns out that **we don't actually need the `or` operator.** We can model any boolean logic we like with just `not` and `and`. In fact, we can go a step further and combine `not` and `and` into a single universal operator that electrical engineers call [NAND](https://www.electronics-tutorials.ws/logic/logic_5.html). Without the NAND operator it would be _a lot_ harder to create the tiny microchips that you find in basically everything today.\n",
    "> \n",
    "> 有些人可能注意到，不论 x 和 y 的值是多少，第一张真值表中的 (x and y) 始终与第二张表中的 (not x or not y) 相等。所以，其实我们不需要or 这个运算符，仅仅用 not 和 and 就能实现所有的布尔运算。实际上，我们可以进一步把 not 和 and 结合成一个单一通用运算符，电气工程师称之为 NAND 运算符（参见https://www.electronics-tutorials.ws/logic/logic_5.html）。如果没有NAND运算符，要创造如今无处不在的微芯，将会困难得多。  \n",
    "\n",
    "#### **Short-Circuiting** \n",
    "#### **简化**\n",
    "No matter how long or complex a boolean expression is, Python will always do its best to evaluate it as efficiently as it can. That means using a couple of useful **short-circuiting** rules:  \n",
    "- If **_x_** is true then **(_x_ or _y_)** is true regardless of **_y_**\n",
    "- If **_x_** is false then **(_x_ and _y_)** is false regardless of **_y_**\n",
    "\n",
    "不论布尔表达式多长、多复杂，Python 都会用最高效的方式得出结果。所以，会有以下简化的判断：\n",
    "- 如果 x 为 True，那么不论 y 是什么， (x or y) 都为 True\n",
    "- 如果 x 为 False，那么不论 y 是什么，(x and y) 都为 False\n",
    "\n",
    "In either case Python does not bother to evaluate **_y_**, which can save a lot of time if **_y_** is a complex expression that takes a long time to evaluate. We'll come back to this idea when discussing using **guards** to prevent logic and runtime errors.  \n",
    "在上述两种情况下，Python都不会查看 y 是什么。如果 y 很复杂、需要花大量时间判断，那么跳过 y 就能节约大量时间。我们在讲用守卫进程防止逻辑或运行时错误的时候会仔细探讨这个话题。\n",
    "\n",
    "#### **Truthiness** \n",
    "#### **真值性**\n",
    "As we have seen, we can use the `bool()` function to test whether a given value evaluates to `True` or `False`. We say that an expression is 'truthy' if it evaluates to `True`.  \n",
    "我们可以用 bool() 函数测试给定的表达式或值是 True 还是 False。如果布尔值是 True，我们就说这个表达式或值有“真值性”（truthy）.\n"
   ]
  },
  {
   "cell_type": "markdown",
   "metadata": {
    "id": "XzEZg5EiPoj1"
   },
   "source": [
    "#### **`bool` is Usually Optional bool**\n",
    "#### **这几个字母可写可不写**\n",
    "In any statement where Python expects to see a boolean expression, it will call `bool` for you if needed. So, strictly speaking, `and` and `or` and `not` don't actually need boolean operands. It makes for some getting used to but the following are all 100% legal Python: \n",
    "在任何需要布尔表达式的语句中，Python都会直接调用内置 bool 。因此，严格来说，在使用 and、or 和 not 的时，不需要布尔操作数（即不需要写出 bool()）。你可能需要花点时间习惯，但不管怎么说，下面的写法在Python中都是百分百符合语法的："
   ]
  },
  {
   "cell_type": "code",
   "execution_count": null,
   "metadata": {
    "colab": {
     "base_uri": "https://localhost:8080/"
    },
    "executionInfo": {
     "elapsed": 137,
     "status": "ok",
     "timestamp": 1626219416177,
     "user": {
      "displayName": "Christopher Huntley",
      "photoUrl": "",
      "userId": "11069151036176747256"
     },
     "user_tz": 240
    },
    "id": "FyflVbl2Poj2",
    "outputId": "33702f36-739b-4e79-c2d4-10f1fc02d692"
   },
   "outputs": [
    {
     "data": {
      "text/plain": [
       "True"
      ]
     },
     "execution_count": 25,
     "metadata": {
      "tags": []
     },
     "output_type": "execute_result"
    }
   ],
   "source": [
    "15 and True"
   ]
  },
  {
   "cell_type": "code",
   "execution_count": null,
   "metadata": {
    "colab": {
     "base_uri": "https://localhost:8080/"
    },
    "executionInfo": {
     "elapsed": 130,
     "status": "ok",
     "timestamp": 1626219417686,
     "user": {
      "displayName": "Christopher Huntley",
      "photoUrl": "",
      "userId": "11069151036176747256"
     },
     "user_tz": 240
    },
    "id": "aKRZKrdUPoj4",
    "outputId": "9e7dfd99-5085-45ad-96a9-621536b942f8"
   },
   "outputs": [
    {
     "data": {
      "text/plain": [
       "0"
      ]
     },
     "execution_count": 26,
     "metadata": {
      "tags": []
     },
     "output_type": "execute_result"
    }
   ],
   "source": [
    "15 and 0"
   ]
  },
  {
   "cell_type": "code",
   "execution_count": null,
   "metadata": {
    "colab": {
     "base_uri": "https://localhost:8080/"
    },
    "executionInfo": {
     "elapsed": 131,
     "status": "ok",
     "timestamp": 1626219419686,
     "user": {
      "displayName": "Christopher Huntley",
      "photoUrl": "",
      "userId": "11069151036176747256"
     },
     "user_tz": 240
    },
    "id": "pv2lWy9APoj6",
    "outputId": "95497e09-ca7d-4384-c858-9235ea7a9169"
   },
   "outputs": [
    {
     "data": {
      "text/plain": [
       "15"
      ]
     },
     "execution_count": 27,
     "metadata": {
      "tags": []
     },
     "output_type": "execute_result"
    }
   ],
   "source": [
    "15 or 0"
   ]
  },
  {
   "cell_type": "code",
   "execution_count": null,
   "metadata": {
    "colab": {
     "base_uri": "https://localhost:8080/"
    },
    "executionInfo": {
     "elapsed": 130,
     "status": "ok",
     "timestamp": 1626219421471,
     "user": {
      "displayName": "Christopher Huntley",
      "photoUrl": "",
      "userId": "11069151036176747256"
     },
     "user_tz": 240
    },
    "id": "0cZky5SgPoj8",
    "outputId": "59c24d44-70c0-4695-f26b-ae2e5e38bcf3"
   },
   "outputs": [
    {
     "data": {
      "text/plain": [
       "False"
      ]
     },
     "execution_count": 28,
     "metadata": {
      "tags": []
     },
     "output_type": "execute_result"
    }
   ],
   "source": [
    "(True and 15) == (15 and True)"
   ]
  },
  {
   "cell_type": "code",
   "execution_count": null,
   "metadata": {
    "colab": {
     "base_uri": "https://localhost:8080/"
    },
    "executionInfo": {
     "elapsed": 128,
     "status": "ok",
     "timestamp": 1626219423421,
     "user": {
      "displayName": "Christopher Huntley",
      "photoUrl": "",
      "userId": "11069151036176747256"
     },
     "user_tz": 240
    },
    "id": "VsDi3944Poj-",
    "outputId": "f09d5df4-c628-4a02-da37-095bdf9163d4"
   },
   "outputs": [
    {
     "data": {
      "text/plain": [
       "False"
      ]
     },
     "execution_count": 29,
     "metadata": {
      "tags": []
     },
     "output_type": "execute_result"
    }
   ],
   "source": [
    "(True or 15) == (15 or True)"
   ]
  },
  {
   "cell_type": "code",
   "execution_count": null,
   "metadata": {
    "colab": {
     "base_uri": "https://localhost:8080/"
    },
    "executionInfo": {
     "elapsed": 111,
     "status": "ok",
     "timestamp": 1626219425368,
     "user": {
      "displayName": "Christopher Huntley",
      "photoUrl": "",
      "userId": "11069151036176747256"
     },
     "user_tz": 240
    },
    "id": "1Cg9FdMwPokB",
    "outputId": "78f3edf2-3f71-4401-f374-a2d7377947ea"
   },
   "outputs": [
    {
     "data": {
      "text/plain": [
       "False"
      ]
     },
     "execution_count": 30,
     "metadata": {
      "tags": []
     },
     "output_type": "execute_result"
    }
   ],
   "source": [
    "not 15"
   ]
  },
  {
   "cell_type": "code",
   "execution_count": null,
   "metadata": {
    "colab": {
     "base_uri": "https://localhost:8080/"
    },
    "executionInfo": {
     "elapsed": 127,
     "status": "ok",
     "timestamp": 1626219426831,
     "user": {
      "displayName": "Christopher Huntley",
      "photoUrl": "",
      "userId": "11069151036176747256"
     },
     "user_tz": 240
    },
    "id": "DvNIhwpKPokD",
    "outputId": "1ed18881-d6e3-4c0c-9203-5dc298c588d2"
   },
   "outputs": [
    {
     "data": {
      "text/plain": [
       "True"
      ]
     },
     "execution_count": 31,
     "metadata": {
      "tags": []
     },
     "output_type": "execute_result"
    }
   ],
   "source": [
    "not 0"
   ]
  },
  {
   "cell_type": "code",
   "execution_count": null,
   "metadata": {
    "colab": {
     "base_uri": "https://localhost:8080/"
    },
    "executionInfo": {
     "elapsed": 3,
     "status": "ok",
     "timestamp": 1626219427910,
     "user": {
      "displayName": "Christopher Huntley",
      "photoUrl": "",
      "userId": "11069151036176747256"
     },
     "user_tz": 240
    },
    "id": "TA2iBvbJPokF",
    "outputId": "8a5613e5-6291-478e-b9fc-4d31e9231af7"
   },
   "outputs": [
    {
     "data": {
      "text/plain": [
       "True"
      ]
     },
     "execution_count": 32,
     "metadata": {
      "tags": []
     },
     "output_type": "execute_result"
    }
   ],
   "source": [
    "'False' and True or False"
   ]
  },
  {
   "cell_type": "markdown",
   "metadata": {
    "id": "fVG-Mp9OPokG"
   },
   "source": [
    "You might want to puzzle through these on your own. Together they tell us a lot about how `and`, `or`, and `not` are really implemented by Python.  \n",
    "你可能需要自己琢磨以下例子，他们详细展示了 and、or 和 not是如何在Python中实现的。"
   ]
  },
  {
   "cell_type": "markdown",
   "metadata": {
    "id": "jT6BjCOBPokH"
   },
   "source": [
    "### **Pulse Check ...**\n",
    "### **脉冲检查**\n",
    "For each of the expressions below, predict whether it is equivalent to `True` or `False`. Then click the ... under each prediction and run the code  to see if you got it right.  \n",
    "先自己尝试判断下列表达式返回结果是 True 还是 False，再试着运行代码，检验自己的判断是否正确。"
   ]
  },
  {
   "cell_type": "markdown",
   "metadata": {
    "id": "hzHo3ecdPokH"
   },
   "source": [
    "**(2 < 3) and (3 < 6)**"
   ]
  },
  {
   "cell_type": "markdown",
   "metadata": {
    "id": "E9E9d-VHPokH"
   },
   "source": [
    "YOUR PREDICTION 你的判断"
   ]
  },
  {
   "cell_type": "code",
   "execution_count": null,
   "metadata": {
    "id": "Gm4iylsYPokI",
    "jupyter": {
     "source_hidden": true
    },
    "tags": []
   },
   "outputs": [],
   "source": [
    "\n",
    "(2 < 3) and (3 < 6)"
   ]
  },
  {
   "cell_type": "markdown",
   "metadata": {
    "id": "6LbSINwhPokK"
   },
   "source": [
    "**(2 < 3) == (3 < 6)**"
   ]
  },
  {
   "cell_type": "markdown",
   "metadata": {
    "id": "jnN4zpq6PokK"
   },
   "source": [
    "YOUR PREDICTION 你的判断"
   ]
  },
  {
   "cell_type": "code",
   "execution_count": null,
   "metadata": {
    "jupyter": {
     "source_hidden": true
    },
    "tags": []
   },
   "outputs": [],
   "source": [
    "\n",
    "(2 < 3) == (3 < 6)"
   ]
  },
  {
   "cell_type": "markdown",
   "metadata": {
    "id": "qBk0WzxqPokL"
   },
   "source": [
    "**(2 < 3) and not (3 < 6)**"
   ]
  },
  {
   "cell_type": "markdown",
   "metadata": {
    "id": "qr9voymTPokL"
   },
   "source": [
    "YOUR PREDICTION 你的判断"
   ]
  },
  {
   "cell_type": "code",
   "execution_count": null,
   "metadata": {
    "jupyter": {
     "source_hidden": true
    },
    "tags": []
   },
   "outputs": [],
   "source": [
    "\n",
    "(2 < 3) and not (3 < 6)"
   ]
  },
  {
   "cell_type": "markdown",
   "metadata": {
    "id": "vgpo0RO0PokL"
   },
   "source": [
    "**not((2 < 3) and not (3 < 6))**"
   ]
  },
  {
   "cell_type": "markdown",
   "metadata": {
    "id": "pdYVtDDHPokM"
   },
   "source": [
    "YOUR PREDICTION 你的判断"
   ]
  },
  {
   "cell_type": "code",
   "execution_count": null,
   "metadata": {
    "jupyter": {
     "source_hidden": true
    },
    "tags": []
   },
   "outputs": [],
   "source": [
    "\n",
    "not((2 < 3) and not (3 < 6))"
   ]
  },
  {
   "cell_type": "markdown",
   "metadata": {
    "id": "DI4OFQEBPokM"
   },
   "source": [
    "**bool(\"0\")**"
   ]
  },
  {
   "cell_type": "markdown",
   "metadata": {
    "id": "0DSrn6c-PokM"
   },
   "source": [
    "YOUR PREDICTION 你的判断"
   ]
  },
  {
   "cell_type": "code",
   "execution_count": null,
   "metadata": {
    "jupyter": {
     "source_hidden": true
    },
    "tags": []
   },
   "outputs": [],
   "source": [
    "\n",
    "bool(\"0\")"
   ]
  },
  {
   "cell_type": "markdown",
   "metadata": {
    "id": "N977lHtePokM"
   },
   "source": [
    "**bool(0) < bool(-1)**"
   ]
  },
  {
   "cell_type": "markdown",
   "metadata": {
    "id": "xGFmHCOaPokN"
   },
   "source": [
    "YOUR PREDICTION 你的判断"
   ]
  },
  {
   "cell_type": "code",
   "execution_count": null,
   "metadata": {
    "jupyter": {
     "source_hidden": true
    },
    "tags": []
   },
   "outputs": [],
   "source": [
    "\n",
    "bool(0) < bool(-1)"
   ]
  },
  {
   "cell_type": "markdown",
   "metadata": {},
   "source": [
    "----\n",
    "## **Conditionals: The Many Forms of `if` Statements**\n",
    "## **条件语句：if 语句的多种形式**\n",
    "\n",
    "In principle the `if` statement is very compact. Here is **everything** the [Python docs](https://docs.python.org/3/reference/compound_stmts.html#the-if-statement) tell us about it.  \n",
    "if 语句通常比较紧凑。以下就是 if 语句的全部相关表达：https://docs.python.org/zh-cn/3/reference/compound_stmts.html#the-if-statement。\n",
    "\n",
    ">![If Statement Grammar](https://github.com/christopherhuntley/BUAN5405-lessons/raw/master/img/L3_1_if_Statement.png)\n",
    "\n",
    "What more could we possibly want to know, right? Hmmm. Let's unpack it to look at the various forms it might take.  \n",
    "还想深入了解？让我们拆解这个语句，看看它的所有变化形式。\n",
    "\n",
    "### **The `if` Form** \n",
    "### **if 形式**\n",
    "In theory all we need is some way to check a boolean expression before running some code (indented into a _block_ just after the colon `:`). If the boolean expression evaluates to `True` then run the code. Otherwise, just continue on to whatever is the next line after the block of code.  \n",
    "\n",
    "理论上，我们只需在运行特定代码块之前检验布尔表达式（这个代码块从 : 的下一行开始，需要整体缩进）。如果布尔值为 True，则运行代码块，否则就跳过代码块，运行之后的代码。\n"
   ]
  },
  {
   "cell_type": "markdown",
   "metadata": {},
   "source": [
    "`if` statements always follow the same pattern:\n",
    "```python\n",
    "if boolean_expression:\n",
    "    block\n",
    "```\n",
    "where \n",
    "- `boolean_expression` is a boolean expression\n",
    "- `block` is sequence of one or more statements (which Python calls a \"suite\")\n",
    "- the `if`, colon `:`, and indentation (leading tabs/spaces) are required for Python to recognize this as an `if` statement"
   ]
  },
  {
   "cell_type": "markdown",
   "metadata": {},
   "source": [
    "if 语句的写法通常如下下：\n",
    "```python\n",
    "if boolean_expression:\n",
    "    block\n",
    "```\n",
    "在这个表达式中 \n",
    "- 是任意布尔表达式on\n",
    "- block 指一个或多个语句（在Python中，多行语句组成的代码块也叫作“suite”）\n",
    "- if 、冒号 : 以及缩进（前导制表符/空格）是Python识别 if 语句的必要元素。"
   ]
  },
  {
   "cell_type": "markdown",
   "metadata": {},
   "source": [
    "For example, this conditional statement prints out the value of `1/x` but only if x is not zero:  \n",
    "例如，以下条件语句即为：在 x 不等于 0 时，输出  1/x 的值。\n",
    "\n",
    "```python\n",
    "if x != 0:\n",
    "   print(1/x)\n",
    "```"
   ]
  },
  {
   "cell_type": "markdown",
   "metadata": {},
   "source": [
    "> **Heads up:** Jupyter is pretty smart about indentation. It will automatically increase the indent for the line immediately after the `if ... :`. It will continue to indent the same way on each subsequent line until you use a backspace (or delete) to move the cursor to the left. \n",
    ">\n",
    "> So what happens if we use the backspace to overide Jupyter's autoindent? We get an error. The following triggers (you guessed it) an indentation error:\n",
    "> ```python\n",
    "> if x!= 0:\n",
    "> print(1/x)\n",
    "> ```"
   ]
  },
  {
   "cell_type": "markdown",
   "metadata": {},
   "source": [
    "> 注意：Jupyter 对缩进处理得相当智能。它会在输入 if ... : : 后自动缩进该行，并让后续几行保持相同的缩进值。直到你使用退格键 backspace（或删除键 delete），将光标移至最左端。\n",
    ">\n",
    "> 那么，如果我们用退格键覆盖 Jupyter 的自动缩进，会发生什么呢？会像下面的代码一样，触发缩进报错：\n",
    "> ```python\n",
    "> if x!= 0:\n",
    "> print(1/x)\n",
    "> ```\n"
   ]
  },
  {
   "cell_type": "markdown",
   "metadata": {},
   "source": [
    "### **The `if` ... `else` Form**\n",
    "### **形式rm**\n",
    "Sometimes we want to specify an alternate \"catch all\" logic block for when the `boolean_expression` is false:\n",
    "\n",
    "我们想指定一个“捕获所有情况”的逻辑块，在布尔表达式  boolean_expression 为 False 时也能运行特定代码块：\n",
    "\n",
    "```python\n",
    "if boolean_expression:\n",
    "    success_block\n",
    "else:\n",
    "    failure_block\n",
    "```"
   ]
  },
  {
   "cell_type": "markdown",
   "metadata": {},
   "source": [
    "Note that indentation and a colon are again being used to separate one clause of our statement from the next. All statements inside the `success_block` and `failure_block` have to be indented to the same degree so that they line up exactly. If any of these statements themselves require indentation then they add indentation to whatever was needed to define the block. We'll see how that works when we get to **nested conditionals.**  \n",
    "注意，这里仍需使用缩进和冒号分隔语句的一个字句和下一个字句。在 success_block 和 failure_block 内的所有语句需要保持相同的缩进值。如果这些语句本身需要缩进，则在原缩进的基础上再缩进。之后介绍嵌套条件语句时，会着重讲代码的运行原理。"
   ]
  },
  {
   "cell_type": "markdown",
   "metadata": {},
   "source": [
    "Continuing our `1/x` example, we might want to handle the `x == 0` case:  \n",
    "仍用 1/x 的例子，我们可能需要应对 x == 0 的情况：\n",
    "```python\n",
    "if x != 0:\n",
    "   print(1/x)\n",
    "else: \n",
    "   print(\"Cannot divide by zero\")\n",
    "```\n"
   ]
  },
  {
   "cell_type": "markdown",
   "metadata": {},
   "source": [
    "### **The `if` ... `elif` ... `else` Form** \n",
    "### **if ...  elif ...  else 形式**"
   ]
  },
  {
   "cell_type": "markdown",
   "metadata": {},
   "source": [
    "There are times when we want to consider three or more possible conditions. For that we use one or more `elif` clauses.  \n",
    "有时，我们也要考虑到三个及以上的可能条件，为此，我们可以使用一个或多个 elif 子句。\n",
    "```python\n",
    "if boolean1:\n",
    "    block1\n",
    "elif boolean2:\n",
    "    block2\n",
    "else:\n",
    "    block_else\n",
    "``` "
   ]
  },
  {
   "cell_type": "markdown",
   "metadata": {},
   "source": [
    "We can have as many `elif` clauses as we like. We can even leave off the `else`:\n",
    "我们可以使用任意多个  elif 条件语句，甚至可以不写  else：`:\n",
    "\n",
    "```python\n",
    "if boolean1:\n",
    "    block1\n",
    "elif boolean2:\n",
    "    block2\n",
    "```"
   ]
  },
  {
   "cell_type": "markdown",
   "metadata": {},
   "source": [
    "Take note that the form without the `else` is subtly different. With `if ... elif ... else` there are three possible outcomes:\n",
    "- `block1` executes\n",
    "- `block2` executes\n",
    "- `block_else` executes\n",
    "\n",
    "省略 else 的形式与 if ... elif ... else 略有不同，有三种可能的运行结果：\n",
    "- `block1` 代码块1   执行\n",
    "- `block2` 代码块2   执行\n",
    "- `block_else` else代码块   执行"
   ]
  },
  {
   "cell_type": "markdown",
   "metadata": {},
   "source": [
    "When we omit the `else` clause there are **also** three possibilities: \n",
    "- `block1` executes\n",
    "- `block2` executes\n",
    "- **nothing** executes\n",
    "\n",
    "如果不写 `else` 语句，也有 三种可能的运行结果：: \n",
    "- `block1` 代码块1   执行\n",
    "- `block2` 代码块2   执行\n",
    "- 不执行任何操作"
   ]
  },
  {
   "cell_type": "markdown",
   "metadata": {},
   "source": [
    "Once again, this is subtle but it can cause unexpected bugs. One solution is to _always_ have an `else` clause if there is an `elif`. But what if we don't actually want a catch all block? For that we can use the `pass` keyword to indicate, you guessed it, _do nothing_.\n",
    "\n",
    "很微妙的是，不写 `else` 语句可能会导致意想不到的错误。一种解决方案是，只要有 `elif`，就写`else` 语句。但如果我们不想让代码块涵盖所有情况怎么办？此时可以用关键词 `pass` ，来表示其余条件下什么都不做。 \n",
    "\n",
    "```python\n",
    "if boolean1:\n",
    "    block1\n",
    "elif boolean2:\n",
    "    block2\n",
    "else:\n",
    "    pass\n",
    "```"
   ]
  },
  {
   "cell_type": "markdown",
   "metadata": {},
   "source": [
    "That at least makes the logic explicit so we aren't haunted by bugs in an `else` clause that isn't there.   \n",
    "这样，至少代码逻辑变得明确，我们也不会因为不写 else 语句而遇到报错。"
   ]
  },
  {
   "cell_type": "markdown",
   "metadata": {},
   "source": [
    "#### **Note about short-circuited conditionals**\n",
    "#### **简化条件语句的注意事项**"
   ]
  },
  {
   "cell_type": "markdown",
   "metadata": {
    "id": "IwzwsOhqPokO"
   },
   "source": [
    "Regardless of the form used, `if` statements work a lot like boolean expressions. Python only executes clauses until it finds one to execute. It then ignores the rest. So, if `boolean1` is `True` then Python doesn't care to evaluate `boolean2`, etc.; it just runs `block1` and goes about its business. We'll make use of this later, so be prepared to come back here again.  \n",
    "n\n",
    "不论运用前文哪种形式`，i`f 语句的运行方式与布尔表达式非常相似。Python找到判定为真的代码块并执行，同时忽略其他语句。所以，如果上图的 ` boolean`1 布尔值为` Tru`e，那么Python不会判断` boolean`2 的布尔值；此时Python会直接运行` block`1，然后执行后续函数。我们稍后会利用这个知识，所以之后如果忘了，记得随时翻回来看。\n"
   ]
  },
  {
   "cell_type": "markdown",
   "metadata": {
    "id": "6EerIamePokO"
   },
   "source": [
    "### **Nested Conditionals**\n",
    "### **嵌套条件句**\n",
    "Since every conditional statement has one or more blocks, which themselves contain more statements, we can **nest** an `if` statement inside another one like this:  \n",
    "由于每个条件语句都有一个或多个代码块，这些代码块内部也包含很多语句，所以我们可以参照下面的代码，在 if 语句中再嵌套一个 if 语句：\n",
    "\n",
    "```python\n",
    "if type(x) == int or type(x) == float:\n",
    "    if x != 0:\n",
    "       print(1/x)\n",
    "    else: \n",
    "       print(\"Cannot divide by zero\")# print(“零不能做除数”)\n",
    "else:\n",
    "    print(\"x must be a number\") # print(“x必须是数字”)\n",
    "```\n",
    "\n",
    "The inner `if` statement is indented like any other statement in the block, moving over to the right of the outer `if` statement.  \n",
    "内嵌的 if 语句像代码块中的其它语句一样缩进，整体在外部 if 语句的右侧。\n",
    "\n",
    "Some people find nested conditionals confusing. We can _unnest_ them using `elif` clauses, like so:  \n",
    "有人觉得内嵌有点难懂，那我们也可以用 elif 语句替代内嵌：\n",
    "```python\n",
    "if type(x) == int or type(x) == float and x != 0:\n",
    "    print(1/x)\n",
    "elif type(x) == int or type(x) == float: \n",
    "    print(\"Cannot divide by zero\")\n",
    "else:\n",
    "    print(\"x must be a number\")\n",
    "```\n",
    "\n",
    "Hmmm, that seems pretty inefficient. We can simplify it a bit by reordering the clauses to take advantage of **short-circuiting**:  \n",
    "但这样的代码看起来很低效。我们可以重新调整代码顺序，进行简化：\n",
    "```python\n",
    "if type(x) != int and type(x) != float:\n",
    "    print(\"x must be a number\")\n",
    "elif x == 0 : \n",
    "    print(\"Cannot divide by zero\")\n",
    "else:\n",
    "    print(1/x)\n",
    "```\n",
    "That is both simpler, less redundant, and less prone to bugs. It does, however, take a little getting used to. It's part of a general practice called **defensive programming** that we will elaborate on in the Pro Tips section at the end of the lesson.  \n",
    "这样写更简单、不冗余、也不容易出错。但大家确实要花一点时间来适应这种写法。其实它也是防御性编程的实际应用，我们在课程结尾的专业技巧部分会详细阐述这个概念。"
   ]
  },
  {
   "cell_type": "markdown",
   "metadata": {},
   "source": [
    "### **Conditional Expressions**\n",
    "### **条件表达式**"
   ]
  },
  {
   "cell_type": "markdown",
   "metadata": {},
   "source": [
    "\n",
    "There are times when it is convenient to make the **value** of something conditional. For that we use a conditional expression:  \n",
    "有时，将某个值设为判断条件很方便。这个时候就会用到条件表达式：\n",
    "\n",
    "```python\n",
    "expression_success if condition else expression_failure\n",
    "```\n",
    "\n",
    "Conditional expressions are not statements. They just allow calculations to vary one way or another.  \n",
    "条件表达式不属于语句。它只是通过计算选择赋值内容的一句表达式。\n",
    "\n",
    "With conditional expressions, we can directly assign the value just like we did with boolean assignment earlier in the lesson:  \n",
    "条件表达式能让我们像之前的布尔赋值一样，直接进行赋值：\n",
    "\n",
    "```python\n",
    "x = \"y >= 0\" if y >= 0 else \"y < 0\"\n",
    "```\n",
    "\n",
    "It's shorter and makes certain one-line codes possible that would be a pain to do any other way. Conditional expressions are even nestable, making it possible to handle more than two outcomes (like an `elif`).  \n",
    "\n",
    "使用条件表达式更加简洁。在其他方式可能很麻烦的情况下，可以仅用一行代码实现功能。\n",
    "条件表达式也可以嵌套，通过` eli`f 这样的功能，能够处理两个及以上的输出。\n"
   ]
  },
  {
   "cell_type": "markdown",
   "metadata": {
    "id": "6Q4EIvjJPokO"
   },
   "source": [
    "### **Pulse Check ...** \n",
    "### **脉冲检查**\n",
    "For each of the following conditionals explain the result. As always, answers are hidden behind ...  \n",
    "思考一下，为什么各条件语句的输出如下。"
   ]
  },
  {
   "cell_type": "code",
   "execution_count": null,
   "metadata": {
    "colab": {
     "base_uri": "https://localhost:8080/",
     "height": 129
    },
    "executionInfo": {
     "elapsed": 129,
     "status": "error",
     "timestamp": 1626220283856,
     "user": {
      "displayName": "Christopher Huntley",
      "photoUrl": "",
      "userId": "11069151036176747256"
     },
     "user_tz": 240
    },
    "id": "87oI4r_FPokP",
    "outputId": "79f57ff5-f601-41fd-d70d-f152bc717602"
   },
   "outputs": [
    {
     "ename": "SyntaxError",
     "evalue": "ignored",
     "output_type": "error",
     "traceback": [
      "\u001b[0;36m  File \u001b[0;32m\"<ipython-input-33-e04b76fb0503>\"\u001b[0;36m, line \u001b[0;32m1\u001b[0m\n\u001b[0;31m    if school = \"Fairfield\":\u001b[0m\n\u001b[0m              ^\u001b[0m\n\u001b[0;31mSyntaxError\u001b[0m\u001b[0;31m:\u001b[0m invalid syntax\n"
     ]
    }
   ],
   "source": [
    "school = \"Fairfield\"\n",
    "if school = \"Fairfield\":\n",
    "    mascot = \"Stags\"\n",
    "else: \n",
    "    mascot = \"Pioneers\"\n",
    "print (\"Go \" + mascot + \"!\")"
   ]
  },
  {
   "cell_type": "markdown",
   "metadata": {
    "id": "p3fndjeOPokQ"
   },
   "source": [
    "YOUR ANSWER HERE 你的答案是"
   ]
  },
  {
   "cell_type": "markdown",
   "metadata": {
    "jupyter": {
     "source_hidden": true
    },
    "tags": []
   },
   "source": [
    "\n",
    "> Assignment `=` is not the same as equivalence `==`.\n",
    "> （因为 = 表示赋值，== 表示等号。）"
   ]
  },
  {
   "cell_type": "code",
   "execution_count": null,
   "metadata": {
    "colab": {
     "base_uri": "https://localhost:8080/"
    },
    "executionInfo": {
     "elapsed": 110,
     "status": "ok",
     "timestamp": 1626220402839,
     "user": {
      "displayName": "Christopher Huntley",
      "photoUrl": "",
      "userId": "11069151036176747256"
     },
     "user_tz": 240
    },
    "id": "yQK667TkPokT",
    "outputId": "6ba3a147-d08f-4c73-c95d-4ebebc1b0625"
   },
   "outputs": [
    {
     "name": "stdout",
     "output_type": "stream",
     "text": [
      "Go Pioneers!\n"
     ]
    }
   ],
   "source": [
    "school = \"Sacred Heart\"\n",
    "if school == \"Fairfield\":\n",
    "    mascot = \"Stags\"\n",
    "else: \n",
    "    mascot = \"Pioneers\"\n",
    "print (\"Go \" + mascot + \"!\")"
   ]
  },
  {
   "cell_type": "markdown",
   "metadata": {
    "id": "cfReAbLQPokV"
   },
   "source": [
    "YOUR ANSWER HERE 你的答案是"
   ]
  },
  {
   "cell_type": "markdown",
   "metadata": {
    "jupyter": {
     "source_hidden": true
    },
    "tags": []
   },
   "source": [
    "\n",
    "> The `mascot` was selected by the `if` statement.\n",
    "> （mascot 在 else 语句中被赋值）"
   ]
  },
  {
   "cell_type": "code",
   "execution_count": null,
   "metadata": {
    "colab": {
     "base_uri": "https://localhost:8080/"
    },
    "executionInfo": {
     "elapsed": 122,
     "status": "ok",
     "timestamp": 1626220406463,
     "user": {
      "displayName": "Christopher Huntley",
      "photoUrl": "",
      "userId": "11069151036176747256"
     },
     "user_tz": 240
    },
    "id": "b4OAY0gKPokW",
    "outputId": "15da63cb-3be0-4e11-bfd5-109a90659d44"
   },
   "outputs": [
    {
     "name": "stdout",
     "output_type": "stream",
     "text": [
      "Go Stags!\n"
     ]
    }
   ],
   "source": [
    "school = \"Sacred Heart\"\n",
    "print(\"Go \" + (\"Stags\" if school else \"Pioneers\") + \"!\")"
   ]
  },
  {
   "cell_type": "markdown",
   "metadata": {
    "id": "2agPvyZiPokX"
   },
   "source": [
    "YOUR ANSWER HERE 你的答案是"
   ]
  },
  {
   "cell_type": "markdown",
   "metadata": {
    "jupyter": {
     "source_hidden": true
    },
    "tags": []
   },
   "source": [
    "\n",
    "> Used a one-line conditional expression.\n",
    "> （用一行条件表达式实现功能）"
   ]
  },
  {
   "cell_type": "markdown",
   "metadata": {},
   "source": [
    "---\n",
    "\n",
    "### **Defensive Programming**\n",
    "### **防御性编程**\n",
    "\n",
    "Defensive programming is an approach to programming that was originally intended to avoid security bugs and system crashes. The idea is to detect and mitigate all of the things that could make a bit of code fail (crash or produce an incorrect outcome).  \n",
    "防御性编程是一种编程方法，通过检测、减轻程序崩溃或结果错误等所有可能导致代码失败的方式，避免安全漏洞和系统崩溃。"
   ]
  },
  {
   "cell_type": "markdown",
   "metadata": {},
   "source": [
    "The general pattern is something like this:  \n",
    "常用范式如下： \n",
    "```python\n",
    "if conditions_that_might_cause_a_failure: # 如果检测到可能失败的情况\n",
    "    fail_gracefully # 运行善后代码\n",
    "else:\n",
    "    execute_normally # 否则正常运行\n",
    "```\n",
    "\n",
    "It seems like common sense, right? Nonetheless, most people still don't bother to put in safeguards. For example, let's say that we want to print out a warning if the ratio `y/x` is greater than 1. The naive way is like this:  \n",
    "\n",
    "这好像是常识，对吧？但大多数人并不会费心设置守卫进程。例如，假设要编写一个功能，在 `y/x` 大于1的时候提示警告。大多数人通常会这么写：\n",
    "\n",
    "```python\n",
    "if (y/x > 1):\n",
    "    print(\"Warning! y/x > 1\")\n",
    "```\n",
    "It's pretty straightforward but also wrong. We didn't consider the possibility that `x` might be 0 and cause the ratio `y/x` to become undefined. Bingo, that's a potential runtime error and a system crash. Oops.  \n",
    "代码很简单，但不对。这种写法没有考虑到 x 为 0 的情况，这样 y/x 就无意义了。所以，x 为 0 就是一个会导致系统崩溃的潜在运行时错误。\n",
    "\n",
    "We will learn a few ways to \"bulletproof\" code like this in the next few lessons, starting with **guards** and **exception handling**.  \n",
    "我们会在后几节课学习一些“防御性”代码，这里先从守卫进程和异常处理开始。"
   ]
  },
  {
   "cell_type": "markdown",
   "metadata": {},
   "source": [
    "#### **Boolean Guards**\n",
    "#### **布尔守卫**\n",
    "One of the most \"dangerous\" times for your code are inside conditionals like `y/x > 1`. We are so often focused on the \"normal\" case that we forget about the exceptions. \n",
    "代码中最“危险”的情况之一就潜藏在条件语句中，比如 `y/x > 1` 。我们总是关注“正常”情况，忽略了条件不存在的潜在异常情况。\n",
    "\n",
    "A **guard** is a quick and easy way to short-circuit a boolean expression with an `and` operation. In the ratio example the following would have done the trick:  \n",
    "守卫进程由 and 运算符编写，能够有效简化布尔表达式。在上文 y/x 的案例中，可以写下述代码解决问题：\n",
    "```python\n",
    "if x !=0 and y/x > 1:\n",
    "    print(\"Warning! y/x > 1\")\n",
    "```\n",
    "By inserting the `x != 0` check before the ratio check `y/x > 1` the conditional will short-circuit if `x` is 0. This avoids the possibility of a \"divide by zero\" runtime error entirely.  \n",
    "在检验 `y/x > 1` 之前插入 `x != 0`。若 x 为 0，条件语句就会简化（Python 不再判断 y/x 是否大于 1）。这样，就能完全规避“0 是除数”的潜在运行时错误。\n"
   ]
  },
  {
   "cell_type": "markdown",
   "metadata": {
    "id": "HsvzTBRYPokZ"
   },
   "source": [
    "#### **Handling Exceptions** \n",
    "#### **异常处理**\n",
    "Another way to deal with potential runtime errors is with a `try ... except` handler:  \n",
    "另一种处理潜在运行时错误的方式是使用 try ... except 处理器：\n",
    "\n",
    "```python\n",
    "try:\n",
    "    some_potentially_buggy_code # 尝试执行可能会报错的代码\n",
    "except:\n",
    "    what_to_do_if_a_runtime_error_occurs # 如果有运行时错误了，要做什么\n",
    "```\n",
    "\n",
    "In this case we don't even bother to predict what could go wrong. Instead, we ask Python to let us know if a runtime error happens so we can mitigate the damage (and hopefully forestall a crash or something even worse).  \n",
    "使用异常处理器时，我们甚至不需要预判可能出现的问题，而是要求Python在发生运行时错误时通知我们，以便减轻损失并尽量防止系统崩溃或更糟糕的状况发生。\n",
    "\n",
    "You may be wondering: **why do we even bother with guards if we can just handle exceptions this way?** Because `try ... except` does not guarantee that the damage _can_ be mitigated after a runtime error. So to be sure, it's best to use guards to prevent what you can and then `try ... except` for everything else. \n",
    "\n",
    "你可能会想：既然有异常处理器，我们为什么还需要守卫进程？因为 `try ... except` 处理器并不能保证发生运行时错误后可以减轻损失。所以为确保安全，最好用守卫进程预防可能出现的情况，万不得已再用try ... except 处理器兜底。"
   ]
  },
  {
   "cell_type": "markdown",
   "metadata": {
    "id": "qKG1FQ6xPokg"
   },
   "source": [
    "---\n",
    "## **Before you go ... Save your notebook to be sure it is up to date.** \n",
    "## **结束本节学习前，确保你保存了最新的课件。** "
   ]
  },
  {
   "cell_type": "markdown",
   "metadata": {
    "id": "BP5MGa1vo5s2"
   },
   "source": [
    "---\n",
    "> ## Every Tee Shirt Has a Story Jupyter 文化衫背后的故事\n",
    "> ABOUT JUPYTERCON ｜| 关于JupyterCon    \n",
    "> When Jupyter first came out it was a revelation to the data science community. They were getting very tired of having to get old-school programming tools to coexist with their digital creations. Every little thing required yet another plugin or other special software. Then Jupyter showed that the only tool they needed was a web browser.  \n",
    "> Jupyter 首次面世时，在数据科学界掀起了一场革命。数据科学家厌烦了用老式编程工具进行自己的数字创作，因为这样一来，每个小调整都需要安装插件或其他特殊软件，十分不便。Jupyter 只需要浏览器就能完成一切。\n",
    ">\n",
    "> To get the word out (i.e., sell books) and to celebrate a bit, computer publisher O'Reilly organized the first JupyterCon in NYC with the help of Google, IBM, Microsoft, and a bunch of other companies. It was here that I accidentally had lunch with the team that developed Colab. I was totally clueless, of course, and asked a lot of stupid questions but they tolerated my ignorance pretty well. I came back the next year, this time a bit better informed but didn't get another tee shirt or talk to the Colab team. I did, however, get a cool coffee mug that looked like a lab beaker and plenty of laptop stickers.  \n",
    ">  为了宣传（也就是卖书）和庆祝，计算机出版商 O'Reilly 在谷歌、IBM、微软和其他一些公司的帮助下，在纽约组织了第一届 JupyterCon 聚会。当时，我有幸和开发 Colab 的团队共进午餐。我当时一无所知，为了很多愚蠢的问题。但他们并不介意。第二年，我又参加了 JupyterCon 聚会，但没能拿到新的文化衫，也没找到机会和 Colab 团队交流；但我拿到了一个长得像实验室烧瓶的咖啡杯和大量笔记本电脑贴纸。 \n",
    "\n",
    "![L3 Tee Front](./Photos/L03_TeeFront.jpeg)\n",
    "![L3 Tee Back](./Photos/L03_TeeBack.jpeg)\n",
    "\n",
    "## Copyright &copy; 2020 Christopher Huntley. All rights reserved. "
   ]
  },
  {
   "cell_type": "code",
   "execution_count": null,
   "metadata": {},
   "outputs": [],
   "source": []
  }
 ],
 "metadata": {
  "colab": {
   "collapsed_sections": [
    "6EerIamePokO"
   ],
   "name": "L03_Conditionals.ipynb",
   "provenance": []
  },
  "kernelspec": {
   "display_name": "Python 3 (ipykernel)",
   "language": "python",
   "name": "python3"
  },
  "language_info": {
   "codemirror_mode": {
    "name": "ipython",
    "version": 3
   },
   "file_extension": ".py",
   "mimetype": "text/x-python",
   "name": "python",
   "nbconvert_exporter": "python",
   "pygments_lexer": "ipython3",
   "version": "3.8.15"
  }
 },
 "nbformat": 4,
 "nbformat_minor": 4
}
