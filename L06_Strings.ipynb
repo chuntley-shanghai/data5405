{
 "cells": [
  {
   "cell_type": "markdown",
   "metadata": {
    "id": "q3SenykKQ8RM"
   },
   "source": [
    "<img src=\"./img/Dolan.png\" width=\"180px\" align=\"right\">\n",
    "\n",
    "# **Lesson 6: Strings**\n",
    "_The first sequential data type_"
   ]
  },
  {
   "cell_type": "markdown",
   "metadata": {},
   "source": [
    "# **第六课：字符串**\n",
    "_第一个顺序数据类型_"
   ]
  },
  {
   "cell_type": "markdown",
   "metadata": {
    "id": "vcFBcdMQQ8RN"
   },
   "source": [
    "## **Learning Objectives**\n",
    "\n",
    "### Theory / Be able to explain ...\n",
    "- The Python Type Hierarchy\n",
    "- The three kinds of string literals\n",
    "- The concept of immutability\n",
    "- Basics of sequential data types\n",
    "- Indexing, slicing, and traversal\n",
    "- String objects and methods\n",
    "\n",
    "### Skills / Know how to  ...\n",
    "- Create string literals from quoted text or type conversion\n",
    "- Use indexing and slicing to retrieve substrings\n",
    "- Use the `in` and `%` operators\n",
    "\n",
    "**What follows is adapted from Chapter 6 of the _Python For Everybody_ book. If you have not read it, then please do so before continuing on.**\n",
    "\n",
    "---"
   ]
  },
  {
   "cell_type": "markdown",
   "metadata": {},
   "source": [
    "## **学习目标**\n",
    "\n",
    "### 学会解释一下理论 ...\n",
    "- Python 数据类型层次结构\n",
    "- 三种字符串字面量\n",
    "- 不可变性的概念\n",
    "- 顺序数据类型的基本要素\n",
    "- 索引、切片和遍历\n",
    "- 字符串对象和方法\n",
    "\n",
    "### 掌握一下技能 ...\n",
    "- 通过引号或类型转换创建字符串字面量\n",
    "- 使用索引和切片从字符串中检索子字符串\n",
    "- 使用 `in` 和  `%` 运算符\n",
    "\n",
    "**本堂课改编自 _Python For Everybody_ 第六章。开始学习前，可以先阅读教材.**\n",
    "\n",
    "---"
   ]
  },
  {
   "cell_type": "markdown",
   "metadata": {
    "id": "9t049nQ6Q8RN"
   },
   "source": [
    "## **The Type Hierarchy**\n",
    "> \"There are 10 kinds of people in this world, those who know binary and those who don't.\" -- anonymous nerd lore\n",
    "\n",
    "In this world of Big Data where computational power and data storage capacity have become commodities measured out like sugar or produce, it is easy for non-programmers to forget that it hasn't always been this way, that actual people had to design and build the technology up over many decades. The modern world is by design, not accident, or so we like to believe. \n",
    "\n",
    "In the very beginning, all data and programs were **encoded** as **binary**: strings of zeroes and ones called **bits** where every few bits represented something else. We still use binary (at least in digital computers), of course, but not many people speak it natively anymore. It's just too computer-specific and hard for us humans to process. Instead, we use an ever evolving repertoire of **languages** and **data structures** to express ourselves and keep our data safe and useful. \n",
    "\n",
    "After the **bit** the next standard data type was the **byte**, composed of 8 bits with 256 possible values, which is just enough to encode each key on a computer keyboard. Thus, [**ASCII**](https://en.wikipedia.org/wiki/ASCII) (American Standard Code for Information Interchange) was born. ASCII used seven of the bits (i.e., 128 possible values) for the keyboard codes, with the last bit available for error checking. Each character was assigned a number (e.g., \"A\" = binary `1000001` = decimal 65). Upper case letters were separate from lower case letters (\"a\" = `1100001` = 97) and every \"control\" character (e.g. tab, line ending, end of file, etc.) has an ASCII encoding as well. \n",
    "\n",
    "When strung together, **bytes** could represent lots of things as **strings**, **integers**, and **floats**, which you will recognize as native Python data types. From there it was natural to think of more elaborate data structures like complex numbers or lists. These in turn led to decimal and fractional numbers, and file, array, list, tuple, and dictionary collections. Today the Python standard library includes dozens of data types, each with its own unique properties and uses. And, if none of these quite do what we want, we can always create our own. \n",
    "\n",
    "This lesson starts our explorations into the world of data structures with a review of the **string data type**, which in practice is the most commonly used data structure of all. While we analytics geeks would likely prefer to have quantitative data all the time, if a human is involved in its collection or communication then it almost certainly will start as text strings. "
   ]
  },
  {
   "cell_type": "markdown",
   "metadata": {},
   "source": [
    "## **数据类型层次结构**\n",
    "> \"世界上只有“10”种人，懂二进制的和不懂二进制的.\" -- 佚名\n",
    "\n",
    "在大数据的世界里，算力和数据存储能力已经成为像糖果或农产品一样被衡量的商品。除了程序员，其他人很容易忘记事实并非如此。其实几十年来，人们必须主动设计、构建技术，才能优化算力和数据存储能力。现代世界是通过主动设计构建的，而非偶然形成。或者说，我们希望世界应当如此. \n",
    "\n",
    "最初，所有的数据和程序都以**二进制**的形式**编码**：用字符串“0”和“1”构成**比特（bit）**，用寥寥数个比特代表其他信息。如今我们仍使用二进制（至少传统的数字计算机是如此）。当然，没什么人会直接用二进制生活。这是专属于计算机的语言，对人类来说较难处理。我们会使用不断发展的**语言**和**数据结构**表达自己，确保数据安全可靠、且能发挥价值. \n",
    "\n",
    "**比特**之后的标准数据类型叫**字节（byte）**，由8个比特组成，可以有256种可能的值，足够为键盘上的每个按键编码，由此诞生了美国信息交换标准代码ASCII（https://zh.wikipedia.org/wiki/ASCII）。ASCII包含7个比特，共有128种可能的值，最后一个值用于查错。我们用这种方式为键盘按键编码。ASCII下，每个字母都有对应的二进制数（如字母“A”= 二进制的 `1000001` = 十进制的 65），大写字母和小写字母对应的数字不同（如小写字母“a”= 二进制的 `1100001` = 十进制的97），每个控制符（制表符、行结束符、文件结束符等）也有对应的ASCII编码. \n",
    "\n",
    "**字节**组合在一起时，可以表示**字符串、整数、浮点数**等诸多信息，上述三种数据类型也是Python原生的数据类型。Python自然也有复数、列表等更复杂的数据结构。之后又发展出了十进制数和分数，以及文件、数组、列表、元组、字典等集合。如今，Python标准数据库包含了数十种数据类型，每种都有其独特的属性和用途。而且，如果这些数据类型都不能完全满足我们的需求，我们也总能创建自己的数据类型. \n",
    "\n",
    "从本堂课开始，我们将从 **“字符串”** 这个最常用的数据类型开始，探索数据结构的世界。虽然数据分析师可能更喜欢使用定量数据，但如果涉及人类的话语集和交流内容，数据可能会以文本字符串的形式开始. "
   ]
  },
  {
   "cell_type": "markdown",
   "metadata": {
    "id": "LA2xjXlbQ8RO"
   },
   "source": [
    "---\n",
    "## **String: The (Second-Most) Universal Data Type**\n",
    "Many people are surprised to learn that in its original form, the entirety of the world wide web was text. Even the images were encoded into text! The web browser's job was to take all the strings of text coming over the wire -- there was no wifi back then -- and display web pages that people could view and interact with. Why text? Because just about anything can be encoded as text. It also allowed people to hand-craft web pages with HTML. While the web has progressed a lot since then, most content is still ... text. \n",
    "\n",
    "In Python all text has the `string` data type. Most of what follows is a somewhat terse review of things from the Py4E book. Please start there and then read through the notes. "
   ]
  },
  {
   "cell_type": "markdown",
   "metadata": {},
   "source": [
    "---\n",
    "## **字符串：（第二）常用的数据类型**\n",
    "很多人会惊讶地发现，最初的万维网都是文本。当时没有wifi，连图片都被编码成了文本！浏览器接收所有来自网络的文本字符串，形成可供查看和交互的显示页面。那为什么要把信息编码成文本呢？只是因为一切皆可编码成文本。所以那时的人们可以用超文本标记语言 HTML 自制网页。虽然此后的网页已经有了很大的进步，但大部分内容仍是……文本. \n",
    "\n",
    "在Python中，所有文本的数据类型都是字符串（`string`）。接下来的内容大多数是对课本 Python For Everybody 的梳理回顾。希望大家先读书，再读本课内容. "
   ]
  },
  {
   "cell_type": "markdown",
   "metadata": {
    "id": "Q-ZwZpzyQ8RO"
   },
   "source": [
    "---\n",
    "## **String Literals**\n",
    "A **string literal** is a specific sequence of characters. Stings come about in one of two ways:\n",
    "- As quoted text (literals) like \"Every good boy does fine\"\n",
    "- Conversion from data of another type\n",
    "\n",
    "### **Quoted Text**\n",
    "Quoted text in Python comes in three varieties.\n",
    "\n",
    "**Single quotes** are used for short strings like names: "
   ]
  },
  {
   "cell_type": "markdown",
   "metadata": {},
   "source": [
    "---\n",
    "## **字符串字面量**\n",
    "**字符串字面量**是一系列特殊的字符序列。字符串可以通过以下两种方式产生:\n",
    "- 用英文输入法的引号引起文本（字面量），比如 “宫商角徵羽”\n",
    "- 通过类型转换把另一种数据类型变成字符串\n",
    "\n",
    "### **用引号创建文本**\n",
    "Python中的引号有三类.\n",
    "\n",
    "**单引号**用在名字、物品名等短字符串上: "
   ]
  },
  {
   "cell_type": "code",
   "execution_count": null,
   "metadata": {
    "id": "p_-tMpXeQ8RP",
    "outputId": "71031aed-bfe4-443c-8a5f-464329f986dd"
   },
   "outputs": [
    {
     "data": {
      "text/plain": [
       "'Apple'"
      ]
     },
     "execution_count": 1,
     "metadata": {
      "tags": []
     },
     "output_type": "execute_result"
    }
   ],
   "source": [
    "'Apple'"
   ]
  },
  {
   "cell_type": "markdown",
   "metadata": {
    "id": "ZnkCMUKYQ8RS"
   },
   "source": [
    "**Double quotes** are used when the quoted text might include single quotes/apostrophes:"
   ]
  },
  {
   "cell_type": "markdown",
   "metadata": {},
   "source": [
    "**双引号**用在内部有单引号或撇号的文本上:"
   ]
  },
  {
   "cell_type": "code",
   "execution_count": null,
   "metadata": {
    "id": "89MMx0jwQ8RS",
    "outputId": "5476c660-ff13-4fd2-ac27-f5a65b4661c4"
   },
   "outputs": [
    {
     "data": {
      "text/plain": [
       "\"Apple's market cap is $1.5 Trillion\""
      ]
     },
     "execution_count": 2,
     "metadata": {
      "tags": []
     },
     "output_type": "execute_result"
    }
   ],
   "source": [
    "\"Apple's market cap is $1.5 Trillion\""
   ]
  },
  {
   "cell_type": "markdown",
   "metadata": {
    "id": "oB7BSRndQ8RV"
   },
   "source": [
    "**Triple quotes** are used when the text spans multiple lines (and we want to keep it that way):"
   ]
  },
  {
   "cell_type": "markdown",
   "metadata": {},
   "source": [
    "**三引号**用于必须跨行的文本:\n"
   ]
  },
  {
   "cell_type": "code",
   "execution_count": null,
   "metadata": {
    "id": "TVGArSReQ8RV",
    "outputId": "f5040e2e-689d-4888-82da-de6283abdd26"
   },
   "outputs": [
    {
     "data": {
      "text/plain": [
       "\"\\nApple's market cap is ...\\n\\n1.5 TRILLION DOLLARS!\\n\""
      ]
     },
     "execution_count": 3,
     "metadata": {
      "tags": []
     },
     "output_type": "execute_result"
    }
   ],
   "source": [
    "'''\n",
    "Apple's market cap is ...\n",
    "\n",
    "1.5 TRILLION DOLLARS!\n",
    "'''"
   ]
  },
  {
   "cell_type": "markdown",
   "metadata": {
    "id": "2zLytAUcQ8RX"
   },
   "source": [
    "The `\\n`s in there represent line endings (a.k.a., \"newlines\")."
   ]
  },
  {
   "cell_type": "markdown",
   "metadata": {},
   "source": [
    "此处的`\\n`是行结束符，即换行符."
   ]
  },
  {
   "cell_type": "markdown",
   "metadata": {
    "id": "CweMyyI8Q8RY"
   },
   "source": [
    "### **Conversions from other data types**\n",
    "Just about anything can be converted to a string using the `str()` function. "
   ]
  },
  {
   "cell_type": "markdown",
   "metadata": {},
   "source": [
    "### **通过类型转换创建文本**\n",
    "通过 `str()` 函数，任何数据都能转换为文本. "
   ]
  },
  {
   "cell_type": "code",
   "execution_count": null,
   "metadata": {
    "id": "8599sxiaQ8RY",
    "outputId": "60fe1e30-004c-4a6c-b05d-7bc199c6040d"
   },
   "outputs": [
    {
     "data": {
      "text/plain": [
       "'15'"
      ]
     },
     "execution_count": 4,
     "metadata": {
      "tags": []
     },
     "output_type": "execute_result"
    }
   ],
   "source": [
    "str(15)"
   ]
  },
  {
   "cell_type": "code",
   "execution_count": null,
   "metadata": {
    "id": "EGBZlNNBQ8Ra",
    "outputId": "d49dd319-221a-429f-a91f-0513766341d4"
   },
   "outputs": [
    {
     "data": {
      "text/plain": [
       "\"<class 'int'>\""
      ]
     },
     "execution_count": 5,
     "metadata": {
      "tags": []
     },
     "output_type": "execute_result"
    }
   ],
   "source": [
    "str(type(15))"
   ]
  },
  {
   "cell_type": "markdown",
   "metadata": {},
   "source": [
    "There are other ways, of course, for data types we haven't explored yet."
   ]
  },
  {
   "cell_type": "markdown",
   "metadata": {},
   "source": [
    "当然还有其他没讲到的方法，也可以用于创建文本."
   ]
  },
  {
   "cell_type": "markdown",
   "metadata": {
    "id": "Knsqeg8oQ8Rg"
   },
   "source": [
    "### **Special Characters**\n",
    "Some character codes from the old days of teletypes still exist in Python and other languages. Most represented either whitespace or unprintable behaviors (e.g., ringing a bell with `\\a` or going backwards one space with `\\b`). They were encoded with a backslash `\\` character plus a letter or number. Of these only a few so-called \"escape-codes\" still have any meaning:\n",
    "- `\\t`: advance to the next tabstop (\"tab\")\n",
    "- `\\n`: ascii line feed (line end)\n",
    "- `\\\\`: backslash\n",
    "- `\\'`: single quote character\n",
    "- `\\\"`: double quote character\n",
    "\n",
    "There are other codes (also with backslashes) for things like unicode characters. You will find them explained in the Python docs. "
   ]
  },
  {
   "cell_type": "markdown",
   "metadata": {},
   "source": [
    "### **特殊字符**\n",
    "电报码中的部分字符沿用到了Python及其他语言，大多用于表示空格或其他无法在标准输出中显示的内容，用反斜杠`\\`加上一个字母或数字表示。如`\\a`表示响铃信号，`\\b`表示退格符。其中仅有少数所谓的“转义码”仍有含义:\n",
    "- `\\t`: 制表符，将光标移动到下一个制表位\n",
    "- `\\n`: ascii下的换行符\n",
    "- `\\\\`: 表示反斜杠字符本身\n",
    "- `\\'`: 单引号\n",
    "- `\\\"`: 双引号\n",
    "\n",
    "除了上述提到的转义码之外，还有其他用于表示使用反斜杠的代码，用于统一码（Unicode）等编码中。大家可以在Python在线说明文档中了解更多. "
   ]
  },
  {
   "cell_type": "markdown",
   "metadata": {
    "id": "xfPq0_MyQ8Rj"
   },
   "source": [
    "### **Immutability: When everything is taken literally**\n",
    "\n",
    "**Heads Up**: Strings and numbers are meant to be taken literally. **They cannot be changed after they are created.** We can't change the number 1 into the number 2, no matter how much we try. Similarly we can't change \"Apple\" into \"Google\" no matter how much Eric Schmidt may have wanted it to happen. \n",
    "\n",
    "So how are we able to do things like this?"
   ]
  },
  {
   "cell_type": "markdown",
   "metadata": {},
   "source": [
    "### **不可变性：所有值都已确定**\n",
    "\n",
    "**注意**字符串和数字都是确定的取值，**一旦创建，无法更改。** 不管怎么尝试，数字 1 都不可能变成数字 2。同样的，不管谷歌前首席执行官 Eric Schmidt 再怎么想，“苹果” 也不可能变成 “谷歌”. \n",
    "\n",
    "那我们要如何实现字符串或数字的修改呢?"
   ]
  },
  {
   "cell_type": "code",
   "execution_count": null,
   "metadata": {
    "id": "6gDg_QPEQ8Rk",
    "outputId": "33428c1d-5d07-4206-bde9-6ba38c4e3863"
   },
   "outputs": [
    {
     "name": "stdout",
     "output_type": "stream",
     "text": [
      "Google is king of Silicon Valley ... but Apple was there first\n"
     ]
    }
   ],
   "source": [
    "x = \"Apple is king of Silicon Valley\" \n",
    "x = \"Google is king of Silicon Valley\"   # Reassignment 重新赋值\n",
    "x += \" ... but Apple was there first\"    # Update operator 更新运算符\n",
    "print(x)"
   ]
  },
  {
   "cell_type": "markdown",
   "metadata": {
    "id": "wSEFRgmRQ8Rm"
   },
   "source": [
    "Despite appearances, **each string is immutable**. We can operate on the strings to make new strings, but the **original strings are unchanged**. Again, we can't modify 1 to make it 2, so why would we expect to be able to do that with strings? "
   ]
  },
  {
   "cell_type": "markdown",
   "metadata": {},
   "source": [
    "除了外观，**每个字符串都是不可变的。** 我们可以对字符串进行操作，生成新的字符串，但**原始字符串仍保持不变**。就像数字 1 无法改成数字 2，字符串又怎么可能改变呢？"
   ]
  },
  {
   "cell_type": "markdown",
   "metadata": {
    "id": "axv2a8aYQ8Rm"
   },
   "source": [
    "### **Pulse Check ...**\n",
    "\n",
    "**1. Why do we need three different quoting mechanisms in Python?**"
   ]
  },
  {
   "cell_type": "markdown",
   "metadata": {},
   "source": [
    "### **脉冲检查 ...**\n",
    "\n",
    "**1. 为什么Python中需要三种不同的引号?**"
   ]
  },
  {
   "cell_type": "markdown",
   "metadata": {
    "id": "1Y8A1tZ6Q8Rn"
   },
   "source": [
    "YOUR ANSWER HERE 在此输入你的答案"
   ]
  },
  {
   "cell_type": "markdown",
   "metadata": {
    "tags": []
   },
   "source": [
    "\n",
    "> - Single quotes are the baseline. Pyhton uses these when it can.\n",
    "> - Double quotes allow us to use quotes inside of quotes.\n",
    "> - Triple quotes all quotes to span multiple lines\n",
    "\n",
    "> - 单引号是最基本的字符串引号。条件允许时，Python都会使用单引号.\n",
    "> - 双引号允许在引号内部使用单引号.\n",
    "> - 三引号允许跨行."
   ]
  },
  {
   "cell_type": "markdown",
   "metadata": {
    "id": "xwFLQSs0Q8Rn"
   },
   "source": [
    "**2. Why does the following code fail?**"
   ]
  },
  {
   "cell_type": "markdown",
   "metadata": {},
   "source": [
    "**2. 为什么下述代码会报错?**\n",
    "```python\n",
    "x = \"ABD\"\n",
    "x[2]=\"C\"\n",
    "\n",
    "```"
   ]
  },
  {
   "cell_type": "markdown",
   "metadata": {
    "id": "DKBZvQCmQ8Ro"
   },
   "source": [
    "YOUR ANSWER HERE 在此输入你的答案\n"
   ]
  },
  {
   "cell_type": "markdown",
   "metadata": {
    "tags": []
   },
   "source": [
    "\n",
    "> String are immutable. We can create new strings but can't alter existing ones, even if we use variables. \n",
    "\n",
    "> 因为字符串是不可变的。我们可以创建新字符串，但不能更改已经存在的字符串。这一规则也适用于变量. "
   ]
  },
  {
   "cell_type": "markdown",
   "metadata": {
    "id": "momajjmzQ8Ro"
   },
   "source": [
    "---\n",
    "## **Strings as Sequences**\n",
    "One of the reasons why string immutability is surprising is that **a string represents a sequence of characters**, kind of like a list. And, as anybody who has ever made a shopping list can tell you, lists are anything but immutable. We can add, delete, and reorder list items to our hearts content. But not so with strings. \n",
    "\n",
    "Despite this one huge difference, in just about every other way a string works pretty much like a list. Both are sequential data types, with a set of features shared by all sequential data types.  "
   ]
  },
  {
   "cell_type": "markdown",
   "metadata": {},
   "source": [
    "---\n",
    "## **序列类型——字符串**\n",
    "字符串不可变的一大原因是：**字符串表示一系列有序的字符**，和列表有点相似。不过列表就像是购物清单，没什么不可变的。我们可以根据随心所欲地添加、划去、重新排列清单上的名目。但字符串并非如此。\n",
    "\n",
    "除了在可变和不可变性上有较大的差异，字符串和列表在其他方面几乎完全相似。两者都是顺序数据类型，具有这种数据类型的特性es.  "
   ]
  },
  {
   "cell_type": "markdown",
   "metadata": {
    "id": "WfAoALdDQ8Ro"
   },
   "source": [
    "### **Indexing and Slicing**\n",
    "Sequences inherently have **order**. When referring to an item in the sequence, we refer to its **position** in the sequence. There is always a first item, a second item, etc.\n",
    "\n",
    "In Python we use the `[]` operator to **index** the string (or list, tuple, etc.):"
   ]
  },
  {
   "cell_type": "markdown",
   "metadata": {},
   "source": [
    "### **索引和切分**\n",
    "字符本质上是**有序**的。我们引用序列中的某个元素时，会指向这个元素在序列中的**位置**。序列中始终有第一个元素、第二个元素，以此类推.\n",
    "\n",
    "Python中，我们使用运算符`[ ]`来**索引**字符串（或列表、元组等等）:"
   ]
  },
  {
   "cell_type": "code",
   "execution_count": null,
   "metadata": {
    "id": "oaDChi0tQ8Rp",
    "outputId": "55de2656-0eff-4fa0-9337-5df413333972"
   },
   "outputs": [
    {
     "data": {
      "text/plain": [
       "'g'"
      ]
     },
     "execution_count": 8,
     "metadata": {
      "tags": []
     },
     "output_type": "execute_result"
    }
   ],
   "source": [
    "'Google'[3]"
   ]
  },
  {
   "cell_type": "markdown",
   "metadata": {
    "id": "_ILazjURQ8Rr"
   },
   "source": [
    "Those of you who are counting will notice that 'g' is the fourth character in 'Google.' Python starts counting from 0, not 1, when indexing a sequence. "
   ]
  },
  {
   "cell_type": "markdown",
   "metadata": {},
   "source": [
    "大家如果数了上图代码中“g” 的位置，就会发现它是 “Google” 中的第四个字符。括号内是 3，其实是因为Python在索引时从 0 开始计数，而非从 1 开始："
   ]
  },
  {
   "cell_type": "code",
   "execution_count": null,
   "metadata": {
    "id": "97Bix2hzQ8Rs",
    "outputId": "4784e072-49fa-4ba7-9df9-18dc0f5c82db"
   },
   "outputs": [
    {
     "data": {
      "text/plain": [
       "'G'"
      ]
     },
     "execution_count": 9,
     "metadata": {
      "tags": []
     },
     "output_type": "execute_result"
    }
   ],
   "source": [
    "'Google'[0]"
   ]
  },
  {
   "cell_type": "markdown",
   "metadata": {
    "id": "cRZDywajQ8Ru"
   },
   "source": [
    "We can even use negative numbers as indexes:    "
   ]
  },
  {
   "cell_type": "markdown",
   "metadata": {},
   "source": [
    "我们也可以在索引时填入负数："
   ]
  },
  {
   "cell_type": "code",
   "execution_count": null,
   "metadata": {
    "id": "HNGi1CtUQ8Ru",
    "outputId": "4b62b7bc-f73b-4863-954d-df71bb0e3804"
   },
   "outputs": [
    {
     "data": {
      "text/plain": [
       "'l'"
      ]
     },
     "execution_count": 10,
     "metadata": {
      "tags": []
     },
     "output_type": "execute_result"
    }
   ],
   "source": [
    "'Google'[-2]"
   ]
  },
  {
   "cell_type": "markdown",
   "metadata": {
    "id": "6vl-Q7jNQ8Rw"
   },
   "source": [
    "For negative indexes it works backwards from the end, with `[-1]` representing the last character.  \n",
    "\n",
    "To find out how many characters are in a string, use the `len()` function."
   ]
  },
  {
   "cell_type": "markdown",
   "metadata": {},
   "source": [
    "负索引从序列末尾开始计数，`[-1]` 指最后一个字符。要知道字符串中有多少个字符，可以用 `len()` 函数："
   ]
  },
  {
   "cell_type": "code",
   "execution_count": null,
   "metadata": {
    "id": "isP9SulxQ8Rx",
    "outputId": "96190752-2321-4b59-84c2-2b65014b163a"
   },
   "outputs": [
    {
     "data": {
      "text/plain": [
       "6"
      ]
     },
     "execution_count": 11,
     "metadata": {
      "tags": []
     },
     "output_type": "execute_result"
    }
   ],
   "source": [
    "len('Google')"
   ]
  },
  {
   "cell_type": "markdown",
   "metadata": {
    "id": "LfXAjEiJQ8Rz"
   },
   "source": [
    "Sometimes we want more than one character at a time. For that use a **slice** instead of an index:"
   ]
  },
  {
   "cell_type": "markdown",
   "metadata": {},
   "source": [
    "我们有时想要截取一个以上的字符。此时就需要使用**切分**技巧："
   ]
  },
  {
   "cell_type": "code",
   "execution_count": null,
   "metadata": {
    "id": "yVyCPNtoQ8Rz",
    "outputId": "e0165ed9-f3ac-4444-f0d8-e1bb5b50ea2a"
   },
   "outputs": [
    {
     "data": {
      "text/plain": [
       "'og'"
      ]
     },
     "execution_count": 12,
     "metadata": {
      "tags": []
     },
     "output_type": "execute_result"
    }
   ],
   "source": [
    "'Google'[2:4]"
   ]
  },
  {
   "cell_type": "markdown",
   "metadata": {
    "id": "3wjU3tNUQ8R1"
   },
   "source": [
    "A slice `[a:b]` returns the substring starting with position `a` up to position `b-1`. So, `[2:4]` is asking for whatever is in positions 2 and 3 returned as a new string literal, which in this case is 'og'."
   ]
  },
  {
   "cell_type": "markdown",
   "metadata": {},
   "source": [
    "切分 `[a:b]` 指截取出从位置 `a` 开始、到位置 `b-1` 结束的子字符串。因此， `[2:4]` 指获取字符串中计数值为2到计数值为3的内容，并返回一个新的字符串。在 “Google” 中，`[2:4]` 切分出的新字符串为 ‘og’."
   ]
  },
  {
   "cell_type": "markdown",
   "metadata": {
    "id": "5d49n_T2Q8R2"
   },
   "source": [
    "### **Traversal**\n",
    "**Traversal** is what we call iteration over the items in a sequence. It is exactly what you might imagine: "
   ]
  },
  {
   "cell_type": "markdown",
   "metadata": {},
   "source": [
    "### **遍历**\n",
    "**遍历**指迭代序列中的每个元素。具体例子如下: "
   ]
  },
  {
   "cell_type": "code",
   "execution_count": null,
   "metadata": {
    "id": "klfqn1XRQ8R2",
    "outputId": "26096d8a-c588-4926-b42f-512e0e709e4b"
   },
   "outputs": [
    {
     "name": "stdout",
     "output_type": "stream",
     "text": [
      "G\n",
      "O\n",
      "O\n",
      "G\n",
      "L\n",
      "E\n"
     ]
    }
   ],
   "source": [
    "for c in \"Google\":\n",
    "    print(c.upper())"
   ]
  },
  {
   "cell_type": "markdown",
   "metadata": {
    "id": "JUw_crhQQ8R5"
   },
   "source": [
    "We can do whatever we want inside the loop body except modify the string. Since a string is just an immutable sequence of characters, `for c in \"Google\"` iterates through the sequence \"Google\", one character (`c`) at a time. \n",
    "\n",
    "Traversal is actually a more generally applicable task that we will return to in (optional) Lesson 12 when we consider tree structured data. "
   ]
  },
  {
   "cell_type": "markdown",
   "metadata": {},
   "source": [
    "我们可以在不更改字符串本身的前提下，在循环内做任何操作。在上图案例中，`for c in “Google” `会逐个遍历序列 “Google”。(`c`) 是代表字符串中当前字符的变量，每次迭代时，(`c`) 会依次指向字符串中的每个字符.\n",
    "\n",
    "遍历其实是一个广泛使用的功能。我们在第12课（选学）讲树形结构数据时会再次提到."
   ]
  },
  {
   "cell_type": "markdown",
   "metadata": {
    "id": "U7j4_RDTQ8R5"
   },
   "source": [
    "### **Pulse Check ...**\n",
    "**1. What does the following code do?** You will likely want to consult the [Python docs](https://docs.python.org/3/library/functions.html#slice). Be sure to explain what the third slice argument does. (Yes, it's important and yes, you are expected to learn this on your own, [RTFM](https://en.wikipedia.org/wiki/RTFM)-style.) "
   ]
  },
  {
   "cell_type": "markdown",
   "metadata": {},
   "source": [
    "### **脉冲检查 ...**\n",
    "**1. 下面这行代码的功能是什么？** 你可以查询 Python在线学习文档（https://docs.python.org/zh-cn/3/library/functions.html#slice）。试着解释第三个参数“-1”是什么意思（这里非常鼓励大家试着自己弄明白，就像http://zh.wikipedia.org/wiki/RTFM 中说到的一样）"
   ]
  },
  {
   "cell_type": "code",
   "execution_count": null,
   "metadata": {
    "id": "XzvoBPNYQ8R5",
    "outputId": "e7cd3469-0079-4e8f-a6b1-f489553011fc"
   },
   "outputs": [
    {
     "data": {
      "text/plain": [
       "'!sgatS oG'"
      ]
     },
     "execution_count": 14,
     "metadata": {
      "tags": []
     },
     "output_type": "execute_result"
    }
   ],
   "source": [
    "\"Go Stags!\"[::-1]"
   ]
  },
  {
   "cell_type": "markdown",
   "metadata": {
    "id": "yoJKNfVFpliV"
   },
   "source": [
    "YOUR ANSWER HERE 在此输入你的答案"
   ]
  },
  {
   "cell_type": "markdown",
   "metadata": {
    "tags": []
   },
   "source": [
    "\n",
    "> It works backwards from the end of the string. The third splice argument is the step size, which when negative steps backwards.\n",
    "\n",
    "> 上图的代码指从后向前显示每一个字符。第三处参数“-1”指步长，表示每显示完上一个字符后，都从后向前移动一个字符位。"
   ]
  },
  {
   "cell_type": "markdown",
   "metadata": {
    "id": "IPbC-V1RQ8R7"
   },
   "source": [
    "**2. Rewrite the code from question 1 so that it prints the (reversed) characters one per line.**"
   ]
  },
  {
   "cell_type": "markdown",
   "metadata": {},
   "source": [
    "**2. 重写第一问的代码，让结果从后往前输出，且每行只输出一个字符.**"
   ]
  },
  {
   "cell_type": "code",
   "execution_count": null,
   "metadata": {
    "id": "BVDHfMSlQ8R8"
   },
   "outputs": [],
   "source": [
    "YOUR CODE HERE 在此输入你的代码"
   ]
  },
  {
   "cell_type": "code",
   "execution_count": null,
   "metadata": {
    "tags": []
   },
   "outputs": [],
   "source": [
    "\n",
    "for c in \"Go Stags!\"[::-1]:\n",
    "    print(c)"
   ]
  },
  {
   "cell_type": "markdown",
   "metadata": {
    "id": "mXyKqBZnQ8R9"
   },
   "source": [
    "---\n",
    "## **String Operators**\n",
    "We have already seen two different **string operations**:\n",
    "- **concatenating** with the `+` operator\n",
    "- **appending** with the `+=` operator\n",
    "\n",
    "The first returns the merger of two strings, one after the other. The second changes the value of the variable. \n",
    "\n",
    "We can also use comparison operators with strings just like with numbers:"
   ]
  },
  {
   "cell_type": "markdown",
   "metadata": {},
   "source": [
    "---\n",
    "## **字符串运算符**\n",
    "我们已经学习了两个**字符串运算符**:\n",
    "- `+`用于**串联**字符串或序列\n",
    "- `+=`用于**追加**元素\n",
    "\n",
    "`+`按顺序合并两个字符串，生成新的字符串；`+=`则直接在一个变量上追加字符串，改变了变量的值。\n",
    "\n",
    "我们也可以像比较数字一样，比较字符串的大小:"
   ]
  },
  {
   "cell_type": "code",
   "execution_count": null,
   "metadata": {
    "id": "PdJAhSRHQ8R-",
    "outputId": "f9ea7315-a202-4b86-b3dc-2897f98d277c"
   },
   "outputs": [
    {
     "data": {
      "text/plain": [
       "False"
      ]
     },
     "execution_count": 15,
     "metadata": {
      "tags": []
     },
     "output_type": "execute_result"
    }
   ],
   "source": [
    "'Google' < 'Apple'"
   ]
  },
  {
   "cell_type": "markdown",
   "metadata": {
    "id": "QcivqRjdQ8R_"
   },
   "source": [
    "The comparison is based on the numeric codes that correspond to each character. Since `A` comes before `G` in the alphabet, its numeric code is smaller. This also applies to lowercase and capital letters and numbers:"
   ]
  },
  {
   "cell_type": "markdown",
   "metadata": {},
   "source": [
    "这里的比较是基于每个字符对应的ASCII数字编码进行的。因为 `A` 在字母表中排在 `G` 之前，所以它对应的数字编码更小。含大小写和数字的字符串也可以比较大小:"
   ]
  },
  {
   "cell_type": "code",
   "execution_count": null,
   "metadata": {
    "id": "nhDRNiJZQ8SA",
    "outputId": "5e67ed5a-9414-446f-e2bb-cbddfc330504"
   },
   "outputs": [
    {
     "data": {
      "text/plain": [
       "True"
      ]
     },
     "execution_count": 16,
     "metadata": {
      "tags": []
     },
     "output_type": "execute_result"
    }
   ],
   "source": [
    "\"A\" < \"a\""
   ]
  },
  {
   "cell_type": "code",
   "execution_count": null,
   "metadata": {
    "id": "3Rxe7hgeQ8SB",
    "outputId": "6420b558-0957-4a13-c420-bea866b19eb1"
   },
   "outputs": [
    {
     "data": {
      "text/plain": [
       "True"
      ]
     },
     "execution_count": 17,
     "metadata": {
      "tags": []
     },
     "output_type": "execute_result"
    }
   ],
   "source": [
    "\"21\" > \"100\""
   ]
  },
  {
   "cell_type": "markdown",
   "metadata": {
    "id": "Bsfds-7_Q8SD"
   },
   "source": [
    "The logic is the same as lexicographic ordering (a.k.a. \"alphabetizing\"), with the comparison examining successive characters in each string until one character is smaller than the other or one of the character sequences has been exhausted. So, since \"2\" is greater than \"1\", \"21\" is greater than \"100\". \n",
    "\n",
    "> **Heads Up:** This is yet another example where data types matter. Think about how sorting string-encoded numbers (like \"900\" or \"899.2\") is different from sorting floats (like 900.0 or 899.2). Further, you can't mix strings and floats. "
   ]
  },
  {
   "cell_type": "markdown",
   "metadata": {},
   "source": [
    "和字典序排序（按字母顺序排列）的原理相同，Python会从左到右逐个比较每个字符串的大小，直到某一轮能分出大小或某一边的字符序列耗尽。因为字符串 “2” 已经大于字符串 “1”，所以 “21” 比 “100” 大.\n",
    "\n",
    ">**注意**上述例子也可以证明数据类型的重要性。字符串 ”900” 和 ”899.2” 做比较与浮点数 900.0 和 899.2 作比较完全不同。因此，字符串和浮点数绝不能混淆."
   ]
  },
  {
   "cell_type": "markdown",
   "metadata": {
    "id": "mehjNX3EQ8SD"
   },
   "source": [
    "### **The `in` Operator**"
   ]
  },
  {
   "cell_type": "markdown",
   "metadata": {},
   "source": [
    "### **`in` 运算符**"
   ]
  },
  {
   "cell_type": "markdown",
   "metadata": {
    "id": "_Egmzfz8Q8SE"
   },
   "source": [
    "The `in` operator is used to ask the question: is x in the sequence? We can use it to determine if a string is a substring of another string:"
   ]
  },
  {
   "cell_type": "markdown",
   "metadata": {},
   "source": [
    "`in` 运算符用于询问：某个字符（串）x 是否在序列中？我们可以用 in 运算符检查某个字符串是否是另一个字符串的子字符串："
   ]
  },
  {
   "cell_type": "code",
   "execution_count": null,
   "metadata": {
    "id": "anCUjtvMQ8SE",
    "outputId": "7f87960f-9ea9-431b-e1fb-954160667028"
   },
   "outputs": [
    {
     "name": "stdout",
     "output_type": "stream",
     "text": [
      "False\n",
      "True\n"
     ]
    }
   ],
   "source": [
    "x = \"Google is king of Silicon Valley ... but Apple was there first\"\n",
    "print(\"Microsoft\" in x)\n",
    "print(\"Apple\" in x)"
   ]
  },
  {
   "cell_type": "markdown",
   "metadata": {
    "id": "9nU4JFBBQ8SG"
   },
   "source": [
    "Note that the `in` keyword is not new to us. It's in every `for` loop. However, in a `for` loop it is _assigning_ the loop variable (`c`) to each item in the sequence (`x`), one item at a time. It's not asking. It's doing.    "
   ]
  },
  {
   "cell_type": "markdown",
   "metadata": {},
   "source": [
    "注意 `in` 这个运算符对我们来说并不陌生，它也用于 for 循环中。然而，在 `for` 循环中，in 是将循环变量 (`c`) _分配_ 给序列 (`x`) 中的每个项，每次指向一项。`for` 循环中的 `in` 不是在询问，而是在执行操作."
   ]
  },
  {
   "cell_type": "markdown",
   "metadata": {
    "id": "dLsY1sPTQ8SG"
   },
   "source": [
    "### **`%` 运算符**\n",
    "One of the more powerful string operators is `%`, which allows us to insert values into the middle of a string. (Technically, it generates a new string but conceptually it inserts into it.)"
   ]
  },
  {
   "cell_type": "markdown",
   "metadata": {},
   "source": [
    "### **The `%` Operator**\n",
    "`%` 是一个功能更强大的运算符。它允许我们将某个值插入到字符串中。严格来讲，这个过程生成了一个新的字符串，但说它把值插到字符串中，也确实没错"
   ]
  },
  {
   "cell_type": "code",
   "execution_count": null,
   "metadata": {
    "id": "SzOxKS5wQ8SH",
    "outputId": "b8124d46-c593-4458-e49d-e6be9bd96d18"
   },
   "outputs": [
    {
     "data": {
      "text/plain": [
       "'Google is king of Silicon Valley ... but Microsoft was there first'"
      ]
     },
     "execution_count": 19,
     "metadata": {
      "tags": []
     },
     "output_type": "execute_result"
    }
   ],
   "source": [
    "\"Google is king of Silicon Valley ... but %s was there first\" % 'Microsoft' "
   ]
  },
  {
   "cell_type": "markdown",
   "metadata": {
    "id": "JOo9tnplQ8SI"
   },
   "source": [
    "The `%s` is a placeholder for where to insert the string 'Microsoft'. Other placeholders like `%d` (for decimals) `%i` (for integers), or `%g` for (for floating point numbers) exist for various other types of data. It is possible to use multiple placeholders in the same string if we supply a **tuple** on the right hand side. We will cover tuples in Lesson 10, but you can get the general idea from this example.    "
   ]
  },
  {
   "cell_type": "markdown",
   "metadata": {},
   "source": [
    "上图中，`%s` 是一个占位符，用于之后插入字符串 ‘Microsoft’。Python也有用于其他数据类型的占位符，如用于插入十进制数的 `%d`、用于插入整数的 `%i`、用于插入浮点数的 `%g`。一个字符串中可以用多个占位符，只需在右侧加一个**元组**。之后的第10课会细讲元组的用法，但大家可以先在下图的例子中感受一下.`\n"
   ]
  },
  {
   "cell_type": "code",
   "execution_count": null,
   "metadata": {
    "id": "dE2lsgqTQ8SJ",
    "outputId": "e997d72a-8fe1-40f8-a37c-e8e465d6a2bb"
   },
   "outputs": [
    {
     "data": {
      "text/plain": [
       "'Google is king of Silicon Valley ... but Microsoft was there first'"
      ]
     },
     "execution_count": 20,
     "metadata": {
      "tags": []
     },
     "output_type": "execute_result"
    }
   ],
   "source": [
    "\"%s is king of Silicon Valley ... but %s was there first\" % ('Google', 'Microsoft')"
   ]
  },
  {
   "cell_type": "markdown",
   "metadata": {},
   "source": [
    "### **f-string Expressions**\n",
    "f-Strings allow us to take text templates even further, replacing `%` codes with named **variable placeholders**. It also eliminates the need to know the data type of each item being inserted in advance. The f-string expression takes care of coverting everything to strings first. This is similar to how `print(1,\"2\")` works just fine but `print(1 + \"2\")` throws an error; using the comma form of the `print()` call converts each argument to a string before printing."
   ]
  },
  {
   "cell_type": "markdown",
   "metadata": {},
   "source": [
    "### **f-string 表达式**\n",
    "f-string 表达式用**变量占位符**替换 `%` 运算符，帮助我们进一步处理文本模板。用 f-string 表达式插入数据前，无需事先了解插入的数据类型。它会先把所有内容转换为字符串。这和 print() 函数的原理类似。`print(1,”2”)` 可以正常运行，但 `print(1 + ”2”)` 会报错。在`print()` 的例子中，逗号将所有输入的参数变成了字符串，再进行输出；f-string 也是如此."
   ]
  },
  {
   "cell_type": "code",
   "execution_count": 4,
   "metadata": {},
   "outputs": [
    {
     "data": {
      "text/plain": [
       "'Google is king of Silicon Valley ... but Microsoft was there first'"
      ]
     },
     "execution_count": 4,
     "metadata": {},
     "output_type": "execute_result"
    }
   ],
   "source": [
    "company1 = \"Google\"\n",
    "company2 = \"Microsoft\"\n",
    "f\"{company1} is king of Silicon Valley ... but {company2} was there first\""
   ]
  },
  {
   "cell_type": "markdown",
   "metadata": {
    "id": "i0WPzeGhQ8SK"
   },
   "source": [
    "### **Pulse Check ...**\n",
    "**1. Why doesn't this expression return `True`?**\n",
    "```python\n",
    "\"a\" in \"Apple\"\n",
    "```"
   ]
  },
  {
   "cell_type": "markdown",
   "metadata": {},
   "source": [
    "### **脉冲检查 ...**\n",
    "**1. 为什么下面的表达式返回结果不为`True`?**\n",
    "```python\n",
    "\"a\" in \"Apple\"\n",
    "```"
   ]
  },
  {
   "cell_type": "markdown",
   "metadata": {
    "id": "efk1mqCfQ8SL"
   },
   "source": [
    "YOUR ANSWER HERE 在此输入你的答案"
   ]
  },
  {
   "cell_type": "markdown",
   "metadata": {
    "tags": []
   },
   "source": [
    "\n",
    "> Because Python strings are case sensitive.\n",
    "\n",
    "> 因为在Python的字符串中，字母的大小写会影响结果."
   ]
  },
  {
   "cell_type": "markdown",
   "metadata": {
    "id": "7eos4fuXQ8SL",
    "tags": []
   },
   "source": [
    "**2. Explain the output of the following code. How did Python choose the sequence?**"
   ]
  },
  {
   "cell_type": "markdown",
   "metadata": {},
   "source": [
    "**2. 解释下面代码的输出。Python是如何选择序列的?**"
   ]
  },
  {
   "cell_type": "code",
   "execution_count": null,
   "metadata": {
    "id": "3xwPUxOaQ8SL",
    "outputId": "7a77f95f-b18d-4961-d40b-7dc17baa5c87"
   },
   "outputs": [
    {
     "name": "stdout",
     "output_type": "stream",
     "text": [
      " \n",
      "!\n",
      "G\n",
      "S\n",
      "a\n",
      "g\n",
      "o\n",
      "s\n",
      "t\n"
     ]
    }
   ],
   "source": [
    "for c in sorted(\"Go Stags!\"):\n",
    "    print(c)"
   ]
  },
  {
   "cell_type": "markdown",
   "metadata": {
    "id": "UCyVAFEVQ8SN"
   },
   "source": [
    "YOUR ANSWER HERE 在此输入你的答案"
   ]
  },
  {
   "cell_type": "markdown",
   "metadata": {
    "tags": []
   },
   "source": [
    "\n",
    "> The `sorted()` function sorts the characters before the for loop iterates over them.\n",
    "\n",
    "> 在循环前，`sorted()` 函数会先从小到大给字符排序。"
   ]
  },
  {
   "cell_type": "markdown",
   "metadata": {
    "id": "o4aGZVweQ8SN"
   },
   "source": [
    "**3. Study the two operations below. The first one fails (with an error) while the second one executes cleanly. Why do you suppose that is true?** Hint: The answer says a lot about the nature of strings versus numbers for encoding data.\n",
    "."
   ]
  },
  {
   "cell_type": "markdown",
   "metadata": {},
   "source": [
    "**3. 研究以下两个运算符。第一个有一处问题，第二个可以正常运行。为什么第二个运算符无误？** 提示：答案与编码数据的性质（字符串 / 数字）相关.\n",
    "```python\n",
    "\"The Red Sox have %d World Series Championships\" % \"9\"\n",
    "\"The Red Sox have %s World Series Championships\" % 9\n",
    "```"
   ]
  },
  {
   "cell_type": "markdown",
   "metadata": {
    "id": "ALaeCKUBQ8SN"
   },
   "source": [
    "YOUR ANSWER HERE 在此输入你的答案"
   ]
  },
  {
   "cell_type": "markdown",
   "metadata": {
    "tags": []
   },
   "source": [
    "\n",
    "> Because just about anything can be converted into a string but not vice-versa. \n",
    "\n",
    "> 因为所有数据类型都能转换为字符串，但字符串并不能转换成任意数据类型."
   ]
  },
  {
   "cell_type": "markdown",
   "metadata": {
    "id": "LPa4eA8ZQ8SO"
   },
   "source": [
    "---\n",
    "## **String Methods**"
   ]
  },
  {
   "cell_type": "markdown",
   "metadata": {},
   "source": [
    "---\n",
    "## **字符串方法**"
   ]
  },
  {
   "cell_type": "markdown",
   "metadata": {},
   "source": [
    "Remember the discussion of essentialism at the start of Lesson 2? There we said that every entity has both form and function. In Python every value, function, module, or other fundamental element is an [object](https://docs.python.org/3/reference/datamodel.html#data-model). Objects have two sides: state and behavior. An object's state (data) is implemented with **instance variables** that act like properties or features. An object's behavior (functionality) is implemented through its **methods**, a set of data type-specific functions that always take the object itself as a parameter. \n",
    "\n",
    "Let's take, for example, the number 2.5. Clearly the number has state (i.e., 2.5) but it also has behavior. We can ask it, for example to add another number to itself (which is how the `+` operator really works) or we can ask it to provide the simplest possible equivalent fraction (a.k.a., \"integer ratio\"):"
   ]
  },
  {
   "cell_type": "markdown",
   "metadata": {
    "id": "XwFSgMlvQ8SO"
   },
   "source": [
    "还记得第二课开头提到的实质主义吗？每个实体都有其形式和功能。在Python中，每个值、功能、模块或其他基本元素都可以称作一个对象。一个对象有两个方面：状态和行为。对象的状态即数据，储存在**实例变量**中；每个实例变量表示某种特定属性或特征。对象的行为即功能，通过**方法**实现；方法指针对特定数据类型创建的函数，其参数通常包括对象本身（以便访问和操作对象的状态）。. \n",
    "\n",
    "以数字 2.5 为例。显然，这个数字的状态是 2.5。但数字也有行为。我们可以对它提出请求，例如要求它将另一个数字加到自身上（这实际上是 + 运算符的原理），也可以要求它提供可能的最简分数的等价形式（即“整数比”）:"
   ]
  },
  {
   "cell_type": "code",
   "execution_count": null,
   "metadata": {
    "id": "nxrfSXX2Q8SP",
    "outputId": "417dff72-fed5-491a-c515-41c7734cdc59"
   },
   "outputs": [
    {
     "data": {
      "text/plain": [
       "(5, 2)"
      ]
     },
     "execution_count": 22,
     "metadata": {
      "tags": []
     },
     "output_type": "execute_result"
    }
   ],
   "source": [
    "2.5.as_integer_ratio()"
   ]
  },
  {
   "cell_type": "markdown",
   "metadata": {
    "id": "hATgjOPrQ8SR"
   },
   "source": [
    "In human terms this is saying that 2.5 = 5/2. How did the `as_integer_ratio()` method know what number to convert? The one it is attached to, which in this case is 2.5. We tell Python that the method is attached via \"dot notation\":\n",
    "```python\n",
    "value.method( arguments )\n",
    "```"
   ]
  },
  {
   "cell_type": "markdown",
   "metadata": {},
   "source": [
    "人当然知道 2.5 = 5/2，但“方法” `as_integer_ratio()`如何知道要转换哪个数字呢？上图的例子中， `as_integer_ratio()`转换的是2.5。我们通过“点符号”告诉 Python，“方法”依附于2.5进行:\n",
    "```python\n",
    "value.method( arguments )\n",
    "```"
   ]
  },
  {
   "cell_type": "markdown",
   "metadata": {
    "id": "lORzfXleQ8SR"
   },
   "source": [
    "The actual method is defined much like a function, only it always has one extra `self` parameter that never appears in the call:\n",
    "```python\n",
    "def method( self, parameters):\n",
    "    ...\n",
    "```\n",
    "\n",
    "So what does this have to do with strings? The string data type has a large number of built-in [string methods](https://docs.python.org/3/library/stdtypes.html#string-methods):\n",
    "- `upper()`, `lower()`, `capitalize()`\n",
    "- `strip()`, `lstrip()`, `rstrip()`\n",
    "- `center()`, `ljust()`, `rjust()`\n",
    "- `count()`, `find()`, `rfind()`, `index()`, `rindex()`\n",
    "- `replace()`, `format()`\n",
    "\n",
    "and many more. Most are similar to their equivalents in MS Excel. Then there are a few \"magic\" ones like `__add__()`,  which says what the `+` operator is supposed to do. \n"
   ]
  },
  {
   "cell_type": "markdown",
   "metadata": {},
   "source": [
    "实际的“方法”与函数类似，只是比函数多一个参数 `Self`。这个参数在调用时不会出现:\n",
    "```python\n",
    "def method( self, parameters):\n",
    "    ...\n",
    "```\n",
    "\n",
    "上述这些和字符串又有什么关系呢？Python 针对字符串数据类型，构建了有大量内置的字符串方法:\n",
    "- `upper()`, `lower()`, `capitalize()`\n",
    "- `strip()`, `lstrip()`, `rstrip()`\n",
    "- `center()`, `ljust()`, `rjust()`\n",
    "- `count()`, `find()`, `rfind()`, `index()`, `rindex()`\n",
    "- `replace()`, `format()`\n",
    "\n",
    "Python中还有很多其他“方法”，大多数与 Excel表格中的等效方法类似。还有一些神奇的“方法”，比如 `add()` 说明了 `+` 运算符 应该做什么. \n"
   ]
  },
  {
   "cell_type": "markdown",
   "metadata": {
    "id": "07YvK7VbQ8SR"
   },
   "source": [
    "### **The `find` Method**\n",
    "One of the more commonly-used string methods is `find()`, which returns the position of the first instance of a substring within a longer string:"
   ]
  },
  {
   "cell_type": "markdown",
   "metadata": {},
   "source": [
    "### **`find` 方法**\n",
    "`find()` 是最常见的一个字符串方法，可以在长字符串中查找子字符串第一个字符的位置:"
   ]
  },
  {
   "cell_type": "code",
   "execution_count": null,
   "metadata": {
    "id": "mBb415VtQ8SS",
    "outputId": "f19a6594-5e85-4405-ea7e-10b1bfd13475"
   },
   "outputs": [
    {
     "data": {
      "text/plain": [
       "20"
      ]
     },
     "execution_count": 23,
     "metadata": {
      "tags": []
     },
     "output_type": "execute_result"
    }
   ],
   "source": [
    "\"Every Good Boy Does Fine\".find(\"Fine\")"
   ]
  },
  {
   "cell_type": "markdown",
   "metadata": {},
   "source": [
    "> **Note:** In English this phrase \"**E**very **G**ood **B**oy **D**oes **F**ine\" has each of the musical notes E G B D F in order. "
   ]
  },
  {
   "cell_type": "markdown",
   "metadata": {},
   "source": [
    "> **题外话：** 上面这句“**E**very **G**ood **B**oy **D**oes **F**ine”字面意思是“每个好男孩都很好”。但有意思的是，每个单词的首字母“E G B D F”正好依次代表了五线谱从低到高的五根线。"
   ]
  },
  {
   "cell_type": "markdown",
   "metadata": {
    "id": "IojCpy2zQ8SU"
   },
   "source": [
    "If we want `find()` to begin looking somewhere other than the beginning of the string then we can pass the starting position as a second argument. We can then slice out a word out of the string, like this ..."
   ]
  },
  {
   "cell_type": "markdown",
   "metadata": {},
   "source": [
    "如果我们希望 `find()` 从字符串的其他位置开始查找，就可以将这个位置作为起始位置，并作为第二个参数写入 `find()` 。通过这种方法，可以在字符串中切分出一个词"
   ]
  },
  {
   "cell_type": "code",
   "execution_count": null,
   "metadata": {
    "id": "aSlU535XQ8SU",
    "outputId": "008d1f55-0a3a-4619-bc4a-8f322d52be11"
   },
   "outputs": [
    {
     "data": {
      "text/plain": [
       "'Apple'"
      ]
     },
     "execution_count": 24,
     "metadata": {
      "tags": []
     },
     "output_type": "execute_result"
    }
   ],
   "source": [
    "# pick out a word that fits the pattern 'but '+word+\" \"\n",
    "x = \"Google is king of Silicon Valley ... but Apple was there first\"\n",
    "start_slice = x.find('but ') + len('but ') # finds the next position after the 'but ' 找到 ‘but ‘后第一个字符的位置\n",
    "end_slice = x.find(\" \",start_slice)        # finds the next space after start_slice 从start_slice开始，找到下一个空格\n",
    "x[start_slice:end_slice]                   # the actual slice 实际切分出的词"
   ]
  },
  {
   "cell_type": "markdown",
   "metadata": {
    "id": "edn4VlkuQ8SW"
   },
   "source": [
    "While `find()` is certainly useful, it is not the only way to parse strings. You can, of course, traverse the string using a `for` loop (not recommended) or use the **regular expressions** module to search for arbitrarily complex text patterns. Regular expressions are covered in chapter 11 of the Py4E book.   "
   ]
  },
  {
   "cell_type": "markdown",
   "metadata": {},
   "source": [
    "`find ()` 确实好用，但不是解析字符串的唯一方法。大家可以用 `for` 循环 实现遍历（不推荐），也可以用**正则表达式**搜索任意复杂文本。教材第十一章会介绍正则表达式的用法"
   ]
  },
  {
   "cell_type": "markdown",
   "metadata": {},
   "source": [
    "### **The `split` and `join` Methods**\n",
    "The `split` method is used to break a string apart into a list of substrings. "
   ]
  },
  {
   "cell_type": "markdown",
   "metadata": {},
   "source": [
    "### **`split` 和 `join` 方法**\n",
    "`Split` 方法可以将字符串拆分成一个由子字符串构成的列表. "
   ]
  },
  {
   "cell_type": "code",
   "execution_count": 5,
   "metadata": {},
   "outputs": [
    {
     "data": {
      "text/plain": [
       "['Every', 'Good', 'Boy', 'Does', 'Fine']"
      ]
     },
     "execution_count": 5,
     "metadata": {},
     "output_type": "execute_result"
    }
   ],
   "source": [
    "'Every Good Boy Does Fine'.split(' ')"
   ]
  },
  {
   "cell_type": "markdown",
   "metadata": {},
   "source": [
    "The method looks the given separator (here given as the space character `' '`), chopping the string at each occurrence.\n",
    "\n",
    "The `join` method does the reverse of `split`:"
   ]
  },
  {
   "cell_type": "markdown",
   "metadata": {},
   "source": [
    "这种“方法”会查找给定的分隔符，并将字符串在分隔符处断开。上图的例子中，子字符串空格 `’ ’` 就是分隔符。\n",
    "\n",
    "`join` 方法的功能则与 `split` 相反:"
   ]
  },
  {
   "cell_type": "code",
   "execution_count": 6,
   "metadata": {},
   "outputs": [
    {
     "data": {
      "text/plain": [
       "'Every Good Boy Does Fine'"
      ]
     },
     "execution_count": 6,
     "metadata": {},
     "output_type": "execute_result"
    }
   ],
   "source": [
    "' '.join(['Every', 'Good', 'Boy', 'Does', 'Fine'])"
   ]
  },
  {
   "cell_type": "markdown",
   "metadata": {},
   "source": [
    "It concatenates a sequence of strings (`['Every', 'Good', 'Boy', 'Does', 'Fine']`) into a single string `'Every Good Boy Does Fine'`. The separator string (`' '`) is inserted between each pair of items in the sequence.\n",
    "\n",
    "> **Heads Up:** Note that the `join` method is called on the *separator* this time. That is exactly backwards from the `split` method. "
   ]
  },
  {
   "cell_type": "markdown",
   "metadata": {},
   "source": [
    "`join` 可以把一连串字符串 (`['Every', 'Good', 'Boy', 'Does', 'Fine']`) 合并为一个单独的字符串 `'Every Good Boy Does Fine'`。分隔符(`' '`) 插入到每两个子字符串之间，将它们顺序串联起来.\n",
    "\n",
    "> **Heads Up:** Note that the `join` method is called on the *separator* this time. That is exactly backwards from the `split` method\n",
    "> **注意** 在 `join` 方法上调用*分隔符*，实现的功能恰好与在 `split` 上调用相反. "
   ]
  },
  {
   "cell_type": "markdown",
   "metadata": {
    "id": "MXrUa-sNQ8SW"
   },
   "source": [
    "### **Pulse Check ...**\n",
    "**Write an expression to count the number of sentences in the Gettysburg address.** Assume that each sentence ends with a period. It is possible to use just one expression (without a statement), though it's okay to use an assignment statement and an expression. Any more than that is just verbose!\n",
    "\n",
    "> Four score and seven years ago our fathers brought forth on this continent, a new nation, conceived in Liberty, and dedicated to the proposition that all men are created equal.\n",
    "Now we are engaged in a great civil war, testing whether that nation, or any nation so conceived and so dedicated, can long endure. We are met on a great battle-field of that war. We have come to dedicate a portion of that field, as a final resting place for those who here gave their lives that that nation might live. It is altogether fitting and proper that we should do this.\n",
    ">\n",
    ">But, in a larger sense, we can not dedicate—we can not consecrate—we can not hallow—this ground. The brave men, living and dead, who struggled here, have consecrated it, far above our poor power to add or detract. The world will little note, nor long remember what we say here, but it can never forget what they did here. It is for us the living, rather, to be dedicated here to the unfinished work which they who fought here have thus far so nobly advanced. It is rather for us to be here dedicated to the great task remaining before us—that from these honored dead we take increased devotion to that cause for which they gave the last full measure of devotion—that we here highly resolve that these dead shall not have died in vain—that this nation, under God, shall have a new birth of freedom—and that government of the people, by the people, for the people, shall not perish from the earth."
   ]
  },
  {
   "cell_type": "markdown",
   "metadata": {},
   "source": [
    "### **脉冲检查 ...**\n",
    "**写一个表达式，来计算下面这篇林肯的葛底斯堡演说共有多少句话**。假设每句话都以句号结尾，我们就可以不写语句、只用一个表达式完成计数。当然用一个赋值语句加一个表达式也可以实现功能，但是多余的语句会让代码变得冗长!\n",
    "\n",
    ">八十七年前，我们先辈在这个大陆上建立了一个新国家，它孕育于自由之中，奉行一切人生来平等。现在，我们正处于一场伟大的内战之中，这场战争考验着这个国家，或者任何一个如此构想、如此献身的国家，是否能够长久地存在下去。我们在这场战争的战场上相遇。我们是来献祭这片战场的一部分 作为那些为了国家而献身的人们的最终安息之地，我们这样做完全合理。广而言之，我们无法奉献/献祭--无法神圣化这片土地。在这里奋斗过的勇士们，无论是生是死，都已将这片土地奉献给了我们，远非我们微薄之力所能增减。世人不会注意到，也不会长久记住我们在这里所说的话，但却永远不会忘记他们在这里所做的一切。倒是我们这些活着的人，要在这里献身于他们在这里战斗过的人迄今为止如此崇高地推进的未竟事业。我们更应该在此献身于摆在我们面前的伟大任务--从这些光荣的逝者身上，我们更加坚定地献身于他们为之奉献了最后全部心血的事业--我们在此下定决心，这些逝者不会白白牺牲--在上帝的庇佑下，这个国家将迎来自由的新生--民有、民治、民享的政府不会从地球上消失."
   ]
  },
  {
   "cell_type": "code",
   "execution_count": null,
   "metadata": {
    "id": "Sfa14PIWQ8SW"
   },
   "outputs": [],
   "source": [
    "# YOUR CODE HERE 在此输入你的代码\n"
   ]
  },
  {
   "cell_type": "code",
   "execution_count": null,
   "metadata": {
    "tags": []
   },
   "outputs": [],
   "source": [
    "\n",
    "'''\n",
    "Four score and seven years ago our fathers brought forth on this continent, a new nation, conceived in Liberty, and dedicated to the proposition that all men are created equal. Now we are engaged in a great civil war, testing whether that nation, or any nation so conceived and so dedicated, can long endure. We are met on a great battle-field of that war. We have come to dedicate a portion of that field, as a final resting place for those who here gave their lives that that nation might live. It is altogether fitting and proper that we should do this.\n",
    "\n",
    "But, in a larger sense, we can not dedicate—we can not consecrate—we can not hallow—this ground. The brave men, living and dead, who struggled here, have consecrated it, far above our poor power to add or detract. The world will little note, nor long remember what we say here, but it can never forget what they did here. It is for us the living, rather, to be dedicated here to the unfinished work which they who fought here have thus far so nobly advanced. It is rather for us to be here dedicated to the great task remaining before us—that from these honored dead we take increased devotion to that cause for which they gave the last full measure of devotion—that we here highly resolve that these dead shall not have died in vain—that this nation, under God, shall have a new birth of freedom—and that government of the people, by the people, for the people, shall not perish from the earth.\n",
    "'''.count(\".\")"
   ]
  },
  {
   "cell_type": "code",
   "execution_count": null,
   "metadata": {
    "tags": []
   },
   "outputs": [],
   "source": [
    "\n",
    "'''\n",
    "八十七年前，我们先辈在这个大陆上建立了一个新国家，它孕育于自由之中，奉行一切人生来平等。现在，我们正处于一场伟大的内战之中，这场战争考验着这个国家，或者任何一个如此构想、如此献身的国家，是否能够长久地存在下去。我们在这场战争的战场上相遇。我们是来献祭这片战场的一部分 作为那些为了国家而献身的人们的最终安息之地，我们这样做完全合理。广而言之，我们无法奉献/献祭--无法神圣化这片土地。在这里奋斗过的勇士们，无论是生是死，都已将这片土地奉献给了我们，远非我们微薄之力所能增减。世人不会注意到，也不会长久记住我们在这里所说的话，但却永远不会忘记他们在这里所做的一切。倒是我们这些活着的人，要在这里献身于他们在这里战斗过的人迄今为止如此崇高地推进的未竟事业。我们更应该在此献身于摆在我们面前的伟大任务--从这些光荣的逝者身上，我们更加坚定地献身于他们为之奉献了最后全部心血的事业--我们在此下定决心，这些逝者不会白白牺牲--在上帝的庇佑下，这个国家将迎来自由的新生--民有、民治、民享的政府不会从地球上消失.\n",
    "'''.count(\".\")"
   ]
  },
  {
   "cell_type": "markdown",
   "metadata": {
    "id": "EutsdZX_Q-dS"
   },
   "source": [
    "---\n",
    "## **Before you go ... Save your notebook to be sure it is up to date.**"
   ]
  },
  {
   "cell_type": "markdown",
   "metadata": {},
   "source": [
    "---\n",
    "## **离开前，确保你保存了最新的笔记本.**"
   ]
  },
  {
   "cell_type": "markdown",
   "metadata": {
    "id": "ozImChaxpkCw"
   },
   "source": [
    "---\n",
    "> ## Every Tee Shirt Has a Story\n",
    "> ABOUT THE 1989 GENETIC ALGORITHMS CONFERENCE   \n",
    "> This shirt has some significance for me. It marked when I started to think a little differently about the world around me. I had just finished my masters studies in an area now called evolutionary computation (i.e., solving math problems with simulated sexual reproduction) but then simply called Genetic Algorithms. At the conference I got a prime speaking spot, with several kinda famous names in the audience and my overhead slides projected 15 feet tall behind me. I was going all out. I'd even paid to get the slides printed in color! Up on stage I felt like General [Patton](https://www.hollywood.com/general/patton-movie-stills-57256250/#/ms-1915/1) lecturing to the troops. \n",
    ">\n",
    ">I got about halfway through my slides, just about the point where I was about to quote John Holland, the founder of the field, when I spotted him sitting in the first row, watching intently. I didn't expect that. I froze for about 20 seconds, or at least that's what it felt like; I have no idea. I guess he figured out what happened because he motioned for me to continue with my quote. Afterwards he bought me lunch. He turned out to be a very nice and patient man, a true educator as well as a world famous scientist.\n",
    ">\n",
    "> The conference tee shirt -- we all wore it in the group photo -- features binary code evolving into the words \"Genetic Algorithms.\" It's held up pretty well for being over 30 years old.        \n",
    "\n",
    "![L6 Tee Front](./Photos/L06_TeeFront.jpeg)\n",
    "\n",
    "## Copyright &copy; 2020 Christopher Huntley. All rights reserved. "
   ]
  },
  {
   "cell_type": "markdown",
   "metadata": {},
   "source": [
    "---\n",
    "> ## 每件t恤都有一个故事\n",
    "> 1989遗传算法会议   \n",
    "> 这件T恤对我有特殊意义，标志着我对周遭世界的看法发生了变化。当时我刚硕士毕业，学的专业放到现在应该叫“进化计算”，也就是用计算机模拟自然生物繁殖，从而解决数学问题。当时这个专业叫遗传算法。在遗传算法会议上，我有幸获得了一个重要的演讲机会，站在15英尺高的幻灯片前，当着数位业界大牛的面发言。我全力以赴，甚至自费彩打幻灯片！当时我觉得自己就像是好莱坞影片中的巴顿将军，对着下面的士兵发言. \n",
    ">\n",
    ">我讲到一半，刚想引用遗传算法之父约翰·霍兰德（John Holland）的一句话，就瞥到他坐在第一排，意味深长地看着我。我完全没想到他会在现场。我感觉自己在台上愣了快半分钟，大脑完全宕机。他应该知道我在讲什么，因为在我引用他的话时，他朝我动了动。演讲结束后，霍兰德邀我共进午餐。我才发现他人非常好，很有耐心，不仅是个举世闻名的科学家，也是一位名副其实的教育家.\n",
    ">\n",
    "> 我们在照片里都穿着大会的文化衫，上面是由二进制数写的“基因算法”。三十多年来，这件T恤仍旧保存完好.        \n",
    "\n",
    "\n",
    "## Copyright &copy; 2020 Christopher Huntley. All rights reserved."
   ]
  }
 ],
 "metadata": {
  "colab": {
   "collapsed_sections": [
    "Knsqeg8oQ8Rg"
   ],
   "name": "L06_Strings.ipynb",
   "provenance": []
  },
  "kernelspec": {
   "display_name": "Python 3 (ipykernel)",
   "language": "python",
   "name": "python3"
  },
  "language_info": {
   "codemirror_mode": {
    "name": "ipython",
    "version": 3
   },
   "file_extension": ".py",
   "mimetype": "text/x-python",
   "name": "python",
   "nbconvert_exporter": "python",
   "pygments_lexer": "ipython3",
   "version": "3.8.15"
  }
 },
 "nbformat": 4,
 "nbformat_minor": 4
}
