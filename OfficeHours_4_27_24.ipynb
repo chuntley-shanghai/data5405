{
 "cells": [
  {
   "cell_type": "markdown",
   "id": "ee135bd2-7a53-4fc6-867f-67bddbc2ff0c",
   "metadata": {},
   "source": [
    "# Q1 江斯才\n",
    "Sicai Jiang\n",
    "\n",
    "Lesson9\n",
    "Help explain these two pieces of code, why infinite loop and finite loop? Thank you, Professor Huntley!\n",
    "\n",
    "第9课\n",
    "帮助讲解这两段代码，为什么无限循环和没有无限循环？谢谢，亨特利教授！"
   ]
  },
  {
   "cell_type": "code",
   "execution_count": 19,
   "id": "4e60102c-e0d5-48b4-88be-70bf5e144174",
   "metadata": {},
   "outputs": [
    {
     "name": "stderr",
     "output_type": "stream",
     "text": [
      "IOPub data rate exceeded.\n",
      "The Jupyter server will temporarily stop sending output\n",
      "to the client in order to avoid crashing it.\n",
      "To change this limit, set the config variable\n",
      "`--ServerApp.iopub_data_rate_limit`.\n",
      "\n",
      "Current values:\n",
      "ServerApp.iopub_data_rate_limit=1000000.0 (bytes/sec)\n",
      "ServerApp.rate_limit_window=3.0 (secs)\n",
      "\n"
     ]
    },
    {
     "ename": "KeyboardInterrupt",
     "evalue": "",
     "output_type": "error",
     "traceback": [
      "\u001b[0;31m---------------------------------------------------------------------------\u001b[0m",
      "\u001b[0;31mKeyboardInterrupt\u001b[0m                         Traceback (most recent call last)",
      "Cell \u001b[0;32mIn[19], line 8\u001b[0m\n\u001b[1;32m      6\u001b[0m \u001b[38;5;28;01mfor\u001b[39;00m i \u001b[38;5;129;01min\u001b[39;00m x:      \u001b[38;5;66;03m# <--- x is a mutable list, with a generator that can go forever\u001b[39;00m\n\u001b[1;32m      7\u001b[0m     add_0(x)     \u001b[38;5;66;03m# <--- adds an item to list, making it longer\u001b[39;00m\n\u001b[0;32m----> 8\u001b[0m     \u001b[38;5;28;43mprint\u001b[39;49m\u001b[43m(\u001b[49m\u001b[43mx\u001b[49m\u001b[43m)\u001b[49m\n",
      "\u001b[0;31mKeyboardInterrupt\u001b[0m: "
     ]
    }
   ],
   "source": [
    "# The Infinite Loop Code\n",
    "def add_0(lst):\n",
    "    lst += [0]   # <--- adds a zero to the list lst\n",
    "\n",
    "x = [1,2,3,4]\n",
    "for i in x:      # <--- x is a mutable list, with a generator that can go forever\n",
    "    add_0(x)     # <--- adds an item to list, making it longer\n",
    "    print(x)"
   ]
  },
  {
   "cell_type": "code",
   "execution_count": 9,
   "id": "a230a614-e7ce-45be-b4ba-6c8ab0dd4737",
   "metadata": {},
   "outputs": [
    {
     "name": "stdout",
     "output_type": "stream",
     "text": [
      "[1, 2, 3, 4, 0]\n",
      "[1, 2, 3, 4, 0, 0]\n",
      "[1, 2, 3, 4, 0, 0, 0]\n",
      "[1, 2, 3, 4, 0, 0, 0, 0]\n"
     ]
    }
   ],
   "source": [
    "# The Infinite Loop Code, fixed\n",
    "def add_0(lst):\n",
    "    lst += [0]\n",
    "\n",
    "x = [1,2,3,4]\n",
    "for i in list(x):  # <--- makes a shallow copy of the list before iterating\n",
    "    add_0(x)       # <--- makes the orginal list longer but not the copy\n",
    "    print(x)"
   ]
  },
  {
   "cell_type": "markdown",
   "id": "341596cd-780e-4530-82fb-59b645d7cc1a",
   "metadata": {},
   "source": [
    "# Q2 江斯才\n",
    "Sicai Jiang\n",
    "\n",
    "Lesson 9\n",
    "Help explain in detail, about the courseware content: like associative arrays, dictionaries also have endless uses. Thank you, Professor Huntley!\n",
    "\n",
    "第9课\n",
    "帮忙详细讲解，关于课件内容：与关联数组一样，字典也有无穷无尽的用途。谢谢，亨特利教授！"
   ]
  },
  {
   "cell_type": "markdown",
   "id": "bca72900-9b3f-40d2-b626-4cca2f80acc0",
   "metadata": {},
   "source": [
    "By allowing us to look up items by key instead of by number, we allow new kinds of collections that would be much harder to create with lists. \n",
    "\n",
    "For example, consider this histogram. "
   ]
  },
  {
   "cell_type": "code",
   "execution_count": 18,
   "id": "047d2cf4-ed8d-47da-ad1c-c18e81d2eab6",
   "metadata": {},
   "outputs": [
    {
     "data": {
      "text/plain": [
       "{' ': 8,\n",
       " '.': 1,\n",
       " 'a': 1,\n",
       " 'b': 1,\n",
       " 'c': 1,\n",
       " 'd': 2,\n",
       " 'e': 4,\n",
       " 'f': 1,\n",
       " 'g': 1,\n",
       " 'h': 2,\n",
       " 'i': 1,\n",
       " 'j': 1,\n",
       " 'k': 1,\n",
       " 'l': 1,\n",
       " 'm': 1,\n",
       " 'n': 1,\n",
       " 'o': 4,\n",
       " 'p': 1,\n",
       " 'q': 1,\n",
       " 'r': 2,\n",
       " 't': 2,\n",
       " 'u': 2,\n",
       " 'v': 1,\n",
       " 'w': 1,\n",
       " 'x': 1,\n",
       " 'y': 1,\n",
       " 'z': 1}"
      ]
     },
     "execution_count": 18,
     "metadata": {},
     "output_type": "execute_result"
    }
   ],
   "source": [
    "letters = list(\"the quick brown fox jumped over the lazy dog.\")\n",
    "\n",
    "counts = { char:letters.count(char) for char in sorted(set(letters))}\n",
    "\n",
    "counts"
   ]
  },
  {
   "cell_type": "markdown",
   "id": "8cf23f96-b486-4347-bdc1-910022f03a1d",
   "metadata": {},
   "source": [
    "# Q3 江斯才\n",
    "Sicai Jiang\n",
    "\n",
    "Lesson 9\n",
    "Help to clarify: dict dictionary indexes use any hashable type of key (more on that later), not just integers.Thank you, Professor Huntley!\n",
    "\n",
    "第9课\n",
    "帮助具体讲解：dict 字典的索引使用任何可哈希类型的键（稍后详述）, 而不仅仅是整数。谢谢，亨特利教授！\n"
   ]
  },
  {
   "cell_type": "markdown",
   "id": "7e804a88-d6d6-46c5-8a71-8f550f27759e",
   "metadata": {},
   "source": [
    "Dictionaries use hashable keys for two reasons. \n",
    "\n",
    "1. Hashable data is by necessity immutable. It does not change once created. Just as we don't want variable names to change do to some unforseen side effect we don't want keys to change. \n",
    "2. Hashed keys can be searched very very very quickly. They can be sorted like numbers to allow binary search. This make them _almost_ as fast as a list but still mich more flexibe. "
   ]
  },
  {
   "cell_type": "code",
   "execution_count": null,
   "id": "bfe7f754-c6ac-4ce8-8f3a-9480d5a827b1",
   "metadata": {},
   "outputs": [],
   "source": []
  },
  {
   "cell_type": "markdown",
   "id": "7e21b8de-5d96-462c-9026-9c5541301ac8",
   "metadata": {},
   "source": [
    "# Q4 江斯才\n",
    "Sicai Jiang\n",
    "\n",
    "Lesson 9\n",
    "Help to clarify: \n",
    "You may be telling yourself \"Okay, so what? It seems like we could just use a list for that.\"\n",
    "They key here is that sets enforce some rules that are very useful for certain kinds of data analysis. \n",
    "- The no duplicates rule allows us to construct sets of **keys** without accidentally creating duplicates. So where might we care about that? With `dict` keys, for example. \n",
    "- The lack of ordering forces us to go beyond indexed (`[ ]`) access to items and instead use a proper iterator. It's just more Pythonic and less prone to certain classes of bugs. \n",
    "> **Heads Up:** The standard set iterator (used by `for` loops, etc.) traverses the items in ascending order. In other words `list(set( ... ))` is the same as `sorted(list(set( ... )))`. This can be useful if you want to treat a set like a list without having to sort it first.\n",
    "Thank you, Professor Huntley!\n",
    "\n",
    "第9课\n",
    "帮助讲解：\n",
    "你可能会对自己说：“好吧，那又怎样？我们好像只能用列表”。\n",
    "这里的关键在于，集合强制执行一些对于某些类型的数据分析非常有用的规则. \n",
    "- 没有重复项的规则使我们可以构建**键**集，且不会意外创建重复项。那在什么情况下我们需要注意这一 点呢？比如在`dict`字典键中。\n",
    "- 无序性使我们不再使用索引（`[]`）直接访问项目,而是使用适当的迭代器。这样更符合Python的风格,也更不容易出现某种错误。\n",
    "> **注意:** 标准集合迭代器（用于 for 循环等）按升序遍历项目，即，list(set( ... )) 等同于sorted(list(set(...))) 。如果你想要像列表一样处理集合但不想先对其进行排序，这会非常有用。\n",
    "谢谢，亨特利教授！"
   ]
  },
  {
   "cell_type": "markdown",
   "id": "d73737b9-ad46-4f7e-a4f7-92a75c643901",
   "metadata": {},
   "source": [
    "1. We don't want keys to have duplicates because we are using the keys as identifiers. We want a one-to-one and onto correspondence between the keys and the data. If we know a key then we can retrieve the data matches with that key. It never fails. If we allowed duplicates then we'd have ambiguity. Which data did you want for key 'xyz'? It would be unclear. \n",
    "2. `[ ]` can be used like integer positions because a hash is equivalent to a number. "
   ]
  },
  {
   "cell_type": "markdown",
   "id": "098d22d7-dd6a-4e45-bcba-8806dec6a46d",
   "metadata": {},
   "source": [
    "# Q5 江斯才\n",
    "Sicai Jiang\n",
    "\n",
    "Lesson 9\n",
    "Does the first b stand for byte in this code? \n",
    "```\n",
    "print(hash( b'Mary Had a Little Lamb' ))\n",
    "```\n",
    "Thank you, Professor Huntley!\n",
    "\n",
    "第9课\n",
    "在这条代码中第一个b代表byte吗？print(hash( b'Mary Had a Little Lamb' ))\n",
    "谢谢，亨特利教授"
   ]
  },
  {
   "cell_type": "markdown",
   "id": "715c8fa6-76c0-4897-a6c6-722997db150d",
   "metadata": {},
   "source": [
    "Yes, the b stands for byte. A byte array is a kind of mutable string. The data type is often used in low-level text processing. "
   ]
  },
  {
   "cell_type": "code",
   "execution_count": 21,
   "id": "13ce5502-cd6b-4840-9127-24bdb03e9c43",
   "metadata": {},
   "outputs": [
    {
     "name": "stdout",
     "output_type": "stream",
     "text": [
      "-354154623781326916\n"
     ]
    }
   ],
   "source": [
    "print(hash( b'Mary Had a Little Lamb' ))"
   ]
  },
  {
   "attachments": {
    "3601945b-45c8-4d7b-a262-f85bffa95b67.png": {
     "image/png": "[encoded data removed]"
    }
   },
   "cell_type": "markdown",
   "id": "ac3262d8-faf8-46cd-b8d3-d4f5bd75b10a",
   "metadata": {},
   "source": [
    "# Q6 江斯才\n",
    "Sicai Jiang\n",
    "\n",
    "Lesson 9\n",
    "Why are these two pieces of code the same：\n",
    "items = [ [b[1],b[0]] for b in birthdays.items() ]\n",
    "items = [ [b[0],b[1]] for b in birthdays.items() ]\n",
    "Thank you, Professor Huntley!\n",
    "\n",
    "第9课\n",
    "为什么这两段代码效果是一样的：\n",
    "items = [ [b[1],b[0]] for b in birthdays.items() ]\n",
    "items = [ [b[0],b[1]] for b in birthdays.items() ]\n",
    "谢谢，亨特利教授！\n",
    "\n",
    "![image.png](attachment:3601945b-45c8-4d7b-a262-f85bffa95b67.png)"
   ]
  },
  {
   "cell_type": "code",
   "execution_count": 58,
   "id": "931de8e8-384c-491a-b2f9-533917998e64",
   "metadata": {},
   "outputs": [
    {
     "name": "stdout",
     "output_type": "stream",
     "text": [
      "Washington was born 1732-02-22\n",
      "Jefferson was born 1743-04-13\n",
      "Lincoln was born 1809-02-12\n",
      "Madison was born 1751-03-16\n"
     ]
    }
   ],
   "source": [
    "birthdays = {'Washington':'1732-02-22','Jefferson':'1743-04-13','Lincoln':'1809-02-12'}\n",
    "birthdays['Madison']='1751-03-16'\n",
    "for president in birthdays:\n",
    "    print(president,\"was born\", birthdays[president])"
   ]
  },
  {
   "cell_type": "code",
   "execution_count": 23,
   "id": "cedfe32d-1c67-4b2d-bdcf-84ec682fb03b",
   "metadata": {},
   "outputs": [
    {
     "data": {
      "text/plain": [
       "{'Washington': '1732-02-22',\n",
       " 'Jefferson': '1743-04-13',\n",
       " 'Lincoln': '1809-02-12',\n",
       " 'Madison': '1751-03-16'}"
      ]
     },
     "execution_count": 23,
     "metadata": {},
     "output_type": "execute_result"
    }
   ],
   "source": [
    "birthdays"
   ]
  },
  {
   "cell_type": "code",
   "execution_count": 8,
   "id": "edbc1c6a-57d5-416a-94c8-200b0951f523",
   "metadata": {},
   "outputs": [
    {
     "data": {
      "text/plain": [
       "[['1732-02-22', 'Washington'],\n",
       " ['1743-04-13', 'Jefferson'],\n",
       " ['1809-02-12', 'Lincoln'],\n",
       " ['1751-03-16', 'Madison']]"
      ]
     },
     "execution_count": 8,
     "metadata": {},
     "output_type": "execute_result"
    }
   ],
   "source": [
    "items = [ [b[1],b[0]] for b in birthdays.items() ]\n",
    "items"
   ]
  },
  {
   "cell_type": "code",
   "execution_count": 6,
   "id": "29cbf99e-c383-4536-ae37-182d9062ac7f",
   "metadata": {},
   "outputs": [
    {
     "data": {
      "text/plain": [
       "[['Washington', '1732-02-22'],\n",
       " ['Jefferson', '1743-04-13'],\n",
       " ['Lincoln', '1809-02-12'],\n",
       " ['Madison', '1751-03-16']]"
      ]
     },
     "execution_count": 6,
     "metadata": {},
     "output_type": "execute_result"
    }
   ],
   "source": [
    "items = [ [b[0],b[1]] for b in birthdays.items() ]\n",
    "items"
   ]
  },
  {
   "cell_type": "code",
   "execution_count": 25,
   "id": "690d25ed-86be-421f-ae9d-0ac19f8b0d1a",
   "metadata": {},
   "outputs": [
    {
     "data": {
      "text/plain": [
       "'1732-02-22'"
      ]
     },
     "execution_count": 25,
     "metadata": {},
     "output_type": "execute_result"
    }
   ],
   "source": [
    "items[0][0]"
   ]
  },
  {
   "cell_type": "code",
   "execution_count": 26,
   "id": "264215cf-f884-4683-b376-ec3d66324ef4",
   "metadata": {
    "tags": []
   },
   "outputs": [
    {
     "data": {
      "text/plain": [
       "['1732-02-22', 'Washington']"
      ]
     },
     "execution_count": 26,
     "metadata": {},
     "output_type": "execute_result"
    }
   ],
   "source": [
    "items[0]"
   ]
  },
  {
   "cell_type": "code",
   "execution_count": 61,
   "id": "a06ede3b-b504-4004-a2e3-dee6692a82f3",
   "metadata": {},
   "outputs": [
    {
     "data": {
      "text/plain": [
       "{'1732-02-22': 'Washington',\n",
       " '1743-04-13': 'Jefferson',\n",
       " '1809-02-12': 'Lincoln'}"
      ]
     },
     "execution_count": 61,
     "metadata": {},
     "output_type": "execute_result"
    }
   ],
   "source": [
    "birthdays = {'Washington':'1732-02-22','Jefferson':'1743-04-13','Lincoln':'1809-02-12'}\n",
    "{ v:k for k,v in birthdays.items() } "
   ]
  },
  {
   "cell_type": "markdown",
   "id": "7de10610-9657-4afa-a384-2d93368851f9",
   "metadata": {},
   "source": [
    "# Q7 Miranda Fan\n",
    "\n",
    "What's the difference between deep copy and shallow copy? Thank you professor!"
   ]
  },
  {
   "cell_type": "markdown",
   "id": "bcb58a71-8451-4c90-bbed-972bf133e407",
   "metadata": {},
   "source": [
    "A shallow copy of, say, a list only copies the items in the list. If one of those items happens to be an alias then it copies the alias too. This can cause some unintended side effects (usually bugs) when working with lists. A deep copy checks each item to see if it is an alias. If so then it creates a deep copy of whatever is being aliased. \n",
    "\n",
    "Note: the definition is recursive, with deep copying be used to make deep copies. It works but you have to think hard to see how. "
   ]
  },
  {
   "cell_type": "code",
   "execution_count": 29,
   "id": "28262edc-14c1-4002-85ef-722e2df80e98",
   "metadata": {},
   "outputs": [
    {
     "data": {
      "text/plain": [
       "[1, 2, 3, 4]"
      ]
     },
     "execution_count": 29,
     "metadata": {},
     "output_type": "execute_result"
    }
   ],
   "source": [
    "lst = [1,2,3,4]\n",
    "lst2 = lst\n",
    "lst2"
   ]
  },
  {
   "cell_type": "code",
   "execution_count": 32,
   "id": "7f20caf8-18bc-4b2f-a61e-61db8d971064",
   "metadata": {},
   "outputs": [
    {
     "data": {
      "text/plain": [
       "[1, 2, 3, 4, 5, 5, 5]"
      ]
     },
     "execution_count": 32,
     "metadata": {},
     "output_type": "execute_result"
    }
   ],
   "source": [
    "lst2 += [5]\n",
    "lst2"
   ]
  },
  {
   "cell_type": "code",
   "execution_count": 33,
   "id": "a4deb8b2-9ff6-4fb5-be2d-6efc68f2916d",
   "metadata": {
    "tags": []
   },
   "outputs": [
    {
     "data": {
      "text/plain": [
       "[1, 2, 3, 4, 5, 5, 5]"
      ]
     },
     "execution_count": 33,
     "metadata": {},
     "output_type": "execute_result"
    }
   ],
   "source": [
    "lst"
   ]
  },
  {
   "cell_type": "code",
   "execution_count": 34,
   "id": "8e6c2ab7-6680-499b-a624-33070b5e8706",
   "metadata": {},
   "outputs": [],
   "source": [
    "name = \"christopher\"\n",
    "nickname = name\n"
   ]
  },
  {
   "cell_type": "code",
   "execution_count": 36,
   "id": "9ad14805-9a69-4771-9ee6-3ad0466cc89b",
   "metadata": {},
   "outputs": [],
   "source": [
    "x = [ 1, [2,3,4], 5]"
   ]
  },
  {
   "cell_type": "code",
   "execution_count": 37,
   "id": "5dc5d6d8-f2b7-4bac-bd08-fd8e0f5f8f76",
   "metadata": {
    "tags": []
   },
   "outputs": [
    {
     "data": {
      "text/plain": [
       "3"
      ]
     },
     "execution_count": 37,
     "metadata": {},
     "output_type": "execute_result"
    }
   ],
   "source": [
    "len(x)"
   ]
  },
  {
   "cell_type": "code",
   "execution_count": 38,
   "id": "380abddf-f454-46cd-bc69-f606c3cc04f9",
   "metadata": {},
   "outputs": [
    {
     "data": {
      "text/plain": [
       "[1, [2, 3, 4], 5]"
      ]
     },
     "execution_count": 38,
     "metadata": {},
     "output_type": "execute_result"
    }
   ],
   "source": [
    "y = list(x)\n",
    "y"
   ]
  },
  {
   "cell_type": "code",
   "execution_count": 39,
   "id": "b5a9ac79-8b6f-480e-aae7-b0a92e52f201",
   "metadata": {},
   "outputs": [],
   "source": [
    "x[1] += [5]"
   ]
  },
  {
   "cell_type": "code",
   "execution_count": null,
   "id": "3228bf02-43f1-42ce-aea2-3be872b740e5",
   "metadata": {},
   "outputs": [],
   "source": []
  },
  {
   "cell_type": "code",
   "execution_count": 40,
   "id": "1311d982-804d-4491-8e40-210c9bd39a97",
   "metadata": {},
   "outputs": [
    {
     "data": {
      "text/plain": [
       "[1, [2, 3, 4, 5], 5]"
      ]
     },
     "execution_count": 40,
     "metadata": {},
     "output_type": "execute_result"
    }
   ],
   "source": [
    "y"
   ]
  },
  {
   "cell_type": "markdown",
   "id": "b4b70cf5-36c6-47b5-9a02-a43e84c54f6b",
   "metadata": {
    "tags": []
   },
   "source": [
    "[deep copy](https://docs.python.org/3/library/copy.html)"
   ]
  },
  {
   "cell_type": "code",
   "execution_count": 44,
   "id": "8b50658b-8198-44ab-9109-94b4977e01ff",
   "metadata": {},
   "outputs": [],
   "source": [
    "import copy\n",
    "\n",
    "y = copy.deepcopy(x)"
   ]
  },
  {
   "cell_type": "code",
   "execution_count": 45,
   "id": "0d9230bf-dcc5-4180-b337-ded74a83c38c",
   "metadata": {},
   "outputs": [
    {
     "data": {
      "text/plain": [
       "[1, [2, 3, 4, 5], 5]"
      ]
     },
     "execution_count": 45,
     "metadata": {},
     "output_type": "execute_result"
    }
   ],
   "source": [
    "y"
   ]
  },
  {
   "cell_type": "code",
   "execution_count": 48,
   "id": "e9ae119c-b817-410f-9b43-0383ce8d1e05",
   "metadata": {},
   "outputs": [
    {
     "data": {
      "text/plain": [
       "[1, [2, 3, 4, 5, 7, 7], 5]"
      ]
     },
     "execution_count": 48,
     "metadata": {},
     "output_type": "execute_result"
    }
   ],
   "source": [
    "x[1] += [7]\n",
    "x"
   ]
  },
  {
   "cell_type": "code",
   "execution_count": 49,
   "id": "51a467a3-5148-4257-a272-d3713d5572ea",
   "metadata": {},
   "outputs": [
    {
     "data": {
      "text/plain": [
       "[1, [2, 3, 4, 5], 5]"
      ]
     },
     "execution_count": 49,
     "metadata": {},
     "output_type": "execute_result"
    }
   ],
   "source": [
    "y"
   ]
  },
  {
   "cell_type": "markdown",
   "id": "66155cd5-f16c-4e88-b576-b9c455f0d6fd",
   "metadata": {},
   "source": [
    "# Q8 MingYu\n",
    "\n",
    "\"Lesson07的文件系统和文件路径章节，讲解了绝对路径和相对路径的概念，绝对路径从文件层次结构的根目录导航，相对路径从文件系统中当前文件的位置导航。在实际的软件开发项目中，如何决定何时使用绝对路径，何时使用相对路径？它们各自有什么优势和局限性？谢谢教授。 \n",
    "\n",
    "In Lesson 07's section on “Filesystems and File Paths”, the concepts of absolute paths and relative paths were discussed. Absolute paths navigate from the root directory of the file hierarchy, while relative paths navigate from the current file's position within the file system. In actual software development projects, how do we decide when to use absolute paths and when to use relative paths? What are the respective advantages and limitations of each?Thank you, Professor Huntley.\"!"
   ]
  },
  {
   "cell_type": "markdown",
   "id": "5c2713ce-5d31-40a3-8775-ad235dfd1e65",
   "metadata": {},
   "source": [
    "Example shown in BASH shell. "
   ]
  },
  {
   "cell_type": "markdown",
   "id": "27e8c966-0f99-4eeb-8335-cb1561bda229",
   "metadata": {},
   "source": [
    "# Q9 MingYu\n",
    "\n",
    "Lesson08的列表章节，提到列表可以包含任何数据类型,包括列表。如果有一个列表中包含多个列表，如何高效地对这种\"列表的列表\"进行操作和遍历呢？谢谢教授。\n",
    "\n",
    "In Lesson 08, section on \"Lists of Lists\", it is mentioned that a list can contain any data type, including other lists. If there is a list that contains multiple lists, how can we efficiently operate on and traverse this \"list of lists\"? Thank you, Professor Huntley."
   ]
  },
  {
   "cell_type": "markdown",
   "id": "fd6d82b9-bd30-4a68-bd1f-f5821f2c79f1",
   "metadata": {},
   "source": [
    "Use pandas!\n",
    "\n",
    "In pandas a table is just a dictionary of lists. "
   ]
  },
  {
   "cell_type": "code",
   "execution_count": 52,
   "id": "37628cdc-a73e-4feb-8a55-a4f60150123a",
   "metadata": {},
   "outputs": [],
   "source": [
    "# list of dictionaries\n",
    "\n",
    "list_of_dicts = [ {\"name\":\"chuntley\",\"university\":\"Fairfield University\"}, {\"name\":\"erolland\",\"university\":\"University of California - Riverside\"} ]"
   ]
  },
  {
   "cell_type": "code",
   "execution_count": 53,
   "id": "735d0477-515e-44c5-8fbb-4dd4106e6a74",
   "metadata": {},
   "outputs": [],
   "source": [
    "import pandas as pd\n",
    "\n",
    "df = pd.DataFrame(list_of_dicts)"
   ]
  },
  {
   "cell_type": "code",
   "execution_count": 54,
   "id": "c705d5a5-5492-4186-b174-17941e512a0b",
   "metadata": {},
   "outputs": [
    {
     "data": {
      "text/html": [
       "<div>\n",
       "<style scoped>\n",
       "    .dataframe tbody tr th:only-of-type {\n",
       "        vertical-align: middle;\n",
       "    }\n",
       "\n",
       "    .dataframe tbody tr th {\n",
       "        vertical-align: top;\n",
       "    }\n",
       "\n",
       "    .dataframe thead th {\n",
       "        text-align: right;\n",
       "    }\n",
       "</style>\n",
       "<table border=\"1\" class=\"dataframe\">\n",
       "  <thead>\n",
       "    <tr style=\"text-align: right;\">\n",
       "      <th></th>\n",
       "      <th>name</th>\n",
       "      <th>university</th>\n",
       "    </tr>\n",
       "  </thead>\n",
       "  <tbody>\n",
       "    <tr>\n",
       "      <th>0</th>\n",
       "      <td>chuntley</td>\n",
       "      <td>Fairfield University</td>\n",
       "    </tr>\n",
       "    <tr>\n",
       "      <th>1</th>\n",
       "      <td>erolland</td>\n",
       "      <td>University of California - Riverside</td>\n",
       "    </tr>\n",
       "  </tbody>\n",
       "</table>\n",
       "</div>"
      ],
      "text/plain": [
       "       name                            university\n",
       "0  chuntley                  Fairfield University\n",
       "1  erolland  University of California - Riverside"
      ]
     },
     "execution_count": 54,
     "metadata": {},
     "output_type": "execute_result"
    }
   ],
   "source": [
    "df"
   ]
  },
  {
   "cell_type": "code",
   "execution_count": 56,
   "id": "9917c60b-b810-467c-87ce-efa5fac60f26",
   "metadata": {},
   "outputs": [
    {
     "data": {
      "text/plain": [
       "{'name': ['chuntley', 'erolland'],\n",
       " 'university': ['Fairfield University',\n",
       "  'University of California - Riverside']}"
      ]
     },
     "execution_count": 56,
     "metadata": {},
     "output_type": "execute_result"
    }
   ],
   "source": [
    "dict_of_lists = { \"name\": [\"chuntley\",\"erolland\"], \"university\": [\"Fairfield University\",\"University of California - Riverside\"] }\n",
    "dict_of_lists"
   ]
  },
  {
   "cell_type": "code",
   "execution_count": 57,
   "id": "a0e7452e-68cd-4940-a875-51cc4b1e28bf",
   "metadata": {},
   "outputs": [
    {
     "data": {
      "text/html": [
       "<div>\n",
       "<style scoped>\n",
       "    .dataframe tbody tr th:only-of-type {\n",
       "        vertical-align: middle;\n",
       "    }\n",
       "\n",
       "    .dataframe tbody tr th {\n",
       "        vertical-align: top;\n",
       "    }\n",
       "\n",
       "    .dataframe thead th {\n",
       "        text-align: right;\n",
       "    }\n",
       "</style>\n",
       "<table border=\"1\" class=\"dataframe\">\n",
       "  <thead>\n",
       "    <tr style=\"text-align: right;\">\n",
       "      <th></th>\n",
       "      <th>name</th>\n",
       "      <th>university</th>\n",
       "    </tr>\n",
       "  </thead>\n",
       "  <tbody>\n",
       "    <tr>\n",
       "      <th>0</th>\n",
       "      <td>chuntley</td>\n",
       "      <td>Fairfield University</td>\n",
       "    </tr>\n",
       "    <tr>\n",
       "      <th>1</th>\n",
       "      <td>erolland</td>\n",
       "      <td>University of California - Riverside</td>\n",
       "    </tr>\n",
       "  </tbody>\n",
       "</table>\n",
       "</div>"
      ],
      "text/plain": [
       "       name                            university\n",
       "0  chuntley                  Fairfield University\n",
       "1  erolland  University of California - Riverside"
      ]
     },
     "execution_count": 57,
     "metadata": {},
     "output_type": "execute_result"
    }
   ],
   "source": [
    "df = pd.DataFrame(dict_of_lists)\n",
    "df"
   ]
  },
  {
   "cell_type": "markdown",
   "id": "bfcfc81d-088c-4e1d-bcd9-04a86ed0f4eb",
   "metadata": {},
   "source": [
    "Notice that both tables (DataFrames) are the same? "
   ]
  },
  {
   "cell_type": "markdown",
   "id": "dc5739be-7a5f-4b7a-9a51-aa3251323303",
   "metadata": {},
   "source": [
    "[pandas](https://pandas.pydata.org/docs/)   \n",
    "[pandas plot](https://pandas.pydata.org/docs/reference/api/pandas.DataFrame.plot.html)"
   ]
  },
  {
   "cell_type": "markdown",
   "id": "cba0009c-f800-48e1-8d78-2de2b7305990",
   "metadata": {},
   "source": [
    "[json Javascript Object Notation](https://docs.python.org/3/library/json.html)"
   ]
  }
 ],
 "metadata": {
  "kernelspec": {
   "display_name": "Python 3 (ipykernel)",
   "language": "python",
   "name": "python3"
  },
  "language_info": {
   "codemirror_mode": {
    "name": "ipython",
    "version": 3
   },
   "file_extension": ".py",
   "mimetype": "text/x-python",
   "name": "python",
   "nbconvert_exporter": "python",
   "pygments_lexer": "ipython3",
   "version": "3.8.15"
  }
 },
 "nbformat": 4,
 "nbformat_minor": 5
}
