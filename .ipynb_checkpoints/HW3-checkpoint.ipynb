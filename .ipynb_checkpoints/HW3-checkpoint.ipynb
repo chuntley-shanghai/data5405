{
 "cells": [
  {
   "cell_type": "markdown",
   "metadata": {
    "id": "kUYXaKGzwRJp"
   },
   "source": [
    "<img src=\"../img/Dolan.png\" width=\"180px\" align=\"right\">\n",
    "\n",
    "# **Homework Exercises, Week 3**\n",
    "_Practice Exercises for Lessons 7-9._"
   ]
  },
  {
   "cell_type": "markdown",
   "metadata": {},
   "source": [
    "# **第三次作业**\n",
    "_对应第7-9课._"
   ]
  },
  {
   "cell_type": "markdown",
   "metadata": {},
   "source": [
    "## Lesson 8 Exercises\n",
    "### L8.E1\n",
    "**Write a code snippet that applies your `waist2hip_ratio()` function to each (Waist, Hip, Gender) triplet in the following list of lists:**     \n",
    "```\n",
    "[[28,40,'F'],[23, 35, 'F'],[30,40,'M'],[30,37,'M'],[32,39,'M']]\n",
    "```\n",
    "\n",
    "Your results should look like this:\n",
    "```\n",
    "For a F with waist 28 and hip 40 the w2h ratio is 0.7 with shape Pear.\n",
    "For a F with waist 23 and hip 35 the w2h ratio is 0.66 with shape Pear.\n",
    "For a M with waist 30 and hip 40 the w2h ratio is 0.75 with shape Pear.\n",
    "For a M with waist 30 and hip 37 the w2h ratio is 0.81 with shape Pear.\n",
    "For a M with waist 32 and hip 39 the w2h ratio is 0.82 with shape Pear.\n",
    "```"
   ]
  },
  {
   "cell_type": "markdown",
   "metadata": {},
   "source": [
    "## 第八课测验\n",
    "### 第8课第1题\n",
    "**编写一段代码，使你的 `waist2hip_ratio()` 函数来能一次处理下面列表中的所有三元组:**     \n",
    "```\n",
    "[[28,40,'F'],[23, 35, 'F'],[30,40,'M'],[30,37,'M'],[32,39,'M']]\n",
    "```\n",
    "\n",
    "输出应该如下:\n",
    "```\n",
    "女性腰围28、臀围40，腰臀比应当是0.7，为梨形身材.\n",
    "女性腰围23、臀围35，腰臀比应当是0.66，为梨形身材.\n",
    "男性腰围30、臀围40，腰臀比应当是0.75，为梨形身材.\n",
    "男性腰围30、臀围37，腰臀比应当是0.81，为梨形身材.\n",
    "女性腰围32、臀围39，腰臀比应当是0.82，为梨形身材.\n",
    "每行格式：For a ‘性别’ with waist ‘腰围’ and hip ‘臀围’, \r\n",
    "#        the w2h ratio is ‘腰臀比’ with shape ‘身材类型’\r\n",
    "\n",
    "```"
   ]
  },
  {
   "cell_type": "code",
   "execution_count": null,
   "metadata": {},
   "outputs": [],
   "source": [
    "# YOUR L8.E1 CODE HERE 在此输入第8课第1题的代码"
   ]
  },
  {
   "cell_type": "markdown",
   "metadata": {},
   "source": [
    "### L9.E1\n",
    "**Use your `waist2hip_ratio()` function to process each of the dictionaries listed below.**\n",
    "```python\n",
    "[{'waist': 28, 'hip': 40, 'gender': 'F'},\n",
    " {'waist': 23, 'hip': 35, 'gender': 'F'},\n",
    " {'waist': 30, 'hip': 40, 'gender': 'M'},\n",
    " {'waist': 30, 'hip': 37, 'gender': 'M'},\n",
    " {'waist': 32, 'hip': 39, 'gender': 'M'}]\n",
    "```\n",
    "\n",
    "Your results should look like this:\n",
    "```\n",
    "For a F with waist 28 and hip 40 the w2h ratio is 0.7 with shape Pear.\n",
    "For a F with waist 23 and hip 35 the w2h ratio is 0.66 with shape Pear.\n",
    "For a M with waist 30 and hip 40 the w2h ratio is 0.75 with shape Pear.\n",
    "For a M with waist 30 and hip 37 the w2h ratio is 0.81 with shape Pear.\n",
    "For a M with waist 32 and hip 39 the w2h ratio is 0.82 with shape Pear.\n",
    "```"
   ]
  },
  {
   "cell_type": "markdown",
   "metadata": {},
   "source": [
    "### 第9课第1题\n",
    "**用你的 `waist2hip_ratio()` 函数，在单次内处理下面列表中的所有字典.**\n",
    "```python\n",
    "[{'waist': 28, 'hip': 40, 'gender': 'F'},\n",
    " {'waist': 23, 'hip': 35, 'gender': 'F'},\n",
    " {'waist': 30, 'hip': 40, 'gender': 'M'},\n",
    " {'waist': 30, 'hip': 37, 'gender': 'M'},\n",
    " {'waist': 32, 'hip': 39, 'gender': 'M'}]\n",
    "```\n",
    "\n",
    "输出应该如下:\n",
    "```\n",
    "女性腰围28、臀围40，腰臀比应当是0.7，为梨形身材.\n",
    "女性腰围23、臀围35，腰臀比应当是0.66，为梨形身材.\n",
    "男性腰围30、臀围40，腰臀比应当是0.75，为梨形身材.\n",
    "男性腰围30、臀围37，腰臀比应当是0.81，为梨形身材.\n",
    "女性腰围32、臀围39，腰臀比应当是0.82，为梨形身材.\n",
    "每行格式：For a ‘性别’ with waist ‘腰围’ and hip ‘臀围’, \r\n",
    "#         the w2h ratio is ‘腰臀比’ with shape ‘身材类型\n",
    "\r\n",
    "\n",
    "```"
   ]
  }
 ],
 "metadata": {
  "colab": {
   "collapsed_sections": [],
   "name": "Quiz5_Instructions.ipynb",
   "provenance": []
  },
  "kernelspec": {
   "display_name": "Python 3 (ipykernel)",
   "language": "python",
   "name": "python3"
  },
  "language_info": {
   "codemirror_mode": {
    "name": "ipython",
    "version": 3
   },
   "file_extension": ".py",
   "mimetype": "text/x-python",
   "name": "python",
   "nbconvert_exporter": "python",
   "pygments_lexer": "ipython3",
   "version": "3.10.10"
  }
 },
 "nbformat": 4,
 "nbformat_minor": 4
}
