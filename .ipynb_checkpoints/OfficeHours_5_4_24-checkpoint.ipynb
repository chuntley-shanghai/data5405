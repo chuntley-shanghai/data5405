{
 "cells": [
  {
   "cell_type": "markdown",
   "id": "c119297d-f9f0-421e-830b-4ff635280ff7",
   "metadata": {},
   "source": [
    "## Q1 Sicai Jiang\n",
    "\n",
    "In what scenarios are ancestor lists and dictionaries used? Is there any summary and explanation of this aspect? Thank you very much, Professor Huntley.\n",
    "\n",
    "元祖列表和字典在哪些场景使用？有没有这方面的总结和讲解？非常感谢，亨特利教授。"
   ]
  },
  {
   "cell_type": "markdown",
   "id": "5eb1b4a3-1d10-4977-a2e8-1b0153f53865",
   "metadata": {},
   "source": [
    "Ancestor list == Tuple?\n",
    "\n",
    "If so, then maybe I can answer. \n",
    "\n",
    "We use tuples like (1,2,3) when:\n",
    "- we want to use a list-like sequence as a key\n",
    "- we want to be sure that the sequence never changes once set (e.g., for security)\n",
    "- for tuple assignment, enumerations, or other special cases\n",
    "\n",
    "In practice you won't use tuples very much. That's why we leave the for lesson 10.\n",
    "\n",
    "We use dictionaries when:\n",
    "- we want to represent a database record or row in a table\n",
    "- we want to represent a functional mapping (\"map from k onto v\")\n",
    "- we have an add hoc ensemble of key-value pairs\n",
    "\n",
    "Python actually uses dictionaries internally for variables, function defs, etc. "
   ]
  },
  {
   "cell_type": "code",
   "execution_count": 3,
   "id": "e9acb4fd-f3d4-4ee9-8cee-0432b53eb9fb",
   "metadata": {},
   "outputs": [
    {
     "data": {
      "text/plain": [
       "{'__name__': '__main__',\n",
       " '__doc__': 'Automatically created module for IPython interactive environment',\n",
       " '__package__': None,\n",
       " '__loader__': None,\n",
       " '__spec__': None,\n",
       " '__builtin__': <module 'builtins' (built-in)>,\n",
       " '__builtins__': <module 'builtins' (built-in)>,\n",
       " '_ih': ['',\n",
       "  'globals',\n",
       "  'globals()',\n",
       "  'x = 3\\n\\ndef myf(p1):\\n    return\\n\\nglobals()'],\n",
       " '_oh': {1: <function globals()>, 2: {...}},\n",
       " '_dh': [PosixPath('/Users/chuntley/GitRepos/data5405shanghai')],\n",
       " 'In': ['',\n",
       "  'globals',\n",
       "  'globals()',\n",
       "  'x = 3\\n\\ndef myf(p1):\\n    return\\n\\nglobals()'],\n",
       " 'Out': {1: <function globals()>, 2: {...}},\n",
       " 'get_ipython': <bound method InteractiveShell.get_ipython of <ipykernel.zmqshell.ZMQInteractiveShell object at 0x7fc505ae32b0>>,\n",
       " 'exit': <IPython.core.autocall.ZMQExitAutocall at 0x7fc505af90d0>,\n",
       " 'quit': <IPython.core.autocall.ZMQExitAutocall at 0x7fc505af90d0>,\n",
       " 'open': <function io.open(file, mode='r', buffering=-1, encoding=None, errors=None, newline=None, closefd=True, opener=None)>,\n",
       " '_': {...},\n",
       " '__': <function globals()>,\n",
       " '___': '',\n",
       " '_i': 'globals()',\n",
       " '_ii': 'globals',\n",
       " '_iii': '',\n",
       " '_i1': 'globals',\n",
       " '_1': <function globals()>,\n",
       " '_i2': 'globals()',\n",
       " '_2': {...},\n",
       " '_i3': 'x = 3\\n\\ndef myf(p1):\\n    return\\n\\nglobals()',\n",
       " 'x': 3,\n",
       " 'myf': <function __main__.myf(p1)>}"
      ]
     },
     "execution_count": 3,
     "metadata": {},
     "output_type": "execute_result"
    }
   ],
   "source": [
    "x = 3\n",
    "\n",
    "def myf(p1):\n",
    "    return\n",
    "\n",
    "globals()"
   ]
  },
  {
   "cell_type": "markdown",
   "id": "d207b5f6-13c9-4a05-887b-222054e2ef17",
   "metadata": {},
   "source": [
    "## Q2 Sicai Jiang\n",
    "\n",
    "What else does the professor suggest you learn about python? Is there a few chapters for everybody that you need to learn? Which learning is more important for data analysis direction.Thank you vsry much, Professor Huntley.\n",
    "\n",
    "关于python学习，教授还建议学习哪些内容，python for everybody还有几个章节需要继续学习吗？哪些学习更加重要对于数据分析方向来讲。非常感谢，亨特利教授。"
   ]
  },
  {
   "cell_type": "markdown",
   "id": "24d0efe6-1a47-4bb3-a4c9-c188041a0dae",
   "metadata": {},
   "source": [
    "From here you need to decide what you will use Python for. \n",
    "\n",
    "If you want to do advanced analytics, then learn about pandas, numpy, matplotlib, seaborn, plotly, scipy, scikit-learn, etc.  \n",
    "\n",
    "If you are more into building apps then perhaps django, FastAPI, Kivy, or even move on the JavaScript.\n",
    "\n",
    "If you are into data engineering, maybe airflow, DBT, dagster, etc. "
   ]
  },
  {
   "cell_type": "markdown",
   "id": "8c47a69b-85c6-4743-a89b-13f95d8f2ee8",
   "metadata": {},
   "source": [
    "## Q3 Sicai Jiang\n",
    "\n",
    "What programming languages besides Python are worth learning, and if the future direction is AI, what are your suggestions?Thank you vsry much, Professor Huntley.\n",
    "\n",
    "除了Python之外还有那些编程语言值得进行学习，如果未来的方向是AI，有何建议？非常感谢，亨特利教授。"
   ]
  },
  {
   "cell_type": "markdown",
   "id": "9d7c4261-55a9-4ee8-b7c4-bf7af543343e",
   "metadata": {},
   "source": [
    "SQL is the most requested language by analytics companies in the US.\n",
    "\n",
    "JavaScript is also a great language, as it drives a lot of web development.\n",
    "\n",
    "Eventually, the right language will be human. Programming languages like Python will continue to exist but people will use Generative AI to create Python code. The better and more specific you can be with the AI, the better the code it can generate. \n",
    "\n",
    "My guess is that all programming will become _declarative_ (\"I want it to do this or that\") instead of _imperative_ (\"Do this and that\"). SQL is mostly declarative. Python is imperative.  "
   ]
  },
  {
   "cell_type": "markdown",
   "id": "ccaeb291-325b-4d2f-b7e7-14163b045a75",
   "metadata": {},
   "source": [
    "## Q4 Sicai Jiang\n",
    "\n",
    "As for the Fairfield startup project, will the entrepreneurial students continue to start their own businesses or engage in very good jobs after graduation? Please kindly analyze and explain how these entrepreneurial projects help them, and we will also learn from them.Thank you vsry much, Professor Huntley.\n",
    "\n",
    "关于Fairfield startup项目，创业的学生们最后毕业后是继续创业还是从事非常好的工作，这些创业项目对他们的帮助是哪些，请教授分析讲解，我们也学下。非常感谢，亨特利教授。"
   ]
  },
  {
   "cell_type": "markdown",
   "id": "fb8c3d5c-bbed-4a82-81b2-145c1c113226",
   "metadata": {},
   "source": [
    "About 1 in 4 companies are still operating 2-3 years after the competition. That's actually better than average for startups. \n",
    "\n",
    "2020:\n",
    "- DayVerse is operating as a jewelry cooperative. It's been profitable all along. \n",
    "- PhysiSens has its instrumented shirts in alpha and is currently in a venture studio \n",
    "- Casatera is a tequila seltzer brand launched in 2021 that retails in 9 states. Small but growing. \n",
    "\n",
    "2022: \n",
    "- QuantifAI is starting a capital raise after completing a fintech accelerator. \n",
    "- GreenIRR has 4 employees and is closing a $750,000 round of funding. They have a working product and 9 corporate customers. They will become profitable by 2026. It is a possible unicorn. \n",
    "\n",
    "2023:\n",
    "- AdXR launched in April 24. They won;t make a profit for a while though. \n",
    "- Affluential Clothing is profitable but somewhat niche. \n",
    "    \n",
    "2024:\n",
    "- Wave Creations is already making money. \n",
    "\n",
    "We have a 100% employment rate after graduation. Companies seek out the winners. One competitor from 2022 graduated in 2023 and then took a job making twice my university salary at a global tech company.  She was not alone. If I were not already old, I would rethink my career choices.   "
   ]
  },
  {
   "cell_type": "markdown",
   "id": "a1f86e26-8100-4377-ac49-7511b02bdb6e",
   "metadata": {},
   "source": [
    "## Q5 Sicai Jiang\n",
    "After a period of study, is it possible for Online students to team up and collaborate on entrepreneurial projects and research projects? What is the professor's suggestion?Thank you vsry much, Professor Huntley.\n",
    "\n",
    "如果经过一段时间的学习，Online的学员是不是也有可能组队，进行创业项目的合作和课题研究，教授有何建议？非常感谢，亨特利教授。"
   ]
  },
  {
   "cell_type": "markdown",
   "id": "277d6db0-a76b-4b6b-ba7e-42ecf4ae33dd",
   "metadata": {},
   "source": [
    "Yes, of course. It's why we do this stuff. \n",
    "\n",
    "I started my first company at 15 years old. I sold it to pay for college. \n",
    "\n",
    "I started my second company with several co-founders in 1989. We sold it a few years ago. \n",
    "\n",
    "I currently have a tiny consulting practice but I don't advertise it (yet). I am also starting up a venture studio this summer but that hasn't happened yet. \n",
    "\n",
    "There is never a good or bad time to start a company. You do it because you feel the need to do it. \n",
    "\n",
    "As for research, that is very similar in spirit. It involves all the same elements but the objectives are different. "
   ]
  },
  {
   "cell_type": "markdown",
   "id": "d308f578-0b8c-401a-929a-75ca6771781f",
   "metadata": {},
   "source": [
    "## Perhaps there are some questions about the final project? "
   ]
  },
  {
   "cell_type": "code",
   "execution_count": null,
   "id": "290527a6-0b3a-4f5a-8e7b-7dd9b0c4e71b",
   "metadata": {},
   "outputs": [],
   "source": []
  }
 ],
 "metadata": {
  "kernelspec": {
   "display_name": "Python 3 (ipykernel)",
   "language": "python",
   "name": "python3"
  },
  "language_info": {
   "codemirror_mode": {
    "name": "ipython",
    "version": 3
   },
   "file_extension": ".py",
   "mimetype": "text/x-python",
   "name": "python",
   "nbconvert_exporter": "python",
   "pygments_lexer": "ipython3",
   "version": "3.8.15"
  }
 },
 "nbformat": 4,
 "nbformat_minor": 5
}
