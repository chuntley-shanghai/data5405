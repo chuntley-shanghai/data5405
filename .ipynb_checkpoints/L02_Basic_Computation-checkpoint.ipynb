{
 "cells": [
  {
   "cell_type": "markdown",
   "metadata": {
    "id": "vlpKISqgPJkY",
    "tags": []
   },
   "source": [
    "<img src=\"./img/Dolan.png\" width=\"180px\" align=\"right\">\n",
    "\n",
    "# **Lesson 2: Basic Computation**\n",
    "_Variables, Expressions, and Statements_\n",
    "\n",
    "# **第二课：基本计算**\n",
    "_变量、表达式和语句_\n",
    "\n"
   ]
  },
  {
   "cell_type": "markdown",
   "metadata": {
    "id": "O1Tb_0XIPJkZ"
   },
   "source": [
    "## **Learning Objectives**\n",
    "## **学习目标**\n",
    "\n",
    "### Theory / Be able to explain ...\n",
    "- Basic terminology like values, data types, statements, expressions, ... as they apply to Python\n",
    "- The key role of data types when writing, reading, and executing Python code \n",
    "- The rules for naming variables and other things in Python code\n",
    "- How Python breaks down statements into their constituent parts\n",
    "- Order of operations and its effect on evaluating Python expressions\n",
    "- The concept of literate code and how comments and syntax highlighting can improve code readability\n",
    "\n",
    "### 能够解释以下理论/概念\n",
    "- 能够解释以下理论/概念\n",
    "- 数据类型在编写、读取和执行Python代码时的关键作用\n",
    "- Python代码中变量和其他元素的命名规则\n",
    "- Python如何将语句分解为各个组成部分\n",
    "- 操作顺序及其对计算Python表达式的影响\n",
    "- 文学化代码的概念，以及注释和语法高亮如何提高代码的可读性\n",
    "\n",
    "### Skills / Know how to  ...\n",
    "- Use variables, expressions, and operators to perform calculations\n",
    "- Convert data from one type to another\n",
    "- Use comments to get Python to help you debug faulty code\n",
    "\n",
    "### 掌握以下技能\n",
    "- 使用变量、表达式和运算符来执行计算\n",
    "- 将数据从一种类型转换为另一种类型\n",
    "- 使用注释让Python帮助你调试错误的代码\n",
    "\n",
    "---"
   ]
  },
  {
   "cell_type": "markdown",
   "metadata": {
    "id": "ym9jn6nYPJka"
   },
   "source": [
    "## **Data, Information, and Knowledge**\n",
    "\n",
    "> \"What is essential is invisible to the eye.\" -- _The Little Prince_\n",
    "\n",
    "The concepts in this lesson actually go all the way back to ancient times, when philosophers studied how they thought about ... thought. Plato, for example, spent significant time on the idea of [essentialism](https://en.wikipedia.org/wiki/Essentialism): the idea that **every entity (physical or conceptual) has an essential form** that defines its substance. That form has **features** consisting of facts that distinguish it from other entities. Entities also have **functions** that they carry out in the world. These essential forms and functions together define **types** or **categories** that are considered eternal, at which point philosophy starts to become theology ...\n",
    "\n",
    "Today, we still use this basic framework to model the world around us, though with slightly different terminology:\n",
    "\n",
    "- **Data** refers to facts. Each fact has a **value** that captures substance but not importance or meaning. The number 42 can mean lots of things to different people. If you are a Monty Python fan then perhaps you remember it from _The Hitchhiker's Guide to the Galaxy_. If you are a baseball fan then 42 could be associated with Mariano Rivera or Jackie Robinson. Or it could just be the answer to \"What's 6 times 9?\" ... ([but only in base 13](https://spooniom.com/6-9-42/)).\n",
    "\n",
    "- **Information** refers to facts that have formal **meaning** and **structure**. When associating facts to entities, the facts are given names, kind of like attaching sticky labels, so we know how each fact relates to the entity. For example we can say that 42 is the _uniform number_ (feature) of _Jackie Robinson_ (entity), the famous _baseball player_ (essential type). Data itself can also have a type, just like entities do. Is it 42 or \"42\" or 42.0? It matters a lot, at least to a data scientist. However, it's hard to tell without knowing how it is to be interpreted. \n",
    "\n",
    "- **Knowledge** refers to functionality: the ability to use information to do things. A knowledgeable person can do a lot of things, once they have the necessary information. A less knowledgeable person might not be able to do anything useful, even when given perfect information. In Python, **the programs that we write are knowledge.** They are how we get the computer to do what we want it to do. \n",
    "\n",
    "As you may have noticed, each of these things builds on the ones before it. We could of course continue on to **wisdom** (knowing what to do at a given time) and **virtue** (knowing right vs wrong), but then we'd be getting into theology again instead of science.\n",
    "\n",
    "## **数据、信息和知识**\n",
    "\n",
    "> \"本质的东西用眼睛是看不见的。\" -- _小王子_\n",
    "\n",
    "本课中的概念可以追溯到古代，当时哲学家们研究了他们对思维的看法。例如，柏拉图花了大量时间思考[本质主义](https://en.wikipedia.org/wiki/Essentialism)的概念：即每个实体（无论是物质世界的还是精神世界的）都有一个定义其实质的本质形式。这种形式具有由事实构成的特征，这些特征将其与其他实体区分开来。实体还具有在世界上执行的功能。这些本质形式和功能共同定义了被认为是永恒的类型或范畴，此时哲学开始变成神学……\n",
    "\n",
    "今天，我们仍在使用这一基本框架来描绘周围的世界，只是术语略有不同：\n",
    "\n",
    "- **数据** 数据即事实。每个事实都有一个值，捕捉了实质，但自身不具备重要性或含义。例如，数字42的意义因人而异。如果你是Monty Python的粉丝，42就是《银河系漫游指南》中生命、宇宙以及一些事情的中级答案。如果你是棒球迷，那么42就是42号球手Mariano Rivera或Jackie Robinson。或者，它可能只是“6乘以9等于多少”的答案......（[但仅限于13进制](https://spooniom.com/6-9-42/))。\n",
    "  \n",
    "- **信息** 信息指的是具有正式含义和结构的事实。当将事实与实体相关联时，这些事实被赋予名称，类似于贴上标签，以便我们知道每个事实与实体的关系。例如，我们可以说42是著名棒球选手Jackie Robinson（实体）的球衣号码（事实，基本类型）。就像实体一样，数据本身也可以有类型。42、\"42\" 和42.0是截然不同的，至少在数据科学家眼中是如此。在不知道数据类型的情况下很难对其做出解读。\n",
    "  \n",
    "- **知识** 知识指的是功能：利用信息做事的能力。知识渊博的人一旦掌握了必要的信息，就能做很多事情。而知识较少的人，即使获得了完美的信息，也可能做不了任何有用的事情。在Python中，我们编写的程序就是知识。程序就是我们让计算机按要求做事的方法。\n",
    " \n",
    "你可能已经注意到，上述每一项都是在前一项的基础上建立的。当然，我们还可以继续讲解**智慧**（知道在特定的时间该做什么）和**美德**（知道对与错），但这样我们就又要进入神学范畴、远离科学了。"
   ]
  },
  {
   "cell_type": "markdown",
   "metadata": {
    "id": "Dab66rIJPJkb"
   },
   "source": [
    "## **Values and Types**\n",
    "## **值和类型**\n",
    "In Python a **value** is a representation of a fact. Each value has a **data type** that defines \n",
    "- what kinds of facts it can represent\n",
    "- how it can be used\n",
    "\n",
    "在Python中，**值**是事实的表示。每个值都有一个**数据类型**，它定义了：\n",
    "- 它能代表什么样的事实\n",
    "- 如何使用它\n",
    "\n",
    "Returning to the example from the last section, let's consider 42, which can be represented as:\n",
    "- \"42\", a string of text characters\n",
    "- 42, an integer number between 41 and 43\n",
    "- 42.0, a rational number \n",
    "- 41.99999 (repeating forever)\n",
    "\n",
    "回到上一节的例子，我们来看看42，它可以表示为：\n",
    "- “42”，一串文本字符\n",
    "- 42，一个介于41和43之间的整数\n",
    "- 42.0，一个有理数\n",
    "- 41.99999 …（无限循环小数）\n",
    "\n",
    "Depending on the data type 42 could come about many ways:\n",
    "\n",
    "- If it is text then we can _literally_ extract it from a sentence. \n",
    "- If it is an integer then it might be the number of people at a holiday party.\n",
    "- If it is a rational number then it may be the result of 420/10. \n",
    "- If it is a real number then it could be the value of the calculation 7.0 / 3.0 * 18.0, which is _of course_ 41.99999 (repeating).\n",
    "\n",
    "根据数据类型的不同，42可以有多种表示方法：\n",
    "- 如果它是文本，我们可以从一句话的字面中提取出来。\n",
    "- 如果它是整数，那么它可能是参加节日聚会的人数。\n",
    "- 如果它是有理数，那么它可能是420/10的结果。\n",
    "- 如果它是实数，那么它可以是 7.0 / 3.0 * 18.0 的计算值，当然是41.99999（循环）。\n",
    "\n",
    "Let's see what Python thinks about this:\n",
    "\n",
    "让我们看看Python的判断:"
   ]
  },
  {
   "cell_type": "code",
   "execution_count": null,
   "metadata": {
    "id": "q1i2STcZPJkc",
    "outputId": "51d87639-b7ce-41a8-a2ea-e6338391b686"
   },
   "outputs": [
    {
     "data": {
      "text/plain": [
       "str"
      ]
     },
     "execution_count": 1,
     "metadata": {
      "tags": []
     },
     "output_type": "execute_result"
    }
   ],
   "source": [
    "type(\"42\")"
   ]
  },
  {
   "cell_type": "code",
   "execution_count": null,
   "metadata": {
    "id": "ypD9mM62PJkg",
    "outputId": "70c59c41-028b-4bb5-b415-b229420ae4e0"
   },
   "outputs": [
    {
     "data": {
      "text/plain": [
       "int"
      ]
     },
     "execution_count": 2,
     "metadata": {
      "tags": []
     },
     "output_type": "execute_result"
    }
   ],
   "source": [
    "type(42)"
   ]
  },
  {
   "cell_type": "code",
   "execution_count": null,
   "metadata": {
    "id": "gcWJm4H3PJki",
    "outputId": "d596ba62-1ed5-4492-eb28-ff8cf064aecf"
   },
   "outputs": [
    {
     "data": {
      "text/plain": [
       "float"
      ]
     },
     "execution_count": 3,
     "metadata": {
      "tags": []
     },
     "output_type": "execute_result"
    }
   ],
   "source": [
    "type(42.0)"
   ]
  },
  {
   "cell_type": "code",
   "execution_count": null,
   "metadata": {
    "id": "NTfH1DD_PJkl",
    "outputId": "be547060-b300-4358-b361-79f75f6b0f5d"
   },
   "outputs": [
    {
     "data": {
      "text/plain": [
       "float"
      ]
     },
     "execution_count": 4,
     "metadata": {
      "tags": []
     },
     "output_type": "execute_result"
    }
   ],
   "source": [
    "type(7.0 / 3.0 * 18.0)"
   ]
  },
  {
   "cell_type": "markdown",
   "metadata": {
    "id": "bVEF-BdWPJkn"
   },
   "source": [
    "Well, 3 out of 4 isn't too bad. `floats` are not quite the same thing as real numbers. It turns out that Python needs a little help to work with real numbers like $\\pi$ that can't be represented as rationals. We'll just have to make do with the `float` data type for now.\n",
    "\n",
    "So what do these things mean exactly:\n",
    "- `str` represents literal text\n",
    "- `int` represents any integer number\n",
    "- `float` represents any floating point (rational) number\n",
    "\n",
    "There are, of course, lots of data types built into Python, but these are the simplest to use, at first anyway. \n",
    "\n",
    "4题中答对3题，还不错。浮点数`floats`与实数并不完全相同。事实证明，Python在处理像π这样不能用有理数表示的实数时比较困难。我们现在只能将就着使用浮点`floats`数据类型表示。\n",
    "\n",
    "那么刚才图中的结果到底是什么意思呢?\n",
    "\n",
    "- `str` 表示文字文本\n",
    "- `int` 表示任何整数\n",
    "- `float` 表示任何浮点数（有理数）\n",
    "\n",
    "\n",
    "当然，Python中内置了很多数据类型，但这些对初学者来说最容易使用。\n",
    "\n",
    "### **Pulse Check ...**\n",
    "For each of the following calculations, try to guess the result _before_ running the cell. Then explain what happened. If the result surprised you, say why. As always, don't worry so much about being right for now. To find out the right answers watch the video. \n",
    "\n",
    "### **脉冲检查 ...**\n",
    "对于下面的每个计算，请在运行代码前猜测结果，然后解释结果。如果结果和你想得不同，请想想原因。不用担心对错。要找出正确答案，请观看视频。"
   ]
  },
  {
   "cell_type": "code",
   "execution_count": null,
   "metadata": {
    "id": "HGF-xzz0PJko"
   },
   "outputs": [],
   "source": [
    "type(7*6)"
   ]
  },
  {
   "cell_type": "markdown",
   "metadata": {
    "id": "x6_m9nW3ydP0"
   },
   "source": [
    "YOUR ANSWER HERE 在此输入答案"
   ]
  },
  {
   "cell_type": "code",
   "execution_count": null,
   "metadata": {
    "id": "Evx-koTAPJkt"
   },
   "outputs": [],
   "source": [
    "type(42/6)"
   ]
  },
  {
   "cell_type": "markdown",
   "metadata": {
    "id": "kGf0UZzlyqqM"
   },
   "source": [
    "YOUR ANSWER HERE 在此输入答案"
   ]
  },
  {
   "cell_type": "code",
   "execution_count": null,
   "metadata": {
    "id": "wXaN2VIBPJky"
   },
   "outputs": [],
   "source": [
    "int(\"42.0\")"
   ]
  },
  {
   "cell_type": "markdown",
   "metadata": {
    "id": "-IjJQeB6PJk0"
   },
   "source": [
    "YOUR ANSWER HERE 在此输入答案"
   ]
  },
  {
   "cell_type": "code",
   "execution_count": null,
   "metadata": {
    "id": "UOfxm0CHPJk0"
   },
   "outputs": [],
   "source": [
    "\"42\"/6"
   ]
  },
  {
   "cell_type": "markdown",
   "metadata": {
    "id": "aIwwmrECPJk3"
   },
   "source": [
    "YOUR ANSWER HERE 在此输入答案"
   ]
  },
  {
   "cell_type": "code",
   "execution_count": null,
   "metadata": {
    "id": "wJjElu8wPJk3"
   },
   "outputs": [],
   "source": [
    "\"42\"*6"
   ]
  },
  {
   "cell_type": "markdown",
   "metadata": {
    "id": "QyD2ADvPPJk5"
   },
   "source": [
    "YOUR ANSWER HERE 在此输入答案"
   ]
  },
  {
   "cell_type": "code",
   "execution_count": null,
   "metadata": {
    "id": "Ut0R1H1zPJk5"
   },
   "outputs": [],
   "source": [
    "\"42\"*6.0"
   ]
  },
  {
   "cell_type": "markdown",
   "metadata": {
    "id": "AYuMZgr0PJk7"
   },
   "source": [
    "YOUR ANSWER HERE 在此输入答案"
   ]
  },
  {
   "cell_type": "markdown",
   "metadata": {
    "id": "tt8Y8Jy0PJk8"
   },
   "source": [
    "---\n",
    "## **Type Conversions**\n",
    "## **类型转换**\n",
    "There are times when we might want to convert a value from one type or another. For that we use type conversion **functions** that come built into Python. For example:\n",
    "\n",
    "有时，我们可能需要将一个值从一种类型转换为另一种类型。 为此，我们使用Python内置的类型转换**函数**。例如:"
   ]
  },
  {
   "cell_type": "code",
   "execution_count": null,
   "metadata": {
    "id": "A_WQEz9tPJk8",
    "outputId": "2e7d75cd-8ac4-43f9-e090-8635d30ca638"
   },
   "outputs": [
    {
     "data": {
      "text/plain": [
       "int"
      ]
     },
     "execution_count": 5,
     "metadata": {
      "tags": []
     },
     "output_type": "execute_result"
    }
   ],
   "source": [
    "type(int(\"42\"))"
   ]
  },
  {
   "cell_type": "code",
   "execution_count": null,
   "metadata": {
    "id": "zKLV9DYsPJk-",
    "outputId": "040c1118-3fe6-4fb8-e4f6-8f0e2c0e829c"
   },
   "outputs": [
    {
     "data": {
      "text/plain": [
       "str"
      ]
     },
     "execution_count": 6,
     "metadata": {
      "tags": []
     },
     "output_type": "execute_result"
    }
   ],
   "source": [
    "type(str(42))"
   ]
  },
  {
   "cell_type": "code",
   "execution_count": null,
   "metadata": {
    "id": "2RqmucZ3PJlC",
    "outputId": "ff804533-35eb-446c-fa73-bde00f891247"
   },
   "outputs": [
    {
     "data": {
      "text/plain": [
       "str"
      ]
     },
     "execution_count": 7,
     "metadata": {
      "tags": []
     },
     "output_type": "execute_result"
    }
   ],
   "source": [
    "type(str(int(42.0)))"
   ]
  },
  {
   "cell_type": "markdown",
   "metadata": {
    "id": "W_eEYiOMPJlD"
   },
   "source": [
    "**How can you tell these are function calls?**  \n",
    "Anytime you see a name immediately followed by a left parenthesis `(`, Python assumes you are trying to call a function. **The parentheses come in pairs.** As long as each left parenthesis `(` is matched by a right parenthesis `)`, Python will find and call the function from among its many libraries. Also, note that **function calls can be nested inside each other**, with the innermost function call executed first.\n",
    "\n",
    "**如何判断这些是调用的函数？**\n",
    "\n",
    "只要看到一个名称后面紧跟着一个英文输入法下的左括号 `(` , Python 就会认为你在尝试调用一个函数。**括号是成对出现的。** 只要每个左括号`(`都与一个右括号 `)`相匹配，Python 将从其众多库中查找并调用该函数。另外，**请注意函数调用可以彼此嵌套**，最内层的函数调用最先执行。\n",
    "\n",
    "> **Heads up:**\n",
    "> - `type ()` is not the same thing as `type()`. **Spaces in Python have meaning. The parentheses are part of the function call.** Inserting a space between the function name and parentheses triggers a syntax error; Python does not know what you intend for it to do with the extra space.\n",
    "> - **Not all type conversions are valid.** It’s not always possible to convert data from one type to another. Either there is no type equivalency or the conversion itself would be ambiguous. For example, we can't convert \"42\" to the integer 42, at least not directly. Instead we have to convert the string \"42\" to the float 42.0 and then convert the float to the integer 42.\n",
    "\n",
    "> **注意：**\n",
    "> - `type ()`与`type()`不同。**Python中的空格是有意义的。括号是函数调用的一部分。** 在函数名和括号之间插入空格会引发语法错误，因为Python不知道你想让它对额外的空格做什么。\n",
    "> - **并非所有类型转换都有效。**将数据从一种类型转换为另一种类型并非总能实现的。要么没有类型等价，要么转换本身是不明确的。例如，我们不能将“42”转换为整数42，至少不能直接转换。如果要转换，我们必须将字符串“42”转换为浮点数42.0，然后将浮点数转换为整数42。"
   ]
  },
  {
   "cell_type": "markdown",
   "metadata": {
    "id": "Nivkst5dPJlE"
   },
   "source": [
    "### **Pulse Check ...**\n",
    "Use type conversions to 'fix' the broken calculations below. Make each cell return a `float` data type. As in previous Pulse Checks, click the ... to check your work. Note that there are mutiple right answers. \n",
    "\n",
    "### **脉冲检查 ...**\n",
    "使用类型转换来“修正”下面的错误计算。使每个代码单元返回一个`float`数据类型。与之前的练习一样，运行代码来检查结果。注意，正确答案不止一个。\n"
   ]
  },
  {
   "cell_type": "code",
   "execution_count": null,
   "metadata": {
    "id": "W9X3tgGsPJlF"
   },
   "outputs": [],
   "source": [
    "\"42\"/6"
   ]
  },
  {
   "cell_type": "code",
   "execution_count": null,
   "metadata": {
    "id": "Orjlc629PJlH",
    "jupyter": {
     "source_hidden": true
    },
    "tags": []
   },
   "outputs": [],
   "source": [
    "\n",
    "int(\"42\")/6"
   ]
  },
  {
   "cell_type": "code",
   "execution_count": null,
   "metadata": {
    "id": "W9ypgf2yPJlH"
   },
   "outputs": [],
   "source": [
    "\"42\"*6"
   ]
  },
  {
   "cell_type": "code",
   "execution_count": null,
   "metadata": {
    "jupyter": {
     "source_hidden": true
    },
    "tags": []
   },
   "outputs": [],
   "source": [
    "\n",
    "float( int(\"42\")*6 )"
   ]
  },
  {
   "cell_type": "code",
   "execution_count": null,
   "metadata": {
    "id": "ElmwzKKZPJlK",
    "jupyter": {
     "source_hidden": true
    },
    "tags": []
   },
   "outputs": [],
   "source": [
    "\n",
    "float( int(\"42\"*6) )"
   ]
  },
  {
   "cell_type": "code",
   "execution_count": null,
   "metadata": {
    "id": "RY7JhuGOPJlK"
   },
   "outputs": [],
   "source": [
    "\"42\"*6.0"
   ]
  },
  {
   "cell_type": "code",
   "execution_count": null,
   "metadata": {
    "jupyter": {
     "source_hidden": true
    },
    "tags": []
   },
   "outputs": [],
   "source": [
    "\n",
    "float( \"42\"*int(6.0) )"
   ]
  },
  {
   "cell_type": "code",
   "execution_count": null,
   "metadata": {
    "jupyter": {
     "source_hidden": true
    },
    "tags": []
   },
   "outputs": [],
   "source": [
    "\n",
    "float( int(\"42\") * 6.0 )"
   ]
  },
  {
   "cell_type": "markdown",
   "metadata": {
    "id": "Qu4YdBE-PJlM",
    "tags": []
   },
   "source": [
    "----\n",
    "## **Variables**\n",
    "## **变量**\n",
    "Remember those sticky labels we talked about in the section on _Data, Information, and Knowledge_ at the start of this lesson? These are what we call **variables**. A variable is a **name** we can use to refer to a value. It represents the smallest possible unit of information. However, just as we can move sticky notes around, so we can change (\"vary\") what value a variable is referring to. That turns out to be pretty useful, as you will see in a moment. \n",
    "\n",
    "还记得我们在本课开始的“数据、信息和知识”一节中提到的那些粘性标签吗？这些就是我们所说的**变量**。变量是我们用来指代一个值的**名称**，它代表了信息的最小单位。然而，就像可以移动便笺一样，我们也可以改变变量所指的值。这一点非常有用，稍后你就会看到。\n",
    "\n",
    "Variables references get set (or changed) through assignment:\n",
    "\n",
    "通过设置（或更改）给变量赋值\n",
    "\n",
    "```python\n",
    "uniform_number = 42\n",
    "player_name = \"Jackie Robinson\"\n",
    "print(player_name + \" wore number \" + str(uniform_number))\n",
    "\n",
    "player_name = \"Mariano Rivera\"\n",
    "print(player_name + \" wore number \" + str(uniform_number))\n",
    "\n",
    "```\n",
    "Let's try it, but first predict what the above code will do before running it. \n",
    "\n",
    "\n",
    "\n",
    "让我们试着运行代码。但请先自己预测一下结果。"
   ]
  },
  {
   "cell_type": "markdown",
   "metadata": {
    "id": "MNV41u6QPJlM"
   },
   "source": [
    "YOUR PREDICTION HERE. 在此输入你的预测。"
   ]
  },
  {
   "cell_type": "code",
   "execution_count": null,
   "metadata": {
    "id": "RftpaPDEPJlN"
   },
   "outputs": [],
   "source": [
    "uniform_number = 42\n",
    "player_name = \"Jackie Robinson\"\n",
    "print(player_name + \" wore number \" + str(uniform_number))\n",
    "\n",
    "player_name = \"Mariano Rivera\"\n",
    "print(player_name + \" wore number \" + str(uniform_number))"
   ]
  },
  {
   "cell_type": "markdown",
   "metadata": {},
   "source": [
    "> **Note to Shanghai students: Jackie Robinson and Mariano Rivera are very famous baseball players who happened to wear the same uniform number on their jerseys.**\n",
    "\n",
    "> **上海的同学们： Jackie Robinson和 Mariano Rivera是非常著名的棒球运动员，他们的球衣号码恰好相同。**"
   ]
  },
  {
   "cell_type": "markdown",
   "metadata": {
    "id": "EPL7v4JyPJlP"
   },
   "source": [
    "There is actually a lot going on here in this code. \n",
    "\n",
    "- Line 1. The variable `uniform_number` is used to refer to the integer `42`. If this is the first time we've used the variable `uniform_number` then it creates the variable name as well. \n",
    "- Line 2. The variable `player_name` is used to refer to the string `Jackie Robinson`. \n",
    "- Line 3. The code prints out `Jackie Robinson wore number 42`. This uses the two variables to construct the output string before printing. In order to append the number 42 to the end, we had to convert it to a string. \n",
    "- Line 4. This line is intentionally left blank to make the code easier to read. White space is part of your code.\n",
    "- Line 5. The variable `player_name` is updated to refer to the string `Mariano Rivera`. This changes the value of the `player_name` variable. The old value, `Jackie Robinson` is forgotten. There is no way to refer to it anymore. \n",
    "- Line 6. The code prints out `Mariano Rivera wore number 42`. The code is exactly the same as in line 3 but with a different result this time. This is a key point. We have separated the data  from the process so the process can be reused at will.\n",
    "\n",
    "在这段代码中，实际有很多执行步骤。\n",
    "\n",
    "- 第1行：变量`uniform_number`用于引用整数`42`。如果这是我们第一次使用变量`uniform_number`，那么该变量名也在这一步中创建。\n",
    "- 第2行：变量`player_name`用于引用字符串`Jackie Robinson`。\n",
    "- 第3行：代码会打印出`Jackie Robinson wore number 42`。将在打印之前使用第一行和第二行的两个变量来构造输出字符串。为了将数字42添加到末尾，我们必须将其转换为字符串。\n",
    "- 第4行：这一行故意留白，以使代码更容易阅读。留白是代码的一部分。\n",
    "- 第5行：更改变量`player_name`为字符串`Mariano Rivera`。这将改变`player_name`变量的值。旧值`Jackie Robinson`将被遗忘，无法再引用。\n",
    "- 第6行：代码打印出 `Mariano Rivera wore number 42`。代码的原理与第3行完全相同，但这次的结果不同。这是一个关键点。我们已将数据与代码执行过程分离，因此执行过程的代码可以随意重复使用。\n"
   ]
  },
  {
   "cell_type": "markdown",
   "metadata": {
    "id": "CPaFwVRlvy-O"
   },
   "source": [
    "### **Variable Assignment**\n",
    "\n",
    "### **变量赋值**\n",
    "Before moving on to how we select variable names, it's worth nothing that even an assignment statement like `player_name = \"Jackie Robinson\"` is a multi-step process:\n",
    "\n",
    "在介绍如何选择变量名之前要注意，即使像`player_name = \"Jackie Robinson\"` 这样的赋值语句也包含了多个步骤：\n",
    "\n",
    "1. The value to the right of the equal sign is calculated if needed.\n",
    "2. If the variable to the left of the equal sign doesn't exist yet, then define it. If the variable exists then retrieve it, unsetting its value from whatever it was before. \n",
    "3. The variable is set to refer to the value on the right. \n",
    "\n",
    "第1步：如果需要，等号右边的值会被计算出来\n",
    "第2步：如果等号左边的变量还不存在，则对其进行定义。如果变量已经存在，则对其进行检索，取消对其之前值的设置。\n",
    "第3步：变量被赋上等号右边的值\n",
    "\n",
    "Consider the following example, which illustrates several possible variations:\n",
    "\n",
    "想想下面的例子中的变量变化了几次："
   ]
  },
  {
   "cell_type": "code",
   "execution_count": null,
   "metadata": {
    "id": "fHiPA2aMPJlP",
    "outputId": "3bb86128-5896-4ee5-ea15-7e58ea045bf3"
   },
   "outputs": [
    {
     "name": "stdout",
     "output_type": "stream",
     "text": [
      "Mariano Rivera\n",
      "Jackie Robinson\n"
     ]
    }
   ],
   "source": [
    "first_name = \"Jackie\"\n",
    "last_name = \"Robinson\"\n",
    "person1 = first_name + \" \" + last_name\n",
    "person2 = person1\n",
    "person1 = \"Mariano Rivera\"\n",
    "print(person1)\n",
    "print(person2)"
   ]
  },
  {
   "cell_type": "markdown",
   "metadata": {
    "id": "oxOhJkDdPJlR"
   },
   "source": [
    "Take your time to make sure you understand each line _given the lines above it_:\n",
    "\n",
    "- lines 1 and 2: create and set new variables `first_name` and `last_name`\n",
    "- line 3: calculate `first_name + \" \" + last_name`, create the variable `person1`, and then assign it the value calculated to the right of the `=`\n",
    "- line 4: recall the value of `person1` and assign it to the new variable `person2`\n",
    "- line 5: update the value of `person1` to `Mariano Rivera`\n",
    "- line 6: print the value of `person1`\n",
    "- line 7: print the value of `person2`\n",
    "\n",
    "Note that even though in line 5 we updated `person1` to `Mariano Rivera`, the value of `person2` remained `Jackie Robinson`, just as it was before. This is how things tend to work in Python, though we will eventually see some exceptions when we discuss mutable data structures like lists and dictionaries. \n",
    "\n",
    "请不要着急，确保你能理解例子中每一行的内容：\n",
    "\n",
    "- 第1行和第2行：创建并设置新变量`first_name`和`last_name`\n",
    "- 第3行：计算`first_name + \" \" + last_name`，创建变量`person1`，然后将等号右边的值赋给变量\n",
    "- 第4行：调用`person1`的值，并将其赋给新变量`person2`\n",
    "- 第5行：将`person1`的值更改为 `Mariano Rivera`\n",
    "- 第6行：打印`person1`的值\n",
    "- 第7行：打印`person2`的值\n",
    "\n",
    "请注意，尽管在第5行中我们将`person1`更改为`Mariano Rivera`，但`person2`的值仍然是`Jackie Robinson`，保持不变。这就是Python的运行方式，当然，之后讲列表和字典等可变数据结构时也会有例外。\n",
    "\n"
   ]
  },
  {
   "cell_type": "markdown",
   "metadata": {},
   "source": [
    "### **Variable Naming**\n",
    "\n",
    "### **变量命名**\n",
    "\n",
    ">There are only two hard problems in Computer Science: naming things and cache invalidation. --Phil Karlton\n",
    "\n",
    ">计算机科学中只有两个难题：命名和缓存失效。——菲尔·卡尔顿\n"
   ]
  },
  {
   "cell_type": "markdown",
   "metadata": {},
   "source": [
    "In order to use variables we have to give them names. A few basic principles apply, regardless of the language:\n",
    "\n",
    "- **Each name has to be unique** in the context they are being used. We can't, for example, have the same name for two different entities. We can label two different entities with the same name, but never at the same time. Variable assignment only allows one value at a time. \n",
    "- **Names should be descriptive** enough that we, the programmers, know what each one stands for. Otherwise we can't follow each other's code without a road map, and who's got time for that? Even if we are the only ones to ever see the code, once a program gets larger than a couple dozen lines or so, it can get hard to remember everything. You want it to fit nicely in your head. \n",
    "- **Names should also be short** enough that fat fingered typists can use them without lots of typos.\n",
    "\n",
    "为了使用变量，我们必须给变量命名。无论使用哪种语言，都有一些基本原则：\n",
    "\n",
    "- **每个名称在使用时都必须是唯一的。** 例如，我们不能为两个不同的实体取相同的名字。我们可以为两个不同的实体标注相同的名称，但绝不能同时使用。变量赋值一次只能赋一个值。\n",
    "- **名称应该具有足够的描述性**，以便程序员知道每个名称代表什么。否则我们就无法在没有流程图的情况下遵循彼此的准则，谁有时间从头研究！即使看代码的只有我们，一旦程序超过几十行，我们也很难记住所有内容。我们希望代码能在脑海中留下深刻印象。\n",
    "- **名字也应该足够简短**，以防输入时出现大量错误。"
   ]
  },
  {
   "cell_type": "markdown",
   "metadata": {},
   "source": [
    "The official [Python Language Definition](https://docs.python.org/3/reference/index.html) includes \n",
    "[some other rules](https://docs.python.org/3/reference/lexical_analysis.html#identifiers):\n",
    "\n",
    "- names can include letters, numbers, and underscores\n",
    "- names cannot start with a number\n",
    "- names can be any length, but anything over 79 characters may not work in older versions of Python\n",
    "- names must include at least one letter or an underscore (note: `_` by itself is a special variable in Jupyter)\n",
    "\n",
    "官方[Python语言的定义](https://docs.python.org/3/reference/index.html)还包括一些[其它规则](https://docs.python.org/3/reference/lexical_analysis.html#identiﬁers)：\n",
    "\n",
    "- 名称可以包括字母、数字和下划线\n",
    "- 名称不能以数字开头\n",
    "- 名称可以是任意长度，但在旧版本的Python中，超过79个字符的名称可能无法正常运行\n",
    "- 名称必须包含至少一个字母或下划线（注意：`_` 本身在 Jupyter 中就是一个特殊变量）\n"
   ]
  },
  {
   "cell_type": "markdown",
   "metadata": {},
   "source": [
    "These are some examples of bad variable names in Python:\n",
    "- `x`, `c`, `fizz`, `buzz`, `name` are not very descriptive. Only use these for sections of code where the meanings can easily be deduced by context or convention.\n",
    "- `this_is_the_theme_for_garrys_show` is certainly descriptive if it refers to the theme some from the _Garry Shandling Show_ but it may also be a bit long and too specific. What if Garry had chosen to rename his theme song? All our code would be trashed. \n",
    "- `in`, `for`,`def`, etc. are keywords. They are already taken.\n",
    "- `My Drive` has spaces in it. Python can't tell that `My` and `Drive` are part of the same name. **Use underscores (`_`) between words** instead. \n",
    "- `My_Drive` is also improper. In Python **variables should be lower case letters only.** Python will accept capital letters, but other programmers will complain. It's just not done. \n",
    "- `dollar$` is a bad name because it includes an illegal character. Leave that stuff for other languages. Python wants it clean. \n",
    "\n",
    "以下是Python变量名的反例：\n",
    "\n",
    "- `x`、`c`、`fizz`、`buzz`、`name`不太具有描述性。只有在上下文或约定俗成的情况下才能使用。\n",
    "- 如果`this_is_the_theme_for_garrys_show`指的是 _Garry Shandling Show_ 的主题，那么它当然具有描述性，但也有点长，而且过于具体。如果Garry选择重新命名他的主题曲呢？我们所有的代码都将作废。\n",
    "- `in`、`for`、`def`等都是关键词。 它们已被使用，不能出现在变量名中。\n",
    "- `My Drive`中有空格。Python无法分辨`My`和`Drive`是同一个名字的一部分。**请在单词之间使用下划线 （`_`）**。\n",
    "- `My_Drive`也不合适。在Python中，**变量只能是小写字母**。Python 本身可以接受大写字母，但其他程序员会抱怨说不合适。\n",
    "- `dollar$`这个名字不好，因为它包含一个非法字符。把这些留给其他语言吧。Python希望变量名尽量干净。"
   ]
  },
  {
   "cell_type": "markdown",
   "metadata": {},
   "source": [
    "While this section is about variable names, **many of these same rules also apply to just everything else**:\n",
    "- Functions\n",
    "- Files\n",
    "- Data types\n",
    "- Libraries and modules\n",
    "- ...\n",
    "\n",
    "There are a couple notable exceptions, though:\n",
    "- CONSTANTS (i.e., variables that don't actually vary) are often in `ALL_CAPS_WITH_UNDERSCORES`\n",
    "- Third-party data types (a.k.a., `classes`) should use `CamelCaseNaming` with the first letter of each word capitalized and no underscores.\n",
    "\n",
    "These are nonstandard because they are _intended_ to stand out. That they don't follow the rules clues us in that they have special meanings and uses.    \n",
    "\n",
    "For more about Python naming conventions, take a peek at the official [Style Guide for Python Code](https://www.python.org/dev/peps/pep-0008/#naming-conventions), also known as PEP-8.\n",
    "\n",
    "虽然本节讨论的是变量名，**但许多相同的规则也适用于其他所有内容**：\n",
    "- 函数\n",
    "- 文件\n",
    "- 数据类型\n",
    "- 库和模块\n",
    "- ...\n",
    "\n",
    "不过，也有几个值得注意的例外：\n",
    "- 常量（即实际上不变化的变量）通常使用`ALL_CAPS_WITH_UNDERSCORES`（单词全大写，并用下划线 _分隔单词）\n",
    "- 第三方数据类型（又称`类`）使用`CamelCaseNaming`（驼峰命名法），每个单词的第一个字母大写，不使用下划线。\n",
    "\n",
    "之所以说它们是非标准的，是因为它们旨在突出自己。它们不遵循规则就是为了提示我们关注其特殊的含义和用途。\n",
    "\n",
    "有关Python命名规则的更多信息，请参阅[Python代码官方风格指南](https://www.python.org/dev/peps/pep-0008/#naming-conventions)，也称为PEP-8。"
   ]
  },
  {
   "cell_type": "markdown",
   "metadata": {},
   "source": [
    "### **Pulse Check ...**\n",
    "**Why do variable names need to be unique? What do you suppose we mean by \"in the context they are being used?\"**\n",
    "\n",
    "### **脉冲检查 ...**\n",
    "**为什么变量名需要唯一？ 你认为 “在使用环境中”是什么意思？**"
   ]
  },
  {
   "cell_type": "markdown",
   "metadata": {
    "id": "amTOcf7FPJlR"
   },
   "source": [
    "YOUR ANSWER HERE 在此输入你的答案"
   ]
  },
  {
   "cell_type": "markdown",
   "metadata": {
    "id": "w99auWkCPJlS"
   },
   "source": [
    "**What, if anything, is wrong with each of the variable names below?**"
   ]
  },
  {
   "cell_type": "markdown",
   "metadata": {
    "id": "CtM5jksSPJlT"
   },
   "source": [
    "**`1password`**"
   ]
  },
  {
   "cell_type": "markdown",
   "metadata": {
    "id": "s_zHALTKPJlT"
   },
   "source": [
    "YOUR ANSWER HERE 在此输入你的答案"
   ]
  },
  {
   "cell_type": "markdown",
   "metadata": {
    "jupyter": {
     "source_hidden": true
    },
    "tags": []
   },
   "source": [
    "\n",
    "> Python names cannot start with a number.\n",
    "> Python 名字不能以一个数字开始。"
   ]
  },
  {
   "cell_type": "markdown",
   "metadata": {
    "id": "rdm_nr7sPJlT"
   },
   "source": [
    "**`onePassword`**"
   ]
  },
  {
   "cell_type": "markdown",
   "metadata": {
    "id": "orBJXLIzPJlU"
   },
   "source": [
    "YOUR ANSWER HERE 在此输入你的答案"
   ]
  },
  {
   "cell_type": "markdown",
   "metadata": {
    "jupyter": {
     "source_hidden": true
    },
    "tags": []
   },
   "source": [
    "\n",
    "> Python prefers underscores to camel case naming.\n",
    "> Python 更喜欢下划线而不是驼峰命名。"
   ]
  },
  {
   "cell_type": "markdown",
   "metadata": {
    "id": "eR0DTlP1PJlU"
   },
   "source": [
    "**`one password`**"
   ]
  },
  {
   "cell_type": "markdown",
   "metadata": {
    "id": "MhqOWif2PJlV"
   },
   "source": [
    "YOUR ANSWER HERE 在此输入你的答案"
   ]
  },
  {
   "cell_type": "markdown",
   "metadata": {
    "jupyter": {
     "source_hidden": true
    },
    "tags": []
   },
   "source": [
    "\n",
    "> Spaces are not allowed in Python names.\n",
    "> Python的名字里不允许有空格。"
   ]
  },
  {
   "cell_type": "markdown",
   "metadata": {
    "id": "TpBIxftdPJlV"
   },
   "source": [
    "**`one_password`**"
   ]
  },
  {
   "cell_type": "markdown",
   "metadata": {
    "id": "Q0iD-GmXPJlV"
   },
   "source": [
    "YOUR ANSWER HERE 在此输入你的答案"
   ]
  },
  {
   "cell_type": "markdown",
   "metadata": {
    "jupyter": {
     "source_hidden": true
    },
    "tags": []
   },
   "source": [
    "\n",
    "> Nothing wrong with this one.\n",
    "> 这个没有错误。"
   ]
  },
  {
   "cell_type": "markdown",
   "metadata": {
    "id": "o5qNUWOuPJlW"
   },
   "source": [
    "**`onep@ssw0rd`**"
   ]
  },
  {
   "cell_type": "markdown",
   "metadata": {
    "id": "rWZW3_fvPJlW"
   },
   "source": [
    "YOUR ANSWER HERE 在此输入你的答案"
   ]
  },
  {
   "cell_type": "markdown",
   "metadata": {
    "jupyter": {
     "source_hidden": true
    },
    "tags": []
   },
   "source": [
    "\n",
    "> Python only allows latin letters, numbers, and underscores.\n",
    "> Python 只允许使用拉丁字母、数字和下划线。"
   ]
  },
  {
   "cell_type": "markdown",
   "metadata": {
    "id": "E3syspHzPJlX"
   },
   "source": [
    "----\n",
    "## **Lexical Structure: Statements, Expressions, Operators, Literals, and Punctuation**\n",
    "\n",
    "## **词法结构：语句、表达式、运算符、字面量和标点符号**\n",
    "\n",
    "Sometimes you can learn a lot from just one line of code. For example, let's revisit a line from the section on variable assignment:\n",
    "```python\n",
    "person1 = first_name + \" \" + last_name\n",
    "```\n",
    "有时，仅从一行代码就可以学到很多东西。例如，让我们回顾一下变量赋值部分的一行代码：\n",
    "```python\n",
    "person1 = first_name + \" \" + last_name\n",
    "```\n",
    "\n",
    "In this one line we see a **statement**, an **operator**, and **an expression**. (Actually, there are three expressions, two operators, and a text literal but who's counting?)\n",
    "- the entire line of code `person1 = first_name + \" \" + last_name` is an assignment **statement**\n",
    "- the addition **operator** is denoted by the plus sign `+`\n",
    "- the calculation `first_name + \" \" + last_name` is an **expression**\n",
    "\n",
    "在这一行中，我们看到了一个**语句**、一个**运算符**和一个**表达式**。（实际上，有三个表达式、两个运算符和一个文本字面量，但没人会去数这个。）\n",
    "\n",
    "- 整行代码`person1 = first_name + \" \" + last_name`是一个赋值语句\n",
    "- 加法**运算符**用加号 `+` 表示\n",
    "- `first_name + \" \" + last_name`是一个**表达式**\n",
    "\n",
    "\n",
    "**A statement is the Python equivalent of an imperative sentence. Statements _do_ things that change the state (value) of other things.** A statement is one semantically complete thought (for the programmer) or one syntactically complete unit of code for Python to execute. Each time we ask the computer to do something, we give it a statement. If we give the computer a sequence of statements then it executes them one at a time in the order they are given. \n",
    "\n",
    "**语句相当于Python的命令句，其作用是改变其他事物的状态（值）。** 对程序员来说，语句是一个语义完整的想法或一个语法完整的执行代码单元。每次我们要求计算机做某件事时，都会给它一个语句。如果我们给计算机一个语句序列，那么它就会按照给出的顺序逐条执行。\n",
    "\n",
    "Just as sentences in human language have syntactic structure (parts of speech), so do Python statements. In fact the precise grammar for all legal Python statements is defined in one surprisingly short document, [Python Language Definition](https://docs.python.org/3/reference/index.html). The grammar rules defined there break each sentence down into variables, operations, keywords, literals, and punctuation. Everything is covered in fine detail. Consider, for example, how Python defines integer numbers:   \n",
    "\n",
    "就像人类语言有句法结构（和词类）一样，Python语句也有句法结构。事实上，所有合法Python语句的精确语法都在一个相当简短的文档中定义，即[Python 语言定义](https://docs.python.org/3/reference/index.html)。其中的语法规则将每个句子分解为变量、操作、关键字、字面量和标点符号。所有内容都有详细说明。可以想想Python如何定义整数或其他数据类型。\n",
    "![Integer Grammar Rule](../img/L2_1_Integer_Grammar.png)  \n",
    "While the notation (called BNF grammar, first used to design Fortran) is pretty arcane, just know that these 10 grammar rules (one per line) together describe every possible integer in every possible format recognized by Python. \n",
    "\n",
    "虽然语法符号（称为BNF语法，最早用于设计Fortran编程语言）非常神秘，但只需知道这10条语法规则（每行一条）共同描述了Python所识别的每一种可能格式中的每一种可能整数即可。\n",
    "\n",
    "So far we have only seen a few kinds of statements. The examples so far have been mostly assignment statements, which _always_ follow the same pattern: _`variable = expression`_. As we learned before, the _`expression`_ on the right is always evaluated first and then assigned to the _`variable`_ on the left. \n",
    "\n",
    "到目前为止，我们只看到了几种语句，其中大多是赋值语句，总是遵循相同的模式：_`variable = expression_`。正如我们以前学过的，右边的_`expression_`总是先被求值，再赋值给左边的_`variable_`。\n",
    "\n",
    "**An expression is anything that can be evaluated to produce a value. Expressions _are_ things.** So, each calculation like `1+1` or `first_name + \" \" + last_name` is an expression, but so is recalling the value of a variable like `first_name` or `last_name`. They each produce a value when evaluated. Expressions can be composed of other expressions. In order to evaluate them Python will break them down into smaller and smaller expressions, until all that's left is some combination of variables, operators, and **literal** values. **Literals** are things like numbers or text strings that don't need to be broken down any further. \n",
    "\n",
    "**表达式是任何可以求值的东西。表达式就是事物。** 因此，每次计算，如`1+1`或 `first_name + \" \" + last_name`都是一个表达式。而调用变量值，如`first_name`或`last_name`也是表达式。它们在求值时都会产生一个值。表达式可以由其他表达式组成。为了求值，Python会将它们分解成更小的表达式，直到只剩下变量、运算符和**字面**值的组合。**字面**值是像数字或文本字符串这样不需要进一步分解的东西。\n",
    "\n",
    "**An operator represents a calculation with a symbol like `+` or `%`.** In order for operators to be useful they have to be applied to one or more **operands** according to a specific pattern. So, for example, the `+` operator follows this pattern: _`expression1 + expression2`_, where the operands are `expression1` and `expression2`.  In principle, an operator can have any number of operands: unary operators have one operand, binary operators have two, ternary operators have three, etc. However, all of Python's built-in operators are binary, with one operand on the left and another on the right. \n",
    "\n",
    "**运算符用 `+` 或 `%` 这样的符号表示计算。** 它们必须按照特定模式应用于一或多个运算对象才能发挥作用。   例如，运算符+遵循以下模式：_`expression1 + expression2`_，其中运算对象为`expression1`和  `expression2`。原则上，运算符可以有任意数量的运算对象：一元运算符有一个运算对象数，二元运算符有两个运算对象，三元运算符有三个运算对象，以此类推。然而，Python的所有内置运算符都是二元的，一个运算对象在左边，另一个在右边。\n",
    "\n",
    "When we apply an operator to a set of operands we call it an **operation**. Since operations always produce a value, they are also expressions and can also be broken down into smaller and smaller parts. When doing so we need to know which operations to evaluate first. For that we can use the same [PEMDAS rule](https://en.wikipedia.org/wiki/Order_of_operations) you likely learned in middle school. Operations are evaluated **left to right** _except_ ...\n",
    "- operations inside **parentheses** (or other grouping operation) must be evaluated before ...\n",
    "- **exponents** and roots, which must be evaluated before ...\n",
    "- **multiplication** and **division**, which must be evaluated before ...\n",
    "- **addition** and **subtraction**\n",
    "\n",
    "当我们将运算符应用于一组运算对象时，我们称之为**运算**。由于运算总是产生一个值，所以它们也是表达式，也可以分解成越来越小的部分。这样做时，我们需要知道哪些运算要先求值。为此，我们可以使用中学时学过的[PEMDAS规则](https://zh.wikipedia.org/wiki/運算次序)，**从左到右**进行运算，_除非_...\n",
    "\n",
    "- 先进行括号内的操作（或其他分组操作）\n",
    "- 接下来是指数和开根运算\n",
    "- 然后是乘法和除法\n",
    "- 最后是加法和减法\n",
    "\n",
    "Thus, `3*6+1/2` evaluates to 18.5 while `3*(6+1)/2` evaluates to 10.5. If in doubt about how an expression is going to be evaluated, use parentheses to force it to go the way you want it to go. \n",
    "\n",
    "因此，`3*6+1/2`的值为18.5，而`3*(6+1)/2`的值为10.5。如果对表达式的求值方式有疑问，可以使用括号来强制它按照希望的方式求值。\n",
    "\n",
    "**Punctuation is everything else we need to structure our statements.** We haven't seen much of that yet but we will. Besides **white space** (which we learned about in lesson 1) we will also use dots `.`, colons `:`, parentheses `()`, brackets `[]` and other symbols as hints to help Python break statements down into their various parts.  \n",
    "\n",
    "**标点是我们构建语句所需要的一切。** 我们还没有看到太多的标点符号，但之后都会学到。除了**空白字符**（我们在第1课中学习过），我们还将使用英文输入法下的点`.`、冒号`:` 、圆括号`()`、方括号`[]`和其他符号作为提示，帮助Python将语句分解成不同的部分。\n",
    "\n",
    "### **Pulse Check ...**\n",
    "### **脉冲检查...**"
   ]
  },
  {
   "cell_type": "markdown",
   "metadata": {
    "id": "a35ozPvXPJlX"
   },
   "source": [
    "**Why aren't expressions considered statements?** (After all, they do calculate things.)\n",
    "\n",
    "**为什么表达式不被视为语句？**（毕竟表达式会计算事物）"
   ]
  },
  {
   "cell_type": "markdown",
   "metadata": {
    "id": "BmYfq3ZuPJlX"
   },
   "source": [
    "YOUR ANSWER HERE 在此输入你的答案"
   ]
  },
  {
   "cell_type": "markdown",
   "metadata": {
    "jupyter": {
     "source_hidden": true
    },
    "tags": []
   },
   "source": [
    "\n",
    "> Because they do not _do_ anything beyind calculate. They generally execute without _side effects_ (changing anything) along the way.\n",
    "> 因为他们不做任何超出计算的事情。它们通常在执行过程中不会产生 _副作用_ (改变任何东西)。"
   ]
  },
  {
   "cell_type": "markdown",
   "metadata": {
    "id": "deb1LB1tPJlY"
   },
   "source": [
    "**Why is the equals sign not an operator?** (This one is very subtle. Many professional programmers get it wrong.)\n",
    "\n",
    "**为什么等号不是运算符？**（这个问题很微妙，很多专业程序员都会搞错）。"
   ]
  },
  {
   "cell_type": "markdown",
   "metadata": {
    "id": "PKHFdI-ZPJlY"
   },
   "source": [
    "YOUR ANSWER HERE 在此输入你的答案"
   ]
  },
  {
   "cell_type": "markdown",
   "metadata": {
    "jupyter": {
     "source_hidden": true
    },
    "tags": []
   },
   "source": [
    "\n",
    "> Because it does not return a value. It issues a command to Python to do something with side effects.\n",
    "> 因为它没有返回值。它向 Python 发出一个命令来执行一些有副作用的操作。"
   ]
  },
  {
   "cell_type": "markdown",
   "metadata": {
    "id": "dGj7FTm6PJlY"
   },
   "source": [
    "**In what order would the operations in `1 + int(\"1\")/float(2)` be executed?**\n",
    "\n",
    "**`1 + int(\"1\")/float(2)`中的操作以什么顺序执行?**"
   ]
  },
  {
   "cell_type": "markdown",
   "metadata": {
    "id": "uuGD1c4KPJlZ"
   },
   "source": [
    "YOUR ANSWER HERE; FILL IN THE OPERATION FOR EACH STEP\n",
    "在此输入你的答案; 写下每一个执行步骤\n",
    "\n",
    "1.  \n",
    "2. \n",
    "3. \n",
    "4. "
   ]
  },
  {
   "cell_type": "markdown",
   "metadata": {
    "jupyter": {
     "source_hidden": true
    },
    "tags": []
   },
   "source": [
    "\n",
    "---\n",
    "1. `int(\"1\")`\n",
    "2. `float(2)`\n",
    "3. `1 / 2.0`\n",
    "4. `1 + 0.5`"
   ]
  },
  {
   "cell_type": "markdown",
   "metadata": {
    "id": "xoE6Lq3CPJlZ"
   },
   "source": [
    "**In the statement `person1 = first_name + \" \" + last_name` what are the variables, expressions, literals, and operators?**\n",
    "\n",
    "**在语句 `person1 = first_name + \" \" + last_name`中，有哪些变量、表达式、字面量和运算符?**"
   ]
  },
  {
   "cell_type": "markdown",
   "metadata": {
    "id": "2_sv0pmKPJlZ"
   },
   "source": [
    "YOUR ANSWER HERE 在此输入你的答案\n",
    "\n",
    "- Variables:变量： \n",
    "- Expressions:表达式：\n",
    "- Literals:字面量： \n",
    "- Operators:运算符："
   ]
  },
  {
   "cell_type": "markdown",
   "metadata": {
    "cellView": "form",
    "id": "DtDzM0QahbBO",
    "jupyter": {
     "source_hidden": true
    },
    "tags": []
   },
   "source": [
    "---\n",
    "- **variables:** `person1`, `first_name`, and `last_name`\n",
    "- **expressions:** `first_name + \" \" + last_name` \n",
    "_but also_ `first_name + \" \"` and `(first_name + \" \") + last_name`\n",
    "- **literals:** \" \" (space character)\n",
    "- **operators:** `+` (addition)"
   ]
  },
  {
   "cell_type": "markdown",
   "metadata": {},
   "source": [
    "### **Syntax Highlighting**\n",
    "Programming environments like Jupyter often come with real-time (as you type) syntax parsing for whatever language you are using at the time. The result is that code is highlighted to show how it will interpret.\n",
    "```python\n",
    "# comments are dark green\n",
    "\"literal text strings are red\"\n",
    "keywords like for or in are green unless they are quoted like \"for\" or \"in\"\n",
    "```\n",
    "The actual colors may vary (e.g., Google Colab uses a different color scheme for text cells and code cells) but the actual Python grammar rules don't. So, if you forgot the second double-quote at the end of a string literal, then all remaining code on the line that will appear in whatever color is used for string literals. Similarly, if a variable name appears in the same color as the one for keywords, you know that you are going to need to rename the variable to something else. That name is already taken.\n",
    "\n",
    "### **语法高亮**\n",
    "像Jupyter这样的编程环境通常会为正在使用的语言提供实时（键入时）语法分析。其结果是，代码被不同颜色的高亮标示出功能。\n",
    "```python\n",
    "# comments are dark green\n",
    "\"literal text strings are red\"\n",
    "keywords like for or in are green unless they are quoted like \"for\" or \"in\"\n",
    "```\n",
    "\n",
    "实际颜色可能会有所不同（例如，Google Colab 对文本单元格和代码单元格使用了不同的配色方案），但实际的Python语法规则不会。因此，如果忘记了字符串字面量末尾的第二个双引号，那么该行的所有剩余代码都将显示为字符串字面量所用的颜色。同样，如果变量名的颜色与关键字的颜色相同，那么该名称已被占，你就需要将该变量重命名为其他名称。"
   ]
  },
  {
   "cell_type": "markdown",
   "metadata": {
    "id": "9RnbN3zRPJla"
   },
   "source": [
    "----\n",
    "## **Code Comments**\n",
    "In Jupyter we use Markdown to enter text for humans to read and code cells for Python to execute. However, sometimes it is useful to mix human-friendly (but not executable) **comments** into our Python code. Comments are used like annotations, explaining what a bit of code does so we don't have to figure it out again later. \n",
    "In Python we use the _hash_ symbol `#` to indicate comments. Everything on a line of code after the `#` is ignored by Python. Those are just for us humans. \n",
    "```python\n",
    "# stock the fridge\n",
    "the_fridge = [\"bud\", \"bud\", \"stella\", \"miller\",\"homebrew\"]\n",
    "the_fridge += [\"heinie\"] # don't forget the Heineken\n",
    "\n",
    "# drink each beer in the fridge, one at a time\n",
    "for beer in the_fridge:\n",
    "    empty_bottle = drink(beer)\n",
    "    burp()                # that's why we drink beer, right? \n",
    "    dispose(empty_bottle) # don't just leave empties lying around\n",
    "    \n",
    "    # be joyful\n",
    "    print(beer)           \n",
    "    print(\"And another one gone, and another one gone, another one bites the dust.\")\n",
    "\n",
    "```\n",
    "\n",
    "**While it might be tempting to just skip writing the comments, please resist the urge to do so.** Comments are an important part of your code. In fact, you may want to **write the comments first, before writing any Python code.** That way you can plan out your logic in **pseudo-code** before having to think in Python. First write out the steps as pseudo-code comments and then add Python statements to implement them.  \n",
    "\n",
    "> **Heads Up:** take note of the indentation used for the comments above. **Comments are considered as part of your code and should follow the same indentation rules as runnable Python code.** \n",
    ">\n",
    "> Don't do this, for example:\n",
    ">\n",
    "> ```python\n",
    "> for beer in the_fridge:\n",
    ">    empty_bottle = drink(beer)\n",
    ">    burp()                # that's why we drink beer, right? \n",
    ">    dispose(empty_bottle) # don't just leave empties lying around\n",
    "> \n",
    "># be joyful   <--- VERY BAD FORM. YOU'RE FIRED!\n",
    ">    print(beer)           \n",
    ">    print(\"And another one gone, and another one gone, another one bites the dust.\")\n",
    "> \n",
    ">\n",
    "> ```\n",
    "> **If a comment is to appear on a line by itself, _always_ indent it to match the code immediately below. Anything else is considered _extremely_ bad form because it makes the Python code (where indentation matters) very hard to read.** Are the Python statements `dispose(empty_bottle)` and `print(beer)` indented the same? It's hard to tell when the comments don't line up with the Python code."
   ]
  },
  {
   "cell_type": "markdown",
   "metadata": {},
   "source": [
    "## **代码注释**\n",
    "在Jupyter中，我们使用Markdown输入供人类阅读的文本和供Python执行的代码单元。不过，有时Python代码中加入对人类友好的**注释**（但不可执行）也很有用。注释就像注解一样，用来解释代码的作用，这样我们以后就不用再去猜测代码功能了。\n",
    "在Python中，我们使用 # 来表示注释。Python 运行代码时会忽略同一行 #之后的所有内容。这些都是供我们人类阅读的。\n",
    "```python\n",
    "# stock the fridge\n",
    "the_fridge = [\"bud\", \"bud\", \"stella\", \"miller\",\"homebrew\"]\n",
    "the_fridge += [\"heinie\"] # don't forget the Heineken\n",
    "\n",
    "# drink each beer in the fridge, one at a time\n",
    "for beer in the_fridge:\n",
    "    empty_bottle = drink(beer)\n",
    "    burp()                # that's why we drink beer, right? \n",
    "    dispose(empty_bottle) # don't just leave empties lying around\n",
    "    \n",
    "    # be joyful\n",
    "    print(beer)           \n",
    "    print(\"And another one gone, and another one gone, another one bites the dust.\")\n",
    "\n",
    "```\n",
    "**虽然你可能会忍不住不写注释，但请不要这样做。** 注释是代码的重要组成部分。事实上，**在写任何Python代码之前，应该先写注释。** 这样就可以在用Python思考之前，先用**伪代码**规划逻辑。首先将步骤写成伪代码注释，然后添加Python语句来实现它们。\n",
    "\n",
    "> **注意:** 请留意上面注释的缩进。**注释被视为代码的一部分，应遵循与可运行Python代码相同的缩进规则。**\n",
    ">\n",
    "> 例如，不要这样做：\n",
    ">\n",
    "> ```python\n",
    "> for beer in the_fridge:\n",
    ">    empty_bottle = drink(beer)\n",
    ">    burp()                # that's why we drink beer, right? \n",
    ">    dispose(empty_bottle) # don't just leave empties lying around\n",
    "> \n",
    "># be joyful   <--- VERY BAD FORM. YOU'RE FIRED! 非常糟糕的格式。你会丢掉工作!\n",
    ">    print(beer)           \n",
    ">    print(\"And another one gone, and another one gone, another one bites the dust.\")\n",
    "> \n",
    ">\n",
    "> ```\n",
    "> **如果注释要单独出现在一行中，一定要缩进，使其与下面的代码对齐。否则会让Python代码（缩进很重要）很难阅读，导致格式非常糟糕。** 当注释与Python代码对不齐时，很难分辨`dispose(empty_bottle)`和 `print(beer)`的缩进是否相同。"
   ]
  },
  {
   "cell_type": "markdown",
   "metadata": {
    "id": "NWEpomh3i5gh"
   },
   "source": [
    "### **Literate Programming**\n",
    "The best programs don't actually need a lot of comments beyond whatever is needed for basic documentation. Instead, every effort is made to make the code itself as easy to read and interpret as possible. Such code is said to be **literate** because an experienced programmer can read it like a book. When your code gets to book length -- a mobile app might have 100,000 lines of code -- you really start to appreciate the value of readability. While it might not be possible to make your code readable while you are creating and debugging it, professionals always take the time to clean it up afterwards. The Python Style Guide for Code (PEP-8) provides lots of recommendations and even some tools to help you do the cleanup. \n",
    "\n",
    "### **文学式编程**\n",
    "除了基本文档所需注释外，最好的程序实际上并不需要很多注释。相反，我们会尽一切努力使代码本身尽可能易于阅读和解释。这样的代码被称为**文学式**，让有经验的程序员可以像读书一样读程序。当你的代码达到一本书的长度（一个移动应用程序可能有10万行代码）时，就能真正体会到可读性的价值。虽然在创建和调试代码时可能无法使代码具有可读性，但专业人士总是会在事后花时间清理代码。Python代码风格指南（PEP-8）提供了很多建议，甚至还有一些工具来帮助进行清理。"
   ]
  },
  {
   "cell_type": "markdown",
   "metadata": {
    "id": "dFooHQ9fPJla"
   },
   "source": [
    "### **Commenting Out in Debugging**\n",
    "Comments are used for more than just annotating code. When a block of code isn't working it can be useful to \"comment out\" code as we narrow down the source of the error. For example, consider what happens when we run the code above:\n",
    "\n",
    "### **调试中的注释**\n",
    "注释不仅仅用于注释代码。当代码块无法运行时，“注释掉”代码（用 # 把代码变成注释）可以帮助我们缩小错误源的范围。例如，考虑一下运行上面的代码时会发生什么："
   ]
  },
  {
   "cell_type": "code",
   "execution_count": null,
   "metadata": {
    "id": "_n8V3OJvPJlb",
    "outputId": "cd619bab-e442-463c-ae2f-0ba3b5ebee83"
   },
   "outputs": [
    {
     "ename": "NameError",
     "evalue": "name 'drink' is not defined",
     "output_type": "error",
     "traceback": [
      "\u001b[0;31m---------------------------------------------------------------------------\u001b[0m",
      "\u001b[0;31mNameError\u001b[0m                                 Traceback (most recent call last)",
      "\u001b[0;32m<ipython-input-9-b0e9c397359b>\u001b[0m in \u001b[0;36m<module>\u001b[0;34m\u001b[0m\n\u001b[1;32m      5\u001b[0m \u001b[0;31m# drink each beer in the fridge, one at a time\u001b[0m\u001b[0;34m\u001b[0m\u001b[0;34m\u001b[0m\u001b[0;34m\u001b[0m\u001b[0m\n\u001b[1;32m      6\u001b[0m \u001b[0;32mfor\u001b[0m \u001b[0mbeer\u001b[0m \u001b[0;32min\u001b[0m \u001b[0mthe_fridge\u001b[0m\u001b[0;34m:\u001b[0m\u001b[0;34m\u001b[0m\u001b[0;34m\u001b[0m\u001b[0m\n\u001b[0;32m----> 7\u001b[0;31m     \u001b[0mempty_bottle\u001b[0m \u001b[0;34m=\u001b[0m \u001b[0mdrink\u001b[0m\u001b[0;34m(\u001b[0m\u001b[0mbeer\u001b[0m\u001b[0;34m)\u001b[0m\u001b[0;34m\u001b[0m\u001b[0;34m\u001b[0m\u001b[0m\n\u001b[0m\u001b[1;32m      8\u001b[0m     \u001b[0mburp\u001b[0m\u001b[0;34m(\u001b[0m\u001b[0;34m)\u001b[0m                \u001b[0;31m# that's why we drink beer, right?\u001b[0m\u001b[0;34m\u001b[0m\u001b[0;34m\u001b[0m\u001b[0m\n\u001b[1;32m      9\u001b[0m     \u001b[0mdispose\u001b[0m\u001b[0;34m(\u001b[0m\u001b[0mempty_bottle\u001b[0m\u001b[0;34m)\u001b[0m \u001b[0;31m# don't just leave empties lying around\u001b[0m\u001b[0;34m\u001b[0m\u001b[0;34m\u001b[0m\u001b[0m\n",
      "\u001b[0;31mNameError\u001b[0m: name 'drink' is not defined"
     ]
    }
   ],
   "source": [
    "# stock the fridge\n",
    "the_fridge = [\"bud\", \"bud\", \"stella\", \"miller\",\"homebrew\"]\n",
    "the_fridge += [\"heinie\"] # don't forget the Heineken\n",
    "\n",
    "# drink each beer in the fridge, one at a time\n",
    "for beer in the_fridge:\n",
    "    empty_bottle = drink(beer)\n",
    "    burp()                # that's why we drink beer, right? \n",
    "    dispose(empty_bottle) # don't just leave empties lying around\n",
    "\n",
    "    # be joyful\n",
    "    print(beer)           \n",
    "    print(\"And another one gone, and another one gone, another one bites the dust.\")"
   ]
  },
  {
   "cell_type": "markdown",
   "metadata": {
    "id": "5nE9DVoJPJlc"
   },
   "source": [
    "Oops. It doesn't work! We've failed! Now we need to see if we can figure out exactly which lines are not working. \n",
    "\n",
    "Let's start by commenting out line 7 with the `drink` function in it.\n",
    "\n",
    "哎呀，不行！程序失败了！现在我们需要看看能否找出到底是哪一行不行。\n",
    "\n",
    "我们先注释掉包含`drink`函数的第7行。\n"
   ]
  },
  {
   "cell_type": "code",
   "execution_count": null,
   "metadata": {
    "id": "TCHcM8FkPJld",
    "outputId": "6e462d43-b583-406c-f418-ce2ec24c5553"
   },
   "outputs": [
    {
     "ename": "NameError",
     "evalue": "name 'burp' is not defined",
     "output_type": "error",
     "traceback": [
      "\u001b[0;31m---------------------------------------------------------------------------\u001b[0m",
      "\u001b[0;31mNameError\u001b[0m                                 Traceback (most recent call last)",
      "\u001b[0;32m<ipython-input-10-86326dab1fa7>\u001b[0m in \u001b[0;36m<module>\u001b[0;34m\u001b[0m\n\u001b[1;32m      6\u001b[0m \u001b[0;32mfor\u001b[0m \u001b[0mbeer\u001b[0m \u001b[0;32min\u001b[0m \u001b[0mthe_fridge\u001b[0m\u001b[0;34m:\u001b[0m\u001b[0;34m\u001b[0m\u001b[0;34m\u001b[0m\u001b[0m\n\u001b[1;32m      7\u001b[0m     \u001b[0;31m# empty_bottle = drink(beer)\u001b[0m\u001b[0;34m\u001b[0m\u001b[0;34m\u001b[0m\u001b[0;34m\u001b[0m\u001b[0m\n\u001b[0;32m----> 8\u001b[0;31m     \u001b[0mburp\u001b[0m\u001b[0;34m(\u001b[0m\u001b[0;34m)\u001b[0m                \u001b[0;31m# that's why we drink beer, right?\u001b[0m\u001b[0;34m\u001b[0m\u001b[0;34m\u001b[0m\u001b[0m\n\u001b[0m\u001b[1;32m      9\u001b[0m     \u001b[0mdispose\u001b[0m\u001b[0;34m(\u001b[0m\u001b[0mempty_bottle\u001b[0m\u001b[0;34m)\u001b[0m \u001b[0;31m# don't just leave empties lying around\u001b[0m\u001b[0;34m\u001b[0m\u001b[0;34m\u001b[0m\u001b[0m\n\u001b[1;32m     10\u001b[0m \u001b[0;34m\u001b[0m\u001b[0m\n",
      "\u001b[0;31mNameError\u001b[0m: name 'burp' is not defined"
     ]
    }
   ],
   "source": [
    "# stock the fridge\n",
    "the_fridge = [\"bud\", \"bud\", \"stella\", \"miller\",\"homebrew\"]\n",
    "the_fridge += [\"heinie\"] # don't forget the Heineken\n",
    "\n",
    "# drink each beer in the fridge, one at a time\n",
    "for beer in the_fridge:\n",
    "    # empty_bottle = drink(beer)\n",
    "    burp()                # that's why we drink beer, right? \n",
    "    dispose(empty_bottle) # don't just leave empties lying around\n",
    "\n",
    "    # be joyful\n",
    "    print(beer)           \n",
    "    print(\"And another one gone, and another one gone, another one bites the dust.\")"
   ]
  },
  {
   "cell_type": "markdown",
   "metadata": {
    "id": "Iu0mL9gzPJlf"
   },
   "source": [
    "Okay, so that led to another bug. The `burp` function doesn't exist either. Let's comment out line 8 too. \n",
    "\n",
    "好吧，又出现了另一个错误。`burp`函数也不存在。把第8行也注释掉吧。"
   ]
  },
  {
   "cell_type": "code",
   "execution_count": null,
   "metadata": {
    "id": "QDZ6esZTPJlf",
    "outputId": "ed40fa3c-c1c5-4097-dca0-15d0cff925b9"
   },
   "outputs": [
    {
     "ename": "NameError",
     "evalue": "name 'dispose' is not defined",
     "output_type": "error",
     "traceback": [
      "\u001b[0;31m---------------------------------------------------------------------------\u001b[0m",
      "\u001b[0;31mNameError\u001b[0m                                 Traceback (most recent call last)",
      "\u001b[0;32m<ipython-input-11-85b8e30f477c>\u001b[0m in \u001b[0;36m<module>\u001b[0;34m\u001b[0m\n\u001b[1;32m      7\u001b[0m     \u001b[0;31m# empty_bottle = drink(beer)\u001b[0m\u001b[0;34m\u001b[0m\u001b[0;34m\u001b[0m\u001b[0;34m\u001b[0m\u001b[0m\n\u001b[1;32m      8\u001b[0m     \u001b[0;31m# burp()                # that's why we drink beer, right?\u001b[0m\u001b[0;34m\u001b[0m\u001b[0;34m\u001b[0m\u001b[0;34m\u001b[0m\u001b[0m\n\u001b[0;32m----> 9\u001b[0;31m     \u001b[0mdispose\u001b[0m\u001b[0;34m(\u001b[0m\u001b[0mempty_bottle\u001b[0m\u001b[0;34m)\u001b[0m \u001b[0;31m# don't just leave empties lying around\u001b[0m\u001b[0;34m\u001b[0m\u001b[0;34m\u001b[0m\u001b[0m\n\u001b[0m\u001b[1;32m     10\u001b[0m \u001b[0;34m\u001b[0m\u001b[0m\n\u001b[1;32m     11\u001b[0m     \u001b[0;31m# be joyful\u001b[0m\u001b[0;34m\u001b[0m\u001b[0;34m\u001b[0m\u001b[0;34m\u001b[0m\u001b[0m\n",
      "\u001b[0;31mNameError\u001b[0m: name 'dispose' is not defined"
     ]
    }
   ],
   "source": [
    "# stock the fridge\n",
    "the_fridge = [\"bud\", \"bud\", \"stella\", \"miller\",\"homebrew\"]\n",
    "the_fridge += [\"heinie\"] # don't forget the Heineken\n",
    "\n",
    "# drink each beer in the fridge, one at a time\n",
    "for beer in the_fridge:\n",
    "    # empty_bottle = drink(beer)\n",
    "    # burp()                # that's why we drink beer, right? \n",
    "    dispose(empty_bottle) # don't just leave empties lying around\n",
    "\n",
    "    # be joyful\n",
    "    print(beer)           \n",
    "    print(\"And another one gone, and another one gone, another one bites the dust.\")"
   ]
  },
  {
   "cell_type": "markdown",
   "metadata": {
    "id": "HDBu9wYSPJlh"
   },
   "source": [
    "Yet again, Python is telling us that we forgot to define something. Let's comment out line 9.\n",
    "\n",
    "Python又一次告诉我们忘了定义什么了。让我们注释掉第9行。"
   ]
  },
  {
   "cell_type": "code",
   "execution_count": null,
   "metadata": {
    "id": "beqVEe7kPJlh",
    "outputId": "f30e9806-1e11-4354-ebb4-94a758661ea5"
   },
   "outputs": [
    {
     "name": "stdout",
     "output_type": "stream",
     "text": [
      "bud\n",
      "And another one gone, and another one gone, another one bites the dust.\n",
      "bud\n",
      "And another one gone, and another one gone, another one bites the dust.\n",
      "stella\n",
      "And another one gone, and another one gone, another one bites the dust.\n",
      "miller\n",
      "And another one gone, and another one gone, another one bites the dust.\n",
      "homebrew\n",
      "And another one gone, and another one gone, another one bites the dust.\n",
      "heinie\n",
      "And another one gone, and another one gone, another one bites the dust.\n"
     ]
    }
   ],
   "source": [
    "# stock the fridge\n",
    "the_fridge = [\"bud\", \"bud\", \"stella\", \"miller\",\"homebrew\"]\n",
    "the_fridge += [\"heinie\"] # don't forget the Heineken\n",
    "\n",
    "# drink each beer in the fridge, one at a time\n",
    "for beer in the_fridge:\n",
    "    # empty_bottle = drink(beer)\n",
    "    # burp()                # that's why we drink beer, right? \n",
    "    # dispose(empty_bottle) # don't just leave empties lying around\n",
    "\n",
    "    # be joyful\n",
    "    print(beer)           \n",
    "    print(\"And another one gone, and another one gone, another one bites the dust.\")"
   ]
  },
  {
   "cell_type": "markdown",
   "metadata": {
    "id": "PN6UE8PVPJlj"
   },
   "source": [
    "#### **So what? This didn't actually fix anything, right?**\n",
    "Now the code runs at least, though it doesn't do everything we wanted. However, **we did learn something here**. By commenting out lines one at a time _we let Python tell us exactly_ what we needed to do to get the code running: define the functions `drink`, `burp`, and `dispose`. If all we saw was the first error message (before we commented things out) then we would have only discovered the first error about the missing `drink` function. The other two bugs would have been hidden behind the first error message. \n",
    "\n",
    "### **那又怎样？这实际上并没有解决任何问题，对吧?**\n",
    "虽然代码并没有达到目的，但它至少可以运行了。不过，**我们还是学到了一些东西**。通过一行一行地注释掉代码，我们让Python准确地告诉我们需要做什么才能使代码运行：要先定义函数`drink` 、`burp`和`dispose`。如果我们没有注释掉错误，只看到第一个错误消息，那么我们只会发现关于缺少`drink`函数的第一个错误，忽视其他两个错误。"
   ]
  },
  {
   "cell_type": "markdown",
   "metadata": {
    "id": "lvX_3UoePJlm"
   },
   "source": [
    "---\n",
    "## **Before you go ... Save your notebook to be sure it is up to date.**\n",
    "## **离开之前记得保存，以防丢失任何可能已经完成或修改的内容。**"
   ]
  },
  {
   "cell_type": "markdown",
   "metadata": {
    "id": "v-OC5Na2QKB4"
   },
   "source": [
    "---\n",
    "> ## Every Tee Has a Story\n",
    "> ABOUT GOOGLE CLASSROOM AND PRICELINE    \n",
    "> In 2014 I was approached by an alum to round up students to test a new app called Google Classroom, which was in private beta (with an NDA). I said I would be glad to get some of my classes to try it out _very quietly_ if the development team paid us a visit at the end of the semester. They came, asked and answered lots of questions, and left me with a monster box of these tee shirts in black and green. I gave away what I could but kept this one black tee as a souvenir. \n",
    ">\n",
    ">This was not the first time we had a top secret beta test at Fairfield. In my first year I was approached by an alum about this new service being developed at Walker Digital. It was, of course, Priceline. Fairfield students were used as focus groups, including the one that picked William Shatner as the spokeperson. It was entirely based on his voice (for radio ads). Shatner beat out Hellen Mirren and a couple others with distinctive voices. After that we also got juicy details from the first couple years of website development. Lots of things broke back then -- it wasn't until version 3 that they could actually issue electronic tickets without having to print and snail mail them to you -- and I am always a sucker for a good war story.\n",
    ">\n",
    "> ## 一件T恤，一个故事\n",
    "> 关于谷歌课堂和Priceline\n",
    "> 2014年，一位校友找到我，希望我召集学生来测试一款名为“谷歌课堂”的新应用程序，该应用当时正处于内测阶段（有保密协议）。我说，如果开发团队在期末过来找我们，我很乐意让一些班级悄悄试用一下。开发团队如约而至，问了很多问题，也回答了很多问题，然后给我留下一大箱黑色和绿色的T恤。我尽可能将T恤都发了出去，但留下了一件黑色T恤作为纪念。\n",
    ">\n",
    "> 这已经不是我们第一次在费尔菲尔德大学进行绝密测试了。在我工作的第一年，一位校友向我介绍了Walker Digital正在开发的新服务，当然就是Priceline。费尔菲尔德的学生形成焦点小组，其中一个小组甚至选择William Shatner作为代言人，因为他的声音很适合广播广告。Shatner击败了Hellen Mirren和其他几位具有独特声音的人。之后，我们还从网站开发的最初几年中获得了许多有趣的细节。那个时候网站问题很多，直到第三个版本才实现电子开票，而不必打印后邮寄。我很喜欢听这类技术或商业项目中各种困难和挑战的故事。\n",
    ">\n",
    "![L2 Tee Front](./Photos/L02_TeeFront.jpeg)![L2 Tee Back](./Photos/L02_TeeBack.jpeg)\n",
    "\n",
    "## Copyright &copy; 2020 Christopher Huntley. All rights reserved. \n",
    "## 版权所有 © 2020 Christopher Huntley。保留所有权利。"
   ]
  },
  {
   "cell_type": "code",
   "execution_count": null,
   "metadata": {},
   "outputs": [],
   "source": []
  }
 ],
 "metadata": {
  "colab": {
   "collapsed_sections": [],
   "name": "L02_Basic_Computation.ipynb",
   "provenance": []
  },
  "kernelspec": {
   "display_name": "Python 3 (ipykernel)",
   "language": "python",
   "name": "python3"
  },
  "language_info": {
   "codemirror_mode": {
    "name": "ipython",
    "version": 3
   },
   "file_extension": ".py",
   "mimetype": "text/x-python",
   "name": "python",
   "nbconvert_exporter": "python",
   "pygments_lexer": "ipython3",
   "version": "3.8.15"
  }
 },
 "nbformat": 4,
 "nbformat_minor": 4
}
