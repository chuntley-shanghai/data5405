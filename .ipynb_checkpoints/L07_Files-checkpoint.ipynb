{
 "cells": [
  {
   "cell_type": "markdown",
   "metadata": {
    "id": "cBkWAmjARb1p"
   },
   "source": [
    "<img src=\"./img/Dolan.png\" width=\"180px\" align=\"right\">\n",
    "\n",
    "# **Lesson 7: Files**\n",
    "_Sequential, persistent data stores_"
   ]
  },
  {
   "cell_type": "markdown",
   "metadata": {},
   "source": [
    "# **第7课: 文件**\n",
    "_顺序、持久数据存储_"
   ]
  },
  {
   "cell_type": "markdown",
   "metadata": {
    "id": "HvK3FFBURb1q"
   },
   "source": [
    "## **Learning Objectives**\n",
    "\n",
    "### Theory / Be able to explain ...\n",
    "- Data persistence, files, and filesystems\n",
    "- Absolute and relative file paths\n",
    "- The process of reading and writing files\n",
    "\n",
    "### Skills / Know how to  ...\n",
    "- Locate files in a file system with file paths\n",
    "- Use the `os` and `os.path` modules to work with paths\n",
    "- Use the `with` statement to open and read files\n",
    "\n",
    "---"
   ]
  },
  {
   "cell_type": "markdown",
   "metadata": {},
   "source": [
    "## **学习目标**\n",
    "\n",
    "### 能够解释以下理论 ...\n",
    "- 数据持久性，文件和文件系统\n",
    "- 绝对路径和相对路径\n",
    "- 读写文件的过程\n",
    "\n",
    "### 掌握以下技能  ...\n",
    "- 使用文件路径在文件系统中定位文件\n",
    "- 使用`os`和`os.path`模块处理路径\n",
    "- 使用`with`语句打开和读取文件\n",
    "\n",
    "---"
   ]
  },
  {
   "cell_type": "markdown",
   "metadata": {
    "id": "gqX1_igbRb1q"
   },
   "source": [
    "## **Transience, Persistence, and The Cloud**\n",
    "> “Memories, even your most precious ones, fade surprisingly quickly. But I don’t go along with that. The memories I value most, I don’t ever see them fading.”    \n",
    "> -- Kazuo Ishiguro, Never Let Me Go\n",
    "\n",
    "Data within our programs is inherently **transient**, remembered only long enough to be useful. If not referenced by a variable, data is \"garbage collected\" -- yes, that is the real term -- and forgotten forever. Then, once the program is over, even the variables are forgotten, making way for whatever data the next program needs to do its work. Sometimes that end may be intentional, with the program completing its work, but it can also happen suddenly and without warning when the computer loses power or the system crashes. \n",
    "\n",
    "Data is said to be **persistent** if it is recallable after the program that created it ends. Such data exists in **files** located on a secondary storage device like a hard disk or SSD. Files are both useful and somewhat frustrating to deal with. Formats change over time, making some data no longer accessible by modern software. Files get lost as they are transferred from device to device or perhaps we just forget where they are or even that they exist at all. Finally, even if we know where they are and how to find them, getting our software to find and open them is sometimes pretty tricky. \n",
    "\n",
    "**The Cloud** is a much hyped but nonetheless very useful solution to our storage needs. It makes data appear ubiquitous, available from any device at any time. Since ultimately all persistent data resides in files, most of the advantages of cloud storage are in the way data is accessed instead of how it is stored. Instead of thinking in terms of files (e.g., MS Word files), we now think in terms of _documents_ (Google Docs, MS Office 365, etc.), page _URLs_ (uniform resource locators), or _APIs_ (application programming interfaces) for data in the Cloud. \n",
    "\n",
    "We will get into some of the complexities of cloud hosted data in Lesson 12, but for now we will learn about **files** and **filesystems**. "
   ]
  },
  {
   "cell_type": "markdown",
   "metadata": {},
   "source": [
    "## **瞬态、持久与云端**\n",
    "> “记忆，即使是你最珍贵的记忆，也会出奇地迅速地消逝。但我不认同这种说法。我最珍视的记忆，我永远不会看到它们消失。”    \n",
    "> -- 石黑一雄，《遗忘之光》\n",
    "\n",
    "我们程序中的数据本质上是**瞬态**的，只会在有用的时间内被记住。如果没有被变量引用，数据会被“垃圾回收” —— 是的，这是真实的术语 —— 并永远被遗忘。然后，一旦程序结束，里面的数据和变量也会被清空，为了让下一个程序能够正常运行。有时候，程序结束是有计划的，表示它已经完成了任务。但有时候，程序结束是突然的，比如电脑断电或系统崩溃，这时候就会导致程序停止而没有提前警告. \n",
    "\n",
    "如果数据在创建它的程序结束后仍然可调用，则称为**持久**数据。这种数据存在于像硬盘或固态硬盘这样的二级存储设备上的**文件**中。文件既有用又有些令人沮丧。随着时间的推移，格式会发生变化，使一些数据无法被现代软件访问。在文件从一个设备传输到另一个设备时，有时会丢失，或者我们可能会忘记它们的位置，甚至忘记它们的存在。最后，即使我们知道它们在哪里以及如何找到它们，让软件找到并打开它们也会相当困难. \n",
    "\n",
    "**云端**是一个备受吹捧但确实非常有用的存储方式。它使数据似乎无处不在，随时随地可供任何设备使用。由于最终所有持久数据都驻留在文件中，云存储的大部分优势在于数据的访问方式，而不是存储方式。我们不再以文件（例如，MS Word 文件）的形式思考，而是以文档（Google Docs、MS Office 365 等）、页面 URL（统一资源定位符）或云端数据的 API（应用程序编程接口）的形式思考. \n",
    "\n",
    "我们将在第12课中介绍云托管数据的一些复杂性，但现在我们将学习关于**文件**和**文件系统**的知识. "
   ]
  },
  {
   "cell_type": "markdown",
   "metadata": {
    "id": "dXXqqghQRb1r"
   },
   "source": [
    "## **Filesystems and File Paths**\n",
    "In the wild west times of the 1950s and 1960s, every program has its own **filesystem**, a method of storing and retrieving data in files. Standard file formats and operating systems were scarce and software engineers who valued them were scarcer. Every brand of computer and every piece of software had its own way of handling files. So, programmers made up their own standards so that their programs and data could be portable from one computer to another.\n",
    "\n",
    "In principle, every filesystem has the following functions:\n",
    "- File creation and deletion\n",
    "- File retrieval and access control\n",
    "- Reading and writing of data \n",
    "\n",
    "File creation, deletion, retrieval, and access control are generally handled by the computer's operating system. In each case the concept of a file as an entity, with a unique identity or location, comes into play. The name and location of a file is called the **file path**. Operating systems logically organize files into hierarchies (trees) of directories (or folders). \n",
    "\n",
    "![File Tree](./img/L7_File_Tree_cropped.png)\n",
    "\n",
    "A file path is then a set of navigation instructions to navigate between where the program _resides_ and where the file _resides_ in the hierarchy. Note that we need to know two locations: that of the program (e.g., `myPythonProgram.py`) and that of the file it wants to access (e.g., `data1.txt`, `data2.txt`, `data3.txt`, or `data4.txt`).   \n",
    "\n",
    "There are two ways to encode a file path:\n",
    "- **Absolute paths** are used when the program is located _outside_ of the file system. In that case it has to navigate from the **root** of the file hierarchy every time. The path to the `data1.txt` file is then given by `/myFiles/allProjects/myProject/data1.txt`. Each directory in the path is indicated by a slash `/` and a directory name. The first slash in the path then represents the root of the file hierarchy. An absolute path always starts with a slash and the root directory itself is just a single slash `/`.       \n",
    "\n",
    "- **Relative paths** always start at the location of the current file in the file system. The navigation in this case can be much simpler, especially if the file is located in the same directory as the program. For the program `myPythonProgram.py` we can use the following paths:\n",
    "  - `data1.txt` \n",
    "  - `../MyData/data2.txt`\n",
    "  - `../MyData/data3.txt`\n",
    "  - `../../otherFiles/ExtraData/data4.txt` \n",
    "  \n",
    "  If the file is located in the same directory as the program (the first example), then all we need to supply is the file name. If it is not (the rest), then we use a combination of `..` (go up one directory) and `/directory` (go down into `directory`) instructions followed by the file name. \n",
    "  \n",
    "### **Wait, I thought that `/` was pronounced \"backslash\"**\n",
    "In the early days of PCs, Microsoft and IBM were very wary of copying Unix conventions in their (sort of) new, definitely horrific operating system called PC-DOS. AT&T claimed ownership of Unix at the time, so this worry was not without merit. So, instead of using the slash `/` they used the backslash `\\` as the directory delimiter in file paths. So, anybody who was raised using PCs in the 1980s or perhaps early 1990s, reflexively uses the word \"backslash\" when saying things like web URLs. For the record, web URLs (or file paths in Python) have never used backslashes in this way. Unfortunately, MS Windows (all versions) still uses the backslash for compatibility with PC-DOS, though recent versions of Windows can be coaxed into using the slash as well. \n",
    "\n",
    "### **The Python `os` and `os.path` Modules**\n",
    "To work with file paths in an operating system-agnostic (_canonical_) way, Python provides the [os](https://docs.python.org/3/library/os.html) module. More specifically, we can use the [os.path](https://docs.python.org/3/library/os.path.html) submodule to create canonical paths and then (if needed) use the `os` module to render the path in an operating-system specific way. "
   ]
  },
  {
   "cell_type": "markdown",
   "metadata": {},
   "source": [
    "## **文件系统和文件路径**\n",
    "在上世纪50年代和60年代的西部拓荒时期，每个程序都有自己的**文件系统**，一种在文件中存储和检索数据的方法。标准文件格式和操作系统很少，而重视它们的软件工程师更少。每一种计算机品牌和每一款软件都有自己处理文件的方式。因此，程序员们制定了自己的标准，使得他们的程序和数据可以在不同计算机之间传输.\n",
    "\n",
    "原则上，每个文件系统都具有以下功能:\n",
    "- 文件创建和删除\n",
    "- 文件检索和访问控制\n",
    "- 数据的读取和写入\n",
    "\n",
    "计算机的操作系统通常负责处理文件的创建、删除、检索和访问权限，在每种情况下，文件都被视为一个独立的概念，有自己的名字和位置。文件的名称和位置被称为**文件路径**。操作系统会把文件按照逻辑关系，像是整理文件夹一样，放在不同的目录里，形成一种树状结构. \n",
    "\n",
    "文件路径就是一组导航指令，用于在程序所在 _位置_ 和文件在层次结构中的 _位置_ 之间进行导航。需要知道两个位置：程序所在位置（例如，`myPythonProgram.py`）和它要访问的文件的位置（例如，`data1.txt` ，`data2.txt` ,`data3.txt` , or  `data4.txt`）.   \n",
    "\n",
    "以下是两种编码文件路径的方式:\n",
    "- **绝对路径**是指当程序位于文件系统 _之外_ 时使用的路径。在这种情况下，它必须每次从文件层次结构的**根**目录导航。`data1.txt` 文件的路径如下：`/myFiles/allProjects/myProject/data1.txt` 。路径中的每个目录都由斜杠 `/` 和目录名表示。路径中的第一个斜杠代表文件层次结构的根。绝对路径始终以斜杠开头，而根目录本身只是一个单独的斜杠 `/`.       \n",
    "\n",
    "- **相对路径**始终从文件系统中当前文件的位置开始。在这种情况下，导航可能会简单得多，特别是如果文件位于与程序相同的目录中。对于程序 `myPythonProgram.py`，我们可以使用以下路径：:\n",
    "  - `data1.txt` \n",
    "  - `../MyData/data2.txt`\n",
    "  - `../MyData/data3.txt`\n",
    "  - `../../otherFiles/ExtraData/data4.txt` \n",
    "  \n",
    "  如果文件位于与程序相同的目录中（第一个例子），那么我们只需要提供文件名即可。如果不是（后面的例子），则我们使用 `..`（向上一级目录） 和 `/directory`（进入 `directory`） 指令的组合，然后加上文件名. \n",
    "  \n",
    "### **等等，我曾经以为 “/” 应该读作“反斜杠”**\n",
    "在PC的早期，微软和IBM对在他们的（某种意义上）新的、令人可怕的操作系统PC-DOS中复制Unix惯例非常谨慎。当时，AT&T声称拥有Unix的所有权，所以这种担忧并非没有道理。因此，他们没有使用斜杠 `/`，而是使用反斜杠 `\\` 作为文件路径中的目录分隔符。因此，任何在20世纪80年代或者早期90年代长大的人，在说类似网络URL的时候会下意识地使用“反斜杠”这个词。值得一提的是，网络URL（或Python中的文件路径）从未以这种方式使用反斜杠。不幸的是，MS Windows（所有版本）仍然使用反斜杠，以保持与PC-DOS的兼容性，尽管最近的Windows版本也可以使用斜杠. \n",
    "\n",
    "### **Python的`os`和`os.path`模块**\n",
    "为了以操作系统不可知（_规范的_）方式处理文件路径，Python提供了[os](https://docs.python.org/3/library/os.html)模块。更具体地说，我们可以使用[os.path](https://docs.python.org/3/library/os.path.html) 子模块创建规范路径，然后（如果需要）使用`os`模块将路径呈现为特定于操作系统的方式. "
   ]
  },
  {
   "cell_type": "code",
   "execution_count": null,
   "metadata": {
    "id": "0huVRRfJRb1s",
    "outputId": "859b1a04-5841-4bd6-b72e-2cbfbb9d84d2"
   },
   "outputs": [
    {
     "name": "stdout",
     "output_type": "stream",
     "text": [
      "/Users/chuntley/GitRepos/BUAN5405/BUAN5405-lessons\n",
      "../BUAN5405-docs\n"
     ]
    }
   ],
   "source": [
    "import os, os.path  # Load modules from standard lib 从标准库加载模块\n",
    "\n",
    "# the absolute path from a relative path 从相对路径转为绝对路径\n",
    "print(os.path.abspath('.'))  # the current folder is indicated by . 当前文件夹由 .\n",
    "\n",
    "# the relative path from the current folder to another location 从当前文件夹到另一位置的相对路径\n",
    "print(os.path.relpath('/Users/chuntley/GitRepos/BUAN5405/BUAN5405-docs'))  \n",
    "\n",
    "# the above code will fail because the file doesn't exist"
   ]
  },
  {
   "cell_type": "markdown",
   "metadata": {},
   "source": [
    "If on MS Windows, we can then call `os.fspath()` to convert all those nasty slashes into 1980s-style backslashes. \n",
    "\n",
    "### **File Paths on Google Colab**\n",
    "In Google Colab, notebooks [operate in a separate space from the file system](https://colab.research.google.com/notebooks/io.ipynb). **All paths then become absolute**, even when the notebook appears to be in the same directory as its data in Google Drive. There are workarounds, of course, each of which relies on the `os` and `os.path` modules."
   ]
  },
  {
   "cell_type": "markdown",
   "metadata": {},
   "source": [
    "如果在MS Windows上，我们可以调用`os.fspath()`将所有这些讨厌的斜杠转换成上世纪80年代风格的反斜杠. \n",
    "\n",
    "### **Google Colab上的文件路径**\n",
    "在Google Colab中，笔记本[在文件系统中运行在一个独立的空间中](https://colab.research.google.com/notebooks/io.ipynb)。即使笔记本看起来与Google Drive中的数据在同一个目录中，**所有路径都变成了绝对路径**。当然，有各种解决方法，每种方法都依赖于`os`和`os.path`模块."
   ]
  },
  {
   "cell_type": "markdown",
   "metadata": {
    "id": "xN5A0UhSRb1x"
   },
   "source": [
    "## **Reading and Writing Text Files with `with`**\n",
    "The Py4E textbook goes into some detail about _file handles_ and other terminology. You are recommended to refer to it when you have to open files. However, in data science we almost always use a `with` statement like this when reading data from a file:\n",
    "```python\n",
    "with open( filepath ) as f:\n",
    "    for line in f:\n",
    "       # do something with the line of text\n",
    "```"
   ]
  },
  {
   "cell_type": "markdown",
   "metadata": {},
   "source": [
    "## **使用 `with` 语句读取和写入文本文件**\n",
    "Py4E教材对 _文件句柄_ 和其他术语进行了详细说明。建议您在打开文件时参考它。然而，在数据科学中，我们几乎总是使用类似这样的 `with` 语句来从文件中读取数据:\n",
    "```python\n",
    "with open( filepath ) as f:\n",
    "    for line in f:\n",
    "       # do something with the line of text 对这行文本进行处理\n",
    "```"
   ]
  },
  {
   "cell_type": "markdown",
   "metadata": {
    "id": "PJEz0snhRb1x"
   },
   "source": [
    "- The `open()` function does exactly what you think it does. It takes in a `filepath` and prepares the file for access. More specifically, if the current user is permitted to access the file, then it creates a _generator_ (see Lesson 6) that yields data one line at a time.\n",
    "- The file itself is _aliased_ (nicknamed) as `f` for use in the `with` body. \n",
    "- The `for` loop iterates over the lines in the file. \n",
    "- When the end of the file is reached (or an error occurs) the `with` statement closes the file for safekeeping.  \n",
    "\n",
    "A similar process exists for writing to a file. We can also read and write binary data (as `bytes`) if we like.   \n",
    "\n",
    "### **Note: Files are Sequential**\n",
    "Since we access file data using an iterator, files are inherently sequential, just like strings, lists, and tuples. However, there is no concept of a slice. We have to start reading it from the beginning each time. If you want more flexibility than that, then use a database instead of a text file. "
   ]
  },
  {
   "cell_type": "markdown",
   "metadata": {},
   "source": [
    "- `open()`函数的功能正如你所想的那样。它接受一个`文件路径`，并准备好访问该文件。更具体地说，如果当前用户被允许访问该文件，那么它会创建一个 _生成器_ （参见第6课），逐行生成数据.\n",
    "- 文件本身被别名（取名）为 `f`，以在`with`语句体中使用. \n",
    "- `for`循环遍历文件中的每一行. \n",
    "- 当到达文件末尾（或发生错误）时，`with` 语句关闭文件以确保安全.  \n",
    "\n",
    "类似的过程也适用于写入文件。如果需要的话,我们也可以读取和写入二进制数据（作为`字节`）.   \n",
    "\n",
    "### **注意：文件是顺序的**\n",
    "当我们读取文件数据时，都是按照顺序来读取的，就像我们读取字符串、列表或元组一样，一个接一个地来。但是，与这些数据类型不同的是，我们不能像切片那样只读取文件的某一部分。这就是文件与字符串、列表和元组在读取方式上的一个主要区别。我们每次都必须从头开始读取。如果你想要比这更灵活的功能，那么请使用数据库而不是文本文件. "
   ]
  },
  {
   "cell_type": "markdown",
   "metadata": {
    "id": "Q9s0h4uug0co"
   },
   "source": [
    "### **Who Really Uses Files Anymore?**\n",
    "While it is common for end users to think of data residing in files, professional analysts most often \"extract\" it from online sources using an Application Programming Interface (API).  \n",
    "\n",
    "Let's say that we wanted to count the number of times the word \"love\" appear in Shakespeare's *Romeo and Juliet*. We could do it the hard and slow way: download a pdf copy of the book, export the text to a text file, and then read it into a Python script for counting. Or we could just pull it directly off the web: "
   ]
  },
  {
   "cell_type": "markdown",
   "metadata": {},
   "source": [
    "### **谁还在真正使用文件?**\n",
    "尽管普通用户通常认为数据驻留在文件中，但专业分析师通常会使用应用程序编程接口（API）从在线源中“提取”数据.  \n",
    "\n",
    "假设我们想要统计莎士比亚的《罗密欧与朱丽叶》中单词“爱”出现的次数。我们可以通过困难且缓慢的方式实现：下载书的pdf副本，将文本导出到文本文件，然后将其直接读取到Python脚本中进行计数。或者我们可以直接从网络上获取它: "
   ]
  },
  {
   "cell_type": "code",
   "execution_count": null,
   "metadata": {
    "colab": {
     "base_uri": "https://localhost:8080/"
    },
    "executionInfo": {
     "elapsed": 483,
     "status": "ok",
     "timestamp": 1626309337593,
     "user": {
      "displayName": "Christopher Huntley",
      "photoUrl": "",
      "userId": "11069151036176747256"
     },
     "user_tz": 240
    },
    "id": "5zVTuillk59m",
    "outputId": "cd3b1726-8ec7-4759-b8a6-e3ab0fb19ad5"
   },
   "outputs": [
    {
     "data": {
      "text/plain": [
       "175"
      ]
     },
     "execution_count": 6,
     "metadata": {
      "tags": []
     },
     "output_type": "execute_result"
    }
   ],
   "source": [
    "import requests\n",
    "book_html = requests.get(\"http://shakespeare.mit.edu/romeo_juliet/full.html\")\n",
    "book_html.text.count(\"love\") + book_html.text.count(\"Love\")"
   ]
  },
  {
   "cell_type": "markdown",
   "metadata": {
    "id": "eFOJtISQl03b"
   },
   "source": [
    "That is much more efficient, right? Here we used a technique called *web scraping* to retrieve an HTML version of the play and then search for a specific pattern in the text. We can get pretty sophisticated with this sort of thing using a library called [Beautiful Soup](https://www.crummy.com/software/BeautifulSoup/bs4/doc/) but we will leave it as a teaser for a future course. \n",
    "\n",
    "Just know this: if it exists on the web then we can retrieve and process it in Python, often with just a few lines of code.  "
   ]
  },
  {
   "cell_type": "markdown",
   "metadata": {
    "id": "EutsdZX_Q-dS"
   },
   "source": [
    "---\n",
    "## **Before you go ... Save your notebook to be sure it is up to date.**"
   ]
  },
  {
   "cell_type": "markdown",
   "metadata": {},
   "source": [
    "这样做效率更高，不是吗？在这里我们使用了一种称为*网络抓取*的技术来获取剧本的HTML版本，然后在文本中搜索特定的模式。我们可以使用一个名为[Beautiful Soup]((https://www.crummy.com/software/BeautifulSoup/bs4/doc))的库做到这样的事情，但我们将其作为下面的课程的引言。\n",
    "\n",
    "我们只要知道这一点：如果在网络上存在，我们就可以用Python检索和处理它，通常只需几行代码。"
   ]
  },
  {
   "cell_type": "markdown",
   "metadata": {},
   "source": [
    "---\n",
    "## **离开前，确保你保存了最新的笔记本.**"
   ]
  },
  {
   "cell_type": "markdown",
   "metadata": {
    "id": "16_GMzANp5Xf"
   },
   "source": [
    "---\n",
    "> ## Every Tee Shirt Has a Story\n",
    "> ABOUT UVA ENGINEERING    \n",
    "> In 2007 I attended a class reunion at the University of Virginia with my family. It was great seeing so many people I hadn't seen in years. Many were _so much_ more accomplished than I will ever be. However, my wife and I did excel at one thing like nobody else: between us we had **FIVE** UVa Engineering degrees. The dean was taken aback and sent somebody to retrieve three of these sturdy tee shirts for setting an unofficial record. I suppose I'll wear it proudly the next time I make it back for a reunion.  \n",
    "\n",
    "![L7 Tee Front](./Photos/L07_TeeFront.jpeg)\n",
    "\n",
    "## Copyright &copy; 2020 Christopher Huntley. All rights reserved. "
   ]
  },
  {
   "cell_type": "markdown",
   "metadata": {},
   "source": [
    "> ## 每件t恤都有一个故事\n",
    "> 关于弗吉尼亚大学工程学院 \n",
    "> 2007年，我和家人一起参加了弗吉尼亚大学的一次校友聚会。很开心能见到这么多多年未见的人。很多人在某些方面的成就远超过我。但我和我的妻子在一件事上却表现出色，这是其他人无法比拟的：我们俩共有五个弗吉尼亚大学工程学院的学位。院长感到吃惊，派人去找回了其中三件结实的T恤，以创造一个非正式的记录。我想，下次参加校友聚会时，我会自豪地穿上它.\n",
    "\n",
    "## 版权所有 © 2020 Christopher Huntley。保留所有权利."
   ]
  }
 ],
 "metadata": {
  "colab": {
   "collapsed_sections": [],
   "name": "L07_Files.ipynb",
   "provenance": []
  },
  "kernelspec": {
   "display_name": "Python 3 (ipykernel)",
   "language": "python",
   "name": "python3"
  },
  "language_info": {
   "codemirror_mode": {
    "name": "ipython",
    "version": 3
   },
   "file_extension": ".py",
   "mimetype": "text/x-python",
   "name": "python",
   "nbconvert_exporter": "python",
   "pygments_lexer": "ipython3",
   "version": "3.8.15"
  }
 },
 "nbformat": 4,
 "nbformat_minor": 4
}
