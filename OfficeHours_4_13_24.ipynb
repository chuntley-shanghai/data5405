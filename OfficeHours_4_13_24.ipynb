{
 "cells": [
  {
   "cell_type": "markdown",
   "id": "7b8d55d7-0d68-4905-90a0-f9d5510eaeeb",
   "metadata": {},
   "source": [
    "# Literate code\n",
    "You might find this fun. It explains **elegance** in Python. "
   ]
  },
  {
   "cell_type": "code",
   "execution_count": 17,
   "id": "d6a3bc74-5e9d-4d07-9e0a-729b4131ce53",
   "metadata": {},
   "outputs": [
    {
     "name": "stdout",
     "output_type": "stream",
     "text": [
      "The Zen of Python, by Tim Peters\n",
      "\n",
      "Beautiful is better than ugly.\n",
      "Explicit is better than implicit.\n",
      "Simple is better than complex.\n",
      "Complex is better than complicated.\n",
      "Flat is better than nested.\n",
      "Sparse is better than dense.\n",
      "Readability counts.\n",
      "Special cases aren't special enough to break the rules.\n",
      "Although practicality beats purity.\n",
      "Errors should never pass silently.\n",
      "Unless explicitly silenced.\n",
      "In the face of ambiguity, refuse the temptation to guess.\n",
      "There should be one-- and preferably only one --obvious way to do it.\n",
      "Although that way may not be obvious at first unless you're Dutch.\n",
      "Now is better than never.\n",
      "Although never is often better than *right* now.\n",
      "If the implementation is hard to explain, it's a bad idea.\n",
      "If the implementation is easy to explain, it may be a good idea.\n",
      "Namespaces are one honking great idea -- let's do more of those!\n"
     ]
    }
   ],
   "source": [
    "import this"
   ]
  },
  {
   "cell_type": "markdown",
   "id": "372689c9-50cc-4ef2-b415-9bd17fbf2f2a",
   "metadata": {},
   "source": [
    "# Boolean Guard Example"
   ]
  },
  {
   "cell_type": "code",
   "execution_count": 18,
   "id": "784f966f-797f-4bfa-8f4a-29dd55e77259",
   "metadata": {},
   "outputs": [
    {
     "ename": "ZeroDivisionError",
     "evalue": "division by zero",
     "output_type": "error",
     "traceback": [
      "\u001b[0;31m---------------------------------------------------------------------------\u001b[0m",
      "\u001b[0;31mZeroDivisionError\u001b[0m                         Traceback (most recent call last)",
      "Cell \u001b[0;32mIn[18], line 3\u001b[0m\n\u001b[1;32m      1\u001b[0m x,y \u001b[38;5;241m=\u001b[39m \u001b[38;5;241m1\u001b[39m,\u001b[38;5;241m0\u001b[39m\n\u001b[0;32m----> 3\u001b[0m \u001b[43mx\u001b[49m\u001b[38;5;241;43m/\u001b[39;49m\u001b[43my\u001b[49m\n",
      "\u001b[0;31mZeroDivisionError\u001b[0m: division by zero"
     ]
    }
   ],
   "source": [
    "x,y = 1,0\n",
    "\n",
    "x/y"
   ]
  },
  {
   "cell_type": "code",
   "execution_count": 19,
   "id": "a266d793-4e53-4982-bd46-c5c6ffb8a52f",
   "metadata": {},
   "outputs": [
    {
     "data": {
      "text/plain": [
       "False"
      ]
     },
     "execution_count": 19,
     "metadata": {},
     "output_type": "execute_result"
    }
   ],
   "source": [
    "x,y = 1,0\n",
    "\n",
    "y != 0 and x/y > 2"
   ]
  },
  {
   "cell_type": "markdown",
   "id": "14ca05b0-9372-4e44-ac21-95b41eb31dfe",
   "metadata": {},
   "source": [
    "# Type Conversion & Coercion "
   ]
  },
  {
   "cell_type": "code",
   "execution_count": 20,
   "id": "c829f3db-c967-40ac-9d0c-1c289d6a4c26",
   "metadata": {
    "tags": []
   },
   "outputs": [
    {
     "ename": "ValueError",
     "evalue": "invalid literal for int() with base 10: '42.0'",
     "output_type": "error",
     "traceback": [
      "\u001b[0;31m---------------------------------------------------------------------------\u001b[0m",
      "\u001b[0;31mValueError\u001b[0m                                Traceback (most recent call last)",
      "Cell \u001b[0;32mIn[20], line 1\u001b[0m\n\u001b[0;32m----> 1\u001b[0m \u001b[38;5;28;43mint\u001b[39;49m\u001b[43m(\u001b[49m\u001b[38;5;124;43m\"\u001b[39;49m\u001b[38;5;124;43m42.0\u001b[39;49m\u001b[38;5;124;43m\"\u001b[39;49m\u001b[43m)\u001b[49m\n",
      "\u001b[0;31mValueError\u001b[0m: invalid literal for int() with base 10: '42.0'"
     ]
    }
   ],
   "source": [
    "int(\"42.0\")"
   ]
  },
  {
   "cell_type": "code",
   "execution_count": 21,
   "id": "51b47e56-0b5f-47d3-a129-3cdf228113ff",
   "metadata": {},
   "outputs": [
    {
     "data": {
      "text/plain": [
       "42.0"
      ]
     },
     "execution_count": 21,
     "metadata": {},
     "output_type": "execute_result"
    }
   ],
   "source": [
    "float(\"42.0\")"
   ]
  },
  {
   "cell_type": "code",
   "execution_count": 22,
   "id": "13dbdff3-3320-4ead-9d28-1b8df7311815",
   "metadata": {},
   "outputs": [
    {
     "data": {
      "text/plain": [
       "42"
      ]
     },
     "execution_count": 22,
     "metadata": {},
     "output_type": "execute_result"
    }
   ],
   "source": [
    "int(float(\"42.0\"))"
   ]
  },
  {
   "cell_type": "code",
   "execution_count": 23,
   "id": "400bafc5-69af-4722-a619-5fbe553c6fc0",
   "metadata": {},
   "outputs": [
    {
     "ename": "TypeError",
     "evalue": "unsupported operand type(s) for +: 'int' and 'str'",
     "output_type": "error",
     "traceback": [
      "\u001b[0;31m---------------------------------------------------------------------------\u001b[0m",
      "\u001b[0;31mTypeError\u001b[0m                                 Traceback (most recent call last)",
      "Cell \u001b[0;32mIn[23], line 1\u001b[0m\n\u001b[0;32m----> 1\u001b[0m \u001b[38;5;241;43m1\u001b[39;49m\u001b[43m \u001b[49m\u001b[38;5;241;43m+\u001b[39;49m\u001b[43m \u001b[49m\u001b[38;5;124;43m\"\u001b[39;49m\u001b[38;5;124;43m42.0\u001b[39;49m\u001b[38;5;124;43m\"\u001b[39;49m\n",
      "\u001b[0;31mTypeError\u001b[0m: unsupported operand type(s) for +: 'int' and 'str'"
     ]
    }
   ],
   "source": [
    "1 + \"42.0\""
   ]
  },
  {
   "cell_type": "code",
   "execution_count": 24,
   "id": "c16b2ec0-483e-40b6-9263-26407f3f6c77",
   "metadata": {},
   "outputs": [
    {
     "ename": "TypeError",
     "evalue": "unsupported operand type(s) for +: 'int' and 'str'",
     "output_type": "error",
     "traceback": [
      "\u001b[0;31m---------------------------------------------------------------------------\u001b[0m",
      "\u001b[0;31mTypeError\u001b[0m                                 Traceback (most recent call last)",
      "Cell \u001b[0;32mIn[24], line 1\u001b[0m\n\u001b[0;32m----> 1\u001b[0m \u001b[38;5;241;43m1\u001b[39;49m\u001b[38;5;241;43m+\u001b[39;49m\u001b[38;5;124;43m\"\u001b[39;49m\u001b[38;5;124;43m42\u001b[39;49m\u001b[38;5;124;43m\"\u001b[39;49m\n",
      "\u001b[0;31mTypeError\u001b[0m: unsupported operand type(s) for +: 'int' and 'str'"
     ]
    }
   ],
   "source": [
    "1+\"42\""
   ]
  },
  {
   "cell_type": "code",
   "execution_count": 26,
   "id": "9f183833-3145-47a9-8c0a-511d43571dc1",
   "metadata": {},
   "outputs": [
    {
     "data": {
      "text/plain": [
       "5.0"
      ]
     },
     "execution_count": 26,
     "metadata": {},
     "output_type": "execute_result"
    }
   ],
   "source": [
    "2.0 + 3"
   ]
  },
  {
   "cell_type": "code",
   "execution_count": 29,
   "id": "ec162238-47c5-440e-9b92-5573d326fe7b",
   "metadata": {},
   "outputs": [
    {
     "data": {
      "text/plain": [
       "'cccccccccccccccccccccccccccccccccccccccccccccccccccccccccccccccccccccccccccccccccccccccccccccccccccc'"
      ]
     },
     "execution_count": 29,
     "metadata": {},
     "output_type": "execute_result"
    }
   ],
   "source": [
    "100 * \"c\""
   ]
  },
  {
   "cell_type": "markdown",
   "id": "aa6a139b-fc6a-4e18-bd30-73b384affa9a",
   "metadata": {},
   "source": [
    "# Tabs vs Spaces"
   ]
  },
  {
   "cell_type": "code",
   "execution_count": null,
   "id": "06bf21e5-c0bc-400e-ba71-68ff52b45c7d",
   "metadata": {},
   "outputs": [],
   "source": [
    "aa  bb  cc"
   ]
  },
  {
   "cell_type": "markdown",
   "id": "bd011518-a75f-48a1-a790-0cf16f538079",
   "metadata": {},
   "source": [
    "aa  bb   cc"
   ]
  },
  {
   "cell_type": "markdown",
   "id": "6807d12a-a1b8-4ddf-a425-f44beecc80ea",
   "metadata": {},
   "source": [
    "The visual spacing don't don't match, right?"
   ]
  },
  {
   "cell_type": "code",
   "execution_count": 33,
   "id": "e1a8fb83-f498-4bf5-a632-671bc7987280",
   "metadata": {},
   "outputs": [
    {
     "name": "stdout",
     "output_type": "stream",
     "text": [
      "0\n",
      "1\n",
      "2\n",
      "3\n",
      "4\n",
      "5\n",
      "6\n",
      "7\n",
      "8\n",
      "9\n"
     ]
    }
   ],
   "source": [
    "# one press of the \"tab\" key was used below to indent\n",
    "for i in range(10):\n",
    "    print(i)"
   ]
  },
  {
   "cell_type": "code",
   "execution_count": 34,
   "id": "b36ce7c8-a9db-4386-9c57-bfa493415fa6",
   "metadata": {},
   "outputs": [
    {
     "name": "stdout",
     "output_type": "stream",
     "text": [
      "0\n",
      "1\n",
      "2\n",
      "3\n",
      "4\n",
      "5\n",
      "6\n",
      "7\n",
      "8\n",
      "9\n"
     ]
    }
   ],
   "source": [
    "# four presses on the \"space\" key was used below to indent\n",
    "for i in range(10):\n",
    "    print(i)"
   ]
  },
  {
   "cell_type": "markdown",
   "id": "8dc0a33f-c67f-48f8-af56-8ce49bebfaa4",
   "metadata": {},
   "source": [
    "Be consistent; for what it is worth, I just use the \"tab\" key.\n",
    "Indentation matters; it is the only way that Python can \"see\" block structure in your code. "
   ]
  },
  {
   "cell_type": "code",
   "execution_count": 60,
   "id": "46e40ab0-0df5-45c7-98fc-24a36f2a2191",
   "metadata": {},
   "outputs": [
    {
     "ename": "IndentationError",
     "evalue": "unexpected indent (1551562379.py, line 11)",
     "output_type": "error",
     "traceback": [
      "\u001b[0;36m  Cell \u001b[0;32mIn[60], line 11\u001b[0;36m\u001b[0m\n\u001b[0;31m    print(i*i) # this line will fail because it is not indented properly\u001b[0m\n\u001b[0m    ^\u001b[0m\n\u001b[0;31mIndentationError\u001b[0m\u001b[0;31m:\u001b[0m unexpected indent\n"
     ]
    }
   ],
   "source": [
    "# this example shows how consistent indentation is important\n",
    "\n",
    "# a working for loop\n",
    "for i in range(3):\n",
    "    print(i)\n",
    "    print(i*i)\n",
    "\n",
    "# a failing for loop\n",
    "for i in range(3):\n",
    "    print(i)\n",
    "        print(i*i) # this line will fail because it is not indented properly"
   ]
  },
  {
   "cell_type": "markdown",
   "id": "664a930b-4bdb-4aa3-8504-445a2eadd671",
   "metadata": {},
   "source": [
    "# Coercion to bool without using bool()"
   ]
  },
  {
   "cell_type": "markdown",
   "id": "1d25d99c-ffef-456a-9215-e8352e20b7a3",
   "metadata": {},
   "source": [
    "`and` returns ...\n",
    "- the first non-True input if the expression is False\n",
    "- the last input if the entire expression is True"
   ]
  },
  {
   "cell_type": "code",
   "execution_count": 36,
   "id": "baa67f09-7fe1-47ae-b711-0cc26771baeb",
   "metadata": {},
   "outputs": [
    {
     "data": {
      "text/plain": [
       "15"
      ]
     },
     "execution_count": 36,
     "metadata": {},
     "output_type": "execute_result"
    }
   ],
   "source": [
    "True and 15 "
   ]
  },
  {
   "cell_type": "code",
   "execution_count": 37,
   "id": "9bd46d40-6797-410b-a849-58d5fd20b11b",
   "metadata": {},
   "outputs": [
    {
     "data": {
      "text/plain": [
       "True"
      ]
     },
     "execution_count": 37,
     "metadata": {},
     "output_type": "execute_result"
    }
   ],
   "source": [
    "15 and True"
   ]
  },
  {
   "cell_type": "code",
   "execution_count": 56,
   "id": "f5605cb9-288d-4c54-9fce-398724505b72",
   "metadata": {},
   "outputs": [
    {
     "data": {
      "text/plain": [
       "False"
      ]
     },
     "execution_count": 56,
     "metadata": {},
     "output_type": "execute_result"
    }
   ],
   "source": [
    "False and 15"
   ]
  },
  {
   "cell_type": "code",
   "execution_count": 57,
   "id": "7ce958cb-4b5a-4b5d-b018-5252c77ff97b",
   "metadata": {},
   "outputs": [
    {
     "data": {
      "text/plain": [
       "False"
      ]
     },
     "execution_count": 57,
     "metadata": {},
     "output_type": "execute_result"
    }
   ],
   "source": [
    "15 and False"
   ]
  },
  {
   "cell_type": "markdown",
   "id": "41a569a8-8196-4cc1-b466-cbad4d096a2e",
   "metadata": {},
   "source": [
    "`or` returns ...\n",
    "- the first non-False input if the entire expression is True\n",
    "- the last input if the entire expression is False"
   ]
  },
  {
   "cell_type": "code",
   "execution_count": 38,
   "id": "82c23194-4452-448b-a5db-33acec8c076a",
   "metadata": {
    "tags": []
   },
   "outputs": [
    {
     "data": {
      "text/plain": [
       "True"
      ]
     },
     "execution_count": 38,
     "metadata": {},
     "output_type": "execute_result"
    }
   ],
   "source": [
    "# or returns the first input of the expression is Treu \n",
    "True or 15"
   ]
  },
  {
   "cell_type": "code",
   "execution_count": 39,
   "id": "6f8499b3-8b83-43f1-96bc-82e847b39a0e",
   "metadata": {},
   "outputs": [
    {
     "data": {
      "text/plain": [
       "15"
      ]
     },
     "execution_count": 39,
     "metadata": {},
     "output_type": "execute_result"
    }
   ],
   "source": [
    "15 or True"
   ]
  },
  {
   "cell_type": "code",
   "execution_count": 58,
   "id": "fd99995c-f032-481e-af74-0c4f63f6b490",
   "metadata": {},
   "outputs": [
    {
     "data": {
      "text/plain": [
       "15"
      ]
     },
     "execution_count": 58,
     "metadata": {},
     "output_type": "execute_result"
    }
   ],
   "source": [
    "False or 15"
   ]
  },
  {
   "cell_type": "code",
   "execution_count": 59,
   "id": "e8ac6a65-7f29-43f8-8ed0-3d1982081e42",
   "metadata": {},
   "outputs": [
    {
     "data": {
      "text/plain": [
       "15"
      ]
     },
     "execution_count": 59,
     "metadata": {},
     "output_type": "execute_result"
    }
   ],
   "source": [
    "15 or False"
   ]
  },
  {
   "cell_type": "markdown",
   "id": "a6e08177-5b9f-48df-8d64-0a882f8e7913",
   "metadata": {},
   "source": [
    "We can test the \"truthiness\" of any data with `bool()`"
   ]
  },
  {
   "cell_type": "code",
   "execution_count": 40,
   "id": "22cd896d-8506-4ebd-93c0-b84077577c58",
   "metadata": {},
   "outputs": [
    {
     "data": {
      "text/plain": [
       "True"
      ]
     },
     "execution_count": 40,
     "metadata": {},
     "output_type": "execute_result"
    }
   ],
   "source": [
    "bool(15)"
   ]
  },
  {
   "cell_type": "code",
   "execution_count": 41,
   "id": "a62ac1d3-280a-4e8a-a06e-5b76f055b21f",
   "metadata": {},
   "outputs": [
    {
     "data": {
      "text/plain": [
       "False"
      ]
     },
     "execution_count": 41,
     "metadata": {},
     "output_type": "execute_result"
    }
   ],
   "source": [
    "bool(0)"
   ]
  },
  {
   "cell_type": "code",
   "execution_count": 42,
   "id": "49252922-a42a-4d67-a0cd-93e7fea8c507",
   "metadata": {},
   "outputs": [
    {
     "data": {
      "text/plain": [
       "True"
      ]
     },
     "execution_count": 42,
     "metadata": {},
     "output_type": "execute_result"
    }
   ],
   "source": [
    "bool(\"False\")"
   ]
  },
  {
   "cell_type": "code",
   "execution_count": 43,
   "id": "8714d0a1-2f3a-4f13-8ba9-604bef299c7e",
   "metadata": {},
   "outputs": [
    {
     "data": {
      "text/plain": [
       "False"
      ]
     },
     "execution_count": 43,
     "metadata": {},
     "output_type": "execute_result"
    }
   ],
   "source": [
    "bool(False)"
   ]
  },
  {
   "cell_type": "code",
   "execution_count": 44,
   "id": "176fbfaf-6739-4504-b33a-4c9680d57eae",
   "metadata": {},
   "outputs": [
    {
     "data": {
      "text/plain": [
       "True"
      ]
     },
     "execution_count": 44,
     "metadata": {},
     "output_type": "execute_result"
    }
   ],
   "source": [
    "bool(0) == False"
   ]
  },
  {
   "cell_type": "code",
   "execution_count": 45,
   "id": "a8b1e151-833d-4d52-9b7a-d507d1fd0173",
   "metadata": {},
   "outputs": [
    {
     "data": {
      "text/plain": [
       "True"
      ]
     },
     "execution_count": 45,
     "metadata": {},
     "output_type": "execute_result"
    }
   ],
   "source": [
    "bool(-1) == True"
   ]
  },
  {
   "cell_type": "markdown",
   "id": "799baa7e-b266-458f-874a-69f95a8277af",
   "metadata": {},
   "source": [
    "Python _defines_ `False` < `True`; it is somewhat aribtrary though"
   ]
  },
  {
   "cell_type": "code",
   "execution_count": 46,
   "id": "e756f9a8-4edc-4098-ae3d-a393646902f5",
   "metadata": {},
   "outputs": [
    {
     "data": {
      "text/plain": [
       "True"
      ]
     },
     "execution_count": 46,
     "metadata": {},
     "output_type": "execute_result"
    }
   ],
   "source": [
    "bool(-1)"
   ]
  },
  {
   "cell_type": "code",
   "execution_count": 47,
   "id": "576a455f-46af-4274-a1b0-6aeebcf45753",
   "metadata": {},
   "outputs": [
    {
     "data": {
      "text/plain": [
       "True"
      ]
     },
     "execution_count": 47,
     "metadata": {},
     "output_type": "execute_result"
    }
   ],
   "source": [
    "bool(-1) > bool(0)"
   ]
  },
  {
   "cell_type": "markdown",
   "id": "cdab3ca5-53b5-4cca-bc89-91db46a76012",
   "metadata": {},
   "source": [
    "# Conditional Expressions"
   ]
  },
  {
   "cell_type": "code",
   "execution_count": 53,
   "id": "d3ee1c29-b745-410b-af44-d91f0d158ab9",
   "metadata": {},
   "outputs": [],
   "source": [
    "i_know_you = True"
   ]
  },
  {
   "cell_type": "code",
   "execution_count": 54,
   "id": "02ad2a10-b3cd-437c-b872-f1e3085c9633",
   "metadata": {},
   "outputs": [
    {
     "data": {
      "text/plain": [
       "'Hi there'"
      ]
     },
     "execution_count": 54,
     "metadata": {},
     "output_type": "execute_result"
    }
   ],
   "source": [
    "\"Hi there\" if i_know_you else \"Glad to meet you\""
   ]
  },
  {
   "cell_type": "code",
   "execution_count": 55,
   "id": "6112932a-0f81-4ff8-b946-8cacb777bf99",
   "metadata": {},
   "outputs": [
    {
     "data": {
      "text/plain": [
       "'Hi there'"
      ]
     },
     "execution_count": 55,
     "metadata": {},
     "output_type": "execute_result"
    }
   ],
   "source": [
    "output =''\n",
    "if i_know_you:\n",
    "    output = \"Hi there\"\n",
    "else:\n",
    "    output = \"Glad to meet you\"\n",
    "output"
   ]
  },
  {
   "cell_type": "markdown",
   "id": "ad9923a9-b617-4838-897a-18643ac9c1da",
   "metadata": {},
   "source": [
    "Conditional expressions are DATA   \n",
    "while   \n",
    "if ... then statements are commands.   "
   ]
  },
  {
   "cell_type": "markdown",
   "id": "5b47f024-e4e1-4d2f-8884-ed87c8e01314",
   "metadata": {},
   "source": [
    "Take care with \"processing\" (statements) vs \"data\" (expressions)"
   ]
  },
  {
   "cell_type": "markdown",
   "id": "abe30787-9d78-46f6-8865-c19c7380c7c8",
   "metadata": {},
   "source": [
    "Keep telling yourself **`print` has no value**; it is a statement (command), not an expression. "
   ]
  },
  {
   "cell_type": "markdown",
   "id": "06ff6617-af0f-4a48-9add-7f9495678af8",
   "metadata": {},
   "source": [
    "Jupyter will auto-indent for you when it can. You will need to \"backspace\" (or \"delete\") to un-indent as needed. The `else:` below was un-indented one level with a backspace. "
   ]
  },
  {
   "cell_type": "code",
   "execution_count": null,
   "id": "35e8a8e0-07a1-4777-8ef1-4246e3c90d7c",
   "metadata": {},
   "outputs": [],
   "source": [
    "if x:\n",
    "    pass\n",
    "else:\n",
    "    pass"
   ]
  },
  {
   "cell_type": "code",
   "execution_count": null,
   "id": "ff71d9d0-bdf9-4d73-8906-bf20f06c6379",
   "metadata": {},
   "outputs": [],
   "source": [
    "for i in range(10):\n",
    "    print(i)"
   ]
  }
 ],
 "metadata": {
  "kernelspec": {
   "display_name": "Python 3 (ipykernel)",
   "language": "python",
   "name": "python3"
  },
  "language_info": {
   "codemirror_mode": {
    "name": "ipython",
    "version": 3
   },
   "file_extension": ".py",
   "mimetype": "text/x-python",
   "name": "python",
   "nbconvert_exporter": "python",
   "pygments_lexer": "ipython3",
   "version": "3.8.15"
  }
 },
 "nbformat": 4,
 "nbformat_minor": 5
}
