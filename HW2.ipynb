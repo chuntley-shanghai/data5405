{
 "cells": [
  {
   "cell_type": "markdown",
   "metadata": {
    "id": "kUYXaKGzwRJp"
   },
   "source": [
    "<img src=\"../img/Dolan.png\" width=\"180px\" align=\"right\">\n",
    "\n",
    "# **Homework Exercises, Week 2**\n",
    "_Practice Exercises for Lessons 4-6._"
   ]
  },
  {
   "cell_type": "markdown",
   "metadata": {},
   "source": [
    "# **第2周作业**\n",
    "_对应第4-6课._"
   ]
  },
  {
   "cell_type": "markdown",
   "metadata": {},
   "source": [
    "## Lesson 4 Exercises"
   ]
  },
  {
   "cell_type": "markdown",
   "metadata": {},
   "source": [
    "## 第4课作业"
   ]
  },
  {
   "cell_type": "markdown",
   "metadata": {},
   "source": [
    "### L4.E1\n",
    "Repackage your `waist2hip_ratio` calculation from Lesson 3 as a function with the following requirements:\n",
    "- Name the function `w2h_ratio` with three parameters: `waist_inches`, `hip_inches`, `gender`\n",
    "- The function should return a string with the pattern \"For a {gender} with waist {waist} and hip {hip}, the w2h ratio is {waist2hip_ratio}, with a shape {shape}.\" \n",
    "- Round the ratio to 2 decimal places. \n",
    "- The shape is either \"Apple\" or \"Pear\".\n",
    "- Do not use `input()` to get data. **Let that be passed into the function via arguments.**\n",
    "- `waist_inches` and `hip_inches` can be given as anything that can be converted to `floats`.\n",
    "- You will need to santize your inputs before doing the calculations. The waist and hip measurements should be in inches. The gender needs to be either \"M\" or \"F\". \n",
    "- If `waist_inches` or `hip_inches` are invalid then return the string \"w2h_ratio: Invalid measurement(s)\"\n",
    "- If the gender is not \"M\" or \"F\" then return the string \"w2h_ratio: Unknown gender\""
   ]
  },
  {
   "cell_type": "markdown",
   "metadata": {},
   "source": [
    "### 第4课第1题\n",
    "将第3课中的腰臀比函数 `waist2hip_ratio` 根据以下要求重新打包:\n",
    "- 将腰臀比函数 `w2h_ratio` 以3个参数命名：腰围 `waist_inches`，臀围`hip_inches`和性别 `gender` \n",
    "- 该函数应返回一个字符串，格式如下：\"对于腰围为 {waist}，臀围为 {hip} 的{gender}，其腰臀比是 {waist2hip_ratio}，体型为 {shape}。\"\n",
    "- 将比例四舍五入至小数点后两位. \n",
    "- 体型可以是 \"苹果形\" 或者 \"梨形\".\n",
    "- 请不要使用 `input()` 函数来获取数据，**而是通过参数将数据传递给函数。**\n",
    "- 腰围 `waist_inches` 和臀围 `hip_inches` 是任何可转换为浮点数的数值`floats`.`.\n",
    "进行计算之前需清理输入数据。腰围和臀围应以英寸为单位。性别必须为 \"M\" 或 \"F\"F\". \n",
    "如果腰围  `waist_inches` 或臀围 `hip_inches` 无效，则返回字符串 \"w2h_ratio: 无效测量值\")\"\n",
    "如果性别不是 \"M\" 或 \"F\"，则返回字符串 \"w2h_ratio: 未知性别\"r\""
   ]
  },
  {
   "cell_type": "code",
   "execution_count": null,
   "metadata": {
    "tags": []
   },
   "outputs": [],
   "source": [
    "# YOUR L4.E1 CODE HERE 在此输入第4课第1题的代码"
   ]
  },
  {
   "cell_type": "markdown",
   "metadata": {},
   "source": [
    "#### Use the code below to test your work. It should run without any exceptions/errors. Otherwise you have a bug in your function. \n"
   ]
  },
  {
   "cell_type": "markdown",
   "metadata": {},
   "source": [
    "#### 请使用以下代码来测试你的工作。它应该可以顺利运行，没有任何异常或错误。否则，你的函数中可能存在错误。\n"
   ]
  },
  {
   "cell_type": "code",
   "execution_count": null,
   "metadata": {},
   "outputs": [],
   "source": [
    "# Do not edit the test assertions below. Repeatedly edit your code (above) and rerun this cell until everything works. \n",
    "# 不要编辑下面的测试断言。请反复编辑你的代码. \n",
    "\n",
    "# Is function defined? Does it have the right signature? \n",
    "# 函数是否已经定义？它的签名是否正确？ \n",
    "assert w2h_ratio(waist_inches=36,hip_inches=44,gender=\"M\") \\\n",
    "        == 'For a M with waist 36.0 and hip 44.0 the w2h ratio is 0.82 with shape Pear.'\n",
    "\n",
    "# Does it handle invalid genders correctly?\n",
    "# 能否正确处理无效性别？ \n",
    "assert w2h_ratio(36,44,\"B\") == \"w2h_ratio: Unknown gender\"\n",
    "\n",
    "# Does it handle \"divide by zero\" errors?\n",
    "# 能否处理“除以零”的错误？\n",
    "assert w2h_ratio(36,0,\"M\") == \"w2h_ratio: Invalid measurement(s)\"\n",
    "\n",
    "# Does it handle negative numbers?\n",
    "# 能否处理负数？\n",
    "assert w2h_ratio(-36,44,\"M\") == \"w2h_ratio: Invalid measurement(s)\"\n",
    "assert w2h_ratio(36,-44,\"M\") == \"w2h_ratio: Invalid measurement(s)\"\n",
    "\n",
    "# Does it handle non-numeric input?\n",
    "# 能否处理非数字输入？\n",
    "assert w2h_ratio(\"36 and a half\",44,\"M\") == \"w2h_ratio: Invalid measurement(s)\"\n",
    "assert w2h_ratio(\"36\",\"44 and a half\",\"M\") == \"w2h_ratio: Invalid measurement(s)\"\n",
    "assert w2h_ratio(\"36\",\"44\",\"M\") == 'For a M with waist 36.0 and hip 44.0 the w2h ratio is 0.82 with shape Pear.'\n",
    "\n",
    "# Does it calculate correctly for valid input?\n",
    "# 能否正确计算有效输入？\n",
    "assert w2h_ratio(\"36\",\"38\",\"M\") == 'For a M with waist 36.0 and hip 38.0 the w2h ratio is 0.95 with shape Apple.'\n",
    "assert w2h_ratio(\"36\",\"42\",\"M\") == 'For a M with waist 36.0 and hip 42.0 the w2h ratio is 0.86 with shape Pear.'\n",
    "assert w2h_ratio(\"33\",\"36\",\"F\") == 'For a F with waist 33.0 and hip 36.0 the w2h ratio is 0.92 with shape Apple.'\n",
    "assert w2h_ratio(\"33\",\"44\",\"F\") == 'For a F with waist 33.0 and hip 44.0 the w2h ratio is 0.75 with shape Pear.'"
   ]
  },
  {
   "cell_type": "markdown",
   "metadata": {},
   "source": [
    "## Lesson 5 Exercises\n",
    "\n",
    "### L5.E1\n",
    "**Write a `for` loop to string together the first 20 natural numbers as a single integer. Then check to see if that integer is divisible by 3.** For the first 3 numbers the integer would be 123, which is 41*3."
   ]
  },
  {
   "cell_type": "markdown",
   "metadata": {},
   "source": [
    "## 第5课作业\n",
    "\n",
    "### 第5课第1题\n",
    "**编写一个 for 循环，将前 20 个自然数串成一个整数。然后检查该整数是否可以被 3 整除。** 例如，前 3 个数字串成的整数是 123，123 可以被 3 整除（商 41）。."
   ]
  },
  {
   "cell_type": "code",
   "execution_count": null,
   "metadata": {},
   "outputs": [],
   "source": [
    "# YOUR L5.E1 CODE HERE 在此输入第5课第1题的代码"
   ]
  },
  {
   "cell_type": "code",
   "execution_count": null,
   "metadata": {
    "tags": []
   },
   "outputs": [],
   "source": [
    "# An L5.E1 solution 第5课第1题答案示例\n",
    "\n",
    "number = \"\"\n",
    "for i in range(1,21):\n",
    "    number += str(i)\n",
    "number = int(number)\n",
    "    \n",
    "if number % 3:\n",
    "    print(number,\"is divisible by 3\")\n",
    "else:\n",
    "    print(number,\"is not divisible by 3\")"
   ]
  },
  {
   "cell_type": "markdown",
   "metadata": {},
   "source": [
    "### L5.E2\n",
    "**Rewrite this code so that it prints all powers of 2 up to 2<sup>20</sup> _without using * or ** or pow()_.**     \n",
    "```python\n",
    "i = 0            # initialize the counter variable\n",
    "while i <= 20:   # stop when i > 20 \n",
    "    print(i * i) # output i squared\n",
    "    i += 1       # update the counter\n",
    "```\n",
    "Hints: \n",
    "- Initialize and update an accumulator variable `power_of_2`. \n",
    "- One way to double something is to add it to itself."
   ]
  },
  {
   "cell_type": "markdown",
   "metadata": {},
   "source": [
    "### 第5课第2题\n",
    "**重新编写这段代码，在不使用*、** 或 `pow()`的情况下打印出不超过 220 的 2 的幂。**     \n",
    "```python\n",
    "i = 0            # initialize the counter variable 初始化计数器变量\n",
    "while i <= 20:   # stop when i > 20 当 i > 20 时停止\n",
    "    print(i * i) # output i squared 输出 i 的平方\n",
    "    i += 1       # update the counter 更新计数器\n",
    "```\n",
    "提示: \n",
    "- 初始化并更新累加器变量 `power_of_2`. \n",
    "- 将数字加倍的一种方法是将其与自身相加."
   ]
  },
  {
   "cell_type": "code",
   "execution_count": null,
   "metadata": {},
   "outputs": [],
   "source": [
    "# YOUR L5.E2 CODE HERE 在此输入第5课第2题的代码"
   ]
  },
  {
   "cell_type": "code",
   "execution_count": null,
   "metadata": {
    "jupyter": {
     "source_hidden": true
    },
    "tags": []
   },
   "outputs": [],
   "source": [
    "# L5.E2 solution 第5课第2题答案示例\n",
    "\n",
    "i = 0 # initialize the counter variable 初始化计数器变量\n",
    "power_of_2 = 1\n",
    "while i <= 20:   # stop when i > 20 当 i > 20 时停止\n",
    "    print(i, power_of_2) # output 输出\n",
    "    power_of_2 += power_of_2\n",
    "    i += 1       # update the counter 更新计数器"
   ]
  },
  {
   "cell_type": "markdown",
   "metadata": {},
   "source": [
    "### L5.E3\n",
    "**Genius Challenge: Rewrite this code so that it prints every square up to 400 _without using * or ** or pow()_.** Take care not to ceate an infinite loop. \n",
    "```python\n",
    "odd = 1               # initialize our odd number sequence\n",
    "square = 0            # initialize the square number sequence\n",
    "while square < 400:   # stop when i > 20 \n",
    "    \n",
    "    # your code here\n",
    "    \n",
    "    print(square)     \n",
    "```\n",
    "Hints:\n",
    "- The first few squares are 1, 4, 9, 16, ...\n",
    "- You can generate a sequence of odd numbers by starting with 1 and incrementing by 2 each time: 1, 3, 5, 7, ...\n",
    "- The increment from each square n<sup>2</sup> to the next (n+1)<sup>2</sup> is an increasing sequence of odd numbers:  (n+1)<sup>2</sup> - n<sup>2</sup> = n<sup>2</sup> +  2n + 1 -  n<sup>2</sup> = 2n+1."
   ]
  },
  {
   "cell_type": "markdown",
   "metadata": {},
   "source": [
    "### 第5课第3题\n",
    "**天才挑战:重写此代码，在不使用 *、** 或 pow() 的情况下，打印 400 以内的乘方*\n",
    "注意不要创建无限循环. \n",
    "```python\n",
    "odd = 1               # 初始化奇数序列\n",
    "square = 0            # 初始化平方数序列\n",
    "while square < 400:   # 当 i > 20 时停止 \n",
    "    \n",
    "    # 在此输入你的代码\n",
    "    \n",
    "    print(square)     \n",
    "```\n",
    "Hints:\n",
    "- The first few squares are 1, 4, 9, 16, ...\n",
    "- You can generate a sequence of odd numbers by starting with 1 and incrementing by 2 each time: 1, 3, 5, 7, ...\n",
    "- The increment from each square n<sup>2</sup> to the next (n+1)<sup>2</sup> is an increasing sequence of odd numbers:  (n+1)<sup>2</sup> - n<sup>2</sup> = n<sup>2</sup> +  2n + 1 -  n<sup>2</sup> = 2n+1."
   ]
  },
  {
   "cell_type": "code",
   "execution_count": null,
   "metadata": {},
   "outputs": [],
   "source": [
    "# YOUR L5.E3 CODE HERE 在此输入第5课第3题的代码"
   ]
  },
  {
   "cell_type": "code",
   "execution_count": null,
   "metadata": {
    "jupyter": {
     "source_hidden": true
    },
    "tags": []
   },
   "outputs": [],
   "source": [
    "# L5.E3 Solution 第5课第3题答案示例\n",
    "i = 0 # initialize the counter variable 初始化计数器变量\n",
    "power_of_2 = 1\n",
    "while i <= 20:   # stop when i > 20 当 i > 20 时停止\n",
    "    print(i, power_of_2) # output 输出\n",
    "    power_of_2 += power_of_2\n",
    "    i += 1       # update the counter 更新计数器"
   ]
  },
  {
   "cell_type": "markdown",
   "metadata": {},
   "source": [
    "## Lesson 6 Exercises\n",
    "\n",
    "### L6.E1\n",
    "**Rewrite your `waist2hip_ratio()` function from Lesson 4 to use an f-string for the output text.** "
   ]
  },
  {
   "cell_type": "markdown",
   "metadata": {},
   "source": [
    "## 第6课作业\n",
    "\n",
    "### 第6课第1题\n",
    "**重写第4课的 `waist2hip_ratio()` 函数，使用 f 字符串作为输出文本.** "
   ]
  },
  {
   "cell_type": "code",
   "execution_count": null,
   "metadata": {},
   "outputs": [],
   "source": []
  },
  {
   "cell_type": "markdown",
   "metadata": {},
   "source": [
    "### L6.E2\n",
    "**Write a function called `char_rotate()` that moves the first character of a string to the end of the string.** The function has one parameter (the string) and returns a new string with the first character rotated to the end.\n",
    "\n",
    "So for example ...\n",
    "```\n",
    "char_rotate(\"abcdef\")\n",
    "```\n",
    "\n",
    "returns \n",
    "```\n",
    "'bcdefa'\n",
    "```"
   ]
  },
  {
   "cell_type": "markdown",
   "metadata": {},
   "source": [
    "### 第6课第2题\n",
    "**编写一个名为 `char_rotate()` 的函数，将字符串的第一个字符移动到字符串的末尾**。该函数有一个参数（即字符串），并返回一个新字符串，其中第一个字符被移动到末尾.\n",
    "\n",
    "例如 ...\n",
    "```\n",
    "char_rotate(\"abcdef\")\n",
    "```\n",
    "\n",
    "生成 \n",
    "```\n",
    "'bcdefa'\n",
    "```"
   ]
  },
  {
   "cell_type": "code",
   "execution_count": null,
   "metadata": {},
   "outputs": [],
   "source": [
    "# YOUR L6.E2 CODE HERE 在此输入第6课第2题的代码"
   ]
  },
  {
   "cell_type": "markdown",
   "metadata": {},
   "source": [
    "### L6.E3\n",
    "**Write a function called `igpay()` that takes in a word and returns the pig latin equivalent.**\n",
    "- Convert every letter to upper case. Latin does not have lowercase letters. \n",
    "- If the word starts with a vowel, then add \"YAY\" to the end of the word.\n",
    "- if the word starts with one or more consonants in a row, then move the consonants to the end (so the word starts with a vowel) and add \"AY\"\n",
    "- If the word does not contain at least one vowel then just return the word\n",
    "- Look out for infinite loops! Interrupt/restart the runtime if needed\n",
    "- There should not be any `print()` calls in your code.\n",
    "\n",
    "Hints: \n",
    "- Use your `char_rotate()` function from L6.E2.\n",
    "- There may be a string method or two that can simplify your code.\n",
    "- `igpay(\"pig\")` is \"IGPAY\"\n",
    "- `igpay(\"art\")` is \"ARTYAY\"\n",
    "- `igpay(\"thx\")` is \"thx\"\n",
    "- `igpay(\"\")`  is \"\""
   ]
  },
  {
   "cell_type": "markdown",
   "metadata": {},
   "source": [
    "### 第6课第3题\n",
    "**编写一个名为 `igpay()` 的函数，输入一个单词并返回对应的 Pig Latin 版本.**\n",
    "- 将字母转换为大写。拉丁语没有小写字母. \n",
    "- 如单词以元音开头，则在词尾加上\"YAY\".\n",
    "- 如单词以一个或多个辅音开头，则将辅音移到词尾（让单词以元音开头）并加上\"AY\"\n",
    "- 如单词一个元音也没有，则直接返回单词\n",
    "- 小心无限循环!必要时中断/重启运行时\n",
    "- 代码不应调用 `print()`.\n",
    "\n",
    "提示: \n",
    "- 使用第6课第2题 中的 `char_rotate()` 函数.\n",
    "- 使用字符串或许可以简化代码.\n",
    "- `igpay(\"pig\")` 返回 \"IGPAY\"\n",
    "- `igpay(\"art\")` 返回 \"ARTYAY\"\n",
    "- `igpay(\"thx\")` 返回 \"thx\"\n",
    "- `igpay(\"\")`  返回 \"\""
   ]
  },
  {
   "cell_type": "code",
   "execution_count": null,
   "metadata": {},
   "outputs": [],
   "source": [
    "# YOUR L6.E3 CODE HERE 在此输入第6课第3题的代码"
   ]
  },
  {
   "cell_type": "code",
   "execution_count": 10,
   "metadata": {},
   "outputs": [],
   "source": [
    "# Run the assertions below to test your code. All should run without errors.\n",
    "# 运行下面断言来测试代码。所有断言都应无错误运行\n",
    "assert igpay(\"pig\") == \"IGPAY\"\n",
    "assert igpay(\"art\") == \"ARTYAY\"\n",
    "assert igpay(\"thx\") == \"thx\"\n",
    "assert igpay(\"\") == \"\""
   ]
  }
 ],
 "metadata": {
  "colab": {
   "collapsed_sections": [],
   "name": "Quiz5_Instructions.ipynb",
   "provenance": []
  },
  "kernelspec": {
   "display_name": "Python 3 (ipykernel)",
   "language": "python",
   "name": "python3"
  },
  "language_info": {
   "codemirror_mode": {
    "name": "ipython",
    "version": 3
   },
   "file_extension": ".py",
   "mimetype": "text/x-python",
   "name": "python",
   "nbconvert_exporter": "python",
   "pygments_lexer": "ipython3",
   "version": "3.8.15"
  }
 },
 "nbformat": 4,
 "nbformat_minor": 4
}
