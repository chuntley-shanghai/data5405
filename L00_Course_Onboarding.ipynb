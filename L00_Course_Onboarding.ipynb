{
 "cells": [
  {
   "cell_type": "markdown",
   "metadata": {
    "id": "Bg-kfZIelFyL"
   },
   "source": [
    "<img src=\"./img/Dolan.png\" width=\"180px\" align=\"right\">\n",
    "\n",
    "# **Course Onboarding**\n",
    "_Everything you need to know and do before the first day of class_\n",
    "# **课程开始**\n",
    "_开课前需要了解和完成的所有事项_\n"
   ]
  },
  {
   "cell_type": "markdown",
   "metadata": {
    "id": "OZs5QOMWlFyN"
   },
   "source": [
    "## Where am I and how did I get here?\n",
    "Welcome to [Jupyter](https://jupyter.org/), a web based coding environment for Python, R, SQL, Markdown, and a bunch of other languages we use in Business Analytics courses. This document is what is called a _notebook_, which is composed of _cells_ that flow vertically from top to bottom. Each cell is either formatted text or code. \n",
    "\n",
    "**Text cells** use Markdown notations to format the text. For example, to make `text look like computer code` we wrap it in _backticks_ like this: \\`text look like computer code\\`. (On most keyboards the backtick character is just above the tab key.) We can also create bookmarkable section titles, insert hyperlinks, create fancy tables, and all sorts of things. In fact the syllabus for this course as well as everything else on the class website is written in Markdown. For more, take a spin through GitHub's [Mastering Markdown Guide](https://guides.github.com/features/mastering-markdown/). Or, you could just double-click on a text cell (like the one you are reading right now) to see the Markdown; to hide the Markdown code, just double-click on the rendered (pretty) text to the right. It toggles like a light switch.  \n",
    "\n",
    "**Code cells** can be identified by the little boxes `[]` that may or may not have numbers in them. The cells have runnable programming code in them. Select the cell and hit the \"play\" button to run it. Any output produced will appear just below the code. You'll also note that the `[]` box has a number inside. The number tells us what order the cells were run. If you re-run a cell then the number inside automatically updates. \n",
    "\n",
    "You may be wondering why we would choose to use these weird sorts of documents for our online lessons. It's pretty simple, really. First, they allow you to **write, run and share code without installing any software**. Second it makes **all code visible, with nothing hidden from you**. Want to see well written code? Then just read the notebooks! It's all there. \n",
    "\n",
    "__The rest of this document asks you to perform a few tasks designed to introduce the course, sign up for some of the online tools, and set up your workspace in Jupyter.__\n",
    "\n",
    "__Expect to spend between 30 minutes and an hour, depending on your luck and skills.__\n",
    "\n",
    "-----------"
   ]
  },
  {
   "cell_type": "markdown",
   "metadata": {},
   "source": [
    "## 我的进度如何，我是如何达成的？\n",
    "欢迎来到 [Jupyter](https://jupyter.org/)，这是一个基于网络的编码环境，适用于Python、R、SQL、Markdown以及我们在商业分析课程中使用的其他语言。这个文档就是所谓的笔记本，由从上到下垂直流动的单元格组成。每个单元格都是格式化的文本或代码。\n",
    "\n",
    "**文本单元格**使用 Markdown 符号来格式化文本。例如，要使`文本看起来像计算机代码`，我们可以这样用反斜线将其包裹起来： 文本看起来像计算机代码 (在大多数键盘上，回车符就在制表符键的上方。）我们还可以创建可加入书签的章节标题、插入超链接、创建花哨的表格，等等。事实上，本课程的教学大纲以及课程网站上的其他内容都是用Markdown编写的。要了解更多信息，请浏览 GitHub的[掌握Markdown 指南](https://guides.github.com/features/mastering-markdown/)。或者，你只需双击一个文本格（就像你现在正在阅读的这个），就能看到 Markdown；要隐藏 Markdown 代码，只需双击右侧的渲染文本。它会像电灯开关一样切换。\n",
    "\n",
    "**代码单元格**可通过小方框 `[]` 来识别，方框中可能有数字，也可能没有。这些单元格中包含可运行的程序代码。选择单元格并点击 \"播放 \"按钮即可运行。任何输出结果都会出现在代码下方。你还会注意到， `[]` 内有一个数字。这个数字告诉我们单元格运行的顺序。如果重新运行一个单元格，框内的数字会自动更新。\n",
    "\n",
    "你可能想知道，为什么我们会选择在在线课程中使用这些奇怪的文档。其实很简单，首先，它们可以让你在**不安装任何软件的情况下编写、运行和共享代码**。其次，**所有代码都是可见的，没有任何隐藏**。想看看写得好的代码？那就看看笔记本吧！一切尽在其中。\n",
    "\n",
    "__本文档的其余部分将要求您执行一些任务，这些任务旨在介绍课程、注册一些在线工具并在Jupyter中设置您的工作区。本文档的其余部分将要求您执行一些任务，这些任务旨在介绍课程、注册一些在线工具并在Jupyter中设置您的工作区。__\n",
    "\n",
    "__根据您的运气和技能，预计需要花费 30 分钟到一个小时。__\n",
    "\n",
    "-------"
   ]
  },
  {
   "cell_type": "markdown",
   "metadata": {
    "id": "BpNJ70Yqa93Y"
   },
   "source": [
    "## Review the syllabus to get familiar with the course objectives, policies, and schedule of assignments. "
   ]
  },
  {
   "cell_type": "markdown",
   "metadata": {},
   "source": [
    "## 查看教学大纲，熟悉课程目标、规定和作业安排。"
   ]
  }
 ],
 "metadata": {
  "colab": {
   "collapsed_sections": [],
   "include_colab_link": true,
   "name": "L0_5405_Course_Onboarding.ipynb",
   "provenance": []
  },
  "kernelspec": {
   "display_name": "Python 3 (ipykernel)",
   "language": "python",
   "name": "python3"
  },
  "language_info": {
   "codemirror_mode": {
    "name": "ipython",
    "version": 3
   },
   "file_extension": ".py",
   "mimetype": "text/x-python",
   "name": "python",
   "nbconvert_exporter": "python",
   "pygments_lexer": "ipython3",
   "version": "3.8.15"
  }
 },
 "nbformat": 4,
 "nbformat_minor": 4
}
