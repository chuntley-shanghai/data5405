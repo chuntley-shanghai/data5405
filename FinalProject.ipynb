{
 "cells": [
  {
   "cell_type": "markdown",
   "metadata": {
    "id": "kUYXaKGzwRJp"
   },
   "source": [
    "<img src=\"../img/Dolan.png\" width=\"180px\" align=\"right\">\n",
    "\n",
    "# **Final Project: Challenge Problems**\n",
    "## Objectives\n",
    "In this assignment you will ...\n",
    "- demonstrate skill with programming logic and data structures\n",
    "- work semi-independently on moderately-complex challenge problems\n",
    "- create a new, professional-quality Jupyter notebook from scratch\n",
    "- stretch a little beyond what you have done so far in the course to learn something new\n",
    "\n",
    "## Scope\n",
    "There are two *Challenge Problems* listed below:\n",
    "- A **level 1** challenge with a narrow scope, solvable using basic Python logic and data types\n",
    "- A **level 2** challenge that involves one or more advanced elements\n",
    "\n",
    "Excluding comments, **each challenge can be completed in 20 lines or less** of straightforward, readable code. Your code may, of course, may be longer than that but keep in mind that each line of code tends to make a program a little buggier and less flexible. Technical debt is a real thing; spend your capital wisely. \n",
    " "
   ]
  },
  {
   "cell_type": "markdown",
   "metadata": {},
   "source": [
    "# **最终项目: 挑战问题**\n",
    "## 目标\n",
    "在本作业中，你将 ...\n",
    "- 展示编程逻辑和数据结构的技能\n",
    "- 半独立地解决中等复杂的挑战性问题\n",
    "- 完整创建一个新的、专业水平的 Jupyter 笔记本\n",
    "- 在迄今为止所完成的课程任务上更进一步，以学习新知识\n",
    "\n",
    "## 范围\n",
    "下面列出了两个*挑战问题*:\n",
    "- **第一级挑战**, 范围较窄, 可使用基本Python逻辑和数据类型来解决\n",
    "- **第二级挑战**, 涉及一个或多个进阶元素\n",
    "\n",
    "不包括注释，**每个挑战都可以用20行或更少**的直接可读代码完成。当然，您的代码可能会更长一些。\n",
    "但请记住，代码每多一行，程序都会变得更容易出错、更不灵活。技术债务是真实存在的，请明智地使用资\n",
    ". \n"
   ]
  },
  {
   "cell_type": "markdown",
   "metadata": {},
   "source": [
    "## Ground Rules   \n",
    "- You may not import any modules except as directed. \n",
    "- You may consult any source (Lessons, Python.org, Stack Exchange, ChatGPT, etc.) that you can reach on the web _except_ those that address the problems given here. In other words, don't just copy/paste from some random website on the internet. \n",
    "- You are allowed (and encouraged!) to work with your classmates. **If doing so** then credit your classmates in your notebook. Just be aware that you are responsible for any errors copied from your classmates. \n",
    "- Professionalism counts. For each problem make your work literate by:\n",
    "  - *Commenting your code to make it easy to follow.* Top comments are used to describe logical blocks of code. Side comments are used to provide implementation details. And, of course, line length and indentation matter. Top comments line up with code blocks (and _almost never_ with the left margin). Side comments never extend the line beyond 80 characters. Generally, top comments are preferred for complex logic. \n",
    "  - *Using Markdown to provide context for your code.* Make it easy for us to grade and perhaps give out partial credit. What problem are you addressing (use the names here)? What were the requirements (in your own words)? What approach did you take? If you just type out a big wall of unformatted text with occasional bold text then you will lose _all_ professionalism points for the problem. [Visual hierarchy](https://www.interaction-design.org/literature/topics/visual-hierarchy) matters; if you don't know what that means then read the linked article ASAP.  \n",
    "\n",
    "  You want your notebooks to be at least as polished as the lesson notebooks. Use the examples there for inspiration. "
   ]
  },
  {
   "cell_type": "markdown",
   "metadata": {},
   "source": [
    "## 基本规则\n",
    "- 除非有指示要求，请勿导入任何模块。\n",
    "- 您可以查阅网上相关资源（包括课程资料、Python.org、Stack Exchange、ChatGPT等），但请直接复制粘贴阅与该问题相关解决方法。\n",
    "- 您可以与同学合作（并且鼓励这样做！）完成任务，**合作时**，请在笔记中给予同学相应的致谢。但请注意，您需要对从同学处复制所产生的一切错误负责。\n",
    "- 专业性至关重要。针对每个问题，请确保您的作业具有可读性：\n",
    "  - *添加注释以便于理解。* 顶部注释用于描述逻辑代码块，侧边注释用于提供执行细节。当然，行长和缩进也很重要。顶部注释与代码块对齐（_几乎不与_ 左边缘对齐）。侧边注释不得超过80个字符。通常情况下，顶部注释更适用于复杂的逻辑。\n",
    "  - *使用Markdown为您的代码提供背景信息*。这样可以方便我们评分，并可能给出部分得分。您要解决的问题是什么（使用这里的名称）？要求是什么（用您自己的话来描述）？您采取了什么方法？如果您只是敲出一大堆未格式化的文本，偶尔使用粗体文本，那么您将失去这个问题所对应的专业分数。[Visual hierarchy](https://www.interaction-design.org/literature/topics/visual-hierarchy) 视觉层次结构很重要。如果您不太清楚，请立即阅读链接里的文章。\n",
    "\n",
    "  您可以从参考例子中汲取灵感，尽量保持笔记本像课堂笔记本一样有条不紊。"
   ]
  },
  {
   "cell_type": "markdown",
   "metadata": {
    "id": "KIv7ddG1EEig"
   },
   "source": [
    "---\n",
    "## **Challenge 1: Perfect Numbers**\n",
    "\n",
    "### Problem\n",
    "Write a function called `is_perfect()` that determines if a given natural number `n` is perfect. A number is said to be perfect if it is equal to the sum of its divisors (excluding itself). The number 28 is perfect because 1+2+4+7+14 = 28. There are currently only 51 known perfect numbers, with the largest having 49,724,095 _digits_. \n",
    "\n",
    "> Note to math geniuses: You _can_ use mercene primes to generate even perfect numbers but it is an open question whether odd perfect numbers exist. Don't assume anything tricky. \n",
    "\n",
    "### Hints/Suggestions\n",
    "- You will need to generate all divisors of a given number. Use a list for that. For the number 496 the divisor list would be `[1, 2, 4, 8, 16, 31, 62, 124, 248]`. \n",
    "- We need not try every number between 1 and `n` to see if it is a divisor. If m is a divisor of n then so is n/m. So, we only need to test the integers in the range 1 to $\\sqrt{n}+1$ to generate all the divisors. You'll find a function for calculating square roots in the math library. \n",
    "\n",
    "### Example Test Cases\n",
    "- The first five perfect numbers are 6, 28, 496, 8128, and 33550336. After that they get truly huge.   \n",
    "\n",
    "### Scoring Rubric\n",
    "- **Correct (14 points):** Returns the correct answer for _any_ whole number `n`.  \n",
    "- **Literate (4 points):** Well documented with meaningful Markdown and properly aligned code comments\n",
    "- **Efficient (1 point):** Only tests numbers in the range 1 to $\\lfloor\\sqrt{n}+1\\rfloor$ when generating divisors.\n",
    "- **Robust (1 point):** Returns an error if `n` is not a natural number. "
   ]
  },
  {
   "cell_type": "markdown",
   "metadata": {},
   "source": [
    "---\n",
    "## **挑战1：完全数**\n",
    "\n",
    "### 问题\n",
    "编写一个名为 `is_perfect()`的函数，用于确定给定的自然数 `n` 是否为完全数。如果该数等于其除数（不包括它本身）之和，则称它为完全数。数字 28 是因为 1+2+4+7+14 = 28。目前已知的完美数只有51个，其中最大的数字达到 49,724,095 _位_ . \n",
    "\n",
    "> 数学天才们注意了：您 _可以_ 用梅森素数来生成偶数完全数，但奇数完全数是否存在还是个未知数。不要假设一个太复杂的数字. \n",
    "\n",
    "### 提示/建议\n",
    "- 你需要以列表形式生成给定数字的所有除数。比如数字496的除数列表应为`[1, 2, 4, 8, 16, 31, 62, 124, 248]`. \n",
    "- 我们不需要试尽从1到`n`之间的每一个数来判断它是否是被除数。如果 m 是 n 的整除数，那么 n/m 也是。因此，我们只需要测试范围在1到$\\sqrt{n}+1$之间的整数，就能生成所有的被除数。你可以在数学库中找到计算平方根的函数. \n",
    "\n",
    "### 测试用例\n",
    "- 前五个完全数是6、28、496、8128和33550336。之后的数字就非常大了.   \n",
    "\n",
    "### 评分标准\n",
    "- **正确（14分）:** 对 _任意_ 整数`n`，都能得到正确的返回值.  \n",
    "- **规范（4分）:** 运用有意义的 Markdown，代码注释正确对齐，文档记录良好\n",
    "- **高效（1分）:** 在生成除数时，仅测试了从1到 $\\lfloor\\sqrt{n}+1\\rfloor$ 范围内的数字\n",
    "- **良好（1分）:** 如果`n`不是自然数，则返回值错误. "
   ]
  },
  {
   "cell_type": "code",
   "execution_count": null,
   "metadata": {},
   "outputs": [],
   "source": [
    "# Your Code Here"
   ]
  },
  {
   "cell_type": "markdown",
   "metadata": {},
   "source": [
    "---\n",
    "## **Challenge 2: Egyptian Multiplication**\n",
    "### Problem\n",
    "The ancient Egyptians did not have numbers as we conceive of them today. There was no concept of digits or place values. This of course made everyday calculations a bit more complicated than we think of them today.\n",
    "\n",
    "Write a function `egyptian_multiply()` that \n",
    "- accepts as input two integers $x$ and $y$ (e.g., 25 and 7)  \n",
    "- calculates the product using ancient Egyptian arithmetic (see General Algorithm below)\n",
    "- returns a string formatted like \"25 x 7 = 112 + 56 + 7 = 175\"."
   ]
  },
  {
   "cell_type": "markdown",
   "metadata": {},
   "source": [
    "---\n",
    "## **挑战 2：埃及乘法**\n",
    "### 问题\n",
    "古埃及人并不使用我们现代的数字概念。当时没有数位或位值的概念。\n",
    "当然，这也使得当时的日常计算过程比现在要复杂。\n",
    "\n",
    "编写一个函数`egyptian_multiply()`，该函数\n",
    "- 输入两个整数$x$和$y$（例如25和7）\n",
    "- 使用古埃及算术计算乘积（请参阅下面的通用算法）\n",
    "- 字符串返回格式为：\"25 x 7 = 112 + 56 + 7 = 175\"。"
   ]
  },
  {
   "cell_type": "markdown",
   "metadata": {},
   "source": [
    "### General Algorithm\n",
    "In ancient Egypt, without even a basic numbering system, there was no way to express the times tables like every school child learns today. Even if there were, they would not have the place-value system needed to multiply numbers with 2 or more digits. Instead, Egyptian multiplication relied on basic sums like 3 x 2 = 2 + 2 + 2. This worked fine for small products but could be very tedious and error-prone for larger products like 1259 x 258, which could take days to add 258 to itself 1258 times.  So, they came up with an ingenious shortcut that saved lots of time and error. \n",
    "\n",
    "The procedure worked something like this:\n",
    "1. Assume that we are multiplying two numbers $x$ and $y$. \n",
    "2. Make a list of the powers of 2 (1,2,4,8,...), where each term is the sum of the previous term with itself (1, 1+1=2, 2+2=4, 4+4=8), stopping when the last number is at least as big as $x$. Call this list `powers_of_two`. \n",
    "3. Perform the same process as step 2 but with the first nunber being $y$ instead of $1$ (i.e., $y$, $y+y$, $y+y+y+y$, etc.) stopping when the list is the same length as `powers_of_two`. Let's call this second list `multiples_of_y`.\n",
    "4. Find the set of terms in `powers_of _two` that sum to exactly $x$. \n",
    "5. The product is then the sum of the terms in `multiples_of_y` that correspond to the terms we found in step 4. \n",
    "\n",
    "Here, for example, is how to calculate 22 x 7:\n",
    "1. $x$ = `22` and $y$ = `7`\n",
    "2. `powers_of_two` = `[1,2,4,8,16,32]`\n",
    "3. `multiples_of_y` = `[7,14,28,56,112,224]`\n",
    "4. `2+4+16=22`\n",
    "5. `14+28+112=154`\n",
    "\n",
    "The final output would be `\"22 x 7 = 14 + 28 + 112 = 154\"`. "
   ]
  },
  {
   "cell_type": "markdown",
   "metadata": {},
   "source": [
    "### 通用算法\n",
    "由于古埃及时连基本的数字系统都不存在，因此，他们无法表达像当今小学生们所学习的那样乘法表。即使存在某种乘法表，也是不具备乘两位或两位以上数字所需的位值系统的.当时埃及的乘法运算依赖于基本算术，如 3 x 2 = 2 + 2 + 2。这种方法能有效完成较小数字的乘积，但对较大数字的乘积，如 1259 x 258，则要把258重复自加1258次。这可能要花上好几天的时间。因此，他们想出了一个巧妙的捷径，从而节省了大量时间，避免了许多错误. \n",
    "\n",
    "该程序运算方式如下:\n",
    "1. 假设我们要将$x$和$y$相乘. \n",
    "2. 列出一个2的幂列表（1,2,4,8,......），其中每项都是前一项与自身的和（1, 1+1=2, 2+2=4, 4+4=8），直到最后一个数字至少和$x$一样大。将这个列表命名为`powers_of_two`. \n",
    "3. 重复第2步，且将第一个数字改为$y$，而不是$1$（即，$y$, $y+y$, $y+y+y+y$,等) 直到列表长度与\n",
    "`powers_of_two`相等。命名第二个列表为`multiples_of_y`.\n",
    "4. 找出`powers_of _two`中总和正好为$x$的项集. \n",
    "5. 乘积就是列表`multiples_of_y`中与第4步中找到的项相对应的项之和. \n",
    "\n",
    "下面举例说明如何计算22 x 7:\n",
    "1. $x$ = `22` and $y$ = `7`\n",
    "2. `powers_of_two` = `[1,2,4,8,16,32]`\n",
    "3. `multiples_of_y` = `[7,14,28,56,112,224]`\n",
    "4. `2+4+16=22`\n",
    "5. `14+28+112=154`\n",
    "\n",
    "最终输出结果为 `\"22 x 7 = 14 + 28 + 112 = 154\"`. "
   ]
  },
  {
   "cell_type": "markdown",
   "metadata": {},
   "source": [
    "### Tips\n",
    "\n",
    "- [Egyptian multiplication](https://en.wikipedia.org/wiki/Ancient_Egyptian_multiplication) is very similar to so-called Russian Peasant multiplication. You may find the Russian Peasant version slightly easier to understand. \n",
    "- You *can* generate `powers_of_two` with a list comprehension but it may be easier to do it with a while loop. To be most efficient, it may make sense to generate `multiples_of_y` in the same loop. \n",
    "- Step 4 is a variation of the [knapsack problem](https://en.wikipedia.org/wiki/Knapsack_problem). You are trying to find the largest subset of the items (numbers 1, 2, 4, 8, 16, ...) that will fit (sum) inside the knapsack ($x$). The trick with most knapsack problems is to take a so-called \"greedy\" approach, where we try inserting items from biggest to smallest; with each item we insert, we have to adjust the remaining space in the knapsack to account. The logic is something like this:\n",
    "    1. Sort the items from largest to smallest. \n",
    "    2. Insert the biggest item that will fit into the knapsack. \n",
    "    3. Account for the space remaining the knapsack after intersion. \n",
    "    4. Repeat 2 & 3 until the knapsack is filled. \n",
    "\n",
    "  In this case, you can exactly fill the knapsack with a single pass through the items. In other words, you only need to try each item once *as long as you start with the biggest ones first*. \n",
    "\n",
    "  Note: it hard to get more specific than that without writing code. \n",
    "\n",
    "- To be sure the output string is formatted consistently consider using \n",
    "  - `\" + \".join()` to string together the terms from step 4.\n",
    "  - an f-string with placeholders for $x$, $y$, etc. \n",
    "\n",
    "- It is possible to complete this code in 14 lines of code (excluding comments). However, 20-25 lines is more realistic. "
   ]
  },
  {
   "cell_type": "markdown",
   "metadata": {},
   "source": [
    "### 提示\n",
    "- 埃及乘法[Egyptian multiplication](https://en.wikipedia.org/wiki/Ancient_Egyptian_multiplication)与所谓的俄罗斯农民乘法（Russian Peasant multiplication）非常相似。您可能会觉得俄罗斯农民的版本稍微容易理解一些.\n",
    "- *您可以使用*列表推导式生`成powers_of_two`，但使用while循环来执行程序可能更容易。在同一个循环中生成`multiples_of_y`最为高效.\n",
    "- 第4步是背包问题[knapsack problem](https://en.wikipedia.org/wiki/Knapsack_problem)的一种变体. 您正在尝试寻找能够装入(求和)背包($x$)的最大子集合(数字 1, 2, 4, 8, 16, ...)。大多数背包问题的技巧是采用所谓的“贪婪”技法，即尝试插入从最大到最小的元素；每插入一个元素，都需要调整背包中剩余的空间来适应。其逻辑大致如下:\n",
    "  1. 将元素从大到小排序.\n",
    "  2. 插入能够适合背包的最大元素.\n",
    "  3. 考虑插入后背包中的剩余空间.\n",
    "  4. 重复步骤2和3，直至填满背包.\n",
    "  \n",
    "  在这种情况下，可以执行一次遍历元组来填满背包。亦即，*只要从最大的元素值开始*，每个元素值就只需要尝试一次.\n",
    "\n",
    "  注意：除非编写代码，否则很难给出更具体的信息.\n",
    "\n",
    "- 为确保输出字符串格式一致\n",
    "  - 请考虑使用`\" + \".join()`来连接第4步的项.\n",
    "  - 使用带有$x$、$y$等占位符的f-string字符串格式化方法.\n",
    "- 完成此代码可能需要14行代码（不包括注释）。然而，使用20-25行来完成更现实. "
   ]
  },
  {
   "cell_type": "markdown",
   "metadata": {
    "id": "AWTyiUHkwnjJ"
   },
   "source": [
    "### Example Test Cases\n",
    "- `egyptian_multiply(22,7)` --> `'22 x 7 = 14 + 28 + 112 = 154'`\n",
    "- `egyptian_multiply(85,60)` --> `'85 x 60 = 60 + 240 + 960 + 3840 = 5100'`\n",
    "- `egyptian_multiply(182,109)` --> `'182 x 109 = 218 + 436 + 1744 + 3488 + 13952 = 19838'`\n",
    "\n",
    "### Scoring Rubric\n",
    "\n",
    "- **Correct (16 points):** Implements all 5 steps correctly and returns character-perfect output. Don't forget to package it all with the function as specified. \n",
    "- **Literate (4 points):** Well documented with meaningful Markdown and properly aligned code comments\n",
    "- **Extra Credit (2 points):** The code uses **only** the addition (`+`) operator; no `*`,`/`,`-`, ... are allowed."
   ]
  },
  {
   "cell_type": "markdown",
   "metadata": {},
   "source": [
    "### 测试用例\n",
    "- `egyptian_multiply(22,7)` --> `'22 x 7 = 14 + 28 + 112 = 154'`\n",
    "- `egyptian_multiply(85,60)` --> `'85 x 60 = 60 + 240 + 960 + 3840 = 5100'`\n",
    "- `egyptian_multiply(182,109)` --> `'182 x 109 = 218 + 436 + 1744 + 3488 + 13952 = 19838'`\n",
    "\n",
    "### 评分标准\n",
    "\n",
    "- **正确（16分）:** 正确执行所有5个步骤，并返回完美的字符输出。不要忘记将所有步骤与指定函数打包\n",
    "- **清晰（4分）:** 运用有意义的 Markdown，代码注释正确对齐，文档记录良好\n",
    "- **加分（2分）:** 代码**只能**使用加号 ( `+` ) 操作符；不允许使用 `*`,`/`,`-`, ...."
   ]
  },
  {
   "cell_type": "code",
   "execution_count": null,
   "metadata": {},
   "outputs": [],
   "source": [
    "# Your Code Here"
   ]
  }
 ],
 "metadata": {
  "colab": {
   "collapsed_sections": [],
   "name": "Quiz5_Instructions.ipynb",
   "provenance": []
  },
  "kernelspec": {
   "display_name": "Python 3 (ipykernel)",
   "language": "python",
   "name": "python3"
  },
  "language_info": {
   "codemirror_mode": {
    "name": "ipython",
    "version": 3
   },
   "file_extension": ".py",
   "mimetype": "text/x-python",
   "name": "python",
   "nbconvert_exporter": "python",
   "pygments_lexer": "ipython3",
   "version": "3.8.15"
  }
 },
 "nbformat": 4,
 "nbformat_minor": 4
}
