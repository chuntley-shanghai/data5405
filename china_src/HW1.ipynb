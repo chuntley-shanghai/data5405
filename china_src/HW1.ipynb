{
 "cells": [
  {
   "cell_type": "markdown",
   "metadata": {
    "id": "kUYXaKGzwRJp"
   },
   "source": [
    "<img src=\"../img/Dolan.png\" width=\"180px\" align=\"right\">\n",
    "\n",
    "# **Homework Exercises, Week 1**\n",
    "_Practice Exercises for Lessons 1-3._"
   ]
  },
  {
   "cell_type": "markdown",
   "metadata": {},
   "source": [
    "# **第一周作业**\n",
    "_对应第1-3课。_"
   ]
  },
  {
   "cell_type": "markdown",
   "metadata": {},
   "source": [
    "## Lesson 2 Exercises\n",
    "\n",
    "### L2.E1\n",
    "Write a program to calculate a `waist2hip_ratio` given raw input from the user. Use the `variable names` as directed. \n",
    "\n",
    "1. Read up on how [Waist to Hip Ratios are calculated](https://en.wikipedia.org/wiki/Waist%E2%80%93hip_ratio). \n",
    "2. Use [`input()` function calls](https://docs.python.org/3/library/functions.html#input) to ask for waist (`waist_str`) and hip (`hip_str`) measurements. \n",
    "3. Calculate the `waist2hip_ratio` from `waist_str` and `hip_str`. Hints: You will have to do type conversions to make this work. \n",
    "4. Print the ratio, prepended with the text `\"Your waist to hip ratio is \"`. \n",
    "5. Run your code to make sure it works. For `waist_str` equal to 48 and `hip_str` equal to 42, the program should print 'Your waist to hip ratio is 1.1428571428571428'."
   ]
  },
  {
   "cell_type": "markdown",
   "metadata": {},
   "source": [
    "## 第二课作业\n",
    "\n",
    "### L2.E1\n",
    "构建一个腰臀比函数 `waist2hip_ratio` ，允许用户输入原始数值，再进行计算。按照指示使用`变量名`。\n",
    "\n",
    "1. 点击文字上的超链接，了解[腰臀比如何计算](https://zh.wikipedia.org/wiki/腰臀比)。\n",
    "2. 用 [input()调用函数](https://docs.python.org/3/library/functions.html#input)，让用户输入腰围（`waist_str`）和臀围（`hip_str`）。\n",
    "3. 根据用户输入的腰围`waist_str`和臀围`hip_str`计算腰臀比`waist2hip_ratio`。提示：计算前需要转换数据类型。\n",
    "4. 输出腰臀比计算结果，跟在文本 `”Your waist to hip ratio is”`（你的腰臀比是）后。\n",
    "5. 确保代码能顺利运行。如果代码无误，在输入腰围 `waist_str` 为48、 臀围 `hip_str` 为44时，最终的输出应为：’You waist to hip ratio is 1.1428571428571428’。\n"
   ]
  },
  {
   "cell_type": "code",
   "execution_count": null,
   "metadata": {},
   "outputs": [],
   "source": [
    "# Your L2.E1 Code Here 在此输入你的 L2.E1 代码"
   ]
  },
  {
   "cell_type": "markdown",
   "metadata": {},
   "source": [
    "## Lesson 3 Exercises\n",
    "\n",
    "### L3.E1\n",
    "Extend the `waist2hip_ratio` calculation from Lesson 2 to indicate body shape. \n",
    "- Copy your `waist2_hip_ratio` code from Lesson 2. \n",
    "- Add an `input()` statement to ask for the person's `gender`. \n",
    "- Add logic to return print \"Your shape is Apple\" or \"Your shape is Pear\" depending on the ratio and `gender`. For males, a `wasit2hip_ratio` greater than 0.9 is Apple shaped; othewise it is Pear shaped. For females, the threshold is 0.8.  \n",
    "- Comments might be nice too.\n",
    "\n",
    "Your output should look something like this:\n",
    "\n",
    "```\n",
    "Waist? 35\n",
    "Hip? 42\n",
    "Gender? M\n",
    "Your waist to hip ratio is 0.8333333333333334\n",
    "Your shape is Pear\n",
    "```\n"
   ]
  },
  {
   "cell_type": "markdown",
   "metadata": {},
   "source": [
    "## 第三课作业\n",
    "\n",
    "### L3.E1\n",
    "改进第二课作业，让`waist2hip_ratio`在原来的基础上额外输出用户的身材类型。\n",
    "- 复制第二课腰臀比函数`waist2_hip_ratio`的代码。\n",
    "- 新增一项输入`input()`，用来询问用户的性别`gender`。\n",
    "- 新增一段逻辑判断，根据腰臀比和用户输入的性别`gender`，输出 ”Your shape is Apple”（你是苹果形身材）或 “Your shape is Pear”（你是梨形身材）。判断依据：如果男性的腰臀比 `wasit2hip_ratio` 大于0.9，即为苹果形身材；否则即为梨形身材。女性的判断标准为0.8。\n",
    "- 批注也要写得漂亮。\n",
    "\n",
    "最终输出样式可参考下文：\n",
    "```\n",
    "Waist? 35\n",
    "Hip? 42\n",
    "Gender? M\n",
    "Your waist to hip ratio is 0.8333333333333334\n",
    "Your shape is Pear\n",
    "```\n"
   ]
  },
  {
   "cell_type": "code",
   "execution_count": null,
   "metadata": {},
   "outputs": [],
   "source": [
    "# YOUR L3.E1 code here 在此输入你的 L3.E1 代码"
   ]
  }
 ],
 "metadata": {
  "colab": {
   "collapsed_sections": [],
   "name": "Quiz5_Instructions.ipynb",
   "provenance": []
  },
  "kernelspec": {
   "display_name": "Python 3 (ipykernel)",
   "language": "python",
   "name": "python3"
  },
  "language_info": {
   "codemirror_mode": {
    "name": "ipython",
    "version": 3
   },
   "file_extension": ".py",
   "mimetype": "text/x-python",
   "name": "python",
   "nbconvert_exporter": "python",
   "pygments_lexer": "ipython3",
   "version": "3.8.15"
  }
 },
 "nbformat": 4,
 "nbformat_minor": 4
}
