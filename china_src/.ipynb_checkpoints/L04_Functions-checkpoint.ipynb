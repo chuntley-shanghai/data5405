{
 "cells": [
  {
   "cell_type": "markdown",
   "metadata": {
    "id": "x5npdNhRQPo-"
   },
   "source": [
    "<img src=\"../img/Dolan.png\" width=\"180px\" align=\"right\">\n",
    "\n",
    "# **Lesson 4: Functions**\n",
    "_Parameterizing code for reuse_\n",
    "\n",
    "# **第四课：函数**\n",
    "_参数化代码以便重用_"
   ]
  },
  {
   "cell_type": "markdown",
   "metadata": {
    "id": "icvkDr8JQPo_"
   },
   "source": [
    "## **Learning Objectives**\n",
    "\n",
    "### Theory / Be able to explain ...\n",
    "- How functions encapsulate logic into reusable components\n",
    "- The Python Standard Library of built-in functions\n",
    "- The difference between defining a function and calling it\n",
    "- Function arguments vs function parameters\n",
    "- Default parameter values\n",
    "- Positional vs named arguments\n",
    "- Void functions, short-circuiting, and `None`\n",
    "- Failing Forward\n",
    "\n",
    "### Skills / Know how to  ...\n",
    "- Define and call functions\n",
    "- Import modules (with functions, data types, constants, etc.) from libraries\n",
    "- Use positional and named arguments when calling a function\n",
    "- Use short-circuiting to simplify functional logic\n",
    "- Guard against bugs with short-circuiting \n",
    "\n",
    "---"
   ]
  },
  {
   "cell_type": "markdown",
   "metadata": {},
   "source": [
    "## **学习目标**\n",
    "\n",
    "### 能够解释以下理论 ...\n",
    "- 函数如何将逻辑封装为可重用的组件\n",
    "- Python标准库中的内置函数\n",
    "- 定义函数和调用函数之间的区别\n",
    "- 函数实参与函数形参的区别\n",
    "- 默认参数值\n",
    "- 位置参数与命名参数\n",
    "- 空函数、短路计算和`None`\n",
    "- 向前失败\n",
    "\n",
    "### 掌握以下技能  ...\n",
    "- 定义和调用函数\n",
    "- 从库中导入模块（包括函数、数据类型、常量等）\n",
    "- 在调用函数时使用位置参数和命名参数\n",
    "- 使用短路计算简化函数逻辑\n",
    "- 使用短路计算防范错误 \n",
    "\n",
    "---"
   ]
  },
  {
   "cell_type": "markdown",
   "metadata": {
    "id": "zJP7LRD6QPpB"
   },
   "source": [
    "## **Abstraction and the DRY Principle**\n",
    "> \"A designer knows that he has achieved perfection not when there is nothing left to add, but when there is nothing left to take away.\" -- Antoine de Saint-Exupery\n",
    "\n",
    "While many novice programmers assume that the best programs have the most lines of code and the most features, it's usually quite the opposite. With every line of code you are potentially introducing a bug! Keeping it simple and lean is always best. By extension, the best programmers are, as Joel Spolsky once observed, \"lazy but smart.\" They tend to talk in simple, grammatically correct sentences, enunciating every word, perhaps even pronouncing the \"t\" in \"often.\" They are the most likely to wear tee-shirts and jeans to work because they are comfortable and what you wear doesn't define who you are anyway. There is a kind of geeky elegance in that that many others, especially their bosses but sometimes their spouses, tend to miss ... until crunch time when it really matters. Then suddenly everybody is waiting for the programmers to squash every bug and nobody cares what they wear. While nobody is advocating you wear a tee-shirt to your next staff meeting, there is something to be learned from watching programmers do their best work. \n",
    "\n",
    "In its highest forms, programming is about creating _elegant_ code that just works. A skilled programmer has the rare ability to **abstract the essential from the concrete.** Given a block of code that does X, they will winnow it down to its bare logical essence and then parameterize it (i.e., with variables) so it can be reused over and over again, even in novel situations that never occurred to anybody before. They _are_ both lazy and smart. \n",
    "\n",
    "In many cases they will do this abstraction process without being asked. They call it the **DRY (\"Don't Repeat Yourself\") principle**. After you have done something the second or third time, it begins to become worth your time to see that it gets done right every time, with a minimum of effort. That, ultimately, is the essence of programming (pun intended). \n",
    "\n",
    "This lesson is about **functions** that **encapsulate** logic into reusable components. We will start with functions that come built into Python and then define some of our own.   "
   ]
  },
  {
   "cell_type": "markdown",
   "metadata": {},
   "source": [
    "## **抽象和DRY原则**\n",
    "> \"一个设计师知道,他达到完美的时候不是没有东西可添加了,而是没有东西可减少了.\" -- 安托万·德·圣-埃克苏佩里\n",
    "\n",
    "虽然许多新手程序员认为最好的程序拥有最多的代码行和最多的功能,但事实通常相反.每一行代码都有可能引入一个错误(bug)!保持精简总是最好的.顺带一提,正如乔尔·斯波尔斯基曾经观察到的那样，最优秀的程序员是“懒惰但聪明”的。他们倾向于用简单、语法正确的句子交谈，清晰地发音每个词，甚至可能把“often”中的“t”发出来。他们最有可能在工作时穿着T恤和牛仔裤，因为这样做既舒适又不会定义你是谁。这种特质有一种极客式的优雅，许多其他人，特别是他们的老板，有时甚至是他们的配偶，往往会忽视……直到关键时刻，这才真的重要。突然间，每个人都在等待程序员消灭每一个bug，没有人在乎他们穿什么。虽然没有人建议你在下次的员工会议上穿T恤，但观察程序员尽力工作时可以学到一些东西. \n",
    "\n",
    "最高级的编程是要创建简洁且可靠的代码。一个熟练的程序员**具有从具体中抽象出本质**的罕见能力。给定一个执行X操作的代码块，他们会将其精简至其纯粹的逻辑本质，然后对其进行参数化（即，使用变量进行参数化），以便可以在以前从未想到过的新颖情况下反复使用。他们既懒惰又聪明。\n",
    "\n",
    "在许多情况下，他们将在未经要求的情况下进行这个抽象过程。他们称之为**DRY（意思是“不要自我重复”）原则**。当你第二次或第三次做某事时，就应该要在付出最少力气的同时，每一次够能把它做好。这才是编程的本质（这里使用了一个双关语）。\n",
    "\n",
    "这节课讲怎么将逻辑**封装**为可重用组件的**函数**。我们将从Python中内置的函数开始，然后定义一些我们自己的函数。"
   ]
  },
  {
   "cell_type": "markdown",
   "metadata": {
    "id": "htOAjFHOQPpB"
   },
   "source": [
    "---\n",
    "## **What's a Function?**\n",
    "**A function is a named block of statements** that can be **called** as needed. If the function requires data to do its work, then we can supply input **arguments** when we call the function. Often, but not always, a function may **return** a result (output) of the computation.\n",
    "\n",
    "We have already seen a few function calls:"
   ]
  },
  {
   "cell_type": "markdown",
   "metadata": {},
   "source": [
    "---\n",
    "## **何为函数?**\n",
    "**函数是一个经过命名的语句块**，可以根据需要**调用**。如果函数需要数据来完成其工作，那么在调用函数时我们可以提供输入**参数**。通常情况下，但并不总是如此，函数可能会**返回**计算的结果（输出）。\n",
    "\n",
    "我们已经看到了一些函数调用："
   ]
  },
  {
   "cell_type": "code",
   "execution_count": null,
   "metadata": {
    "id": "w-2YTzZWQPpC",
    "outputId": "bdf03286-80a0-41e1-8524-84c654f09cea"
   },
   "outputs": [
    {
     "data": {
      "text/plain": [
       "int"
      ]
     },
     "execution_count": 1,
     "metadata": {
      "tags": []
     },
     "output_type": "execute_result"
    }
   ],
   "source": [
    "type(32)"
   ]
  },
  {
   "cell_type": "code",
   "execution_count": null,
   "metadata": {
    "id": "6jo7dJeNQPpH",
    "outputId": "5a7fb77f-9641-4445-f188-2c4f84e4b6ca"
   },
   "outputs": [
    {
     "name": "stdout",
     "output_type": "stream",
     "text": [
      "Go Stags!\n"
     ]
    }
   ],
   "source": [
    "print(\"Go Stags!\")"
   ]
  },
  {
   "cell_type": "code",
   "execution_count": null,
   "metadata": {
    "id": "x-o1KMngQPpL",
    "outputId": "161df74e-9a43-43c9-c5f5-dba0a8e51ad4"
   },
   "outputs": [
    {
     "data": {
      "text/plain": [
       "42"
      ]
     },
     "execution_count": 3,
     "metadata": {
      "tags": []
     },
     "output_type": "execute_result"
    }
   ],
   "source": [
    "int(42.0)"
   ]
  },
  {
   "cell_type": "markdown",
   "metadata": {
    "id": "5OxjqhznQPpO"
   },
   "source": [
    "In each case the pattern is the same:\n",
    "```python\n",
    "function_name(argument)\n",
    "```\n",
    "The expectation is that the function call will return a value. In mathematical terms we say that a function is a mapping from a domain (set of inputs) to a range (set of outputs). Given some number of arguments, the function performs a calculation and returns the result. \n",
    "\n",
    "Python 3 ships with dozens of built-in functions in its **standard library**:\n",
    "\n",
    "> ![Std Lib Functions](https://github.com/christopherhuntley/BUAN5405-lessons/raw/master/img/L4_standard_library_functions.png)\n",
    "\n",
    "We can classify them into several categories:\n",
    "- **types:** `bool()`, `int()`, `float()`, `complex()`, `str()`, `list()`, `dict()`, `tuple()`,`set()`, `frozenset()`,`type()`\n",
    "- **math/logic:** `all()`,`any()`,`bin()`,`oct()`,`hex()`,`abs()`,`round()`,`max()`, `min()`, `pow()`, `sum()`\n",
    "- **strings/sequences:** `ascii()`, `chr()`, `hash()`, `format()`, `len()`, `range()`, `iter()`, `filter()`, `enumerate()`, `slice()`, `sorted()`\n",
    "- **text I/O:** `input()`, `print()`, `repr()`\n",
    "- **files:** `open()` \n",
    "- **plumbing:** `bytes()`, `bytearray()`,`callable()`,`classmethod()`, `locals()`, `dir()`,`setattr()`, `getattr()`, `delattr()`, `compile()`, `eval()`,`exec()`, ...\n",
    "\n",
    "In addition to these functions that come pre-loaded, there are many more things that can be **imported** from the standard library. "
   ]
  },
  {
   "cell_type": "markdown",
   "metadata": {},
   "source": [
    "在每种情况下，模式都是相同的：\n",
    "```python\n",
    "function_name(argument)\n",
    "```\n",
    "我们期望函数调用将返回一个值。从数学角度来说，我们说函数是从定义域（一组输入）到值域（一组输出）的映射。给定一些参数，函数执行计算并返回结果。 \n",
    "\n",
    "Python 3**标准库**中提供了几十个内置函数：\n",
    "\n",
    "Built-in Functions **内置参数**\n",
    "\n",
    "Python解释器内置了许多随时可用的函数和类型。这里按字母顺序列出了它们。\n",
    "\n",
    "> ![Std Lib Functions](https://github.com/christopherhuntley/BUAN5405-lessons/raw/master/img/L4_standard_library_functions.png)\n",
    "\n",
    "我们可以将它们分类为几个类别：\n",
    "- **types 类型:** `bool()`, `int()`, `float()`, `complex()`, `str()`, `list()`, `dict()`, `tuple()`,`set()`, `frozenset()`,`type()`\n",
    "- **math/logic 数学/逻辑:** `all()`,`any()`,`bin()`,`oct()`,`hex()`,`abs()`,`round()`,`max()`, `min()`, `pow()`, `sum()`\n",
    "- **strings/sequences 字符串/序列:** `ascii()`, `chr()`, `hash()`, `format()`, `len()`, `range()`, `iter()`, `filter()`, `enumerate()`, `slice()`, `sorted()`\n",
    "- **text I/O 文本I/O:** `input()`, `print()`, `repr()`\n",
    "- **files:** `open()` \n",
    "- **plumbing 管道:** `bytes()`, `bytearray()`,`callable()`,`classmethod()`, `locals()`, `dir()`,`setattr()`, `getattr()`, `delattr()`, `compile()`, `eval()`,`exec()`, ...\n",
    "\n",
    "除了这些预装的函数外，还有许多其他东西可以从标准库中**导入**。"
   ]
  },
  {
   "cell_type": "code",
   "execution_count": null,
   "metadata": {
    "id": "gGarZ5N0QPpP",
    "outputId": "c25e64ba-3755-4820-984a-7a8861cf689d"
   },
   "outputs": [
    {
     "name": "stdout",
     "output_type": "stream",
     "text": [
      "3.141592653589793\n",
      "0.9636885289926522\n",
      "0.4041246611761464\n"
     ]
    }
   ],
   "source": [
    "import math\n",
    "print(math.pi)\n",
    "\n",
    "import random\n",
    "print(random.random())\n",
    "print(random.random())"
   ]
  },
  {
   "cell_type": "markdown",
   "metadata": {
    "id": "_zAoRE5HQPpR"
   },
   "source": [
    "`math` and `random` are **modules** to bundle together collections of functions, constants, and other reusable components that we can use in our code. Once imported, we use \"dot notation\" to indicate what which module contains a given function. Thus, `math.pi` is a constant (`pi`) found in in the `math` module. Similarly, `random.random()` is the function `random()` in the `random` module. We use it to generate pseudo-random numbers between 0 and 1. \n",
    "\n",
    "We can use the same mechanism to import and use components from third-party libraries as well.  \n",
    "```python\n",
    "import pandas as pd\n",
    "```\n",
    "You will see the code above a lot in your data science classes, basically at the top of every notebook. It imports the pandas library used for managing (sometimes impossibly huge) datasets, supplying a shorthand **alias** `pd` to save us from typing `pandas` over and over again. (We programmers really are a lazy bunch.)"
   ]
  },
  {
   "cell_type": "markdown",
   "metadata": {},
   "source": [
    "`math` 和`random` 是**模块**，用于把我们可以在代码中使用的函数集合、常量和其他可重用组件捆绑在一起。一旦导入，我们使用“点符号”（\"dot notation\"）来指示哪个模块包含一个给定的函数。因此，`math.pi` 是在`math` 模块中找到的一个常量（`pi`）。类似地，`random.random()`是`random()` 模块中的 `random` 函数。我们用它来生成0到1之间的伪随机数。\n",
    "\n",
    "我们可以使用相同的机制来导入和使用来自第三方库的组件。 \n",
    "```python\n",
    "import pandas as pd\n",
    "```\n",
    "你会在你的数据科学课程中经常看到上面的代码，基本上在每个笔记本的顶部。它导入了pandas库，用于管理（有时是极其庞大的）数据集，并提供了一个简写**别名**`pd` ，以免我们一遍又一遍地输入`pandas` 。（我们程序员真的是一群懒汉。）"
   ]
  },
  {
   "cell_type": "markdown",
   "metadata": {
    "id": "RPmg0lBVQPpS"
   },
   "source": [
    "---\n",
    "## **Function Definitions & Calls**\n",
    "\n",
    "Before a function can be called, it has to be defined. For that we use a `def` statement:\n",
    "```python\n",
    "def function_name( parameters ):\n",
    "    function_body\n",
    "```\n",
    "\n",
    "where\n",
    "- `function_name` follows exactly the same rules as variable names\n",
    "- `parameters` **declares** (names) a list of zero or more variables (_parameters_) that can be **passed** as arguments in a function call\n",
    "- `function_body` is a block of statements to be executed one after the other\n",
    "\n",
    "Consider, for example, the following code, which includes one function definition and two function calls: "
   ]
  },
  {
   "cell_type": "markdown",
   "metadata": {},
   "source": [
    "---\n",
    "## **函数的定义和调用**\n",
    "在函数被调用之前，它必须被定义。为此，我们使用一个 `def` 语句：\n",
    "```python\n",
    "def function_name( parameters ):\n",
    "    function_body\n",
    "```\n",
    "\n",
    "其中\n",
    "- `function_name` 遵循与变量名完全相同的规则\n",
    "- `parameters` **声明**（命名）了一个拥有零个或多个变量（参数）的列表，这些变量可以作为函数调用中的参数**传递**\n",
    "- `function_body` 是一个代码块，按顺序执行\n",
    "\n",
    "例如，思考以下代码，其中包含一个函数定义和两个函数调用："
   ]
  },
  {
   "cell_type": "code",
   "execution_count": null,
   "metadata": {
    "id": "GzzgI-rhQPpS",
    "outputId": "29313100-8047-4629-b3b3-e5dbe6c50182"
   },
   "outputs": [
    {
     "name": "stdout",
     "output_type": "stream",
     "text": [
      "Go home!\n",
      "Go Stags!\n",
      "<function go_team at 0x110002320>\n"
     ]
    }
   ],
   "source": [
    "def go_team(school):\n",
    "    if school == \"Fairfield\":\n",
    "        return \"Go Stags!\"\n",
    "    else:\n",
    "        return \"Go home!\"\n",
    "\n",
    "print(go_team(\"Marist\"))\n",
    "print(go_team(\"Fairfield\"))\n",
    "print(go_team)"
   ]
  },
  {
   "cell_type": "markdown",
   "metadata": {
    "id": "27r2QAKCQPpV"
   },
   "source": [
    "- The `def` statement has to precede the first function call. If we were to move the statement `print(go_team(\"Marist\"))` to the top of the code before running the cell the first time then we would get `NameError: name 'go_team' is not defined`. \n",
    "- The `school` parameter is used inside the function body like any other variable. However, without more work on our part, `school` is a **local variable** that does not exist outside the function body. Its value is lost once the function is done. (Note: that's a feature, not a bug; forgetting things we no long need to know clears memory for remembering new things.)\n",
    "- `return` statements are used to tell the function to **terminate execution** and (optionally) what to **_pass back_** to the **_caller_**. Yes, it is possible for a function to return nothing. We'll come back to that in a bit.\n",
    "- Each function call is considered to be independent of the others. The function body gets a fresh instance of the `school` parameter to work with each time the function is called. \n",
    "- Finally, **a function definition has no effect until the function is called.** Without the parentheses to indicate that we are calling it, it is just a software object like anything else. It's [Schrödinger's cat](https://en.wikipedia.org/wiki/Schr%C3%B6dinger%27s_cat), waiting for us to open the box to see if it is alive or dead. If we call a function that hasn't been defined yet then we get an error. \n",
    "\n",
    "### **Lexical Scope: Parameters and Arguments**\n",
    "You may have noticed that we seem to be somewhat inconsistent with what we call the inputs to our functions. **Function calls supply input _arguments_** but **function definitions declare input _parameters_.** If both are inputs why have two names? That's because they are not actually the same thing at all. An argument is any Python expression, while a parameter is a local variable that is assigned the _value_ of the argument. Arguments get evaluated as part of the function call and then assigned to parameters just before executing the function body. \n",
    "\n",
    "So, for example, consider the following function definition and function call: \n",
    "```python\n",
    "def double_value(x):\n",
    "  return x*2\n",
    "\n",
    "double_value(1+1)\n",
    "```\n",
    "\n",
    "The parameter `x` is used only inside the function body. Meanwhile, the argument `1+1` is evaluated to `2` just before setting the value of `x` inside the function. \n",
    "\n",
    "_**Now for a more advanced explanation ...**_ (Skim if you like and read the TL;DR at the bottom.)\n",
    "\n",
    "This distinction between what is \"inside\" a function definition and what is \"outside\" the function definition is called **lexical scope**. Each variable exists in a **namespace** (a.k.a, \"scope\") within which no two variables can have the same name. However, what about code written by two different people? How can we be sure that library code written by person X many years ago does not have a variable with the same name as the one we are setting right now? We can't! So, we instead say that every variable has a scope within which it is defined. These scopes nest inside of each other, like [Matryoshka dolls](https://en.wikipedia.org/wiki/Matryoshka_doll). A module (program) can define variables and functions. Functions inside the module can define variables and _even more functions_.\n",
    "\n",
    "The result is a hierarchy of scopes, with lower level scopes nested inside of higher level scopes. Recall dot notation, which we learned about in the section on modules? That's exactly how we refer things throughout the scope hierarchy:\n",
    "- _`module`.`function`_ and _`module`.`variable`_ are how we refer to a function or a variable in an imported module.\n",
    "- _`function`.`variable`_ is how we would refer to a variable that is defined inside a function in the current module (i.e., our code). \n",
    "- _`module`.`function`.`variable`_ is how we would refer to a variable within a a function defined in another module. \n",
    "- ... and many more variations on the above.  \n",
    "\n",
    "Most of the time we can ignore the whole namespace concept but of course there are times when it matters. One such time is when calling a function, where data inside the function (parameters) are separate from data outside the function (arguments). Consider the following example:\n"
   ]
  },
  {
   "cell_type": "markdown",
   "metadata": {},
   "source": [
    "-  `def` 语句必须位于第一个函数调用之前。如果我们将语句`print(go_team(\"Marist\"))`移动到第一次运行单元格（cell）之前的代码顶部，那么我们将收到 `NameError: name 'go_team' is not defined`。\n",
    "- `school`参数在函数体内部像任何其他变量一样被使用。然而，如果我们不做更多的工作，`school`是一个**局部变量**，在函数体外部不存在。一旦函数完成，它的值就会丢失。（注意：这是一个特性，而不是一个错误即bug；忘记我们不再需要知道的事情可以清除内存，以记住新的事情。）\n",
    "- `return`语句用于告诉函数**终止执行**，并将什么**_传回_**给**_调用者_**（可选）。是的，函数可以返回空值。我们稍后会回到这个问题。\n",
    "- 每个函数调用被认为是独立的。每次调用函数时，函数体都会获得一个新的`school`参数实例来处理。\n",
    "- 最后，**函数定义在函数被调用之前没有任何影响**。如果没有用括号表示我们正在调用它，那它就和任何其他软件对象一样没有区别。它是薛定谔的猫(https://en.wikipedia.org/wiki/Schr%C3%B6dinger%27s_cat)，等待我们打开盒子，看看它是死是活。如果我们调用一个尚未定义的函数，就会出现错误。\n",
    "\n",
    "### **词法作用域：形参和实参**\n",
    "您可能已经注意到我们在称呼函数的输入方面似乎有些不一致。**函数调用提供输入 _arguments_**，但**函数定义声明输入 _形参_**。如果两者都是输入，为什么要有两个名字？那是因为它们实际上根本不是同一回事。实参是任何Python表达式，而形参是一个局部变量，它被分配到了实参的值。实参作为函数调用的一部分进行评估，然后在执行函数体之前被分配给形参。\n",
    " \n",
    "因此，例如，考虑以下函数定义和函数调用：\n",
    "```python\n",
    "def double_value(x):\n",
    "  return x*2\n",
    "\n",
    "double_value(1+1)\n",
    "```\n",
    "\n",
    "形参`x`仅在函数体内部使用。同时，实参`1+1`在设置函数内部的`x`值之前被评估为`2`。\n",
    "\n",
    "_**现在是给出一个更高级的解释的时候了 ...**_ (（如果你喜欢的话可以浏览并阅读底部的TL;DR。\r",
    "_函数定义“内部”和“外部”的区别称为**词法作用域**。每个变量存在于一个**命名空间**（也称为“作用域”）中，其中不能有两个变量具有相同的名称。但是，两个不同人编写的代码呢？我们怎么能确定多年前由X这个人写的库代码没有与我们现在设置的变量同名的变量？我们做不到！所以，我们反而说每个变量都有一个它在其中能被定义的作用域。这些作用域相互嵌套，就像套娃一样(https://en.wikipedia.org/wiki/Matryoshka_doll)。一个模块（程序）可以定义变量和函数。模块内部的函数可以定义变量，_甚至更多的函数_。\n",
    "\n",
    "结果是一个作用域层次结构，低级别的作用域嵌套在高级别的作用域内。还记得点符号吗？我们在模块部分学到过这个。这正是我们在整个作用域层次结构中引用事物的方式：\n",
    "- _`module`.`function`_ 和 _`module`.`variable`_ 是我们在导入的模块中引用函数或变量的方式。\n",
    "-  _`function`.`variable`_ 是我们引用在当前模块（即我们的代码）的函数内部定义的变量的方式。\n",
    "- _`module`.`function`.`variable`_ 是我们引用在另一个模块中定义的函数中的变量的方式。. \n",
    "- ..以上引用方式还有很多其他变体.\n",
    "大多数情况下我们可以忽略整个“命名空间”的概念，但当然也有需要注意的时候，比如调用函数时，函数内部的数据（形参）与函数外部的数据（实参）是分开的。例子如下:"
   ]
  },
  {
   "cell_type": "code",
   "execution_count": null,
   "metadata": {
    "colab": {
     "base_uri": "https://localhost:8080/",
     "height": 218
    },
    "executionInfo": {
     "elapsed": 383,
     "status": "ok",
     "timestamp": 1595279738474,
     "user": {
      "displayName": "Christopher Huntley",
      "photoUrl": "",
      "userId": "11069151036176747256"
     },
     "user_tz": 240
    },
    "id": "LIe7RwGlxIGk",
    "outputId": "66c3a230-1dd0-4bb4-9654-adc7a25db1c5"
   },
   "outputs": [
    {
     "name": "stdout",
     "output_type": "stream",
     "text": [
      "--- outer MODULE Scope ---\n",
      "var a = 1\n",
      "var b = 2\n",
      "about to call add_two_numbers()\n",
      "\n",
      "--- inner add_two_numbers FUNCTION scope ---\n",
      "param a = 2\n",
      "param b = 1\n",
      "Returning 3\n",
      "\n",
      "--- outer MODULE Scope --\n",
      "Function returned 3\n"
     ]
    }
   ],
   "source": [
    "def add_two_numbers(a,b):\n",
    "  print(\"\\n--- inner add_two_numbers FUNCTION scope ---\")\n",
    "  print(\"param a =\",a)\n",
    "  print(\"param b =\",b)\n",
    "  print(\"Returning\", a+b)\n",
    "  return a + b\n",
    "\n",
    "\n",
    "a = 1\n",
    "b = 2\n",
    "print(\"--- outer MODULE Scope ---\")\n",
    "print(\"var a =\",a)\n",
    "print(\"var b =\",b)\n",
    "print(\"about to call add_two_numbers()\")\n",
    "print(\"\\n--- outer MODULE Scope --\\nFunction returned\", add_two_numbers(b,a)) # note: b is passed before 注意：b在a之前被传递 a"
   ]
  },
  {
   "cell_type": "markdown",
   "metadata": {
    "id": "f2WF5fPmzBhI"
   },
   "source": [
    "Here's a step-by step trace through in the order (and scope) in which each line of code is executed.\n",
    "- In _MODULE_ scope:\n",
    "  - lines 1-6: define the function `add_two_numbers()` \n",
    "  - lines 9-10: initialize `a`=1 and `b`=2\n",
    "  - line 15: calls the function `add_two_numbers()`:\n",
    "    - the arguments `b` and `a` are evaluated to get the values 2 and 1\n",
    "    - the values 2 and 1 are passed into the function as data\n",
    "- In `add_two_numbers()` _FUNCTION_ scope:\n",
    "  - line 1: the values 2 and 1 are assigned to the parameters `a` and `b`, which act like variables within the `add_two_numbers()` function scope. \n",
    "  - the names `a` and `b` within the function take precendence over the names a and b outside the function. In other words, within the scope of `add_two_numbers()`, the names `a` and `b` are always the parameters, not the variables set outside the function. \n",
    "  - line 6: the function returns the sum of `a` and `b` (i.e., 3), after which the scope returns to the enclosing module \n",
    "- Back in _MODULE_ scope (upon returning from the function call in line 15):\n",
    "  - the value returned by the function (3) is used by the print statement.\n",
    "\n",
    "**TL;DR:** Function _parameters_ are what we call the data _inside the function scope_ (the middle bullets), while function _arguments_ are how we refer to the same data when _calling_ the function from the enclosing module scope (the outer bullets). \n",
    "\n",
    "\n"
   ]
  },
  {
   "cell_type": "markdown",
   "metadata": {},
   "source": [
    "以下是对每行代码执行的顺序（和作用域）的逐步解析。\n",
    "- 在 _模块_ 作用域中:\n",
    "  - 第1-6行：定义函数`add_two_numbers()` \n",
    "  - 第9-10行：初始化`a`=1 和 `b` =2\n",
    "  - 第15行：调用函数 `add_two_numbers()`:\n",
    "    - 参数 `b` 和 `a` 被评估，得到值2和1\n",
    "    - 值2和1作为数据传入函数\n",
    "- 在`add_two_numbers()` _函数_ 作用域内:\n",
    "  - 第1行：值2和1被赋给形参 `a` 和 `b`，它们在 `add_two_numbers()` 函数作用域内充当变量。\n",
    "  - 函数内部的 `a` 和 `b` 名称优先于函数外部设置的 a 和 b 名称。换句话说，在 `add_two_numbers()` 作用域内，名称 `a` 和 `b` 始终是形参，而不是函数外部设置的变量。\n",
    "  - 第6行：函数返回 `a` 和 `b` 的和（即3），然后作用域返回到封闭模块.\n",
    "- 回到 _模块_ 作用域（从第15行中的函数调用返回时）：\n",
    "  - 函数返回的值（3）被 print 语句使用。\n",
    "\n",
    "**TL;DR:** 函数 _形参_ 是我们称之为 _函数作用域内部_ 的数据（中间点），而函数 _实参_ 是我们在从封闭模块作用域 _调用_ 函数时引用相同数据的方式（外部点）。"
   ]
  },
  {
   "cell_type": "markdown",
   "metadata": {
    "id": "evw-k-97wvzU"
   },
   "source": [
    "### **Default Values and Named Arguments**\n",
    "It is also possible that we might make some parameters optional by supplying **default values**:"
   ]
  },
  {
   "cell_type": "markdown",
   "metadata": {},
   "source": [
    "### **默认值和命名实参**\n",
    "设置形参的**默认值**是可能的，从而使一些形参成为可选项："
   ]
  },
  {
   "cell_type": "code",
   "execution_count": null,
   "metadata": {
    "id": "XCiJ7d09QPpW",
    "outputId": "68d83e4d-1a23-43df-d643-e9de1542f406"
   },
   "outputs": [
    {
     "name": "stdout",
     "output_type": "stream",
     "text": [
      "Go home!\n",
      "Go Stags!\n",
      "Go Stags!\n"
     ]
    }
   ],
   "source": [
    "# default values can be assigned in the parameter list\n",
    "#可以在形参列表中分配默认值\n",
    "def go_team(school = \"Fairfield\"):\n",
    "    if school == \"Fairfield\":\n",
    "        return \"Go Stags!\"\n",
    "    else:\n",
    "        return \"Go home!\"\n",
    "\n",
    "print(go_team(\"Marist\"))\n",
    "print(go_team(\"Fairfield\"))\n",
    "print(go_team())"
   ]
  },
  {
   "cell_type": "markdown",
   "metadata": {
    "id": "AFGO8lNyQPpZ"
   },
   "source": [
    "Here we have set \"Fairfield\" as the default value for `school`. If the school is not specified in the call then the function assumes you meant \"Fairfield\". \n",
    "\n",
    "So far we have only considered functions that have one parameter. When defining a function with multiple parameters, the parameters are declared in a particular order, with parameters having a default value (e.g., `school` in the above example) always listed _after_ those without them. When calling the function, the inputs that are required (because the corresponding parameters lack defaults) are said to be **positional arguments** because they have to be listed in the same order as the parameter declarations. The optional inputs (with default values) are **named arguments**. "
   ]
  },
  {
   "cell_type": "markdown",
   "metadata": {},
   "source": [
    "在这里，我们将\"Fairﬁeld\"设置为 `school` 的默认值。如果在调用中未指定学校，则函数会假定你指的是\"Fairﬁeld\"。\n",
    "\n",
    "到目前为止，我们只考虑了具有一个形参的函数。当定义具有多个形参的函数时，形参会按特定顺序被声明，具有默认值的形参（例如，上述示例中的 `school`）始终在没有默认值的形参 _之后_ 列出。在调用函数时，由于相应形参缺乏默认值而需要的输入称为**位置参数**，因为它们必须按照形参声明的顺序列出。可选输入（具有默认值）是**命名参数**。"
   ]
  },
  {
   "cell_type": "code",
   "execution_count": null,
   "metadata": {
    "colab": {
     "base_uri": "https://localhost:8080/",
     "height": 280
    },
    "executionInfo": {
     "elapsed": 149,
     "status": "error",
     "timestamp": 1626290426268,
     "user": {
      "displayName": "Christopher Huntley",
      "photoUrl": "",
      "userId": "11069151036176747256"
     },
     "user_tz": 240
    },
    "id": "1Z3tNF1pQPpZ",
    "outputId": "7b96f50f-7bd5-4da8-d5ee-302429fb00f6"
   },
   "outputs": [
    {
     "name": "stdout",
     "output_type": "stream",
     "text": [
      "Go home!\n",
      "Go Lady Stags Lacrosse!\n",
      "Go Stags Tennis!\n",
      "Go Lady Stags Basketball!\n",
      "Go Stags Basketball!\n"
     ]
    },
    {
     "ename": "TypeError",
     "evalue": "ignored",
     "output_type": "error",
     "traceback": [
      "\u001b[0;31m---------------------------------------------------------------------------\u001b[0m",
      "\u001b[0;31mTypeError\u001b[0m                                 Traceback (most recent call last)",
      "\u001b[0;32m<ipython-input-1-826ae0c1a3a7>\u001b[0m in \u001b[0;36m<module>\u001b[0;34m()\u001b[0m\n\u001b[1;32m     12\u001b[0m \u001b[0mprint\u001b[0m\u001b[0;34m(\u001b[0m\u001b[0mgo_team\u001b[0m\u001b[0;34m(\u001b[0m\u001b[0;34m\"Basketball\"\u001b[0m\u001b[0;34m,\u001b[0m \u001b[0mgender_modifier\u001b[0m\u001b[0;34m=\u001b[0m\u001b[0;34m\"Lady\"\u001b[0m\u001b[0;34m,\u001b[0m \u001b[0mschool\u001b[0m \u001b[0;34m=\u001b[0m \u001b[0;34m\"Fairfield\"\u001b[0m\u001b[0;34m)\u001b[0m\u001b[0;34m)\u001b[0m\u001b[0;34m\u001b[0m\u001b[0;34m\u001b[0m\u001b[0m\n\u001b[1;32m     13\u001b[0m \u001b[0mprint\u001b[0m\u001b[0;34m(\u001b[0m\u001b[0mgo_team\u001b[0m\u001b[0;34m(\u001b[0m\u001b[0;34m\"Basketball\"\u001b[0m\u001b[0;34m)\u001b[0m\u001b[0;34m)\u001b[0m\u001b[0;34m\u001b[0m\u001b[0;34m\u001b[0m\u001b[0m\n\u001b[0;32m---> 14\u001b[0;31m \u001b[0mprint\u001b[0m\u001b[0;34m(\u001b[0m\u001b[0mgo_team\u001b[0m\u001b[0;34m(\u001b[0m\u001b[0;34m)\u001b[0m\u001b[0;34m)\u001b[0m   \u001b[0;31m# Error because sport is not optional\u001b[0m\u001b[0;34m\u001b[0m\u001b[0;34m\u001b[0m\u001b[0m\n\u001b[0m",
      "\u001b[0;31mTypeError\u001b[0m: go_team() missing 1 required positional argument: 'sport'"
     ]
    }
   ],
   "source": [
    "def go_team(sport, school=\"Fairfield\", gender_modifier=\"\"):\n",
    "    if school != \"Fairfield\":\n",
    "        return \"Go home!\"\n",
    "    \n",
    "    gender_modifier_padded = gender_modifier + \" \" if gender_modifier else \"\"\n",
    "\n",
    "    return \"Go \"+ gender_modifier_padded + \"Stags \" + sport +\"!\"  \n",
    "\n",
    "print(go_team(\"Tennis\", school=\"Marist\"))\n",
    "print(go_team(\"Lacrosse\", gender_modifier=\"Lady\"))\n",
    "print(go_team(\"Tennis\",\"Fairfield\"))\n",
    "print(go_team(\"Basketball\", gender_modifier=\"Lady\", school = \"Fairfield\"))\n",
    "print(go_team(\"Basketball\"))\n",
    "print(go_team())   # Error because sport is not optional #出错，因为sport（体育运动）不是可选的"
   ]
  },
  {
   "cell_type": "markdown",
   "metadata": {
    "id": "7WIhEtBPQPpc"
   },
   "source": [
    "A few observations (which may take a few passes for you to process):\n",
    "\n",
    "- The function (intentionally) short-circuits itself, returning \"Go home!\" for any `school` except \"Fairfield\". Everything after that is Fairfield-specific.\n",
    "- Named arguments (`school` and `gender_modifier`) can appear in any order as long as they appear after the positional arguments (`sport`).\n",
    "- We can also treat named arguments like positional arguments (without `name =` syntax) as long as they appear in the order the parameters were declared.\n",
    "- We can use the parameters like any other variables (and even change their values).\n",
    "- However, if we omit the `sport` argument then we get an error. Positional arguments are always required. "
   ]
  },
  {
   "cell_type": "markdown",
   "metadata": {},
   "source": [
    "一些观察（可能要多读几次才能明白):\n",
    "\n",
    "- 函数（故意）短路计算自身，对除了\"Fairﬁeld\"之外的任何`school`（学校）都返回\"Go home!\"。在此之后的一切都是针对 Fairﬁeld 的。\n",
    "- 命名参数（`school` 和 `gender_modifier`）可以以任何顺序出现，只要它们在位置参数（`sport`）之后出现即可。\n",
    "- 我们也可以将命名参数视为位置参数（无需使用 `name` = 语法），只要它们按照参数声明的顺序出现即可。\n",
    "- 我们可以像处理任何其他变量一样使用参数（甚至更改它们的值).\n",
    "- 但是，如果省略 `sport` 实参，则会出现错误。位置参数始终是必需的。"
   ]
  },
  {
   "cell_type": "markdown",
   "metadata": {
    "id": "FHCdLqowQPpe"
   },
   "source": [
    "---\n",
    "## **Fruitful vs Void**\n",
    "A function that returns a value is said to be **fruitful**. One that doesn't is a **void function**, which some languages call _subroutines_ or _procedures_. A void function is called not to perform a calculation but to carry out an **action** (\"side effect\") like printing to the screen or writing to a file. Notice that the following does not have a `return` statement. "
   ]
  },
  {
   "cell_type": "markdown",
   "metadata": {},
   "source": [
    "---\n",
    "## **有返回值vs无返回值**\n",
    "能返回一个值的函数叫做**有返回值**参数。不返回值的函数称为**无返回值函数**，有些语言称之为 _子程序_ 或 _过程_。调用无返回值函数不是为了执行计算，而是为了执行一个**动作**（\"副作用\"），比如打印到屏幕上或写入文件中。请注意，以下示例没有`return`语句。"
   ]
  },
  {
   "cell_type": "code",
   "execution_count": null,
   "metadata": {
    "id": "sJcMO2p_QPpf",
    "outputId": "af0fc582-65b5-49b0-91c0-5d2f3c481813"
   },
   "outputs": [
    {
     "name": "stdout",
     "output_type": "stream",
     "text": [
      "Go Stags Tennis!\n",
      "-----\n",
      "Go Stags Tennis!\n",
      "None\n",
      "-----\n",
      "Go Stags Tennis!\n",
      "<class 'NoneType'>\n"
     ]
    }
   ],
   "source": [
    "def print_go_team(sport, school=\"Fairfield\", gender_modifier=\"\"):\n",
    "    print(go_team(sport,school,gender_modifier))\n",
    "\n",
    "print_go_team(\"Tennis\")\n",
    "print(\"-----\")\n",
    "print(print_go_team(\"Tennis\"))\n",
    "print(\"-----\")\n",
    "print(type(print_go_team(\"Tennis\")))"
   ]
  },
  {
   "cell_type": "markdown",
   "metadata": {
    "id": "SbZi72URQPpi"
   },
   "source": [
    "Notes:\n",
    "- A void function returns (terminates) at the bottom of the function body unless it is short-circuited with a `return` (by itself, without any value) somewhere before that.\n",
    "- Even a void function actually returns a value. It's just that the value is always `None` with data type `NoneType`.  \n",
    "\n",
    "> **Heads Up: `print()` is not fruitful.** It does not return a value. Instead it displays a value on a given output device.  \n",
    "> For example, consider the following code:\n",
    ">\n",
    "> ```python\n",
    "> type(print('Hi'))  \n",
    ">\n",
    "> ```  \n",
    "> \n",
    ">\n",
    "> If we run that in a code cell then _two_ things occur:\n",
    "> - the text 'Hi' is printed to the screen\n",
    "> - the return type of the `print()` call is identified as `NoneType` (i.e., nothingness itself)\n",
    "> \n",
    "> Since we are using Python to process data (not just `print()` it), we almost always want our functions to be fruitful. In fact, avoid using `print()` for much of anything except debugging. **Whatever you do, don't ever confuse `return` with `print()`.** They really are very different things. "
   ]
  },
  {
   "cell_type": "markdown",
   "metadata": {},
   "source": [
    "注:\n",
    "- 无返回值函数在函数体的底部返回(终止)，除非它在此之前的某个地方短路并`return` (自己返回，没有任何值)。\n",
    "- 即使是无返回值函数实际上也会返回一个值。只是数据类型为`NoneType`的值总是`None`。\n",
    "\n",
    "> **注意: `print()`不返回值。** 相反，它在给定的输出设备上显示一个值。  \n",
    "例如，考虑下列代码de:\n",
    ">\n",
    "> ```python\n",
    "> type(print('Hi'))  \n",
    ">\n",
    "> ```  \n",
    "> \n",
    ">\n",
    "如果我们在代码单元格中运行它，那么会发生 _两_ 件事:r:\n",
    "> 文本 `Hi` 被打印到屏幕上\n",
    "> -  `print()` 调用的返回类型被标识为`NoneType` (即虚无本身)f)\n",
    "\n",
    "> 由于我们使用Python来处理数据(而不仅仅是`print()`它)，我们几乎总是希望我们的函数是会返回值的。事实上，除了调试之外，避免使用`print()`。**无论做什么，都不要混淆return和`print()`。** 它们真的是非常不同的东西。. "
   ]
  },
  {
   "cell_type": "markdown",
   "metadata": {
    "id": "sEfYsmdHQPqF",
    "jp-MarkdownHeadingCollapsed": true
   },
   "source": [
    "## **Failing Forward**\n",
    "We'll close this lesson with a general comment about the nature of programming. Programming is one of those weird professions where it is best to learn from mistakes. **Nothing ever works at first.** Even if it seems to work, always assume that there are bugs in the code that you haven't discovered yet. \n",
    "\n",
    "In Lesson 1 we learned about the Edit / Run / Test cycle:\n",
    "1. Edit some code. \n",
    "2. Run it.\n",
    "3. Test to see that it worked. If not identify the mistake. \n",
    "4. Go back to step 1.\n",
    "\n",
    "In the hands of a novice, the work mostly happens in step 1. However, the learning (i.e., the thing that makes you a better programmer) happens in **step 3**. You discover that \"whenever we do X, this bad thing happens so let's try something else\" and that's when you get creative and smart. Until then it's just pounding keys on the keyboard. You don't **know** if your code works or how it is going to fail. So, why not get through steps 1 and 2 as quickly as you can, with **the least amount of code you can possibly test** and then linger a bit in step 3 to see what happened and plan for step 1 again. You'll ultimately go through more cycles but it will eventually take less time and be more likely to succeed. \n",
    "\n",
    "All of this leads to a general strategy that we might call **Failing Forward**:\n",
    "- Instead of trying to write your code all at once, **write code in tiny testable chunks** that will eventually build up into working code that does what you need it to do.\n",
    "- Use the tests you create as the model for all the things you've learned about how things can fail. **When a new kind of failure happens, embrace it** just as much as you would a nifty new coding tool or library.\n",
    "- Not all code requires an automated test suite. However, **if you bother to write unit tests, write the tests first**. Your first code after that should fail every test. Then the tests become your TODO list going forward. Keep rewriting the code and re-running the tests until the code passes every test. \n",
    "- When writing code that is hard, **start with whatever is most likely to fail**. After all, if you can't solve that then the rest of the code is irrelevant anyway. \n",
    "\n"
   ]
  },
  {
   "cell_type": "markdown",
   "metadata": {},
   "source": [
    "## **向前失败**\n",
    "我们将以对编程本质的一般性评论来结束这一课。编程是那些最好从错误中学习的奇怪职业之一。**一开始什么都行不通。** 即使它看起来可以工作，也要假设代码中有您尚未发现的错误。\n",
    "\n",
    "在第一课中，我们学习了编辑/运行/测试周期:\n",
    "1. Edit some code. 编辑一些代码。\n",
    "2. Run it. 运行它。\n",
    "3. Test to see that it worked. If not identify the mistake. 测试一下它是否有效。如果不行，找出错误。\n",
    "4. Go back to step 1. 回到步骤1。\n",
    "\n",
    "在新手手中，工作主要发生在第1步。然而，学习(也就是使你成为一个更好的程序员)发生在**步骤3**。你发现“每当我们做某件事时，就会出错，所以我们试试别的吧”，这时你就变得有创造力和聪明了。在那之前，只是敲击键盘上的按键而已。你不**知道**你的代码是否有效，也不知道它将如何失败。因此，为什么不尽可能快地完成步骤1和步骤2，**使用尽可能少的代码进行测试**，然后在步骤3中稍作停留，看看发生了什么，并再次计划步骤1呢？你最终会经历更多的循环，但最终会花费更少的时间，更有可能成功。\n",
    "\r",
    "所有这些导致了一种我们可以称之为**向前失败**的总体策略:\n",
    "- 不要试图一次编写所有代码，而是**将代码编写成可测试的小块**，这些小块最终将构建成可以完成您需要的工作的代码.\n",
    "- 将您创建的测试作为您就代码失败学到的所有事情的模型。**当一种新的失败发生时，就像拥抱一个漂亮的新编码工具或库一样接纳它**.\n",
    "- 并非所有代码都需要自动化测试套件。但是，**如果您费心编写单元测试，请先编写测试**。之后的第一个代码应该在每个测试中都失败。然后测试就变成了你的待办事项列表。继续重写代码并重新运行测试，直到代码通过每个测试为止. \n",
    "- 当编写困难的代码时，**从最可能失败的地方开始**。毕竟，如果你不能解决这个问题，那么剩下的代码就无关紧要了. \r\n",
    ". "
   ]
  },
  {
   "cell_type": "markdown",
   "metadata": {
    "id": "XoAs66WUQPqL"
   },
   "source": [
    "---\n",
    "## **Before you go ... Save your notebook to be sure it is up to date.**\n",
    "\n",
    "## **离开前，确保你保存了最新的笔记本.**"
   ]
  },
  {
   "cell_type": "markdown",
   "metadata": {
    "id": "lR3i5X_epKmN"
   },
   "source": [
    "---\n",
    "> ## Every Tee Shirt Has a Story\n",
    "> ABOUT THE CAMEL CODE     \n",
    "> This shirt is working code that is also art. The front of the shirt displays the commands needed to run the [Camel Code](https://www.perlmonks.org/?node_id=45213) displayed on the back. The code prints out the camel itself reduced 50% in size. I'm not a Perl aficionado but even I have to say that this is the most elegant text hack I've ever seen. So, I bought a tee shirt. You may wonder about the camel ... That's the image on O'Reilly's unofficial Perl manual. \n",
    "\n",
    "![L4 Tee Front](../Photos/L04_TeeFront.jpeg)\n",
    "![L4 Tee Back](../Photos/L04_TeeBack.jpeg)\n",
    "\n",
    "## Copyright &copy; 2020 Christopher Huntley. All rights reserved. "
   ]
  },
  {
   "cell_type": "markdown",
   "metadata": {},
   "source": [
    "---\n",
    "> ## 每件t恤都有一个故事\n",
    "> 关于驼峰代码     \n",
    "> 这件衬衫是工作代码，也是艺术。衬衫的前面显示了运行程序所需的命令 [Camel Code](https://www.perlmonks.org/?node_id=45213) 显示在背面。代码打印出骆驼本身缩小了50%。我不是Perl爱好者，但我不得不说这是我见过的最优雅的文本hack。所以，我买了一件t恤。你可能会对骆驼感到好奇……这是O'Reilly的非官方Perl手册上的图像。\n",
    "\n",
    "![L4 Tee Front](../Photos/L04_TeeFront.jpeg)\n",
    "![L4 Tee Back](../Photos/L04_TeeBack.jpeg)\n",
    "\n",
    "## Copyright &copy; 2020 Christopher Huntley. All rights reserved. "
   ]
  },
  {
   "cell_type": "code",
   "execution_count": null,
   "metadata": {},
   "outputs": [],
   "source": []
  }
 ],
 "metadata": {
  "colab": {
   "collapsed_sections": [],
   "name": "L04_Functions.ipynb",
   "provenance": []
  },
  "kernelspec": {
   "display_name": "Python 3 (ipykernel)",
   "language": "python",
   "name": "python3"
  },
  "language_info": {
   "codemirror_mode": {
    "name": "ipython",
    "version": 3
   },
   "file_extension": ".py",
   "mimetype": "text/x-python",
   "name": "python",
   "nbconvert_exporter": "python",
   "pygments_lexer": "ipython3",
   "version": "3.8.15"
  }
 },
 "nbformat": 4,
 "nbformat_minor": 4
}
