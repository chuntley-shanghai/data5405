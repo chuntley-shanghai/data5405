{
 "cells": [
  {
   "cell_type": "markdown",
   "metadata": {
    "id": "Nb2E9XgVR47H"
   },
   "source": [
    "<img src=\"../img/Dolan.png\" width=\"180px\" align=\"right\">\n",
    "\n",
    "# **Lesson 9: Dictionaries**\n",
    "_Associative arrays by another name_"
   ]
  },
  {
   "cell_type": "markdown",
   "metadata": {},
   "source": [
    "# **第九课：字典**\n",
    "_关联数组的另一个名称_"
   ]
  },
  {
   "cell_type": "markdown",
   "metadata": {
    "id": "44ouNlUdR47I"
   },
   "source": [
    "## **Learning Objectives**\n",
    "\n",
    "### Theory / Be able to explain ...\n",
    "- The purpose and usage of associative arrays\n",
    "- Python dictionaries as associative arrays\n",
    "- Hashing and it's implications for dictionary keys\n",
    "\n",
    "### Skills / Know how to  ...\n",
    "- Display the hash for any dictionary key\n",
    "- Iterate over dictionary items, keys, and values \n",
    "- Generate dictionaries from keys and values\n",
    "- Use a dictionary comprehension for efficient dictionary generation\n",
    "---"
   ]
  },
  {
   "cell_type": "markdown",
   "metadata": {},
   "source": [
    "## **学习目标**\n",
    "\n",
    "### 理论/能够解释 ...\n",
    "- 关联数组的目的和用法\n",
    "- 作为关联数组的Python字典\n",
    "- 哈希及其对字典键的影响\n",
    "\n",
    "### 技能/知道如何...\n",
    "- 显示任意字典键的哈希值\n",
    "- 迭代字典项、键和值\n",
    "- 从键和值生成字典\n",
    "- 使用字典推导式高效生成字典\n",
    "---"
   ]
  },
  {
   "cell_type": "markdown",
   "metadata": {
    "id": "mhKggwZKR47J"
   },
   "source": [
    "## **The Magic of Associative Arrays**\n",
    ">\"A very little key will open a very heavy door.\" -― Charles Dickens, _Hunted Down_\n",
    "\n",
    "After so many years of programming in C, I found myself using it for basically everything, until one day in 1994 I was asked by a very wise boss to try [AWK](https://en.wikipedia.org/wiki/AWK). AWK was a text processing language developed at Bell Labs in the 1970s by the same team that created C and Unix. It was designed to be a tiny domain-specific language for working with streaming text data. One would feed data to an AWK script one line at a time. AWK would then output text to an output file, also one line at a time. It could, of course, remember things from one line to the next, allowing it to accumulate information along the way. \n",
    "\n",
    "Soon I was using AWK for lots of text processing tasks. One notable application was to translate mainframe data into SQL code for loading into a relational database. Data would come in one line at a time and then go right into the database. I think I got at least one promotion from just this one parlor trick. A year or so later, in late 1995 or early 1996, I used the same trick to develop a dashboarding web app that was cobbled together with AWK and bash scripts. No Perl. No Python. No PHP. No Java. Just AWK and bash on a Unix command line. I am still amazed that it worked but we never had a crash or any other bug reported.   \n",
    "\n",
    "One of the reasons why I loved AWK so much was a feature called \"associative arrays\" where we could index a variable length array with text **keys** instead of integers. We could even mix keys with integer indexes if we liked. This meant that, for example, I could have an array of birthdays indexed by people's names. Or vice versa if that was what I wanted.  Or, I could create a histogram for words in a file with two lines of code. The potential uses seemed endless. Nothing could have been more convenient for a wannabe smart and lazy programmer. \n",
    "\n",
    "The Python equivalent of an associative array is a **dictionary**. It does many of the same things as a list but with keys instead of positions. Like associative arrays, there are an endless array of uses. If you have ever pulled data from a web API or added a Series to a DataFrame then you have used something like a dictionary. It's just how it's done. "
   ]
  },
  {
   "cell_type": "markdown",
   "metadata": {},
   "source": [
    "## **关联数组的魔力**\n",
    ">\"一把很小的钥匙能打开一扇很重的门.\" -― 查尔斯·狄更斯，《追猎》\n",
    "\n",
    "在使用C语言编程这么多年之后，我发现自己基本上什么都用它来做，直到1994年的一天，一位睿智的老板  让我尝试使用[AWK](https://en.wikipedia.org/wiki/AWK)。AWK是贝尔实验室在20世纪70年代开发的一种文本 处理语言，同C和Unix属于同一开发团队。它被设计成一种用于处理流文本数据的小型领域专用语言。用户  可以逐行将数据输入AWK脚本，然后AWK再将文本逐行输出到输出文件。它能记住上一行的内容，从而在  处理过程中累积信息. \n",
    "\n",
    "很快我开始将AWK用于大量的文本处理任务。其中一个重要的应用是将主机数据转换成SQL代码，以便加 载到关系数据库中。数据会一行一行地输入，然后直接进入数据库。我想，至少有一次晋升是靠这个小技 巧的。大约一年后，即1995年底或1996年初，我用同样的技巧开发了一个由AWK和bash脚本拼凑而成的仪 表盘网络应用程序。没有Perl ，没有Python ，没有PHP，也没有Java ，只有AWK和bash在Unix命令行上。我 仍对它的正常运行感到吃惊，但我们从未遇到过崩溃或任何其他错误报告.   \n",
    "\n",
    "我之所以如此喜爱AWK，其中一个原因是它有一个名为“关联数组（associate arrays） ”的功能，我们可以用文本**键**而不是整数来索引一个长度可变的数组。我们甚至可以将键与整数索引混合使用，比如可以用 人名索引生日数组，反之亦然。又或者，我只需两行代码就能为文件中的单词创建一个直方图。潜在的用 途似乎无穷无尽。对于一个想当聪明又轻松的程序员来说，没有什么比这更方便的了. \n",
    "\n",
    "Python中的关联数组的等价物是**字典（dictionary）**，很多功能和列表（list）相同，但使用的是键而不是位  置。与关联数组一样，字典也有无穷无尽的用途。如果你曾经从网络应用程序接口（Web API）中提取过数 据，或将Series添加到DataFrame中，那么你就使用过类似字典的东西。这就是它的工作原理. "
   ]
  },
  {
   "cell_type": "markdown",
   "metadata": {
    "id": "G8siTXWzR47K"
   },
   "source": [
    "---\n",
    "## **Dictionaries as Collections of Key-Value Pairs**\n",
    "Python dictionaries have the type `dict`. Here's a brief example, followed by a few notes."
   ]
  },
  {
   "cell_type": "markdown",
   "metadata": {},
   "source": [
    "---\n",
    "## **作为键值对集合的字典**\n",
    "Python 字典的类型是 `dict` 。以下是一个附带说明的简单示例."
   ]
  },
  {
   "cell_type": "code",
   "execution_count": 3,
   "metadata": {
    "colab": {
     "base_uri": "https://localhost:8080/"
    },
    "executionInfo": {
     "elapsed": 5,
     "status": "ok",
     "timestamp": 1626452123296,
     "user": {
      "displayName": "Christopher Huntley",
      "photoUrl": "",
      "userId": "11069151036176747256"
     },
     "user_tz": 240
    },
    "id": "orEq7-QrR47K",
    "outputId": "74160cb7-981f-4d74-82d5-46e21178f619"
   },
   "outputs": [
    {
     "name": "stdout",
     "output_type": "stream",
     "text": [
      "Washington was born 1732-02-22\n",
      "Jefferson was born 1743-04-13\n",
      "Lincoln was born 1809-02-12\n",
      "Madison was born 1751-03-16\n"
     ]
    }
   ],
   "source": [
    "birthdays = {'Washington':'1732-02-22','Jefferson':'1743-04-13','Lincoln':'1809-02-12'}\n",
    "birthdays['Madison']='1751-03-16'\n",
    "for president in birthdays:\n",
    "    print(president,\"was born\", birthdays[president])"
   ]
  },
  {
   "cell_type": "markdown",
   "metadata": {
    "id": "QMyg-v1ZR47R"
   },
   "source": [
    "- `dict` literals work like `list` literals except they use curly brackets `{}` instead of square brackets `[]`.\n",
    "- `dict` indexes use **keys** of any **Hashable** type (more about this in a minute) instead of just integers. \n",
    "- Each key-value pair is literally encoded as `key : value`. if a key is repeated within a dictionary then the value is replaced with each time with the newest value.\n",
    "- The bracket operator `[]` is used for retrieving specific values, just like a list. \n",
    "- Dictionaries are mutable. We can add or remove key-value pairs as needed. The `+=` operator doesn't work though. Use the `[ ]` operator instead. "
   ]
  },
  {
   "cell_type": "markdown",
   "metadata": {},
   "source": [
    "- `dict` 字典字面值的表示方式类似于`list`列表字面值，但使用大括号`{}` 而不是方括号`[]`.\n",
    "- `dict` 字典的索引使用任何可**哈希**类型的**键**（稍后详述）, 而不仅仅是整数. \n",
    "- 每个键值对都以 `key : value`“键 : 值”的形式直接编码。 如果一个键在字典中重复出现， 则该键的值将每次都被 替换为最新的值.\n",
    "- 方括号操作符`[]`与列表一样，用于检索特定值. \n",
    "- 字典是可变的。我们可以根据需要添加或删除键值对。但 `+=` 操作符不适用。要使用方括号`[]`操作符. "
   ]
  },
  {
   "cell_type": "code",
   "execution_count": null,
   "metadata": {
    "colab": {
     "base_uri": "https://localhost:8080/",
     "height": 162
    },
    "executionInfo": {
     "elapsed": 126,
     "status": "error",
     "timestamp": 1626452127962,
     "user": {
      "displayName": "Christopher Huntley",
      "photoUrl": "",
      "userId": "11069151036176747256"
     },
     "user_tz": 240
    },
    "id": "ON6hGG8GR47S",
    "outputId": "c01f43e0-0535-4ab4-a1d6-ab6a67a5333d"
   },
   "outputs": [],
   "source": [
    "birthdays += {'Adams Sr.':'1735-10-30'}"
   ]
  },
  {
   "cell_type": "code",
   "execution_count": null,
   "metadata": {},
   "outputs": [],
   "source": [
    "birthdays['Adams Sr.'] = '1735-10-30'\n",
    "birthdays"
   ]
  },
  {
   "cell_type": "markdown",
   "metadata": {},
   "source": [
    "## **An Aside about Sets**\n",
    "\n",
    "The built-in `set` data type is one of the hidden gems in the Python standard library. \n",
    "\n",
    "A `set` is like a `list` but ... :\n",
    "- With no duplicate items\n",
    "- No implied ordering (and thus no `[ ]` indexing or slicing)\n",
    "\n",
    "Here are a couple examples:"
   ]
  },
  {
   "cell_type": "markdown",
   "metadata": {},
   "source": [
    "## **关于集合的一些说明**\n",
    "\n",
    "内置的集合`set`数据类型是Python标准库中隐藏的瑰宝之一. \n",
    "\n",
    "`set`集合类似于`list`列表，但 ... :\n",
    "- 没有重复项\n",
    "- 没有隐含排序（因此没有`[]`索引或切片）\n",
    "\n",
    "以下是一些例子:"
   ]
  },
  {
   "cell_type": "code",
   "execution_count": 1,
   "metadata": {},
   "outputs": [
    {
     "data": {
      "text/plain": [
       "{1, 2, 3}"
      ]
     },
     "execution_count": 1,
     "metadata": {},
     "output_type": "execute_result"
    }
   ],
   "source": [
    "# a list of numbers 一个数字组成的列\n",
    "{1,2,2,3}"
   ]
  },
  {
   "cell_type": "code",
   "execution_count": 2,
   "metadata": {},
   "outputs": [
    {
     "name": "stderr",
     "output_type": "stream",
     "text": [
      "<>:1: SyntaxWarning: 'set' object is not subscriptable; perhaps you missed a comma?\n",
      "<>:1: SyntaxWarning: 'set' object is not subscriptable; perhaps you missed a comma?\n",
      "/var/folders/_c/71zxr4yj6js5g8rx19wh_j540000gp/T/ipykernel_23792/3390513905.py:1: SyntaxWarning: 'set' object is not subscriptable; perhaps you missed a comma?\n",
      "  {1,2,2,3}[1]\n",
      "/var/folders/_c/71zxr4yj6js5g8rx19wh_j540000gp/T/ipykernel_23792/3390513905.py:1: SyntaxWarning: 'set' object is not subscriptable; perhaps you missed a comma?\n",
      "  {1,2,2,3}[1]\n",
      "/var/folders/_c/71zxr4yj6js5g8rx19wh_j540000gp/T/ipykernel_23792/3390513905.py:1: SyntaxWarning: 'set' object is not subscriptable; perhaps you missed a comma?\n",
      "  {1,2,2,3}[1]\n"
     ]
    },
    {
     "ename": "TypeError",
     "evalue": "'set' object is not subscriptable",
     "output_type": "error",
     "traceback": [
      "\u001b[0;31m---------------------------------------------------------------------------\u001b[0m",
      "\u001b[0;31mTypeError\u001b[0m                                 Traceback (most recent call last)",
      "Input \u001b[0;32mIn [2]\u001b[0m, in \u001b[0;36m<cell line: 1>\u001b[0;34m()\u001b[0m\n\u001b[0;32m----> 1\u001b[0m \u001b[43m{\u001b[49m\u001b[38;5;241;43m1\u001b[39;49m\u001b[43m,\u001b[49m\u001b[38;5;241;43m2\u001b[39;49m\u001b[43m,\u001b[49m\u001b[38;5;241;43m2\u001b[39;49m\u001b[43m,\u001b[49m\u001b[38;5;241;43m3\u001b[39;49m\u001b[43m}\u001b[49m\u001b[43m[\u001b[49m\u001b[38;5;241;43m1\u001b[39;49m\u001b[43m]\u001b[49m\n",
      "\u001b[0;31mTypeError\u001b[0m: 'set' object is not subscriptable"
     ]
    }
   ],
   "source": [
    "# that has no implied ordering 没有隐含排序\n",
    "{1,2,2,3}[1]"
   ]
  },
  {
   "cell_type": "markdown",
   "metadata": {},
   "source": [
    "You may be telling yourself \"Okay, so what? It seems like we could just use a list for that.\"\n",
    "\n",
    "They key here is that sets enforce some rules that are very useful for certain kinds of data analysis. \n",
    "- The no duplicates rule allows us to construct sets of **keys** without accidentally creating duplicates. So where might we care about that? With `dict` keys, for example. \n",
    "- The lack of ordering forces us to go beyond indexed (`[ ]`) access to items and instead use a proper iterator. It's just more Pythonic and less prone to certain classes of bugs. \n",
    "\n",
    "> **Heads Up:** The standard set iterator (used by `for` loops, etc.) traverses the items in ascending order. In other words `list(set( ... ))` is the same as `sorted(list(set( ... )))`. This can be useful if you want to treat a set like a list without having to sort it first."
   ]
  },
  {
   "cell_type": "markdown",
   "metadata": {},
   "source": [
    "你可能会对自己说：“好吧，那又怎样？我们好像只能用列表”。\n",
    "\n",
    "这里的关键在于，集合强制执行一些对于某些类型的数据分析非常有用的规则. \n",
    "- 没有重复项的规则使我们可以构建**键**集，且不会意外创建重复项。那在什么情况下我们需要注意这一 点呢？比如在`dict`字典键中. \n",
    "- 无序性使我们不再使用索引（`[]`）直接访问项目,而是使用适当的迭代器。这样更符合Python的风格,也更不容易出现某种错误. \n",
    "\n",
    "> **注意:** 标准集合迭代器（用于 for 循环等）按升序遍历项目，即，list(set( ... )) 等同于\n",
    "sorted(list(set(...))) 。如果你想要像列表一样处理集合但不想先对其进行排序，这会非常有\n",
    "."
   ]
  },
  {
   "cell_type": "markdown",
   "metadata": {
    "id": "5-G6m5kYR47V",
    "tags": []
   },
   "source": [
    "### **Hashing**\n",
    "To ensure data integrity, dictionary keys (and `set` items) are required to be:\n",
    "- **Unique**: If two items have the same key, then how do we know which is which?\n",
    "- **Immutable**: If we can change the value of a key (e.g., via aliasing) then how does the dictionary let everybody know about it?\n",
    "- **Printable**: If not printable/visible, then how can we humans use them safely? \n",
    "\n",
    "When passed an object, a **hashing** function generates a _printable_ **hash** or **digest** value that is _almost_ guaranteed to be unique. The odds of \"collision\" (i.e., two objects with the same hash) is very, very, very remote. Further, if the object being hashed is itself immutable then we have met all three requirements for dictionary keys:\n",
    "\n",
    "1. Each key has a unique hash. If two keys are the same then they generate the same hash.\n",
    "2. Because the key is required to be immutable, then so is the hash.\n",
    "3. Hashes are printable as (typically) very long strings of characters or digits. So, even if the key itself isn't printable, its hash is. \n",
    "\n",
    "Besides its obvious integrity advantages, hashing of keys is also highly efficient. Since hashes are convertible to strings or integers, we can sort them just like list positions. That makes using a key to lookup a value just as efficient as using an integer index to look up a value in a list. (Ever used a primary key or index to speed up a SQL query? That's exactly the same thing.)\n",
    "\n",
    "While the precise hashing function may vary from data type to data type, the default implementation uses a version of the Fowler-Noll-Vo algorithm which is outside the scope of this course. However, we can call the `hash()` standard library function on any immutable object with 100% predictable results:   "
   ]
  },
  {
   "cell_type": "markdown",
   "metadata": {},
   "source": [
    "### **哈希函数**\n",
    "为确保数据完整性，字典键（和`set`集合项）必须是:\n",
    "- **唯一的**: 如果两个项具有相同的键，那我们怎么知道哪个是哪个?\n",
    "- **不可变的**: 如果我们可以更改键值（比如通过别名）,那字典如何让所有人都知道?\n",
    "- **可打印的**: 如果不能打印/可见，那我们如何安全使用它们? \n",
    "\n",
    "当传递一个对象时， **哈希函数**会生成一个几乎可以保证是唯一的 _可打印的_ **哈希值**或**摘要值**。发生“碰撞 ”\n",
    "（即两个对象的哈希值相同） 的可能性非常、非常、非常小。此外，如果哈希对象本身是不可变的，那么 们就满足了字典键的所有三个要\n",
    ":\n",
    "\n",
    "1每个键都有唯一的哈希值。如果两个键相同，则它们生成的哈希值也相同sh.\n",
    "2因为键必须是不可变的，所以哈希值也是不可变的sh.\n",
    "3哈希值可以打印为（通常）很长的字符或数字串. 所以，即使键本身不能打印，它的哈希值也是可以打印的is. 除了明显的完整性优势外， 对键进行哈希还具有高效性。由于哈希值可以转换为字符串或整数， 我们可以 像对列表位置一样对它们进行排序。这让使用键查找值就像使用整数索引查找列表中的值一样高效。（你 用过主键或索引来加快SQL查询的速度吗？这都是一回事.）.)虽然精确的哈希函数可能因数据类型而异，但默认实现使用的是Fowler-Noll-Vo算法的一个版本， 不在本课 程的讨论范围之内。但我们可以对任何不可变对象调用标准库函数 `hash()`，其结果是 100% 可预测的ts:   "
   ]
  },
  {
   "cell_type": "code",
   "execution_count": null,
   "metadata": {
    "colab": {
     "base_uri": "https://localhost:8080/",
     "height": 297
    },
    "executionInfo": {
     "elapsed": 117,
     "status": "error",
     "timestamp": 1626452130979,
     "user": {
      "displayName": "Christopher Huntley",
      "photoUrl": "",
      "userId": "11069151036176747256"
     },
     "user_tz": 240
    },
    "id": "2uBjxAXBR47V",
    "outputId": "1e298cb1-4906-4550-e7fd-2c8ae23566b3"
   },
   "outputs": [
    {
     "name": "stdout",
     "output_type": "stream",
     "text": [
      "1\n",
      "691752902764107778\n",
      "-138109345320675665\n",
      "-138109345320675665\n",
      "2528502973977326415\n",
      "2887456646110\n"
     ]
    },
    {
     "ename": "TypeError",
     "evalue": "ignored",
     "output_type": "error",
     "traceback": [
      "\u001b[0;31m---------------------------------------------------------------------------\u001b[0m",
      "\u001b[0;31mTypeError\u001b[0m                                 Traceback (most recent call last)",
      "\u001b[0;32m<ipython-input-3-ba994757e183>\u001b[0m in \u001b[0;36m<module>\u001b[0;34m()\u001b[0m\n\u001b[1;32m      5\u001b[0m \u001b[0mprint\u001b[0m\u001b[0;34m(\u001b[0m\u001b[0mhash\u001b[0m\u001b[0;34m(\u001b[0m \u001b[0;34m(\u001b[0m\u001b[0;36m1\u001b[0m\u001b[0;34m,\u001b[0m\u001b[0;36m2\u001b[0m\u001b[0;34m,\u001b[0m\u001b[0;36m3\u001b[0m\u001b[0;34m)\u001b[0m \u001b[0;34m)\u001b[0m\u001b[0;34m)\u001b[0m                   \u001b[0;31m# tuple, which is immutable\u001b[0m\u001b[0;34m\u001b[0m\u001b[0;34m\u001b[0m\u001b[0m\n\u001b[1;32m      6\u001b[0m \u001b[0mprint\u001b[0m\u001b[0;34m(\u001b[0m\u001b[0mhash\u001b[0m\u001b[0;34m(\u001b[0m \u001b[0mhash\u001b[0m \u001b[0;34m)\u001b[0m\u001b[0;34m)\u001b[0m                      \u001b[0;31m# the hash function object\u001b[0m\u001b[0;34m\u001b[0m\u001b[0;34m\u001b[0m\u001b[0m\n\u001b[0;32m----> 7\u001b[0;31m \u001b[0mprint\u001b[0m\u001b[0;34m(\u001b[0m\u001b[0mhash\u001b[0m\u001b[0;34m(\u001b[0m \u001b[0;34m[\u001b[0m\u001b[0;36m1\u001b[0m\u001b[0;34m,\u001b[0m\u001b[0;36m2\u001b[0m\u001b[0;34m,\u001b[0m\u001b[0;36m3\u001b[0m\u001b[0;34m]\u001b[0m \u001b[0;34m)\u001b[0m\u001b[0;34m)\u001b[0m                   \u001b[0;31m# list; oops that's mutable!\u001b[0m\u001b[0;34m\u001b[0m\u001b[0;34m\u001b[0m\u001b[0m\n\u001b[0m",
      "\u001b[0;31mTypeError\u001b[0m: unhashable type: 'list'"
     ]
    }
   ],
   "source": [
    "print(hash( 1 ))                         # int 整数\n",
    "print(hash( 2.3 ))                       # float 浮点数\n",
    "print(hash( \"Mary Had a Little Lamb\" ))  # string 字符串\n",
    "print(hash( b'Mary Had a Little Lamb' )) # bytes (same as string) 字节串（与字符串相同）\n",
    "print(hash( (1,2,3) ))                   # tuple, which is immutable 元组，它是不可变的\n",
    "print(hash( hash ))                      # the hash function object 哈希函数对象\n",
    "print(hash( [1,2,3] ))                   # list; oops that's mutable! 列表；它是可变的！"
   ]
  },
  {
   "cell_type": "markdown",
   "metadata": {
    "id": "PBrniJ3JR47Y"
   },
   "source": [
    "### **Dictionary Traversal**\n",
    "When iterating over a `dict`, we can use one of three iterator **_view methods_** that return list-like sequences:\n",
    "- `keys()` which returns all keys\n",
    "- `values()` which returns all the values\n",
    "- `items()` which returns all the key-value pairs (a.k.a., \"items\")\n",
    "\n",
    "When used in a `for` loop the default is to use the `keys()` iterator:"
   ]
  },
  {
   "cell_type": "markdown",
   "metadata": {},
   "source": [
    "### **字典遍历**\n",
    "When iterating over a `dict`, we can use one of three iterator **_view methods_** that return list-like sequences\n",
    "在对`dict`字典进行遍历时，可以使用三种迭代器 **_视图_** 方法会返回类似列表的序列:\n",
    "- `keys()` 返回所有键\n",
    "- `values()` 返回所有值\n",
    "- `items()` 返回所有键值对（又称“items ”）\n",
    "\n",
    "在 `for` 循环中使用时，默认使用 `keys()`迭代器:"
   ]
  },
  {
   "cell_type": "code",
   "execution_count": 6,
   "metadata": {
    "colab": {
     "base_uri": "https://localhost:8080/"
    },
    "executionInfo": {
     "elapsed": 124,
     "status": "ok",
     "timestamp": 1626452134742,
     "user": {
      "displayName": "Christopher Huntley",
      "photoUrl": "",
      "userId": "11069151036176747256"
     },
     "user_tz": 240
    },
    "id": "VS0YkgquR47Y",
    "outputId": "6582565c-134f-4237-847c-3ce3ec2f435e"
   },
   "outputs": [
    {
     "name": "stdout",
     "output_type": "stream",
     "text": [
      "Washington was born 1732-02-22\n",
      "Jefferson was born 1743-04-13\n",
      "Lincoln was born 1809-02-12\n",
      "Madison was born 1751-03-16\n",
      "Adams Sr. was born 1735-10-30\n",
      "---\n",
      "Washington was born 1735-10-30\n",
      "Jefferson was born 1735-10-30\n",
      "Lincoln was born 1735-10-30\n",
      "Madison was born 1735-10-30\n",
      "Adams Sr. was born 1735-10-30\n"
     ]
    }
   ],
   "source": [
    "# the default iteration order 默认的迭代顺序\n",
    "# birthdays is still a dict indexed by last name 生日仍然是一个以姓氏为索引的字典\n",
    "for president in birthdays:\n",
    "    print(president,\"was born\", birthdays[president])\n",
    "print(\"---\")\n",
    "# explicitly iterating over keys() 显式地迭代键\n",
    "for key in birthdays.keys():\n",
    "    print(key,\"was born\", birthdays[president])"
   ]
  },
  {
   "cell_type": "markdown",
   "metadata": {
    "id": "K_k7CGIIR47b"
   },
   "source": [
    "However, we can also iterate over items or even values, though with somewhat differing results."
   ]
  },
  {
   "cell_type": "markdown",
   "metadata": {},
   "source": [
    "我们也可以迭代项，甚至是值，不过结果会有所不同。"
   ]
  },
  {
   "cell_type": "code",
   "execution_count": 7,
   "metadata": {
    "colab": {
     "base_uri": "https://localhost:8080/"
    },
    "executionInfo": {
     "elapsed": 153,
     "status": "ok",
     "timestamp": 1626452138539,
     "user": {
      "displayName": "Christopher Huntley",
      "photoUrl": "",
      "userId": "11069151036176747256"
     },
     "user_tz": 240
    },
    "id": "7-PD6IyYR47b",
    "outputId": "09dd9380-030c-4d23-b3da-2e95f23046cd"
   },
   "outputs": [
    {
     "name": "stdout",
     "output_type": "stream",
     "text": [
      "('Washington', '1732-02-22')\n",
      "('Jefferson', '1743-04-13')\n",
      "('Lincoln', '1809-02-12')\n",
      "('Madison', '1751-03-16')\n",
      "('Adams Sr.', '1735-10-30')\n",
      "---\n",
      "1732-02-22\n",
      "1743-04-13\n",
      "1809-02-12\n",
      "1751-03-16\n",
      "1735-10-30\n"
     ]
    }
   ],
   "source": [
    "# iterating over items; each item is a tuple 迭代item；每个item是一个元组\n",
    "for item in birthdays.items():\n",
    "    print(item)\n",
    "print(\"---\")\n",
    "# iterating over values() 迭代 values()\n",
    "for v in birthdays.values():\n",
    "    print(v)"
   ]
  },
  {
   "cell_type": "markdown",
   "metadata": {
    "id": "zbQtKafVR47e"
   },
   "source": [
    "You may have noticed that the order is the same each time. As of Python 3.6, each iterator will always follow the order in which the keys were inserted into the dictionary. "
   ]
  },
  {
   "cell_type": "markdown",
   "metadata": {},
   "source": [
    "你可能已经注意到， 每次迭代的顺序是一样的。从Python3.6开始，每个迭代器将始终遵循键插入字典的顺序。"
   ]
  },
  {
   "cell_type": "markdown",
   "metadata": {
    "id": "0Q-CkAkSR47e"
   },
   "source": [
    "### **Pulse Check ...**\n",
    "**Use the [`dict()` function](https://docs.python.org/3/library/stdtypes.html#dict) to create a new dictionary called `presidents` that swaps the keys and values of the `birthdays` dictionary.** Each key should be a birthdate and each value should be the associated president's last name."
   ]
  },
  {
   "cell_type": "markdown",
   "metadata": {},
   "source": [
    "### **脉冲检查 ...**\n",
    "**使用[`dict()`函数 function](https://docs.python.org/3/library/stdtypes.html#dict)创建一个名为`\n",
    "president`s的新字典，`将birthday`s字典的键和值互换**，使得新字典中的每个键是一个出生日期，对应的值是 相关的总统姓。."
   ]
  },
  {
   "cell_type": "code",
   "execution_count": null,
   "metadata": {
    "id": "xPXjPwUuR47f"
   },
   "outputs": [],
   "source": [
    "# YOUR CODE HERE 在此输入你的代码"
   ]
  },
  {
   "cell_type": "code",
   "execution_count": null,
   "metadata": {
    "jupyter": {
     "source_hidden": true
    },
    "tags": []
   },
   "outputs": [],
   "source": [
    "\n",
    "# Swap each key and value with a list comprehension of pairs 使用列表推导式来交换键值对\n",
    "items = [ [b[1], b[0]] for b in birthdays.items() ] \n",
    "presidents = dict([ [b[1],b[0]] for b in birthdays.items() ])\n",
    "presidents"
   ]
  },
  {
   "cell_type": "code",
   "execution_count": null,
   "metadata": {
    "jupyter": {
     "source_hidden": true
    },
    "tags": []
   },
   "outputs": [],
   "source": [
    "\n",
    "# All on one line 合并成一行\n",
    "presidents = dict([ [b[1],b[0]] for b in birthdays.items() ])\n",
    "presidents"
   ]
  },
  {
   "cell_type": "markdown",
   "metadata": {
    "id": "CXn2dgUCR47i"
   },
   "source": [
    "### **Producing Dictionaries from Existing Data**\n",
    "In the examples so far, all of our dictionaries have been created as literals with `{}` or through the `dict()` function. However, dictionaries can be created in lots of curious ways. Just about any iterative process that generates paired sequences of keys and values can be used to create and populate a dictionary. "
   ]
  },
  {
   "cell_type": "markdown",
   "metadata": {},
   "source": [
    "### **利用现有数据生成字典**\n",
    "在目前为止的示例中，我们所有的字典都是使用`{}`字面量或通过`dict()`函数创建的。但创建字典的方式是多样的，几乎所有能生成键值对序列的迭代过程都可以用来创建和填充字典. "
   ]
  },
  {
   "cell_type": "code",
   "execution_count": 1,
   "metadata": {
    "id": "TMUiGOY1R47j",
    "outputId": "6d27f403-fbca-4739-a4c2-93b641e0b862"
   },
   "outputs": [
    {
     "data": {
      "text/plain": [
       "{'Washington': '1732-02-22', 'Jefferson': '1743-04-13'}"
      ]
     },
     "execution_count": 1,
     "metadata": {},
     "output_type": "execute_result"
    }
   ],
   "source": [
    "d_keys =   [\"Washington\",\"Jefferson\"]\n",
    "d_values = ['1732-02-22','1743-04-13']\n",
    "\n",
    "d = {}        # an empty dictionary 一个空字典\n",
    "for i in range(len(d_keys)):\n",
    "    d[d_keys[i]] = d_values[i]\n",
    "d"
   ]
  },
  {
   "cell_type": "markdown",
   "metadata": {
    "id": "Ta727QQnR47l"
   },
   "source": [
    "While straightforward, this is not the most efficient way to generate a dictionary. There are actually two different one line equivalents that are both less code and more efficient. Both are explained below."
   ]
  },
  {
   "cell_type": "markdown",
   "metadata": {},
   "source": [
    "虽然简单明了，但这并不是生成字典的最简便方法。实际上，有两种不同的单行等效方法，既减少了代码量，又更加高效。下面将对这两种方法进行说明。"
   ]
  },
  {
   "cell_type": "markdown",
   "metadata": {
    "id": "e0HOcp1eR47l"
   },
   "source": [
    "### **`dict` Comprehensions**\n",
    "A dictionary comprehension is a lot like a list comprehension, which we covered in Lesson 8. The syntax is like this:\n",
    "```python\n",
    "{ key : value for item in items }\n",
    "```\n",
    "The key and/or value will vary from item to item."
   ]
  },
  {
   "cell_type": "markdown",
   "metadata": {},
   "source": [
    "### **`dict` 字典推导式**\n",
    "字典推导式与我们在第8课中介绍的列表推导式很相似。其语法如下:\n",
    "```python\n",
    "{ key : value for item in items }\n",
    "```\n",
    "关键字和/或值每个项而变化."
   ]
  },
  {
   "cell_type": "code",
   "execution_count": 2,
   "metadata": {
    "id": "IeOXvNA_R47m",
    "outputId": "3e2cda99-c1ae-42a3-e399-6e3a4725825a"
   },
   "outputs": [
    {
     "data": {
      "text/plain": [
       "{'Washington': '1732-02-22', 'Jefferson': '1743-04-13'}"
      ]
     },
     "execution_count": 2,
     "metadata": {},
     "output_type": "execute_result"
    }
   ],
   "source": [
    "# reuses the d_keys and d_values from before 重新使用之前的 d_keys 和 d_values\n",
    "\n",
    "{ d_keys[i] : d_values[i] for i in range(len(d_keys)) }"
   ]
  },
  {
   "cell_type": "markdown",
   "metadata": {
    "id": "tNlruS72R47o"
   },
   "source": [
    "There are other allowed forms (e.g., the pairs can be specified as tuples) but this is the most commonly used one. "
   ]
  },
  {
   "cell_type": "markdown",
   "metadata": {},
   "source": [
    "还有其他允许的形式（例如， 键值对可以指定为元组），但这种形式最常用."
   ]
  },
  {
   "cell_type": "markdown",
   "metadata": {
    "id": "ADTFHPLjR47o"
   },
   "source": [
    "### **That One Weird Zip Dict Trick (Say that fast 3 times)**\n",
    "The `zip()` function converts several sequences of the same length into an iterator of tuples (immutable lists, covered in Lesson 10), where the each tuple is composed of corresponding items. "
   ]
  },
  {
   "cell_type": "markdown",
   "metadata": {},
   "source": [
    "### **古怪的Zip Dict技巧（快速说3遍）**\n",
    "`zip()`函数会将多个长度相同的序列转换成一个元组（不可变列表，第10课将介绍）迭代器，其中每个元组都由相应的项组成. "
   ]
  },
  {
   "cell_type": "code",
   "execution_count": null,
   "metadata": {
    "id": "lG2xzozWR47p",
    "outputId": "2d358bd2-9870-4436-b034-fa3688ba6a00"
   },
   "outputs": [
    {
     "data": {
      "text/plain": [
       "[('1732-02-22', 'Washington'),\n",
       " ('1743-04-13', 'Jefferson'),\n",
       " ('1809-02-12', 'Lincoln')]"
      ]
     },
     "execution_count": 8,
     "metadata": {
      "tags": []
     },
     "output_type": "execute_result"
    }
   ],
   "source": [
    "bdays = ['1732-02-22','1743-04-13','1809-02-12']\n",
    "presidents = ['Washington','Jefferson','Lincoln']\n",
    "\n",
    "z = zip(bdays,presidents)  # z is an iterator z是一个迭代器\n",
    "list(z)                    "
   ]
  },
  {
   "cell_type": "markdown",
   "metadata": {
    "id": "3cZkcucER47s"
   },
   "source": [
    "This can be very useful for generating dictionaries. Let one of the sequences be a list of keys and the other a list of values. When used with the `dict()` constructor we now have a quick and efficient way to zip the keys and values together into a single dict."
   ]
  },
  {
   "cell_type": "markdown",
   "metadata": {},
   "source": [
    "这对生成字典非常有用。让其中一个序列是键列表， 另一个序列是值列表。当与`dict()`构造函数一起使用 时，我们现在有了一种快速、 便捷的方法，可以将键和值压缩成一个单独的字典."
   ]
  },
  {
   "cell_type": "code",
   "execution_count": null,
   "metadata": {
    "id": "9183ztSfR47s",
    "outputId": "79eb6128-cd39-424f-e381-644c4e5ddfd7"
   },
   "outputs": [
    {
     "data": {
      "text/plain": [
       "{'1732-02-22': 'Washington',\n",
       " '1743-04-13': 'Jefferson',\n",
       " '1809-02-12': 'Lincoln'}"
      ]
     },
     "execution_count": 9,
     "metadata": {
      "tags": []
     },
     "output_type": "execute_result"
    }
   ],
   "source": [
    "# bdays is the keys list bdays是键列表\n",
    "# presidents is the values list presidents是值列表\n",
    "dict(zip(bdays,presidents))  # Voila! a one line dict maker 哇！ 一个一行代码的字典创建器"
   ]
  },
  {
   "cell_type": "markdown",
   "metadata": {
    "id": "EutsdZX_Q-dS"
   },
   "source": [
    "---\n",
    "## **Before you go ... Save your notebook to be sure it is up to date.**"
   ]
  },
  {
   "cell_type": "markdown",
   "metadata": {},
   "source": [
    "---\n",
    "## **离开前，确保你保存了最新的笔记本.**"
   ]
  },
  {
   "cell_type": "markdown",
   "metadata": {
    "id": "PEvWMbpQqM58"
   },
   "source": [
    "---\n",
    "> ## Every Tee Shirt Has a Story\n",
    "> ABOUT THE SLASHDOT EFFECT     \n",
    "> I discovered Slashdot my first semester at Fairfield in 1997. I was trying to figure out how to explain geek culture to my undergrad business students. \"You mean you actually call yourselves geeks? ...\" Why yes we did, and there was even this new website called Slashdot that billed itself as \"News for Nerds\" that was catching on with programmers around the world. Even the name was total geek, a play on how web newbies would read URLs aloud. The full URL was `http://slashot.org`. Try saying that out loud (in English) including punctuation, a couple times. It's quite the tongue twister.  \n",
    "> \n",
    "> In keeping with its motto, it was a sort of curated blog with open discussion (without a log in required) that linked to the freshest nerd content from around the web. Within a few months of its founding, it had a continuous, 24x7 readership in the millions, all very geeky and loyal. This was at a time when getting a few thousand people to visit a major media site was a big deal. \n",
    "> \n",
    "> Slashdot became famous with the non-geek crowd when the blog postings began linking to not-so-nerdy newspapers, magazines, political candidates, and other media providers that were not prepared for **2 million** geeks clicking the link at _exactly_ the same time. Servers would fry and then seize up for good, leaving people wondering what the heck just happened and asking about backups. Such was the [Slashdot Effect](https://en.wikipedia.org/wiki/Slashdot_effect).  \n",
    ">\n",
    "> I picked up this tee at a Linux World show circa 2006. By then Slashdot had faded a bit, though was still popular in the right circles. The site is still around, though with a much, much smaller readership. It lost a lot of the original geek readership when magazine publisher Condé Nast bought it around the time I picked up the tee shirt.   \n",
    "\n",
    "\n",
    "![L9 Tee Front](./Photos/L09_TeeFront.jpeg)\n",
    "\n",
    "## Copyright &copy; 2020 Christopher Huntley. All rights reserved. "
   ]
  },
  {
   "cell_type": "markdown",
   "metadata": {},
   "source": [
    "---\n",
    "> ## 每件t恤都有一个故事\n",
    "> 关于Slashdot效应\n",
    "> \n",
    "> 我是在1997年费尔菲尔德大学的第一个学期发现Slashdot的。当时我正试图向我的商科本科生解释极客文化。“你们真的称自己为极客？ ....... ”是的， 我们确实这样称呼自己，甚至还有一个叫Slashdot的新网站，宣称自己是“极客的新闻 ”，受到了全世界程序员的追捧。就连名字也非常极客，取自网络新手朗读网址的谐音。完整的网址是 `http://slashot.org`。试着（用英语）连标点符号一起大声念出来，多念几次。这可真是个绕口令。\n",
    ">\n",
    "> 与其座右铭一致，它是一个开放讨论（无需登录）的策划博客，链接了来自全球网络的最新极客内容。在创立几个月后就拥有了数百万的全天候读者，个个极客、忠诚。在那个时代，让几千人访问一个主流媒体网站可是很了不起的。\n",
    ">\n",
    "> Slashdot在非极客群体中变得出名是因为博客开始链接到不那么极客的报纸、杂志、政治候选人和其他媒体提供者，而这些媒体并没有预料到在200万极客同时点击链接时会发生什么。服务器会因此崩溃，然后永久性地卡住，人们疑惑“发生什么了？”，并询问备份情况。这就是所谓的[Slashdot效应](https://en.wikipedia.org/wiki/Slashdot_effect)。\n",
    ">\n",
    "> 大约在2006年，我在一次Linux World展会上买到了这件t恤。那时，Slashdot虽然在正确的圈子里仍然很受欢迎，但已经有写些式微了。读者少了很多，但网站还在。我买这件t恤的时候，杂志出版商康泰纳仕（Condé Nast）收购了它，导致它失去了大量最初的极客读者。\n",
    "\n",
    "## 版权所有© 2020克里斯托弗·亨特利served. "
   ]
  }
 ],
 "metadata": {
  "colab": {
   "collapsed_sections": [],
   "name": "L09_Dictionaries.ipynb",
   "provenance": []
  },
  "kernelspec": {
   "display_name": "Python 3 (ipykernel)",
   "language": "python",
   "name": "python3"
  },
  "language_info": {
   "codemirror_mode": {
    "name": "ipython",
    "version": 3
   },
   "file_extension": ".py",
   "mimetype": "text/x-python",
   "name": "python",
   "nbconvert_exporter": "python",
   "pygments_lexer": "ipython3",
   "version": "3.8.15"
  }
 },
 "nbformat": 4,
 "nbformat_minor": 4
}
