{
 "cells": [
  {
   "cell_type": "markdown",
   "metadata": {
    "id": "AQW_t3euRsod"
   },
   "source": [
    "<img src=\"../img/Dolan.png\" width=\"180px\" align=\"right\">\n",
    "\n",
    "# **Lesson 8: Lists**\n",
    "_If you can only have one collection type, make it a list_"
   ]
  },
  {
   "cell_type": "markdown",
   "metadata": {},
   "source": [
    "# **第八课：列表**\n",
    "_如果你只能选择一种集合类型，那就选择列表_"
   ]
  },
  {
   "cell_type": "markdown",
   "metadata": {
    "id": "N7vTESzBRsoe"
   },
   "source": [
    "## **Learning Objectives**\n",
    "\n",
    "### Theory / Be able to explain ...\n",
    "- The list as a mutable sequential type\n",
    "- Slice Assignment\n",
    "- The various list methods and functions\n",
    "- The effects of list aliasing\n",
    "- The function and syntax of list comprehensions\n",
    "\n",
    "### Skills / Know how to  ...\n",
    "- Create and modify lists in place\n",
    "- Splice one list into another\n",
    "- Make shallow and deep copies of lists\n",
    "\n",
    "---"
   ]
  },
  {
   "cell_type": "markdown",
   "metadata": {},
   "source": [
    "## **学习目标**\n",
    "\n",
    "### 能够解释以下理论 ...\n",
    "- 作为可变序列的列表\n",
    "- 切片赋值\n",
    "- 各种列表方法和函数\n",
    "- 列表别名的影响\n",
    "- 列表推导式的功能和语法\n",
    "\n",
    "### 掌握以下技能  ...\n",
    "- 原地创建和修改列表\n",
    "- 将一个列表拼接到另一个列表中\n",
    "- 制作列表的浅副本和深副本\n",
    "\n",
    "\n",
    "---"
   ]
  },
  {
   "cell_type": "markdown",
   "metadata": {
    "id": "vBDy98u1Rsoe"
   },
   "source": [
    "## **C Arrays: A Lingering Legacy**\n",
    "> \"Real Programmers write in FORTRAN.\"    \n",
    "> -- [The Story of Mel](http://www.catb.org/~esr/jargon/html/story-of-mel.html) in _The Cathedral and the Bazaar_\n",
    "\n",
    "If we dig deep enough into the [Python libraries](https://github.com/python/cpython), we eventually find that much of [Python itself is actually written in C](https://github.com/python/cpython/blob/master/Objects/listobject.c), a language that is still commonly used for operating systems and certain high performance applications. C is about as close to programming in assembly language, one step up from machine code, as we might ever want to venture. Writing C code is like driving a 1960s Amercan \"muscle\" car: it runs everything as fast as possible but lacks any and all safety features. It is, as Ralph Nader famously described one muscle car, _Unsafe at Any Speed_.  \n",
    "\n",
    "Writing code in C that dealt with collections of things meant using *arrays*. A C array was a block of raw memory (RAM) set aside in advance to fit whatever data was poured into it (as bytes). The array data itself was always of one data type (usually `int`, `float`, or `char`) and it was darn near impossible to safely resize the array after the memory was allocated. Fortunately in the heyday of C for data analysis datasets tended to be small enough to estimate in advance how much memory was needed. \n",
    "\n",
    "To avoid the need to think too hard when creating arrays, smart and lazy programmers wrote utility code like this (from _Numerical Recipes in C_) to handle basic memory management with some degree of safety:\n",
    "```c\n",
    "\n",
    "float *vector(nl,nh)\n",
    "int nl, nh;\n",
    "Allocates a float Vector with range [nl..nh] \n",
    "{\n",
    "    v=(float *)malloc((unsigned) (nh-nl+1)*sizeof(float);\n",
    "    if ((!v) nerror(\"allocation failure in vector()\");\n",
    "    return v-nl;\n",
    "}\n",
    "```\n",
    "\n",
    "What a great innovation! We could specify that we wanted a `float` array of a given size (`nh-nl+1`) and it would do all the tricky math for us. \n",
    "\n",
    "Now for the scary part ... Let's say that we have allocated an array to hold 100 items but then we try to insert 101 items into it? C would just do it anyway, overwriting whatever was already in memory just beyond the end of the array. The result? Usually either a major security bug or a random system crash. It was possible to write code that would run flawlessly for days at a time before randomly crashing. The programmer then might spend weeks hunting through the code looking for the error. Imagine if you had to run something a week at a time just to test it one time! You would make sure you looked over every line of code a dozen times before kicking off the next test. \n",
    "\n",
    "So, it is perhaps no surprise that smart and lazy programmers tend to write their code in Python these days. It's just so much more time efficient. \n",
    "\n",
    "Python has a data type called `array` that is like the old C arrays but with all the proper data protections built in. Not many people use it, however. Instead they just use a `list` which is so much more convenient:\n",
    "\n",
    "- A list can contain **any number of items**, subject to how much memory is available.\n",
    "- Each list item can be of **any data type**. We can even **mix data types** within the list. \n",
    "- Lists can be **extended**, **sliced**, and even **truncated** as needed. \n",
    "\n",
    "We have already seen lists in action in the previous lessons. In this lesson we will fill in the details.  "
   ]
  },
  {
   "cell_type": "markdown",
   "metadata": {},
   "source": [
    "## **C数组：挥之不去的遗产**\n",
    "> 真正的程序员用FORTRAN（公式翻译器）编写程序 ——《大教堂与市集》中[梅尔的故事](http://www.catb.org/~esr/jargon/html/story-of-mel.html)\n",
    "\n",
    "如果我们深入挖掘[Python库](https://github.com/python/cpython)，我们最终会发现大部分[Python实际上是用C语言](https://github.com/python/cpython/blob/master/Objects/listobject.c)编写的，C语言仍然常用于操作系统和某些高性能应用程序。C语言是最接近汇编语言的编程语言，比机器码更进一步。编写C代码就像驾驶一辆20世纪60年代的美国 “肌肉”车：它能以最快的速度运行一切，但缺乏任何安全功能。正如拉尔夫·纳德曾对一辆肌肉车的描述那样，_任何速度都不安全_.  \n",
    "\n",
    "用C语言编写处理集合的代码意味着要使用*数组*。C数组是一块预先设置的原始内存（RAM），用于存储倾入其中的任何数据（以字节为单位）。数组数据本身始终是一种数据类型（通常是`int`整数型、`float`浮点型或`char`字符型），而且在内存分配后，几乎不可能安全地调整数组的大小。幸运的是，在C语言用于数据分析的鼎盛时期，数据集往往足够小，可以提前估计需要多少内存. \n",
    "\n",
    "为了避免在创建数组时过于费心，聪明而懒惰的程序员编写了类似下面的实用代码（_来自《C语言数值计算方法》_），以在一定程度上安全地处理基本的内存管理:\n",
    "```c\n",
    "\n",
    "float *vector(nl,nh)\n",
    "int nl, nh;\n",
    "Allocates a float Vector with range [nl..nh]  （分配一个范围为[nl..nh]的浮点矢量）\n",
    "{\n",
    "    v=(float *)malloc((unsigned) (nh-nl+1)*sizeof(float);\n",
    "    if ((!v) nerror(\"allocation failure in vector()\");\n",
    "    return v-nl;\n",
    "}\n",
    "```\n",
    "\n",
    "多么伟大的创新啊！我们可以指定想要一个给定大小（`nh-nl+1`）的`float`浮点数组，它会为我们完成所有棘手的数学计算. \n",
    "\n",
    "然后是可怕的部分……比方说，我们分配了一个数组来存放100个项目，但我们却试图向其中插入101个项目？无论如何，C语言都会覆盖掉数组末尾之外内存中的所有内容。结果呢？通常不是出现重大安全漏洞，就是系统随机崩溃。有可能写出的代码在随机崩溃之前，会连续几天不间断地运行。然后程序员可能要花费数周的时间搜索代码中的错误。想象一下，如果你必须一周的时间运行某个东西，只为了测试一次！在开始下一次测试之前，你一定会把每一行代码都看上十几遍. \n",
    "\n",
    "因此，现在聪明而懒惰的程序员都倾向于用Python来编写代码，这也许并不奇怪。因为这样更节省时间. \n",
    "\n",
    "Python有一种称为`array`的数据类型，类似于旧的C数组，但内置了所有必要的数据保护措施。然而，使用它的人并不多。相反，他们只使用`list`列表，因为列表更加方便:\n",
    "\n",
    "- 列表可以包含**任意数量的项**，具体数量取决于可用内存的大小.\n",
    "- 每个列表项可以是**任何数据类型**。我们甚至可以在列表中**混合使用数据类型**. \n",
    "- 列表可以根据需要进行**扩展**、**切分**甚至**截断**. \n",
    "\n",
    "我们在前面的课程中已经看到了列表的实际应用。本课，我们将作详细介绍.  "
   ]
  },
  {
   "cell_type": "markdown",
   "metadata": {
    "id": "UD0bD0qMRsof"
   },
   "source": [
    "---\n",
    "## **Lists as Mutable Sequences**\n",
    "The two types of sequences we have looked at so far, files and strings, are very hard or impossible to modify in place. A list, however, is designed to be modified. Mutability is sort of why we make lists.\n",
    "\n",
    "So, for example, consider the following snippet:"
   ]
  },
  {
   "cell_type": "markdown",
   "metadata": {},
   "source": [
    "---\n",
    "## **作为可变序列的列表**\n",
    "到目前为止，我们已经看到的两种序列类型——文件和字符串——很难或者说不可能在原地进行修改。而列表则是可以修改的。可变性是我们创建列表的一个原因.\n",
    "\n",
    "例如，请看下面的代码段:"
   ]
  },
  {
   "cell_type": "code",
   "execution_count": null,
   "metadata": {
    "colab": {
     "base_uri": "https://localhost:8080/"
    },
    "executionInfo": {
     "elapsed": 15,
     "status": "ok",
     "timestamp": 1623631832161,
     "user": {
      "displayName": "Christopher Huntley",
      "photoUrl": "",
      "userId": "11069151036176747256"
     },
     "user_tz": 240
    },
    "id": "pXG5dAkORsog",
    "outputId": "6c73b827-65bd-4a7b-906e-d123d0e7ba80"
   },
   "outputs": [
    {
     "name": "stdout",
     "output_type": "stream",
     "text": [
      "Go Stags!\n",
      "['G', 'o', ' ', 'S', 't', 'a', 'g', 's', '!']\n",
      "['G', 'o', ' ', 'L', 'a', 'd', 'y', ' ', 'S', 't', 'a', 'g', 's', '!']\n",
      "['G', 'o', ' ', 'L', 'a', 'd', 'y', ' ', 'S', 't', 'a', 'g', 's']\n",
      "['G', 'o', ' ', 'L', 'a', 'd', 'y', ' ', 'S', 't', 'a', 'g', 's', '!', ' ', 'G', 'o', '!']\n",
      "Go Lady Stags! Go!\n"
     ]
    }
   ],
   "source": [
    "print(\"Go Stags!\")\n",
    "\n",
    "go_stags = list(\"Go Stags!\")   # Convert to a list 转换为列表\n",
    "print(go_stags)\n",
    "\n",
    "go_stags[3:3]=\"Lady \"          # Insert items into the middle of the list 在列表中间插入项\n",
    "print(go_stags)\n",
    "\n",
    "del go_stags[len(go_stags)-1]  # Truncate the list 截断列表\n",
    "print(go_stags)\n",
    "\n",
    "go_stags += list(\"! Go!\")      # Extend the list 扩展列表\n",
    "print(go_stags)\n",
    "\n",
    "print(\"\".join(go_stags))       # convert back to a string 转换回字符串"
   ]
  },
  {
   "cell_type": "markdown",
   "metadata": {
    "id": "0xjMQjBQRsok"
   },
   "source": [
    "### **Appending and Deleting List Items**\n",
    "The `+=` operator works just like with strings except that it works in place. The expression to the right of the `+=` must evaluate to a list, even if it is just one item. \n",
    "\n",
    "To remove an item from a specific position in a list we use the `del` statement as shown in the example above, which removed the trailing exclamation point from the list.  "
   ]
  },
  {
   "cell_type": "markdown",
   "metadata": {},
   "source": [
    "### **追加和删除列表项**\n",
    "`+=` 运算符的使用方式与字符串类似，只是它是原地运行的。`+=` 运算符右边的表达式必须求值为一个列表，即使只有一个项目. \n",
    "\n",
    "要从列表的指定位置移除一项，我们可以使用`del`语句，如上例所示，它移除了列表中结尾的感叹号.  "
   ]
  },
  {
   "cell_type": "markdown",
   "metadata": {
    "id": "n12djYYeRsok"
   },
   "source": [
    "### **Lists of Lists**\n",
    "Lists can contain items of any data type, including lists. To refer to elements in the inner (\"nested\") list you just add another bracket operator [] to the end. This works for string items as well."
   ]
  },
  {
   "cell_type": "markdown",
   "metadata": {},
   "source": [
    "### **列表的嵌套**\n",
    "列表可以包含任何数据类型的项，包括列表。要引用内部（“嵌套”）列表中的元素，只需在末尾添加另一个括号运算符[]即可。这也适用于字符串项."
   ]
  },
  {
   "cell_type": "code",
   "execution_count": null,
   "metadata": {
    "colab": {
     "base_uri": "https://localhost:8080/"
    },
    "executionInfo": {
     "elapsed": 5,
     "status": "ok",
     "timestamp": 1646096305740,
     "user": {
      "displayName": "Christopher Huntley",
      "photoUrl": "https://lh3.googleusercontent.com/a/default-user=s64",
      "userId": "11069151036176747256"
     },
     "user_tz": 300
    },
    "id": "HNHXdsOgRsol",
    "outputId": "cb68ca01-4282-4ee2-8506-e28231151ae5"
   },
   "outputs": [
    {
     "name": "stdout",
     "output_type": "stream",
     "text": [
      "[1, ['alpha', 'beta', 'gamma'], 3, 4]\n",
      "['alpha', 'beta', 'gamma']\n",
      "gamma\n",
      "m\n"
     ]
    }
   ],
   "source": [
    "a_list = [1, [\"alpha\",\"beta\",\"gamma\"], 3, 4]\n",
    "\n",
    "print(a_list)           # the full list 完整列表\n",
    "print(a_list[1])        # the nested sublist 嵌套子列表\n",
    "print(a_list[1][2])     # an item ('Gamma') in the nested sublist 嵌套子列表中的一项（'gamma'）\n",
    "print(a_list[1][2][3])  # the second 'm' from the string 'Gamma' 字符串'gamma'中的第二个'm'"
   ]
  },
  {
   "cell_type": "markdown",
   "metadata": {
    "id": "3-tcHM-GRson"
   },
   "source": [
    "### **Slice Assignment (Splicing)**\n",
    "We used slices with strings. They work almost the same with lists, with one notable exception: we can **use the slice operator in assignment statements**. \n",
    "\n",
    "When we slice a list, the part \"sliced out\" is replaceable with something else. It's like Python creates a temporary variable (representing the gap in the list) that we can assign list values to as we please."
   ]
  },
  {
   "cell_type": "markdown",
   "metadata": {},
   "source": [
    "### **切片赋值（拼接）**\n",
    "我们在字符串中使用过切片操作符。它们在列表中的作用几乎相同，但有一个明显的例外：我们可以**在赋值语句中使用切片操作符**. \n",
    "\n",
    "当我们对列表进行切分时，“切出”的部分可以用其他东西代替。这就像Python创建了一个临时变量（代表列表中的空白部分），我们可以随意给列表赋值."
   ]
  },
  {
   "cell_type": "code",
   "execution_count": null,
   "metadata": {
    "colab": {
     "base_uri": "https://localhost:8080/"
    },
    "executionInfo": {
     "elapsed": 10,
     "status": "ok",
     "timestamp": 1623631832163,
     "user": {
      "displayName": "Christopher Huntley",
      "photoUrl": "",
      "userId": "11069151036176747256"
     },
     "user_tz": 240
    },
    "id": "7vgAjHt0Rsoo",
    "outputId": "5cb7fa6e-53ad-4996-c909-64a6d608c271"
   },
   "outputs": [
    {
     "name": "stdout",
     "output_type": "stream",
     "text": [
      "[2, 3]\n",
      "[1, 'a', 'b', 'c', 'd', 4]\n"
     ]
    }
   ],
   "source": [
    "my_list = [1,2,3,4]\n",
    "print(my_list)\n",
    "print(my_list[1:3])\n",
    "\n",
    "my_list[1:3] = [\"a\",\"b\",\"c\",\"d\"]\n",
    "print(my_list)"
   ]
  },
  {
   "cell_type": "markdown",
   "metadata": {
    "id": "JpXFm4ejRsoq"
   },
   "source": [
    "In essence we cut the list just before positions 1 and 3 (the slice) and then spliced a new sequence into the gap. If we want to do the splicing without losing any items in the list, then we just use a 0-position slice (with the same number on either side of the `:`)."
   ]
  },
  {
   "cell_type": "markdown",
   "metadata": {},
   "source": [
    "实际上，我们只是在位置1和3之前剪切了列表（切片），然后在空白处拼接了一个新的序列。如果我们想在不丢失列表中任何条目的情况下进行拼接，那么我们只需使用一个0位置切片（`：`两侧的数字相同）."
   ]
  },
  {
   "cell_type": "code",
   "execution_count": null,
   "metadata": {
    "colab": {
     "base_uri": "https://localhost:8080/"
    },
    "executionInfo": {
     "elapsed": 175,
     "status": "ok",
     "timestamp": 1623631832331,
     "user": {
      "displayName": "Christopher Huntley",
      "photoUrl": "",
      "userId": "11069151036176747256"
     },
     "user_tz": 240
    },
    "id": "bdbiPBNURsor",
    "outputId": "313bac4b-2088-4b23-fe30-1bfa3ac488d7"
   },
   "outputs": [
    {
     "name": "stdout",
     "output_type": "stream",
     "text": [
      "[1, 'a', 'b', 'c', 'd', 2, 3, 4]\n"
     ]
    }
   ],
   "source": [
    "my_list = [1,2,3,4]\n",
    "print(my_list)\n",
    "my_list[1:1] = [\"a\",\"b\",\"c\",\"d\"]\n",
    "print(my_list)"
   ]
  },
  {
   "cell_type": "markdown",
   "metadata": {
    "id": "hK9VD_HeRsot"
   },
   "source": [
    "### **Pulse Check ...**\n",
    "**Rewrite the code below so that it inserts `[\"a\",\"b\",\"c\",\"d\"]` as a nested list.** The result should be `[1, ['a', 'b', 'c', 'd'], 2, 3, 4]`"
   ]
  },
  {
   "cell_type": "markdown",
   "metadata": {},
   "source": [
    "### **脉冲检测 ...**\n",
    "**重写下面的代码，插入 `[\"a\",\"b\",\"c\",\"d\"]` 作为嵌套列表.** 结果应该是 `[1, ['a', 'b', 'c', 'd'], 2, 3, 4]`"
   ]
  },
  {
   "cell_type": "code",
   "execution_count": null,
   "metadata": {
    "colab": {
     "base_uri": "https://localhost:8080/"
    },
    "executionInfo": {
     "elapsed": 35,
     "status": "ok",
     "timestamp": 1623631832332,
     "user": {
      "displayName": "Christopher Huntley",
      "photoUrl": "",
      "userId": "11069151036176747256"
     },
     "user_tz": 240
    },
    "id": "7w_6WmFXRsou",
    "outputId": "8b250c9e-a7a7-467b-fc66-6b1f9282dab6"
   },
   "outputs": [
    {
     "name": "stdout",
     "output_type": "stream",
     "text": [
      "[1, 'a', 'b', 'c', 'd', 2, 3, 4]\n"
     ]
    }
   ],
   "source": [
    "# REWRITE THIS CODE CELL 重写此代码单元格\n",
    "my_list = [1,2,3,4]\n",
    "my_list[1:1] = [\"a\",\"b\",\"c\",\"d\"]\n",
    "print(my_list)"
   ]
  },
  {
   "cell_type": "code",
   "execution_count": null,
   "metadata": {
    "jupyter": {
     "source_hidden": true
    },
    "tags": []
   },
   "outputs": [],
   "source": [
    "\n",
    "my_list = [1,2,3,4]\n",
    "my_list[1:1] = [[\"a\",\"b\",\"c\",\"d\"]]\n",
    "my_list"
   ]
  },
  {
   "cell_type": "markdown",
   "metadata": {
    "id": "7BXmWOoURsow"
   },
   "source": [
    "---\n",
    "## **List Methods**\n",
    "While the methods available for lists are not as impressive as for strings, they are more than adequate:\n",
    "- `count()` counts the number of times a  given item appears in the list\n",
    "- `index()` returns the first position where a given item appears in the list\n",
    "- `reverse()` and `sort()` reorder the items in the list\n",
    "- `append()`, `extend()`, and `insert()` splice in new items into the list\n",
    "- `remove()`, `pop()`, and `clear()` delete items from the list\n",
    "- `copy()` returns a **shallow copy** of the list; we'll come back to this in a bit"
   ]
  },
  {
   "cell_type": "markdown",
   "metadata": {},
   "source": [
    "---\n",
    "## **列表方法**\n",
    "虽然列表可用的方法不如字符串那样令人印象深刻，但足够用了:\n",
    "- `count()` 统计列表中某个给定项出现的次数\n",
    "- `index()` 返回列表中某个给定项首次出现的位置\n",
    "- `reverse()` 和 `sort()` 重新排列列表中的项\n",
    "- `append()`, `extend()`, 和 `insert()` 将新项插入列表中\n",
    "- `remove()`, `pop()`和 `clear()` 从列表中删除项\n",
    "- `copy()` 返回列表的**浅层副本**；我们稍后再讨论这个问题"
   ]
  },
  {
   "cell_type": "markdown",
   "metadata": {
    "id": "oLuOBkIVRsox"
   },
   "source": [
    "### **Pulse Check ...**\n",
    "**Write a function called `mirror()` that returns the reverse of a string appended to itself.**\n",
    "`mirror(\"Go Stags!\")` returns `'Go Stags!!sgatS oG'`. \n",
    "\n",
    "**Note:** Four different correct answers are hiodden behind the ... below. STudy all four to understand why they work. "
   ]
  },
  {
   "cell_type": "markdown",
   "metadata": {},
   "source": [
    "### **脉冲检测 ...**\n",
    "**编写一个名为 `mirror()` 的函数，该函数返回字符串的反向拼写.**\n",
    "`mirror(\"Go Stags!\")` 返回 `'Go Stags!!sgatS oG'`. \n",
    "\n",
    "**注意:** 下面的...后有四个不同的正确答案。请学习所有四个答案，了解它们的工作原理. "
   ]
  },
  {
   "cell_type": "code",
   "execution_count": null,
   "metadata": {
    "id": "szUN4PhrRsox"
   },
   "outputs": [],
   "source": [
    "# YOUR CODE HERE 在此输入你的代码"
   ]
  },
  {
   "cell_type": "code",
   "execution_count": null,
   "metadata": {
    "jupyter": {
     "source_hidden": true
    },
    "tags": []
   },
   "outputs": [],
   "source": [
    "# Version 1: Using string slices 版本1：使用字符串切片\n",
    "def mirror(s):\n",
    "  return s + s[::-1]\n",
    "mirror(\"Go Stags!\")"
   ]
  },
  {
   "cell_type": "code",
   "execution_count": null,
   "metadata": {
    "jupyter": {
     "source_hidden": true
    },
    "tags": []
   },
   "outputs": [],
   "source": [
    "# Version 2: Using the reversed method 版本2：使用逆向法\n",
    "def mirror(s):\n",
    "  lst = list(s)\n",
    "  lst_rev = list(s).reverse()\n",
    "  return lst + lst_rev\n",
    "mirror(\"Go Stags!\")"
   ]
  },
  {
   "cell_type": "code",
   "execution_count": null,
   "metadata": {
    "jupyter": {
     "source_hidden": true
    },
    "tags": []
   },
   "outputs": [],
   "source": [
    "# Version 3: Reversing after copying 版本3：在复制后进行反转\n",
    "def mirror(s):\n",
    "  lst = list(s)\n",
    "  lst_rev = list(s)\n",
    "  lst_rev.reverse()\n",
    "  return lst + lst_rev\n",
    "mirror(\"Go Stags!\")"
   ]
  },
  {
   "cell_type": "code",
   "execution_count": null,
   "metadata": {
    "jupyter": {
     "source_hidden": true
    },
    "tags": []
   },
   "outputs": [],
   "source": [
    "# Version 4: Converting back to string from a list 版本4：从列表转换回字符串\n",
    "def mirror(s):\n",
    "  lst = list(s)\n",
    "  lst_rev = list(s)\n",
    "  lst_rev.reverse()\n",
    "  return \"\".join(lst + lst_rev)   # stitches the characters into a string\n",
    "mirror(\"Go Stags!\")"
   ]
  },
  {
   "cell_type": "markdown",
   "metadata": {
    "id": "dQ5at7gxRso0"
   },
   "source": [
    "---\n",
    "## **List Functions**\n",
    "Many of Python's built-in functions work with lists.\n",
    "- `len()` counts the items in the list.\n",
    "- `sum()` totals the values of the items in the list.\n",
    "- `min()` and `max()` do what they appear to do.\n",
    "- `sorted()` and `reversed()` return iterators of the list items in the indicated order.\n",
    "\n",
    "Other functions work too, once you translate the list to an iterator with `sorted()`, `reversed()` or `__iter__()`. "
   ]
  },
  {
   "cell_type": "markdown",
   "metadata": {},
   "source": [
    "---\n",
    "## **列表函数**\n",
    "Python的许多内置函数都可以在列表中使用.\n",
    "- `len()` 计算列表中的项数.\n",
    "- `sum()` 计算列表中各项的总和.\n",
    "- `min()` 和 `max()` 执行它们表面上看起来的功能（最小值和最大值）.\n",
    "- `sorted()` 和 `reversed()` 按指定顺序返回列表项的迭代器.\n",
    "\n",
    "使用 `sorted()` 、`reversed()` 或 `iter ()` 将列表转换为迭代器后，其他函数也可以工作`. "
   ]
  },
  {
   "cell_type": "markdown",
   "metadata": {},
   "source": [
    "### **Pulse Check ...**\n",
    "**Rewrite the `mirror()` function below so that it uses the `reversed()` function.** "
   ]
  },
  {
   "cell_type": "markdown",
   "metadata": {
    "id": "f26AQ9yuRso0"
   },
   "source": [
    "### **脉冲检测 ...**\n",
    "**重新编写下面的`mirror()`函数，使其使用`reversed()`函数.** "
   ]
  },
  {
   "cell_type": "code",
   "execution_count": 2,
   "metadata": {},
   "outputs": [
    {
     "data": {
      "text/plain": [
       "'Go Stags!!sgatS oG'"
      ]
     },
     "execution_count": 2,
     "metadata": {},
     "output_type": "execute_result"
    }
   ],
   "source": [
    "def mirror(s):\n",
    "  lst = list(s)\n",
    "  lst_rev = list(s)\n",
    "  lst_rev.reverse()\n",
    "  return \"\".join(lst + lst_rev)\n",
    "mirror(\"Go Stags!\")"
   ]
  },
  {
   "cell_type": "code",
   "execution_count": null,
   "metadata": {
    "jupyter": {
     "source_hidden": true
    },
    "tags": []
   },
   "outputs": [],
   "source": [
    "# Version 1: convert iterator to list 版本1：将迭代器转换为列表\n",
    "def mirror(s):\n",
    "  lst = list(s)\n",
    "  lst_rev = list(reversed(lst)) \n",
    "  return \"\".join(lst + lst_rev)\n",
    "print(mirror(\"Go Stags!\"))"
   ]
  },
  {
   "cell_type": "code",
   "execution_count": null,
   "metadata": {
    "jupyter": {
     "source_hidden": true
    },
    "tags": []
   },
   "outputs": [],
   "source": [
    "# Version 2: all on one line, because why not? 版本2：一行搞定，为什么不呢？\n",
    "def mirror(s):\n",
    "    return \"\".join(list(s) + list(reversed(list(s))))\n",
    "print(mirror(\"Go Stags!\"))"
   ]
  },
  {
   "cell_type": "markdown",
   "metadata": {},
   "source": [
    "**Why does the following throw an error? _Explain_ the error.**"
   ]
  },
  {
   "cell_type": "markdown",
   "metadata": {},
   "source": [
    "**以下代码为何会报错？_解释_ 报错原因。**"
   ]
  },
  {
   "cell_type": "code",
   "execution_count": null,
   "metadata": {
    "scrolled": true,
    "tags": []
   },
   "outputs": [],
   "source": [
    "def mirror(s):\n",
    "  lst = list(s)\n",
    "  lst_rev = reversed(lst)\n",
    "  return \"\".join(lst + lst_rev) # Error! 错误！\n",
    "print(mirror(\"Go Stags!\"))"
   ]
  },
  {
   "cell_type": "markdown",
   "metadata": {},
   "source": [
    "YOUR ANSWER HERE 在此输入你的答案"
   ]
  },
  {
   "cell_type": "markdown",
   "metadata": {
    "jupyter": {
     "source_hidden": true
    },
    "tags": []
   },
   "source": [
    "\n",
    "> Because the `reverse()` method does not actually return a list. It instead returns a _generator_ that can be used to create a list. You need to convert it wth a list() call. \n",
    "\n",
    "```\n",
    "def mirror(s):\n",
    "  lst = list(s)\n",
    "  lst_rev = list(reversed(lst)) # note the conversion to list\n",
    "  return \"\".join(lst + lst_rev) # no error now!\n",
    "print(mirror(\"Go Stags!\"))\n",
    "```\n"
   ]
  },
  {
   "cell_type": "markdown",
   "metadata": {
    "jupyter": {
     "source_hidden": true
    }
   },
   "source": [
    "\n",
    "> 因为 `reverse()` 方法实际上并不返回一个列表。相反，它返回一个可用于创建列表的 _generator_。您需要使用list()调用对其进行转换. \n",
    "\n",
    "```\n",
    "def mirror(s):\n",
    "  lst = list(s)\n",
    "  lst_rev = list(reversed(lst)) # note the conversion to list 注意到列表的转换\n",
    "  return \"\".join(lst + lst_rev) # no error now! 现在没有错误了!\n",
    "print(mirror(\"Go Stags!\"))\n",
    "```\n"
   ]
  },
  {
   "cell_type": "markdown",
   "metadata": {
    "id": "sqAb9d3BRso3"
   },
   "source": [
    "---\n",
    "## **Lists as Objects**"
   ]
  },
  {
   "cell_type": "markdown",
   "metadata": {},
   "source": [
    "---\n",
    "## **作为对象的列表**"
   ]
  },
  {
   "cell_type": "markdown",
   "metadata": {
    "id": "CQGohbeXRso3"
   },
   "source": [
    "### **Aliases vs Copies**\n",
    "All of the data types we have considered so far can be considered as singular, (somewhat) immutable entities. In order to divide them we have to create new entities. While 2 = 1 + 1 that does not mean we can turn 1 into 2. Or, though \"Go\" is composed of the characters 'G' and 'o', the characters are each different strings from the original. \n",
    "\n",
    "A list is different. It exists to be a **container** for other entities. So, mull over the following: "
   ]
  },
  {
   "cell_type": "markdown",
   "metadata": {},
   "source": [
    "### **别名与副本**\n",
    "到目前为止，我们考虑的所有数据类型都可以被视为单一的、（某种程度上）不可变的实体。为了对它们进行分割，我们必须创建新的实体。虽然2=1+1，但这并不意味着我们可以将1变成2。或者，虽然Go由字符G和o组成，但这两个字符分别是不同的字符串. \n",
    "\n",
    "列表也是不同的。它存在是为了作为其他实体的**容器**。因此，请仔细阅读以下内容: "
   ]
  },
  {
   "cell_type": "code",
   "execution_count": null,
   "metadata": {
    "colab": {
     "base_uri": "https://localhost:8080/"
    },
    "executionInfo": {
     "elapsed": 30,
     "status": "ok",
     "timestamp": 1623631832337,
     "user": {
      "displayName": "Christopher Huntley",
      "photoUrl": "",
      "userId": "11069151036176747256"
     },
     "user_tz": 240
    },
    "id": "fHwDUz9pRso4",
    "outputId": "8c9b2b95-e279-4872-9e60-46e4790b8b58"
   },
   "outputs": [
    {
     "name": "stdout",
     "output_type": "stream",
     "text": [
      "1\n",
      "[1, 2, 'a', 4]\n"
     ]
    }
   ],
   "source": [
    "x = 1 \n",
    "y = x     # assignment y = value of x 赋值y=x的值\n",
    "y = 2     # modify y 修改y\n",
    "print(x)  # x is unchanged x保持不变\n",
    "\n",
    "a = [1,2,3,4]\n",
    "b = a     # assignment b = value of a 赋值b=a的值\n",
    "b[2]=\"a\"  # modify b 修改b\n",
    "print(a)  # a is changed too! a也变了"
   ]
  },
  {
   "cell_type": "markdown",
   "metadata": {
    "id": "z3ng_3HjRso6"
   },
   "source": [
    "It's like voodoo action at a distance. By changing `b` we also change `a`. How is that possible? Because the assignment `b = a` sets the value of `b` to the _container_ `a`. If we alter the contents of the container, we modify the value of both `a` and `b`. In Python terms we say that `a` and `b` are **aliases** for the same list.\n",
    "\n",
    "To eliminate such alias effects make a **copy** of the list. "
   ]
  },
  {
   "cell_type": "markdown",
   "metadata": {},
   "source": [
    "这就像是远距离的巫术。通过改变`b`，我们也改变了`a`。这是怎么可能的呢？因为赋值`b=a`将`b`的值设定为容器`a`。如果我们修改容器的内容，我们就修改了`a`和`b`的值。在Python术语中，我们说`a`和`b`是同一个列表的**别名**.\n",
    "\n",
    "为了消除这种别名效应，我们需要制作一个列表**副本**. "
   ]
  },
  {
   "cell_type": "code",
   "execution_count": null,
   "metadata": {
    "colab": {
     "base_uri": "https://localhost:8080/"
    },
    "executionInfo": {
     "elapsed": 27,
     "status": "ok",
     "timestamp": 1623631832338,
     "user": {
      "displayName": "Christopher Huntley",
      "photoUrl": "",
      "userId": "11069151036176747256"
     },
     "user_tz": 240
    },
    "id": "FBWIfHxXRso6",
    "outputId": "34f41cd1-b0a4-4088-d6ea-2004f5d61e19"
   },
   "outputs": [
    {
     "name": "stdout",
     "output_type": "stream",
     "text": [
      "[1, 2, 3, 4]\n"
     ]
    }
   ],
   "source": [
    "a = [1,2,3,4]\n",
    "b = list(a)\n",
    "b[2]=\"a\"\n",
    "print(a)"
   ]
  },
  {
   "cell_type": "markdown",
   "metadata": {
    "id": "mH11NzudRso9"
   },
   "source": [
    "Calling `list()` to construct a list from the original list creates a **shallow copy**. The copy has _exactly_ the same items as the original list (but is nonetheless a new list). If any of those copied items is a nested list, then **the same container** (the nested list) is in both copies. "
   ]
  },
  {
   "cell_type": "markdown",
   "metadata": {},
   "source": [
    "调用`list()`从原始列表构造一个列表会创建一个**浅副本**。副本与原始列表具有完全相同的项（但仍然是一个新列表）。如果这些复制的项中有任何嵌套列表，那么**相同容器**（即嵌套列表）将存在于两个副本中. "
   ]
  },
  {
   "cell_type": "code",
   "execution_count": null,
   "metadata": {
    "colab": {
     "base_uri": "https://localhost:8080/"
    },
    "executionInfo": {
     "elapsed": 25,
     "status": "ok",
     "timestamp": 1623631832339,
     "user": {
      "displayName": "Christopher Huntley",
      "photoUrl": "",
      "userId": "11069151036176747256"
     },
     "user_tz": 240
    },
    "id": "ZCXG0bu_Rso-",
    "outputId": "b2b25648-4276-4518-9087-9f86413e9e60"
   },
   "outputs": [
    {
     "name": "stdout",
     "output_type": "stream",
     "text": [
      "[1, ['alpha', 2, 'gamma'], 3, 4]\n"
     ]
    }
   ],
   "source": [
    "a_list = [1, [\"alpha\",\"beta\",\"gamma\"], 3, 4]\n",
    "b_shallow = list(a_list)         # a shallow copy of a_list 列表的浅复制\n",
    "b_shallow[1][1]=2                # modify the nested list 修改嵌套列表\n",
    "print(a_list)                    # also modifies a_list 也会修改列表"
   ]
  },
  {
   "cell_type": "markdown",
   "metadata": {
    "id": "NXJif0qIRspA"
   },
   "source": [
    "To make a **deep copy** (without any aliasing of nested lists) we need the `copy` module from the standard library."
   ]
  },
  {
   "cell_type": "markdown",
   "metadata": {},
   "source": [
    "要创建**深副本**（而不是嵌套列表的别名），我们需要使用标准库中的`copy`模块"
   ]
  },
  {
   "cell_type": "code",
   "execution_count": null,
   "metadata": {
    "colab": {
     "base_uri": "https://localhost:8080/"
    },
    "executionInfo": {
     "elapsed": 22,
     "status": "ok",
     "timestamp": 1623631832339,
     "user": {
      "displayName": "Christopher Huntley",
      "photoUrl": "",
      "userId": "11069151036176747256"
     },
     "user_tz": 240
    },
    "id": "Dzjd1rcCRspA",
    "outputId": "d0ef9fee-0803-414c-f2b9-a9b02bef1ced"
   },
   "outputs": [
    {
     "name": "stdout",
     "output_type": "stream",
     "text": [
      "[1, ['alpha', 'beta', 'gamma'], 3, 4]\n"
     ]
    }
   ],
   "source": [
    "import copy\n",
    "a_list = [1, [\"alpha\",\"beta\",\"gamma\"], 3, 4]\n",
    "b_deep = copy.deepcopy(a_list)   # deep copy of a_list 列表的深度复制\n",
    "b_deep[1][1]=2                   # modify the deep copy 修改深度复制\n",
    "print(a_list)                    # a_list is unchanged 列表保持不变"
   ]
  },
  {
   "cell_type": "markdown",
   "metadata": {
    "id": "znBJqvv3RspC"
   },
   "source": [
    "### **Impact of List Aliasing on Functions**\n",
    "Just as assignment to a list creates an alias, so it also works for functions. After all, a function parameter is just a kind of local variable. The parameters get set via assignment from the arguments just before executing the function body. So, if the function modifies the list in any way, then the modifications live on after the function is done. If that is not what you want, then be sure to pass copies as arguments instead of the lists themselves. That way the _copies_ get aliased and then discarded after the function returns.  "
   ]
  },
  {
   "cell_type": "markdown",
   "metadata": {},
   "source": [
    "### **列表别名对函数的影响**\n",
    "正如对列表赋值可以创建别名一样，对函数赋值也可以创建别名。毕竟，函数参数只是一种局部变量。在执行函数体之前，参数会通过实参赋值来设置参数。因此，如果函数以任何方式对列表进行了修改，那么在函数执行完毕后，这些修改将继续存在。如果这不是你想要的结果，那么请确保将副本作为参数而不是列表本身进行传递。这样的话，_副本_ 就会被别名化，然后在函数返回后被丢弃. "
   ]
  },
  {
   "cell_type": "markdown",
   "metadata": {
    "id": "ZHy2ufrERspD"
   },
   "source": [
    "### **Pulse Check ...**\n",
    "**The code below has an infinite loop. Debug it to eliminate the loop.** (You will need to scroll down to the cell with `# REWRITE THIS CODE CELL` at the top.)\n",
    "\n",
    "```python\n",
    "def add_0(lst):\n",
    "    lst += [0]\n",
    "\n",
    "x = [1,2,3,4]\n",
    "for i in x:\n",
    "    add_0(x)\n",
    "    print(x)\n",
    "```\n",
    "After fixing the loop, the correct output is:\n",
    "```\n",
    "[1,2,3,4,0]\n",
    "[1,2,3,4,0,0]\n",
    "[1,2,3,4,0,0,0]\n",
    "[1,2,3,4,0,0,0,0]\n",
    "```\n",
    "Hints\n",
    "- You will need to make a shallow copy of `x` somewhere in your code.\n",
    "- The fix only affects one line of code and it is outside the loop body.\n",
    "- If you get stuck in an infinite loop, then restart the runtime."
   ]
  },
  {
   "cell_type": "markdown",
   "metadata": {},
   "source": [
    "### **脉冲检测 ...**\n",
    "**下列代码存在无限循环.进行调试，以消除循环.** (你需要滚动到顶部带有 `# REWRITE THIS CODE CELL` 标记的单元格.)\n",
    "\n",
    "```python\n",
    "def add_0(lst):\n",
    "    lst += [0]\n",
    "\n",
    "x = [1,2,3,4]\n",
    "for i in x:\n",
    "    add_0(x)\n",
    "    print(x)\n",
    "```\n",
    "修复循环后，正确的输出结果为:\n",
    "```\n",
    "[1,2,3,4,0]\n",
    "[1,2,3,4,0,0]\n",
    "[1,2,3,4,0,0,0]\n",
    "[1,2,3,4,0,0,0,0]\n",
    "```\n",
    "提示\n",
    "- 你需要在代码中的某处创建`x`的浅副本.\n",
    "- 修复只影响循环体之外的一行代码.\n",
    "- 如果你陷入无限循环，那么请重新启动运行时."
   ]
  },
  {
   "cell_type": "code",
   "execution_count": null,
   "metadata": {
    "id": "vTOowBr8RspD",
    "tags": []
   },
   "outputs": [],
   "source": [
    "# REWRITE THIS CODE CELL 重写此代码单元\n",
    "\n",
    "# The Infinite Loop Code 无限循环代码\n",
    "def add_0(lst):\n",
    "    lst += [0]\n",
    "\n",
    "x = [1,2,3,4]\n",
    "for i in x:\n",
    "    add_0(x)\n",
    "    print(x)"
   ]
  },
  {
   "cell_type": "code",
   "execution_count": null,
   "metadata": {
    "jupyter": {
     "source_hidden": true
    },
    "tags": []
   },
   "outputs": [],
   "source": [
    "# Corrected code 修正后的代码\n",
    "\n",
    "# The Infinite Loop Code 无限循环代码\n",
    "def add_0(lst):\n",
    "    lst += [0]\n",
    "\n",
    "x = [1,2,3,4]\n",
    "for i in list(x): # <--- copying x fixes the loop 复制x修复了循环\n",
    "    add_0(x)\n",
    "    print(x)"
   ]
  },
  {
   "cell_type": "markdown",
   "metadata": {
    "id": "H_T6zyomRspH"
   },
   "source": [
    "---"
   ]
  },
  {
   "cell_type": "markdown",
   "metadata": {
    "id": "pRgwzZbIRspH"
   },
   "source": [
    "### **List Comprehensions**\n",
    "A list comprehension is a quirky one-line combination of a `for` loop with a conditional expression. The result is a list. The syntax is\n",
    "```python\n",
    "[ expression for item in sequence if condition]\n",
    "```\n",
    "- the `for` loop iterates through the sequence\n",
    "- the value of `expression` (which likely includes `item`) is added to the list\n",
    "- skips `expression` whenever the `condition` (which also likely includes `item`) is False\n",
    "\n",
    "A comprehension is 100% equivalent to \n",
    "```python\n",
    "lst = [] # an empty list\n",
    "for item in sequence:\n",
    "    if condition:\n",
    "        lst.append(expression)\n",
    "```\n",
    "Except, of course, that the comprehension doesn't need to create a local variable for the list. A comprehension is an expression to be evaluated, not a statement to be executed. If we want the comprehension to be remembered then we use an assignment statement. \n",
    "\n",
    "List comprehensions are very handy at times, especially when you only need a list one time, say as an argument to a function call. You may never need to use one, but when you do, it can save a lot of effort. "
   ]
  },
  {
   "cell_type": "markdown",
   "metadata": {},
   "source": [
    "### **列表推导式**\n",
    "列表推导式是一种奇特的单行代码，结合了`for`循环和条件表达式。其结果是一个列表。语法如下:\n",
    "```python\n",
    "[ if 条件中序列项的表达式]\n",
    "```\n",
    "- `for`循环遍历序列\n",
    "- 将`expression`表达式的值（可能包括`item`项）添加到列表中\n",
    "- 当`condition`条件（可能也包括`item`项）显示错误时，就跳过`expression`表达式\n",
    "\n",
    "列表推导式完全等价于 \n",
    "```python\n",
    "lst = [] # an empty list 空列表\n",
    "for item in sequence:\n",
    "    if condition:\n",
    "        lst.append(expression)\n",
    "```\n",
    "当然，列表推导式不需要为列表创建一个局部变量。列表推导式是一个要求求值的表达式，而不是要执行的语句。如果我们希望记住列表推导式，则使用赋值语句. \n",
    "\n",
    "列表推导式有时非常方便，特别是当你只需要一次列表时，例如作为函数调用的参数。你可能永远都用不到它，但是当你用时，可以节省很多精力. "
   ]
  },
  {
   "cell_type": "markdown",
   "metadata": {
    "id": "_J6_5GY3RspH"
   },
   "source": [
    "#### **Slicing as a sublist operator**\n",
    "In Lesson 6 we saw how slicing could be used to extract substrings of characters."
   ]
  },
  {
   "cell_type": "markdown",
   "metadata": {},
   "source": [
    "#### **作为子列表操作符的切片**\n",
    "在第6课中，我们看到切片可以用来提取字符的子字符串."
   ]
  },
  {
   "cell_type": "code",
   "execution_count": null,
   "metadata": {
    "colab": {
     "base_uri": "https://localhost:8080/",
     "height": 35
    },
    "executionInfo": {
     "elapsed": 163,
     "status": "ok",
     "timestamp": 1623631915978,
     "user": {
      "displayName": "Christopher Huntley",
      "photoUrl": "",
      "userId": "11069151036176747256"
     },
     "user_tz": 240
    },
    "id": "zLz15UsxRspI",
    "outputId": "60027745-115a-4df8-e9a1-c2a6cc3c900a"
   },
   "outputs": [
    {
     "data": {
      "application/vnd.google.colaboratory.intrinsic+json": {
       "type": "string"
      },
      "text/plain": [
       "'og'"
      ]
     },
     "execution_count": 20,
     "metadata": {
      "tags": []
     },
     "output_type": "execute_result"
    }
   ],
   "source": [
    "'Google'[2:4]"
   ]
  },
  {
   "cell_type": "markdown",
   "metadata": {
    "id": "H9HfK295RspL"
   },
   "source": [
    "Here is what Python is doing behind the scenes. "
   ]
  },
  {
   "cell_type": "markdown",
   "metadata": {},
   "source": [
    "下面是Python的幕后工作."
   ]
  },
  {
   "cell_type": "code",
   "execution_count": null,
   "metadata": {
    "colab": {
     "base_uri": "https://localhost:8080/",
     "height": 35
    },
    "executionInfo": {
     "elapsed": 136,
     "status": "ok",
     "timestamp": 1623631918207,
     "user": {
      "displayName": "Christopher Huntley",
      "photoUrl": "",
      "userId": "11069151036176747256"
     },
     "user_tz": 240
    },
    "id": "N3ljFIbeRspL",
    "outputId": "3b87c592-4bed-42e7-f0a6-f717a599d1fc"
   },
   "outputs": [
    {
     "data": {
      "application/vnd.google.colaboratory.intrinsic+json": {
       "type": "string"
      },
      "text/plain": [
       "'og'"
      ]
     },
     "execution_count": 21,
     "metadata": {
      "tags": []
     },
     "output_type": "execute_result"
    }
   ],
   "source": [
    "''.join( ['Google'[i] for i in range(2,4)] )  # we are using join() to reassemble the characters into a string"
   ]
  },
  {
   "cell_type": "markdown",
   "metadata": {
    "id": "QvzF7wNXRspN"
   },
   "source": [
    "The logic is the same for lists, of course, only without the `join()`. "
   ]
  },
  {
   "cell_type": "markdown",
   "metadata": {},
   "source": [
    "当然，列表的逻辑也是一样的，只是没有使用`join ()`."
   ]
  },
  {
   "cell_type": "code",
   "execution_count": null,
   "metadata": {
    "colab": {
     "base_uri": "https://localhost:8080/"
    },
    "executionInfo": {
     "elapsed": 176,
     "status": "ok",
     "timestamp": 1623631920329,
     "user": {
      "displayName": "Christopher Huntley",
      "photoUrl": "",
      "userId": "11069151036176747256"
     },
     "user_tz": 240
    },
    "id": "aBV-6R9ARspN",
    "outputId": "9e787677-de1d-4c91-c6d5-78a316ab8aae"
   },
   "outputs": [
    {
     "name": "stdout",
     "output_type": "stream",
     "text": [
      "['peanut butter', 'jelly']\n"
     ]
    }
   ],
   "source": [
    "lst = [\"bread\", \"peanut butter\", \"jelly\", \"chips\"]   # don't judge!\n",
    "print( lst[1:3] )"
   ]
  },
  {
   "cell_type": "markdown",
   "metadata": {
    "id": "lCdOuBV3RspP"
   },
   "source": [
    "In Lesson 11, we'll see how pandas can slice sequences with non-integer keys (e.g., 'fname', 'lname','bdate') instead of position numbers. The logic behind the scenes uses something like a list comprehension, pretty much like this:"
   ]
  },
  {
   "cell_type": "markdown",
   "metadata": {},
   "source": [
    "在第11课中，我们将看到pandas如何使用非整数键（例如'fname'、'lname'、'bdate'）而非位置编号对序列进行切片。幕后的逻辑类似于列表推导式，就像这样："
   ]
  },
  {
   "cell_type": "code",
   "execution_count": null,
   "metadata": {
    "colab": {
     "base_uri": "https://localhost:8080/"
    },
    "executionInfo": {
     "elapsed": 137,
     "status": "ok",
     "timestamp": 1623631922797,
     "user": {
      "displayName": "Christopher Huntley",
      "photoUrl": "",
      "userId": "11069151036176747256"
     },
     "user_tz": 240
    },
    "id": "iWZbZGyV_p4T",
    "outputId": "85a5eab3-4a25-40bf-9fd5-96d408f2a983"
   },
   "outputs": [
    {
     "name": "stdout",
     "output_type": "stream",
     "text": [
      "['peanut butter', 'jelly']\n"
     ]
    }
   ],
   "source": [
    "print( [lst[i] for i in range(1,3)] )"
   ]
  },
  {
   "cell_type": "markdown",
   "metadata": {
    "id": "EutsdZX_Q-dS"
   },
   "source": [
    "---\n",
    "## **Before you go ... Save your notebook to be sure it is up to date.**"
   ]
  },
  {
   "cell_type": "markdown",
   "metadata": {},
   "source": [
    "---\n",
    "## **离开前，确保你保存了最新的笔记本.**"
   ]
  },
  {
   "cell_type": "markdown",
   "metadata": {
    "id": "NclWcJceqDOa"
   },
   "source": [
    "---\n",
    "> ## Every Tee Shirt Has a Story\n",
    "> ABOUT DB2    \n",
    "> When I was in engineering school, a bunch of my classmates (including my future spouse) were taking jobs on Wall Street working with this new thing called DB2. It sounded pretty silly to me. The software was supposed to make it easy to read and write data to and from a hard disk? I could do that already ... just write a file system like the real programmers do it. DB2, of course, was a pioneering relational database package from IBM. Given that I now teach relational database design (and a few other things) for a living, I suppose I should have listened to them. IBM, Oracle, and the other RDBMS vendors won out in the end, as they should have, and I learned a great lesson about humility and keeping an open mind about technology. Try everything you can and try not to prejudge what you don't understand.     \n",
    "\n",
    "![L8 Tee Front](../Photos/L08_TeeFront.jpeg)\n",
    "\n",
    "## Copyright &copy; 2020 Christopher Huntley. All rights reserved. "
   ]
  },
  {
   "cell_type": "markdown",
   "metadata": {},
   "source": [
    "---\n",
    "> ## 每件t恤都有一个故事\n",
    "> 关于DB2  \n",
    "> 当我在工程学校的时候，我的一群同学（包括我未来的配偶）在华尔街工作，研究一种叫做DB2的新事物。我觉得这听起来很傻。这个软件应该能让我们轻松地在硬盘上读写数据？我已经能做到了……只要像真正的程序员那样写一个文件系统就行了。当然，DB2是IBM推出的一款开创性的关系数据库软件包。考虑到我现在以教关系数据库设计（以及其他一些东西）为生，我想我应该听听他们的意见。IBM、甲骨文和其他关系数据库管理系统（RDBMS）供应商最终赢得了胜利，这是理所应当的。而我也学到了关于谦逊和对技术保持开放心态的重要一课。尽你所能去尝试一切，不要对你不理解的事物提前下判断.     \n",
    "\n",
    "## 版权所有 © 2020 Christopher Huntley 保留所有权利. "
   ]
  },
  {
   "cell_type": "code",
   "execution_count": null,
   "metadata": {},
   "outputs": [],
   "source": []
  }
 ],
 "metadata": {
  "colab": {
   "collapsed_sections": [],
   "name": "L08_Lists.ipynb",
   "provenance": []
  },
  "kernelspec": {
   "display_name": "Python 3 (ipykernel)",
   "language": "python",
   "name": "python3"
  },
  "language_info": {
   "codemirror_mode": {
    "name": "ipython",
    "version": 3
   },
   "file_extension": ".py",
   "mimetype": "text/x-python",
   "name": "python",
   "nbconvert_exporter": "python",
   "pygments_lexer": "ipython3",
   "version": "3.8.15"
  }
 },
 "nbformat": 4,
 "nbformat_minor": 4
}
