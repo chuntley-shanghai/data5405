{
 "cells": [
  {
   "cell_type": "markdown",
   "metadata": {
    "id": "_V3GzllOQckZ"
   },
   "source": [
    "<img src=\"../img/Dolan.png\" width=\"180px\" align=\"right\">\n",
    "\n",
    "# **Lesson 5: Iteration**\n",
    "_Keeping things DRY with loops_"
   ]
  },
  {
   "cell_type": "markdown",
   "metadata": {},
   "source": [
    "# **第五课: 迭代**\n",
    "_使用循环结构时，尽量遵循DRY原则，确保代码的简洁和可维护性_"
   ]
  },
  {
   "cell_type": "markdown",
   "metadata": {
    "id": "2Vz2bUv3Qcka"
   },
   "source": [
    "## **Learning Objectives**\n",
    "\n",
    "### Theory / Be able to explain ...\n",
    "- The elements and flow of iteration processes\n",
    "- Variable updating and in-place update operators\n",
    "- `while` loops and `for` loops \n",
    "- The role of design patterns in software architecture\n",
    "- The Accumulator design pattern\n",
    "\n",
    "### Skills / Know how to  ...\n",
    "- Use variable updating to capture dynamic data\n",
    "- Implement iteration logic with `while` and `for` loops\n",
    "- Break or short-circuit loop logic as needed\n",
    "- Use accumulators to capture cumulative data\n",
    "\n",
    "---"
   ]
  },
  {
   "cell_type": "markdown",
   "metadata": {},
   "source": [
    "## **学习目标**\n",
    "\n",
    "### 能够解释以下理论 ...\n",
    "- 迭代过程的要素和流程\n",
    "- 变量更新和原地更新运算符\n",
    "- `while` 循环和 `for` 循环 \n",
    "- 设计模式在软件架构中的作用\n",
    "- 累加器设计模式\n",
    "\n",
    "### 掌握以下技能 ...\n",
    "- 使用变量更新捕获动态数据\n",
    "- 使用 `while` 循环和 `for` 循环实现迭代逻辑\n",
    "- 根据需要使循环逻辑中断或短路\n",
    "- 使用累加器捕捉累积数据\n",
    "\n",
    "---"
   ]
  },
  {
   "cell_type": "markdown",
   "metadata": {
    "id": "pe4WjoavQckb"
   },
   "source": [
    "## **If You Can Count, Then You Can Iterate**\n",
    "\n",
    ">\"There are only two hard things in Computer Science: cache invalidation, naming things, and off-by-one errors.\" -- Phil Karlton\n",
    "\n",
    "Counting is one of the first math skills we learn. By the age of 18 months, a child can usually carry out the basic steps of marking off the next item on a list. They might get confused by the sixth or seventh item -- perhaps counting the same item twice -- but **a toddler can usually count up to 5 items.** It's not like the process is that hard:\n",
    "\n",
    "1. Choose an item from the pile.\n",
    "2. Mark off the item by saying the next number in the sequence. \n",
    "3. Place the item into another pile. \n",
    "4. Repeat 1-3 until there are no items left in the original pile.\n",
    "\n",
    "However, it is surprising how hard some novice programmers find it to **iterate** (mark off) items one at time. Given a list (or other sequence) of items to be processed exactly the same way, they will try to use what we call \"copy / paste / edit\" logic, modifying the code a little for the specifics of each item. Wow, what a complete waste of time. Instead, they should do exactly like the babies do: \n",
    "1. Take an item (it) off the list.\n",
    "2. Process it, taking note of any effects.\n",
    "3. If needed again, add it to an out-list of processed items.\n",
    "4. Repeat until the list is exhausted. \n",
    "\n",
    "Besides being more efficient for the programmer, it is also less buggy. The logic in step 2 is always the same, no matter how many times we repeat the loop. Why make things more difficult by doing it a different way each time?\n",
    "\n",
    "> **Heads Up** Step 2 has *side effects* that may affect data. There are two ways that can happen. Either **it alters the data values in place** (variable reassignment) or **it generates new values**, usually to be stored in a list or other collection. We'll see both in the long division example below. \n",
    "\n",
    "**This lesson is about iteration, the last of the four fundamental elements of Structured Programming.** By the end of this lesson you will know the basics of all programming logic. Everything else is somewhat derivative, as Edsger Dijkstra proved so many years ago. "
   ]
  },
  {
   "cell_type": "markdown",
   "metadata": {},
   "source": [
    "## **如果你会计数，那么你就会迭代**\n",
    "\n",
    ">\"计算机科学中只有两件难事：缓存失效和命名，以及差一错误。\" -- 菲尔·卡尔顿\n",
    "\n",
    "计数是我们最先学会的数学技能之一。18个月大的孩子通常就已经能够完成标记列表中下一个项目的基本步骤了。他们可能会在第6或第7个项目上感到困惑——也许会将同一项目数两次——但**幼儿通常可以数到5个项目**。这个过程并不那么难:\n",
    "\n",
    "1. 从一堆项目中选择一项.\n",
    "2. 说出序列中的下一个数字来标记该项目. \n",
    "3. 将项目放入另一堆中. \n",
    "4. 重复步骤1-3，直到原始堆中没有项目为止.\n",
    "\n",
    "然而，令人惊讶的是，一些新手程序员会发现逐个**迭代**（标记）项目非常困难。如果要以完全相同的方式处理一个列表（或其他序列）中的项目，他们就会尝试使用我们称之为“复制/粘贴/编辑”的逻辑，根据每个项目的具体情况对代码稍作修改。这真是浪费时间！相反，他们应该像小孩子那样做: \n",
    "1. 从列表中选取一个项目.\n",
    "2. 处理该项目，注意任何影响.\n",
    "3. 如有需要，将其添加到已处理项目列表中.\n",
    "4. 重复上述步骤，直到处理完毕. \n",
    "\n",
    "对程序员来说，这种方法不仅更简便，而且错误更少。无论我们重复循环多少次，步骤2中的逻辑始终相同。何必每次都采用不同方法，让事情变得更加复杂呢?\n",
    "\n",
    "> **注意**步骤2会对数据产生副作用。这种情况可能以两种方式发生。要么**原地更改数据值**（变量重新赋值），要么**生成新值**，通常存储在列表或其他集合中。我们将在下面的长除法示例中看到这两种情况. \n",
    "\n",
    "**这堂课的主题是迭代，这是结构化编程的四个基本要素中的最后一个**。上完这节课，你就了解了所有编程逻辑的基础知识。正如Edsger Dijkstra多年前证明的那样，其他所有内容都是在此基础上衍生出来的. "
   ]
  },
  {
   "cell_type": "markdown",
   "metadata": {
    "id": "emmXaKYfQckb"
   },
   "source": [
    "---\n",
    "## **More than Just Counting: How about Long Division?**\n",
    "While counting may be the first iterative process we learn as children, it is far from the last. Another is **long division**, which children used to master as a right of passage in primary school, but today is (sadly) not seen as an educational necessity. Instead, children are told to use a calculator. While somewhat practical in an age when everybody has phones in their pockets, children are being cheated out of an important lesson in algorithmic thinking needed for higher forms of math like algebra and calculus. The effects are obvious to those of us who teach quantitative sciences for a living. Many young adults today cannot reliably calculate an average of ten numbers, **even when armed with a calculator to do the arithmetic**. Instead they rely on tools like MS Excel that turn averaging into a feature instead of a process, which over time leads to a lack of intuitive understanding of important analytical concepts like centrality and variability. They see the world as static, with all the processing already done, all the data already processed, when real world data is anything but static.  And it all starts (or, more properly, ends for many people) with long division. \n",
    "\n",
    "Now that we have established its importance, what exactly is long division? Long division is a standard manual method for dividing one number (the **dividend**) by another (the **divisor**). The result is called the **quotient**, which may include a **remainder** if the first number cannot be evenly divided by the second. Like counting, it involves repetition of a fixed set of steps (with examples shown for the first pass; you may also want to try this with pencil and paper): \n",
    "\n",
    "1. Identify the `dividend` and the `divisor`. For our purposes the dividend is treated as a string of digits that we can \"pull down\" (or, as we programmers call it, \"pop off\") one at a time starting from the left hand side. Similarly, we will build up the quotient one digit at a time by comparing the divisor with digits from the dividend. \n",
    "  * Set `dividend` = 1260257, `divisor` = 37, `quotient` = 0, `remainder` = 0.\n",
    "2. Pull down a digit `d` from the dividend and add it to the `remainder`.\n",
    "  * Set `remainder = 10 * 0 + d = 0 + 1 = 1`.\n",
    "3. Calculate a digit `q` by evenly dividing the `remainder` by the `divisor`, ignoring the non-integer fraction left over. (In Python we use the `//` operator for this sort of integer division.)\n",
    "  * Set `q = remainder // divisor = 1 // 37 = 0`; the first digit of the quotient is `0`. \n",
    "4. Calculate the `product` of `q` and the `divisor`.\n",
    "  * Set `product = q * divisor = 0`\n",
    "5. Subtract the `product` from the `remainder` and append the digit `q` to the `quotient`. \n",
    "  * The new `remainder` is (the previous) `remainder` - `product` or `1 - 0 = 1`.\n",
    "  * The new `quotient` is calculated as `quotient * 10 + q = 0 * 10 + 0 = 0`.\n",
    "6. Repeat steps 2-5 until no digits remain to pull down from the `dividend`.   \n",
    "\n",
    "For those of you who like visuals, here is a useful animated GIF showing the rest of the process (after skipping the initial 0s in the quotient):\n",
    "\n",
    "![animated gif](https://upload.wikimedia.org/wikipedia/commons/f/f2/LongDivisionAnimated.gif)\n",
    "\n",
    "By <a href=\"//commons.wikimedia.org/wiki/User:Xanthoxyl\" title=\"User:Xanthoxyl\">Xanthoxyl</a> - <span class=\"int-own-work\" lang=\"en\">Own work</span>, <a href=\"https://creativecommons.org/licenses/by-sa/3.0\" title=\"Creative Commons Attribution-Share Alike 3.0\">CC BY-SA 3.0</a>, <a href=\"https://commons.wikimedia.org/w/index.php?curid=5818667\">Link</a> .\n",
    "\n",
    "That's a pretty complicated process, with at least six different variables to keep track of. Nonetheless a 9 year old can proudly show you if you forget how to do it.\n",
    "\n",
    "We will, _of course_, implement all this in Python. But first, let's consider the computational requirements:\n",
    "- **Pull down the next digit from the `dividend` in step 2.** We can easily do this by treating the dividend as a text string. However, we will consider a more advanced way in Lesson 8. \n",
    "- **Calculate `q` and `product` in steps 3 and 4.** These are straightforward arithmetic (and can be folded into step 5 if we wanted to).\n",
    "- **Update the `remainder` in place in steps 2 and 5.** This is what we call **variable updating**, which we will get to in a moment. \n",
    "- **Repeat the process for each digit of the `dividend`.** This is iteration. We will spend most of our time here in this lesson. "
   ]
  },
  {
   "cell_type": "markdown",
   "metadata": {},
   "source": [
    "---\n",
    "## **不仅仅是计数：再来看看长除法?**\n",
    "虽然计数可能是我们在孩提时代学习的第一个迭代过程，但它远非最后一个。另一个是**长除法**。过去孩子们在小学就必须掌握长除法，但如今（遗憾的是）却已不再做要求。取而代之的是计算器的使用。虽然在这个手机普及的时代似乎没什么问题，但孩子们失去了学习代数和微积分等高等数学所需算法思维的重要一课。对于我们这些专门教授定量科学的人来说，这种影响尤其明显。如今许多年轻人**即使使用计算器**也不一定能准确地对10个数求平均。相反，他们依赖于MS Excel等工具，将求平均变成了一种功能而非过程。久而久之，他们会对中心性、变异性等重要的分析概念缺乏直观理解。他们认为世界是静态的，所有的处理都已完成，所有的数据都已处理。真实世界的数据却一点也不静态。这一切的起始点（或者更恰当地说，对许多人来说是终结点）就是长除法. \n",
    "\n",
    "我们已经知道了长除法的重要性，那么长除法究竟是什么呢？长除法是用一个数（**被除数**）除以另一个数（**除数**）的标准手工方法。结果称为**商**。如果被除数不能被除数整除，则还会有**余数**。和计数一样，长除法需要重复执行一组固定的步骤（示例显示了第一次循环；你也可以用纸笔尝试一下）: \n",
    "\n",
    "1. 确定被除数（`dividend`）和除数（`divisor`）。 在计算中，被除数是一个数字串，我们可以从左边开始一个一个地把这些数字“拉下来”（或者，我们程序员称之为“移除”）。 同样，通过比较除数与被除数中的数字，我们可以逐一位次地得到商(quotient). \n",
    "  * 令 `dividend` = 1260257, `divisor` = 37, `quotient` = 0, `remainder` = 0.\n",
    "2. 从被除数中拉下一个数字`d`并将其添加到`余数`（remainder）中.\n",
    "  * 令 `remainder = 10 * 0 + d = 0 + 1 = 1`.\n",
    "3. 将 `remainder` 除以 `divisor` 计算出一个数字 `q`，忽略剩余的非整数部分。（在 Python 中，我们使用 `//` 运算符来进行这种整数除法。）\n",
    "  * 令 `q = remainder // divisor = 1 // 37 = 0`; 商的第一位是 `0`. \n",
    "4. 计算 `q` 与 `divisor` 的`乘积`（product）.\n",
    "  * 令 `product = q * divisor = 0`\n",
    "5. 从 `remainder` 中减去 `product`，并将数字 `q` 添加到 `quotient` 中 . \n",
    "  * 新的 `remainder` 是（之前的）`remainder` - `product` 即 `1 - 0 = 1`.\n",
    "  * 新的 `quotient` 为 `quotient * 10 + q = 0 * 10 + 0 = 0` .\n",
    "6. 重复步骤 2-5，直到 `dividend` 中没有数字可以拉下来为止.   \n",
    "\n",
    "以下为一个GIF动画，直观展现了计算过程的其余部分（跳过商的最开始那几个0的部分）:\n",
    "\n",
    "![animated gif](https://upload.wikimedia.org/wikipedia/commons/f/f2/LongDivisionAnimated.gif)\n",
    "\n",
    "By <a href=\"//commons.wikimedia.org/wiki/User:Xanthoxyl\" title=\"User:Xanthoxyl\">Xanthoxyl</a> - <span class=\"int-own-work\" lang=\"en\">Own work</span>, <a href=\"https://creativecommons.org/licenses/by-sa/3.0\" title=\"Creative Commons Attribution-Share Alike 3.0\">CC BY-SA 3.0</a>, <a href=\"https://commons.wikimedia.org/w/index.php?curid=5818667\">Link</a> .\n",
    "\n",
    "此过程相当复杂，至少要跟踪6个变量。尽管如此，9岁的孩子也可以做到得心应手.\n",
    "\n",
    "_当然_，我们要用Python来实现所有这些。但首先，我们先来看看计算要求:\n",
    "- **在步骤2中，我们要从 `dividend` 中拉下下一个数字**。将被除数视为文本字符串就可以轻松做到。不过，我们将在第8课学习一种更高级的方法. \n",
    "- **在步骤3和4中计算 `q` 和 `product`**。这些都是简单的算术运算（如果我们愿意，也可以合并到步骤5中）.\n",
    "- **在步骤2和5中原地更新 `remainder`**。这就是所谓的**变量更新**，稍后我们会讲到. \n",
    "- **对 `dividend` 的每个数字重复上述过程**. 这就是迭代。本节课主要讲解这个步骤. "
   ]
  },
  {
   "cell_type": "markdown",
   "metadata": {
    "id": "gNiOGqexQckc"
   },
   "source": [
    "### **Variable Updating**\n",
    "Up to now whenever we have changed the value of a variable we have done it through variable (re-)assignment.\n",
    "```python\n",
    "x = 1\n",
    "something_happens()\n",
    "x = 2\n",
    "```\n",
    "**Variable updating deals with the case where the same variable is on both sides of the equal sign `=`.** The classic and simplest case is adding 1 to `x` (as in counting):\n",
    "```python\n",
    "x = x + 1\n",
    "```\n",
    "Since this is just a special case of variable assignment, the 3-step process we learned in Lesson 2 still applies:\n",
    "1. Recall the variable `x`, which already exists (or else we get an error).\n",
    "2. Evaluate the expression `x+1`, which adds 1 to the current value of `x` (but doesn't change `x` itself). \n",
    "3. Assign `x` the value calculated in step 2.  \n",
    "\n",
    "It makes sense, but only if you understand the order of things. The variable only has one value at a time, even though at first it looks like we are saying something sort of like `1 = 2`. \n",
    "\n",
    "A couple remarks:\n",
    "- **The variable `x` need not refer to numerical values.** We can do the same thing with strings, lists, or any other data type supported by Python. The steps are the same each time.   \n",
    "- **We can subtract as easily as we can add.** In fact, any expression can be on the right side. It just has to include the variable from the left hand side of the `=`. \n",
    "\n",
    "To improve execution efficiency and eliminate spelling errors, Python has built-in **update operators** (a.k.a. \"augmented assignment statements\") for certain special cases:\n",
    "- `x += 1` is the same as `x = x + 1`  \n",
    "- `x -= 1` is the same as `x = x - 1`  \n",
    "\n",
    "You should get the general idea. Other update operators include `/=`, `*=`, `@=` (for matrix multiplication), and a few more obscure ones. In practice you will likely only encounter `+=` and `-=`. \n",
    "\n",
    "### **Variable Updating in Long Division**\n",
    "The long division process includes 3 variable updates:\n",
    "- `remainder = remainder*10 + int(d)` (from step 2; recall that `d` was the next in a string of digits in the dividend)\n",
    "- `remainder -= product` (from step 5; subtracts the product from the remainder)\n",
    "- `quotient = quotient*10 + q` (also from step 5; appends the next digit to the quotient)"
   ]
  },
  {
   "cell_type": "markdown",
   "metadata": {},
   "source": [
    "### **变量更新**\n",
    "到目前为止，我们改变变量的值都是通过变量（重新）赋值实现的.\n",
    "```python\n",
    "x = 1\n",
    "一些操作()\n",
    "x = 2\n",
    "```\n",
    "**变量更新处理的是等号 `=` 两边为同一个变量的情况**。最经典也是最简单的情况是在 `x` 的基础上加 1（就像计数一样）:\n",
    "```python\n",
    "x = x + 1\n",
    "```\n",
    "由于这只是变量赋值的一种特殊情况，我们在第2课中学到的3步过程仍然适用:\n",
    "1. 调用已存在的变量 `x`（否则会出错）.\n",
    "2. 计算表达式 `x+1` ，给 `x` 的当前值上加1（但不改变 `x` 本身）. \n",
    "3. 将步骤2中计算得到的值赋给 `x` .  \n",
    "\n",
    "的确可行，但前提是理解事情的顺序。变量每次只有一个值，尽管乍一看我们讨论的似乎是 `1 = 2`. \n",
    "\n",
    "几点说明:\n",
    "- **变量 `x` 不一定要引用数值**，也可以引用字符串、列表或Python支持的任何其他数据类型。每次的步骤都相同.   \n",
    "- **我们可以像做加法一样轻松地做减法**。事实上，任何表达式都可以出现在等号右边。它只需包含 `=` 左侧的变量. \n",
    "\n",
    "为了提高执行效率并消除拼写错误，Python为某些特殊情况提供了内置的**更新运算符**（又称“增强赋值语句”）:\n",
    "- `x += 1` 等同于 `x = x + 1`  \n",
    "- `x -= 1` 等同于 `x = x - 1`  \n",
    "\n",
    "你应该大致明白了。其他更新运算符包括 `/=`、`*=`、`@=`（用于矩阵乘法）和一些更隐晦的运算符。在实际应用中，你可能只会遇到 `+=` 和 `-=`. \n",
    "\n",
    "### **长除法中的变量更新**\n",
    "长除法过程包括3次变量更新:\n",
    "- `remainder = remainder*10 + int(d)` (来自步骤2；`d` 是除数中的一串数字的下一位)\n",
    "- `remainder -= product` (来自步骤5；从余数中减去乘积)\n",
    "- `quotient = quotient*10 + q` (也来自步骤5；将下一个数字补到商中)"
   ]
  },
  {
   "cell_type": "markdown",
   "metadata": {
    "id": "xHGQ1bscQckd",
    "jp-MarkdownHeadingCollapsed": true,
    "tags": []
   },
   "source": [
    "### **Pulse Check ...**\n",
    "Consider this snippet of code: \n",
    "```python\n",
    "x = 22\n",
    "x *= 3\n",
    "x += 15\n",
    "x /= 3\n",
    "x -= 4\n",
    "```\n",
    "**1. What is the final value of `x`?**"
   ]
  },
  {
   "cell_type": "markdown",
   "metadata": {},
   "source": [
    "### **脉冲检查 ...**\n",
    "请看这段代码: \n",
    "```python\n",
    "x = 22\n",
    "x *= 3\n",
    "x += 15\n",
    "x /= 3\n",
    "x -= 4\n",
    "```\n",
    "**1. `x` 的最终值是多少?**"
   ]
  },
  {
   "cell_type": "markdown",
   "metadata": {
    "id": "N7dFoJc0Qckd"
   },
   "source": [
    "YOUR ANSWER HERE 在此输入你的答案\n"
   ]
  },
  {
   "cell_type": "markdown",
   "metadata": {
    "jupyter": {
     "source_hidden": true
    },
    "tags": []
   },
   "source": [
    "\n",
    "> 23"
   ]
  },
  {
   "cell_type": "markdown",
   "metadata": {
    "id": "7CeKIL_7Qcke"
   },
   "source": [
    "**2. Combine the four updating steps into one statement (using just one update operator).** Hint: you may need to do a little middle school pre-algebra. "
   ]
  },
  {
   "cell_type": "markdown",
   "metadata": {},
   "source": [
    "**2. 将4个更新步骤合并为一条语句（只使用一个更新运算符)** .提示：可能需要做一点初中的预代数. "
   ]
  },
  {
   "cell_type": "code",
   "execution_count": null,
   "metadata": {
    "id": "x76Uo8ORQcke"
   },
   "outputs": [],
   "source": [
    "# YOUR ANSWER HERE 在此输入你的答案\n"
   ]
  },
  {
   "cell_type": "code",
   "execution_count": null,
   "metadata": {
    "jupyter": {
     "source_hidden": true
    },
    "tags": []
   },
   "outputs": [],
   "source": [
    "\n",
    "# x = (((3x)+15)/3)-4 = (3x +15)/3 -4 = (x + 5) - 4 = x + 1\n",
    "x += 1"
   ]
  },
  {
   "cell_type": "markdown",
   "metadata": {
    "id": "e9egTX0WQcki"
   },
   "source": [
    "---\n",
    "## **`while` Loops**\n",
    "If what we want to do is repeat a task an indefinite number of times, we can always use a `while` loop:\n",
    "```python\n",
    "while boolean_expression:\n",
    "    loop_body_block\n",
    "else:\n",
    "    else_block\n",
    "```\n",
    "Python will execute the code like so:\n",
    "\n",
    "1. Evaluate the boolean expression. \n",
    "2. If the boolean expression is True then execute the loop body. Otherwise, execute the else block (if it exists) and **terminate** the loop.  \n",
    "3. Return to step 1. \n",
    "\n",
    "A few notes:\n",
    "- **The `else` clause is optional.** It's used in cases where we need to ensure that _something_ happens, even when the boolean expression is `False`. *Only use the `else` clause when you need it.*\n",
    "- Unless you know what you are doing, **make sure that the boolean expression eventually evaluates to False.** That means that something has to happen inside the body of the loop to cause the value of the expression to change.\n",
    "- Most of the time you will need to **initialize a variable (i.e., assign it a value)** used in your boolean expression so that it evaluates to True the first time. That same variable (often what is called an _accumulator_) will likely need to be updated with each pass of the loop. Often we do that at the end of the loop body. \n",
    "- **Just as with `if` statements, don't forget the colons.** They are needed by Python to know where the boolean expression ends.\n",
    "- **We can create infinite loops by short-circuiting the boolean expression** (e.g., `while True: ...`). Then it is up to the loop body to terminate the loop using a `break` statement, which works similarly to a function `return` except for loops. **Anytime that Python encounters a `break` it terminates the enclosing loop.**\n",
    "- We can short-circuit the loop body itself by using a `continue` statement to return to the top of the loop immediately, without executing the rest of the loop. This can make some things much, much faster.  \n",
    "\n",
    "Here's an example that generates the square of every number from 1 to 20:"
   ]
  },
  {
   "cell_type": "markdown",
   "metadata": {},
   "source": [
    "---\n",
    "## **`while` 循环**\n",
    "如果我们要将一项任务重复执行无数次，则可以使用 `while` 循环:\n",
    "```python\n",
    "while boolean_expression:\n",
    "    loop_body_block\n",
    "else:\n",
    "    else_block\n",
    "```\n",
    "Python将这样执行代码:\n",
    "\n",
    "1. 评估布尔表达式. \n",
    "2. 如果布尔表达式为True，则执行循环体。否则，执行else代码块（如有）并**终止**循环.  \n",
    "3. 返回步骤1. \n",
    "\n",
    "注意事项:\n",
    "- **`else` 子句并非必须**，是可选的，主要用于确保布尔表达式为 `False` 时仍有操作可以进行。*只有在需要时才使用 `e1se` 子句*\n",
    "- 除非另有目的，否则**请确保布尔表达式最终求值为False**。即循环体内必须发生某些操作，以使表达式的值发生变化.\n",
    "- 大多数情况下，需要**初始化**布尔表达式中的**变量（即为其赋值）**，使其首次求值为True。该变量（通常称为 _累加器_ ）可能需在每次循环中更新。通常我们在循环体的末尾进行更新. \n",
    "- **与 `if` 语句类似，不要忘记冒号**。Python需要冒号来确定布尔表达式的结束位置.\n",
    "- **我们可以通过使布尔表达式短路**（例如，`while True: ...`）**来创建无限循环**。然后，在循环体中使用 `break` 语句来终止循环。除了循环之外，break 语句的工作方式类似于 `return` 函数。**每次Python遇到 break 时，都会终止封闭的循环**\n",
    "- 我们可以使用 `continue` 语句来使循环体本身短路，从而立即返回循环顶部，而不执行循环其余部分。这可以使某些操作更加高效.  \n",
    "\n",
    "下面的示例可以生成从1到20的所有数字的平方:"
   ]
  },
  {
   "cell_type": "code",
   "execution_count": null,
   "metadata": {
    "id": "Dht8VaQEQcki"
   },
   "outputs": [],
   "source": [
    "i = 1            # initialize the counter variable 初始化计数器变量\n",
    "while i <= 20:   # stop when i > 20 当 i > 20 时停止\n",
    "    print(i * i) # output i squared 输出 i 的平方\n",
    "    i += 1       # update the counter; take this out to create an infinite loop 更新计数器；删除将创建一个无限循环"
   ]
  },
  {
   "cell_type": "markdown",
   "metadata": {
    "id": "LcO_C1DpQckl"
   },
   "source": [
    "### **Warning About Infinite Loops**\n",
    "An unchecked infinite loop can crash your computer by using up CPU and memory resources. When running the offending code on your laptop, you may suddenly hear the fan going all out like a jet engine or your hard disk might crash (if your loop writes to disk). \n",
    "\n",
    "If that happens, you will need to **shut down the runtime** as soon as possible. How you do that depends on the runtime environment. In JupyterHub that means restarting the _kernel_. In Colab it's called restarting the _runtime_. Look for those options in the menus. In the Python interpreter (i.e., command line, without menus) a shudown can be done with Control-C from the keyboard. Why Control-C? Because that is how it has always been since we first started using keyboards with computers. (Unless you are using Windows(tm), where it's Shift-Control-C instead.)"
   ]
  },
  {
   "cell_type": "markdown",
   "metadata": {},
   "source": [
    "### **关于无限循环的警告**\n",
    "一个未经检查的无限循环可能会耗尽计算机的CPU和内存资源，导致计算机崩溃。笔记本电脑在运行有问题的代码时，你可能会突然听到风扇像喷气发动机一样全速运转，或者硬盘崩溃（如果循环写入硬盘的话）. \n",
    "\n",
    "如果发生这种情况，尽快**关闭运行时（runtime）**。如何关闭取决于运行时环境。在JupyterHub中是重启内核。在Colab中则是重启运行时。看看菜单中有没有这些选项。在Python解释器中（即没有菜单的命令行），可以用键盘上的Control-C键来关闭。为什么是Control-C？从我们开始使用计算机键盘以来就一直是这样操作的。（除非你用的是Windows(tm)系统，那样你就得按Shift-Control-C键）"
   ]
  },
  {
   "cell_type": "markdown",
   "metadata": {
    "id": "zWvjr62AQckm"
   },
   "source": [
    "### **Chained Assignment**\n",
    "When initializing several variables at once it is sometimes convenient to use **chained assignment**:\n",
    "```python\n",
    "x = y = z = 1\n",
    "```\n",
    "The rightmost value is assigned to each of the variables to its left. In this case that means setting `x`, `y`, and `z` to 1."
   ]
  },
  {
   "cell_type": "markdown",
   "metadata": {},
   "source": [
    "### **链式赋值**\n",
    "在同时初始化多个变量时，使用**链式赋值**有时很方便:\n",
    "```python\n",
    "x = y = z = 1\n",
    "```\n",
    "最右边的值会分配给它左边的每个变量。在本例中，就是将 `x`、`y` 和 `z` 设为 1."
   ]
  },
  {
   "cell_type": "markdown",
   "metadata": {
    "id": "rxIt6s_sQckm"
   },
   "source": [
    "### **Long Division with `while`**\n",
    "We can implement long division with a `while` loop. Read the comments to understand how it works."
   ]
  },
  {
   "cell_type": "markdown",
   "metadata": {},
   "source": [
    "### **使用 `while` 实现长除法**\n",
    "我们可以用 `while` 循环来实现长除法。请阅读注释，了解其工作原理."
   ]
  },
  {
   "cell_type": "code",
   "execution_count": null,
   "metadata": {},
   "outputs": [],
   "source": [
    "# Set up the problem; can also use input() statements for this. \n",
    "# 初始设置；也可使用 input() 语句. \n",
    "\n",
    "divisor = 7\n",
    "dividend = 479\n",
    "\n",
    "# Initialize variables\n",
    "# 初始化变量\n",
    "remainder = quotient = 0 # required by the long division algorithm; note the use of chained assignment\n",
    "                         # 长除法算法要求有这一行；注意链式赋值的使用\n",
    "\n",
    "digits = str(dividend)   # convert dividend to a string of digit characters\n",
    "                         # 将被除数转换为数字字符串\n",
    "    \n",
    "i = 0                    # our counter used to indicate the current digit; Python counts from 0, not 1\n",
    "                         # 用来指示当前数位的计数器；Python从 0 开始计数，而不是 1\n",
    "\n",
    "while i < len(digits):   # len(digits) 是字符串中的字符数\n",
    "    \n",
    "    remainder = remainder*10 + int(digits[i])     # pull down the i-th digit into the remainder\n",
    "                                                  # 把第 i 个数字拉下去，拉到余数中去\n",
    "    \n",
    "    q = remainder // divisor                      # determine the next digit of the quotient\n",
    "                                                  # 确定商 quotient 的下一位数 \n",
    "    \n",
    "    product = q * divisor                         # calculate the product, and then ...\n",
    "                                                  # 计算乘积 product，然后...\n",
    "    \n",
    "    remainder -= product                          # subtract it from the remainder\n",
    "                                                  # 从余数 remainder 中减去乘积 product\n",
    "    \n",
    "    quotient = quotient*10 + q                    # add the next digit to the quotient\n",
    "                                                  # 将下一位数加到商 quotient 中\n",
    "    \n",
    "    \n",
    "    i += 1                                        # update i to move to the next digit\n",
    "                                                  # 更新 i ，移到下一位数\n",
    "    \n",
    "    \n",
    "print(str(quotient)+\"r\"+str(remainder))"
   ]
  },
  {
   "cell_type": "markdown",
   "metadata": {
    "id": "nkdP6LXqQckr"
   },
   "source": [
    "### **Pulse Check ...**\n",
    "**1. What does the following code do?** Edit the Markdown cell to add a comment to each line and then a comment on the top of the code summarizing what it does. "
   ]
  },
  {
   "cell_type": "markdown",
   "metadata": {},
   "source": [
    "### **脉冲检查 ...**\n",
    "**1.下面的代码在做什么？** 编辑Markdown代码块，为每行代码添加注释，然后在代码顶部添加注释，总结代码的作用. "
   ]
  },
  {
   "cell_type": "markdown",
   "metadata": {
    "id": "u7fKSd-tQcks"
   },
   "source": [
    "DOUBLE-CLICK EDIT THIS MARKDOWN CELL TO EDIT IT\n",
    "```python\n",
    "i = total = 0\n",
    "while i <= 20:\n",
    "    total += i\n",
    "    i += 1\n",
    "```"
   ]
  },
  {
   "cell_type": "markdown",
   "metadata": {},
   "source": [
    "双击“编辑此Markdown代码块”进行编辑\n",
    "```python\n",
    "i = total = 0\n",
    "while i <= 20:\n",
    "    total += i\n",
    "    i += 1\n",
    "```"
   ]
  },
  {
   "cell_type": "code",
   "execution_count": null,
   "metadata": {
    "jupyter": {
     "source_hidden": true
    },
    "tags": []
   },
   "outputs": [],
   "source": [
    "\n",
    "i = total = 0    # Initialize counter i and accumulator total\n",
    "while i <= 20:   # check to see if we're done\n",
    "    total += i   # add the count to the accumulator\n",
    "    i += 1       # update the count\n",
    "total"
   ]
  },
  {
   "cell_type": "code",
   "execution_count": null,
   "metadata": {
    "jupyter": {
     "source_hidden": true
    },
    "tags": []
   },
   "outputs": [],
   "source": [
    "\n",
    "i = total = 0    # 初始化计数器 i 和累加器 total\n",
    "while i <= 20:   # 检查是否完成\n",
    "    total += i   # 将计数加到累加器中\n",
    "    i += 1       # 更新计数器\n",
    "total"
   ]
  },
  {
   "cell_type": "markdown",
   "metadata": {
    "id": "VXWsn3vOQcks",
    "tags": []
   },
   "source": [
    "**2. How would you calculate the same result in one line without using a loop.** Hint: Gauss was a very smart and lazy child. Google it. "
   ]
  },
  {
   "cell_type": "markdown",
   "metadata": {},
   "source": [
    "**2. 如何在不使用循环的情况下用一行代码计算出相同的结果。** 提示：高斯是个既聪明又懒惰的孩子。可以去网上查查看. "
   ]
  },
  {
   "cell_type": "code",
   "execution_count": null,
   "metadata": {
    "id": "R6IXZ1m-Qckt"
   },
   "outputs": [],
   "source": [
    "# Your code here. 在此输入你的代码 \n"
   ]
  },
  {
   "cell_type": "code",
   "execution_count": null,
   "metadata": {
    "jupyter": {
     "source_hidden": true
    },
    "tags": []
   },
   "outputs": [],
   "source": [
    "\n",
    "# Sum of integers up to N = N(N+1)/2\n",
    "20*21/2"
   ]
  },
  {
   "cell_type": "code",
   "execution_count": null,
   "metadata": {
    "jupyter": {
     "source_hidden": true
    },
    "tags": []
   },
   "outputs": [],
   "source": [
    "\n",
    "# 将整数从1累加到 N = N(N+1)/2\n",
    "20*21/2"
   ]
  },
  {
   "cell_type": "markdown",
   "metadata": {
    "id": "HHZ_CHKUQckw"
   },
   "source": [
    "---\n",
    "## **`for` Loops**\n",
    "Though `while` loops can be very useful, they do come with a lot of ceremony around initializing variables, crafting the right boolean expression at the top of the loop, and updating variables at the bottom of the loop. \n",
    "\n",
    "`for` loops are functionally equivalent to `while` loops but with all of the ceremony handled by Python behind the scenes:\n",
    "```python\n",
    "for i in sequence:\n",
    "    do_something_with_i\n",
    "else:\n",
    "    handle_empty_sequence\n",
    "```\n",
    "Remarks: \n",
    "- **The `sequence` is evaluated exactly once, before anything else.** It could be a string of characters, a list of items, or any number of other things that can be ordered into a sequence.\n",
    "- **Each time through the loop the \"index\" variable `i` is updated to the next item in the sequence.** It does to have to be an integer. If we have a list of fruits, then each `i` is a fruit. \n",
    "- **The `else` clause, `continue`, and `break` apply here just like with `while` loops.** All are optional, of course. *Only use them when you need them.*  \n",
    "- **There are other special forms of indexing that we will learn about in later lessons.** The vast majority of the time the index is just like we have it here. \n",
    "\n",
    "Here is our \"squares up to 20\" code updated to use a `for` loop:"
   ]
  },
  {
   "cell_type": "markdown",
   "metadata": {},
   "source": [
    "---\n",
    "## **`for` 循环**\n",
    "虽然 `while` 循环非常有用，但初始化变量、在循环顶端创建正确的布尔表达式以及在循环底端更新变量时，仍需很多繁琐的工作. \n",
    "\n",
    "`for` 循环在功能上等同于 `while` 循环，但所有繁琐的工作都由Python在后台处理:\n",
    "```python\n",
    "for i in sequence:\n",
    "    do_something_with_i\n",
    "else:\n",
    "    handle_empty_sequence\n",
    "```\n",
    "说明: \n",
    "- **在开始`循环`之前仅评估一次。** 它可以是一个字符串、一个项目列表，或者其他任何可以排序成序列的东西.\n",
    "- **每次循环时，“索引”变量 `i` 都会更新为序列中的下一个项目。** 它必须是一个整数。如果我们有一个水果列表，那么每个 `i` 就是一个水果. \n",
    "- **`else` 子句、`continue` 和 `break` 在这里的使用方式都与 `while` 循环一样。** 当然，这些都不是必须的，*请只有在需要时才使用它们*  \n",
    "- **在后续课程中，我们将学习其他特殊形式的索引**。绝大多数情况下，索引都与我们在这里看到的类似. \n",
    "\n",
    "下面是“计算20以内的平方”的代码，这次用的是 `for` 循环:"
   ]
  },
  {
   "cell_type": "code",
   "execution_count": null,
   "metadata": {
    "id": "aqZBFoEYQckw"
   },
   "outputs": [],
   "source": [
    "for i in range(1,21):     # range(21) generates the sequence of numbers 1, 2, 3, ... 20 range(21) 生成数字序列 1、2、3... 20\n",
    "    print(i*i)"
   ]
  },
  {
   "cell_type": "markdown",
   "metadata": {
    "id": "xT8BMdyFQckz"
   },
   "source": [
    "While it is just two lines shorter than the `while` version, **this code is much easier to maintain**, with a lot less work on the part of the programmer. \n",
    "### **Long Division with `for`**"
   ]
  },
  {
   "cell_type": "markdown",
   "metadata": {},
   "source": [
    "虽然只比 while 版本少了两行，但**这段代码更易于维护**，程序员的工作量也少了很多. \n",
    "### **使用 `for` 进行长除法的代码如下**"
   ]
  },
  {
   "cell_type": "code",
   "execution_count": 4,
   "metadata": {
    "id": "6bgwUIBiQckz"
   },
   "outputs": [
    {
     "name": "stdout",
     "output_type": "stream",
     "text": [
      "68r3\n"
     ]
    }
   ],
   "source": [
    "# Set up the problem; can also use input() statements for this. \n",
    "divisor = 7\n",
    "dividend = 479\n",
    "\n",
    "# Initialize variables\n",
    "remainder = quotient = 0                # required by the long division algorithm  \n",
    "                                          \n",
    "for d in str(dividend):                 # for each digit of the dividend:\n",
    "    remainder = remainder*10 + int(d)     # pull down the i-th digit into the remainder\n",
    "    q = remainder // divisor              # determine the next digit of the quotient \n",
    "    product = q * divisor                 # calculate the product, and then ...\n",
    "    remainder -= product                  # subtract it from the remainder\n",
    "    \n",
    "    quotient = quotient*10 + q            # add the next digit to the quotient\n",
    "    \n",
    "    \n",
    "print(str(quotient)+\"r\"+str(remainder))"
   ]
  },
  {
   "cell_type": "code",
   "execution_count": null,
   "metadata": {},
   "outputs": [],
   "source": [
    "# Set up the problem; can also use input() statements for this.\n",
    "# 初始设置；也可使用 input() 语句. \n",
    "divisor = 7\n",
    "dividend = 479\n",
    "\n",
    "# Initialize variables\n",
    "# 初始化变量\n",
    "remainder = quotient = 0                # required by the long division algorithm\n",
    "                                        # 长除法算法要求  \n",
    "                                          \n",
    "for d in str(dividend):                 # for each digit of the dividend:\n",
    "                                        # 被除数 dividend 的每一位数字:\n",
    "        \n",
    "    remainder = remainder*10 + int        # pull down the i-th digit into the remainder(d)     \n",
    "                                          # 将第 i 个数字拉下去，拉到余数 remainder 中\n",
    "        \n",
    "    q = remainder // divisor              # determine the next digit of the quotient\n",
    "                                          # 确定商 quotient 的下一位数 \n",
    "    \n",
    "    product = q * divisor                 # calculate the product, and then ...\n",
    "                                          # 计算乘积 product，然后...\n",
    "    \n",
    "    remainder -= product                  # subtract it from the remainder\n",
    "                                          # 从余数 remainder 中减去乘积 product\n",
    "    \n",
    "    \n",
    "    quotient = quotient*10 + q            # add the next digit to the quotient\n",
    "                                          # 将下一位数加到商 quotient 中\n",
    "    \n",
    "    \n",
    "    \n",
    "print(str(quotient)+\"r\"+str(remainder))"
   ]
  },
  {
   "cell_type": "markdown",
   "metadata": {
    "id": "vA6Q56ytQck1"
   },
   "source": [
    "Can you spot what changed from the `while` loop version?\n",
    "- The conversion from an integer dividend to a string of digits is done with a single expression `str(dividend)`, without the need for initializing the `digits` variable. \n",
    "- The digit `d` _is_ the next digit. We no longer need to do the bookkeeping with `i` to mark out the digits.\n",
    "- There is no need to update anything from one pass to the next. The `for` loop does it for us. \n",
    "\n",
    "Perhaps this seems like nothing special but it really is easier to maintain this code. Instead of so much ceremonial code to implement the loop controls, we now can focus pretty much entirely on the body of the loop, which is where the real work happens. `for` loops are the \"lazy, but smart\" version of `while` loops. When they are applicable, use them (unless there is an \"even lazier and smarter\" way with pandas or numpy). "
   ]
  },
  {
   "cell_type": "markdown",
   "metadata": {},
   "source": [
    "你能发现与 `while` 循环相比有什么变化吗?\n",
    "- 将整数被除数转换为数字字符串是通过一个单独的表达式 `str(dividend)` 完成的，不需要初始化 `digits` 变量. \n",
    "- 数字 `d` _是_ 下一个数位。我们不再需要使用 `i` 来标记出这些数位.\n",
    "- 从一个循环（pass）到下一个循环（pass）不需要更新任何内容。`for` 循环（loop）会为我们完成这些操作. \n",
    "\n",
    "也许这看起来没什么特别，但这样的代码确实更容易维护。我们不需要操心循环控制的大量繁琐代码，而可以将注意力完全集中在循环体上，这才是真正的工作所在。`for` 循环是 `while` 循环的“懒惰但聪明”的版本。能用`for` 循环就用`for` 循环（除非能用pandas或numpy找到“更懒惰、更聪明”的方式. "
   ]
  },
  {
   "cell_type": "markdown",
   "metadata": {
    "id": "231rR9edQck2"
   },
   "source": [
    "### **Pulse Check ...**\n",
    "**1. Replace the `while` loop below with an equivalent ` for` loop.**\n",
    "```python\n",
    "i = total = 0\n",
    "while i <= 20:\n",
    "    total += i\n",
    "    i += 1\n",
    "```"
   ]
  },
  {
   "cell_type": "markdown",
   "metadata": {},
   "source": [
    "### **脉冲检查 ...**\n",
    "**1. 用等效的 `for` 循环替换下面的 `while` 循环.**\n",
    "```python\n",
    "i = total = 0\n",
    "while i <= 20:\n",
    "    total += i\n",
    "    i += 1\n",
    "```"
   ]
  },
  {
   "cell_type": "code",
   "execution_count": null,
   "metadata": {
    "id": "zZdH18ZUQck2",
    "tags": []
   },
   "outputs": [],
   "source": [
    "# YOUR CODE HERE 在此输入你的代码\n"
   ]
  },
  {
   "cell_type": "code",
   "execution_count": null,
   "metadata": {
    "jupyter": {
     "source_hidden": true
    },
    "tags": []
   },
   "outputs": [],
   "source": [
    "\n",
    "total = 0\n",
    "for i in range(21):\n",
    "    total += i"
   ]
  },
  {
   "cell_type": "markdown",
   "metadata": {
    "id": "t6kFeQiuQck5"
   },
   "source": [
    "**2. Explain what is happening in the code cell below. What does it tell us about how `for` loop indexes work in Python? How is it different from the way `while` loops work?** "
   ]
  },
  {
   "cell_type": "markdown",
   "metadata": {},
   "source": [
    "**2. 解释下面代码单元（cell）中发生的事情。这表明Python中 `for` 循环的索引是如何工作的？它与 `while` 循环的工作方式有何不同** "
   ]
  },
  {
   "cell_type": "code",
   "execution_count": null,
   "metadata": {
    "id": "oS3IPy6BQck5",
    "tags": []
   },
   "outputs": [],
   "source": [
    "for i in range(1,10):\n",
    "    print(i)\n",
    "    i += 10\n",
    "    print(i)\n",
    "    print(\"---\")"
   ]
  },
  {
   "cell_type": "markdown",
   "metadata": {
    "id": "jQXHz_skQck8",
    "tags": []
   },
   "source": [
    "YOUR ANSWER HERE. 在此输入你的答案\n"
   ]
  },
  {
   "cell_type": "markdown",
   "metadata": {
    "jupyter": {
     "source_hidden": true
    },
    "tags": []
   },
   "source": [
    "\n",
    "> The `for` clause at the top of the loop ignores whatever changes were made to `i` inside the loop. In a later lesson we will consider waht happens if the loop modifies the sequence represented here by the `range()` function.\n",
    "\n",
    "> 循环顶部的 `for` 子句忽略了循环内部对 `i` 所做的任何更改。在后面的课程中，我们将学习如果循环修改了在这里由 `range()` 函数表示的序列会发生什么."
   ]
  },
  {
   "cell_type": "markdown",
   "metadata": {
    "id": "NgLeW2nqQck9"
   },
   "source": [
    "---\n",
    "\n",
    "### **The Accumulator Pattern: Iteration as a General Design Principle**\n",
    "In any profession there eventually develops a kind of shorthand language that everybody uses that others outside the profession find totally baffling. In programming we call these shorthand terms **[design patterns](https://en.wikipedia.org/wiki/Software_design_pattern), defined as \"standard problems with standard solutions\"**. Need to do A? Then try solutions X, Y, and Z. X, Y or X may involve thousands of lines of code but all we need to do is refer to them by their names. \n",
    "\n",
    "Iteration itself is not a design pattern. It is not a problem, after all. Instead, it represents an entire class of solutions to wide variety of programming problems.  Quite simply, any problem that involves acting on a set of things is likely to involve an iteration-based solution. The name we use for these sorts of problems is the **Accumulator Pattern**.  \n",
    "\n",
    "The Py4E textbook uses the term _accumulator_ for variables like `count` or `total` that are updated inside loops. Accumulators act as a kind of process memory, building up (accumulating) a record of what has happened so far. Another accumulator was the `quotient` in our long division codes. We built it up one digit at a time. \n",
    "\n",
    "While these sorts of accumulators are great for introducing the concept, they are but the simplest examples of a much broader set of possibilities. We can, for example, accumulate transaction records at an ATM, or grades in a course, or ... well, just about anything that requires a precise record of past _iterations_ of a process. A database accumulates data and makes it persistent. A CSV file accumulates records with each row that is added. A machine learning model accumulates accuracy statistics with each test instance. In each case, the pattern is the same: accumulation of artifacts from iterating over a set of items. And now we know how to handle each of these cases in our code. "
   ]
  },
  {
   "cell_type": "markdown",
   "metadata": {},
   "source": [
    "---\n",
    "\n",
    "### **累加器模式：迭代作为一种通用设计原则**\n",
    "任何行业中最终都会发展出一种大家都使用但外行人完全不懂的简化语言。在编程中，我们称这些简化术语为设计模式 （https://en.wikipedia.org/wiki/Software_design_pattern），**即“标准问题的标准解决方案”**。想要完成A？那么尝试解决方案X、Y和Z。虽然X、Y或Z可能涉及数千行代码，但我们只需用它们的名称来引用它们即可. \n",
    "\n",
    "迭代本身并不是一种设计模式。毕竟，它不是一个问题。相反，它代表了解决各种编程问题的一整类解决方案。简单来说，任何涉及对一组事物进行操作的问题都可能涉及基于迭代的解决方案。我们将这类问题称为**累加器模式**.  \n",
    "\n",
    "Py4E课本用累加器这个术语来表示在循环内部更新的变量，如计数（`count`）或加和（`total`）。累加器充当了一种进程存储器，逐渐搭建起（累加）迄今为止发生的事情的记录。另一个累加器是我们长除法代码中的商（`quotient`）。我们将其一位数字、一位数字地搭建起来. \n",
    "\n",
    "上述累加器有助于帮助理解这个概念，但它们只是无数种累加器中最简单的几个例子。例如，我们可以累加ATM交易记录、课程成绩……以及所有需要精确记录某过程之前曾有过的 _迭代_ 的东西。数据库累加数据并永久保存它。CSV文件每添加一行都会累加记录。机器学习模型在每个测试实例中累加准确率统计信息。在每种情况下，模式都是一样的：通过迭代过程中累加数据来解决问题。现在我们已经了解了如何在代码中处理每一种情况了. "
   ]
  },
  {
   "cell_type": "markdown",
   "metadata": {
    "id": "OxHB-ygRQjcx"
   },
   "source": [
    "---\n",
    "## **Before you go ... Save your notebook to be sure it is up to date.**"
   ]
  },
  {
   "cell_type": "markdown",
   "metadata": {},
   "source": [
    "## **结离开前，确保你保存了最新的笔记本.**"
   ]
  },
  {
   "cell_type": "markdown",
   "metadata": {
    "id": "FWA7eErUpXE9"
   },
   "source": [
    "---\n",
    "> ## Every Tee Shirt Has a Story\n",
    "> ABOUT INFORMS    \n",
    "> Every couple years since at least 1988, I have made the trek to the annual meeting of the Institute for Operations Research and the Management Sciences (INFORMS). Before 1995, it was called ORSA/TIMS, not the most catchy of names, we'd all agree. Besides shedding the awkward name, the _other_ reason for the name change was to avoid TIMS (The Institute for Manage Science) being confused with the Decision Science Institute, which had recently had to change _its_ name from AIDS. (Yes, really.) As you can tell, math geeks are not marketing wizzes. Even the INFORMS name is kind of confusing. People think it's about IT, not really hard math and data science.  \n",
    ">\n",
    "> Each time I go to INFORMS I pick up one tee shirt. This particular shirt was swag from a company that makes modeling software. The pun on the front is totally in keeping with the INFORMS vibe. The meaningless flowchart just cinched it. This one is a keeper. \n",
    "\n",
    "![L5 Tee Front](../Photos/L05_TeeFront.jpeg)\n",
    "![L5 Tee Back](../Photos/L05_TeeBack.jpeg)\n",
    "\n",
    "## Copyright &copy; 2020 Christopher Huntley. All rights reserved. "
   ]
  },
  {
   "cell_type": "markdown",
   "metadata": {},
   "source": [
    "---\n",
    "> ## 每件t恤都有一个故事\n",
    "> 关于 INFORMS    \n",
    "> 从1988年起，每隔几年我都会去参加运筹学与管理科学研究所（INFORMS）的年会。该研究所1995年前的曾用名是ORSA/TIMS，我们一致认为这个名字不够响亮。除了摆脱尴尬，改名的另一个原因是为了避免TIMS（管理科学学会）与决策科学研究所相混淆，后者最近才刚从AIDS更名而来（这是真的）。不难发现，数学怪才并不是营销奇才。即使是INFORMS这个名字也有点让人摸不着头脑。人们会以为它与信息技术相关，而非真正的数学和数据科学.  \n",
    ">\n",
    "> 每次去INFORMS年会，我都会领一件文化衫。这件特别的T恤是一家制造建模软件的公司赠送的礼品。正面的双关语完全符合INFORMS的风格。那个毫无意义的流程图就是点睛之笔。这件T恤值得收藏. \n",
    "\n",
    "## Copyright &copy; 2020 Christopher Huntley. All rights reserved. "
   ]
  }
 ],
 "metadata": {
  "colab": {
   "collapsed_sections": [],
   "name": "L05_Iteration.ipynb",
   "provenance": []
  },
  "kernelspec": {
   "display_name": "Python 3 (ipykernel)",
   "language": "python",
   "name": "python3"
  },
  "language_info": {
   "codemirror_mode": {
    "name": "ipython",
    "version": 3
   },
   "file_extension": ".py",
   "mimetype": "text/x-python",
   "name": "python",
   "nbconvert_exporter": "python",
   "pygments_lexer": "ipython3",
   "version": "3.8.15"
  }
 },
 "nbformat": 4,
 "nbformat_minor": 4
}
